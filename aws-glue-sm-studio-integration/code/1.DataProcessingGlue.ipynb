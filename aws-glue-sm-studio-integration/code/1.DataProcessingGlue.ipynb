{
 "cells": [
  {
   "cell_type": "markdown",
   "id": "16f15664-c5c8-4aa9-9ecf-4ad1935825e0",
   "metadata": {
    "jp-MarkdownHeadingCollapsed": true,
    "tags": []
   },
   "source": [
    "# Serverless Data Prep with Glue Interactive Sessions (from `SageMaker Studio`)\n",
    "\n",
    "This notebook demonstrates the ability to use Apache Spark using AWS Glue to do data prep with two different datasets in order to build an urban air quality predictor with Amazon SageMaker.\n",
    "\n",
    "![Intro](img/img1.png)\n"
   ]
  },
  {
   "cell_type": "markdown",
   "id": "91500df2-118c-402a-a356-059c33b43e48",
   "metadata": {
    "tags": []
   },
   "source": [
    "# Introduction"
   ]
  },
  {
   "cell_type": "markdown",
   "id": "30fbffff-9ca1-49ce-a5cb-f4d0d53e31f4",
   "metadata": {},
   "source": [
    "While some organizations see data science, data engineering, and data analytics as separate siloed functions, we're increasingly seeing with many of our customers that data prep and analytics are foundational components of ML workflows.\n",
    "\n",
    "For example, although organizations have data engineering teams to clean and prepare data for analytics and ML, the specific data that a data scientist may need for training a specific model may not be available in the repository of data that a data engineering team may have prepared.\n",
    "\n",
    "![Intro](img/img2.png)"
   ]
  },
  {
   "cell_type": "markdown",
   "id": "a5f80972-6fa0-4fc3-bb70-ef8042f2dfd3",
   "metadata": {
    "tags": []
   },
   "source": [
    "# Problem Statement"
   ]
  },
  {
   "cell_type": "markdown",
   "id": "04dfd3da-6bde-4a15-9fbf-e411913b0ba1",
   "metadata": {},
   "source": [
    "Lets take a problem and try to solve it. As we all know, Air pollution in cities can be an acute problem leading to damaging effects on people, animals, plants and property.\n",
    "\n",
    "We need to build a machine learning model which can help to predict the amount of NO2 in the area based on weather conditions\n",
    "\n",
    "So, ultimately we would like to have a ML model, wherein we are going to feed the weather details of a particular city at a given time, These details would be, mean temperature, maximum temperature, minimum temperate and so on.\n",
    "\n",
    "And the Model should predict the NO2 or nitrogen dioxide concentration levels at that time.\n",
    "\n",
    "![Intro](img/img3.png)\n"
   ]
  },
  {
   "cell_type": "markdown",
   "id": "54f05e1a-2bf4-4a80-b7d2-aed06ea8acad",
   "metadata": {
    "tags": []
   },
   "source": [
    "# Dataset"
   ]
  },
  {
   "cell_type": "markdown",
   "id": "84732ed9-55b1-4d28-bdc5-c3ebc40b9baf",
   "metadata": {
    "tags": []
   },
   "source": [
    "For this demo we would use the following dataset:\n",
    "\n",
    "- [OpenAQ physical air quality data](https://registry.opendata.aws/openaq/) : Global, aggregated physical air quality data from public data sources provided by government, research-grade and other sources.\n",
    "    42GB of Data\n",
    "\n",
    "- [NOAA Global Surface Summary of Day](https://registry.opendata.aws/noaa-gsod/) : Global summary of day data for 18 surface meteorological elements are derived from the synoptic/hourly observations contained in USAF DATSAV3 Surface data and Federal Climate Complex Integrated Surface Hourly (ISH)."
   ]
  },
  {
   "cell_type": "markdown",
   "id": "ec12e7d8-0e72-4fa5-a456-21ee04e6476c",
   "metadata": {
    "jp-MarkdownHeadingCollapsed": true,
    "tags": []
   },
   "source": [
    "# Lets get started"
   ]
  },
  {
   "cell_type": "code",
   "execution_count": 3,
   "id": "a15fcb8f-e83e-40bc-8d69-e73d83fcfd13",
   "metadata": {
    "tags": []
   },
   "outputs": [
    {
     "name": "stdout",
     "output_type": "stream",
     "text": [
      "Welcome to the Glue Interactive Sessions Kernel\n",
      "For more information on available magic commands, please type %help in any new cell.\n",
      "\n",
      "Please view our Getting Started page to access the most up-to-date information on the Interactive Sessions kernel: https://docs.aws.amazon.com/glue/latest/dg/interactive-sessions.html\n",
      "It looks like there is a newer version of the kernel available. The latest version is 0.38.1 and you have 0.37.4 installed.\n",
      "Please run `pip install --upgrade aws-glue-sessions` to upgrade your kernel\n",
      "There is no current session.\n"
     ]
    }
   ],
   "source": [
    "%stop_session"
   ]
  },
  {
   "cell_type": "code",
   "execution_count": 5,
   "id": "b85b99a7-d86f-47c5-b2f5-f10e9cd89b50",
   "metadata": {
    "tags": []
   },
   "outputs": [
    {
     "data": {
      "text/markdown": [
       "\n",
       "# Available Magic Commands\n",
       "\n",
       "## Sessions Magic\n",
       "\n",
       "----\n",
       "    %help                             Return a list of descriptions and input types for all magic commands. \n",
       "    %profile            String        Specify a profile in your aws configuration to use as the credentials provider.\n",
       "    %region             String        Specify the AWS region in which to initialize a session. \n",
       "                                      Default from ~/.aws/config on Linux or macOS, \n",
       "                                      or C:\\Users\\ USERNAME \\.aws\\config\" on Windows.\n",
       "    %idle_timeout       Int           The number of minutes of inactivity after which a session will timeout. \n",
       "                                      Default: 2880 minutes (48 hours).\n",
       "    %session_id_prefix  String        Define a String that will precede all session IDs in the format \n",
       "                                      [session_id_prefix]-[session_id]. If a session ID is not provided,\n",
       "                                      a random UUID will be generated.\n",
       "    %status                           Returns the status of the current Glue session including its duration, \n",
       "                                      configuration and executing user / role.\n",
       "    %session_id                       Returns the session ID for the running session. \n",
       "    %list_sessions                    Lists all currently running sessions by ID.\n",
       "    %stop_session                     Stops the current session.\n",
       "    %glue_version       String        The version of Glue to be used by this session. \n",
       "                                      Currently, the only valid options are 2.0 and 3.0. \n",
       "                                      Default: 2.0.\n",
       "----\n",
       "\n",
       "## Selecting Job Types\n",
       "\n",
       "----\n",
       "    %streaming          String        Sets the session type to Glue Streaming.\n",
       "    %etl                String        Sets the session type to Glue ETL.\n",
       "    %glue_ray           String        Sets the session type to Glue Ray.\n",
       "----\n",
       "\n",
       "## Glue Config Magic \n",
       "*(common across all job types)*\n",
       "\n",
       "----\n",
       "\n",
       "    %%configure         Dictionary    A json-formatted dictionary consisting of all configuration parameters for \n",
       "                                      a session. Each parameter can be specified here or through individual magics.\n",
       "    %iam_role           String        Specify an IAM role ARN to execute your session with.\n",
       "                                      Default from ~/.aws/config on Linux or macOS, \n",
       "                                      or C:\\Users\\%USERNAME%\\.aws\\config` on Windows.\n",
       "    %number_of_workers  int           The number of workers of a defined worker_type that are allocated \n",
       "                                      when a session runs.\n",
       "                                      Default: 5.\n",
       "    %additional_python_modules  List  Comma separated list of additional Python modules to include in your cluster \n",
       "                                      (can be from Pypi or S3).\n",
       "----\n",
       "\n",
       "                                      \n",
       "## Magic for Spark Jobs (ETL & Streaming)\n",
       "\n",
       "----\n",
       "    %worker_type        String        Set the type of instances the session will use as workers. \n",
       "                                      ETL and Streaming support G.1X, G.2X, G.4X and G.8X. \n",
       "                                      Default: G.1X.\n",
       "    %connections        List          Specify a comma separated list of connections to use in the session.\n",
       "    %extra_py_files     List          Comma separated list of additional Python files From S3.\n",
       "    %extra_jars         List          Comma separated list of additional Jars to include in the cluster.\n",
       "    %spark_conf         String        Specify custom spark configurations for your session. \n",
       "                                      E.g. %spark_conf spark.serializer=org.apache.spark.serializer.KryoSerializer\n",
       "----\n",
       "                                      \n",
       "## Magic for Ray Job\n",
       "\n",
       "----\n",
       "    %min_workers        Int           The minimum number of workers that are allocated to a Ray job. \n",
       "                                      Default: 1.\n",
       "    %object_memory_head Int           The percentage of free memory on the instance head node after a warm start. \n",
       "                                      Minimum: 0. Maximum: 100.\n",
       "    %object_memory_worker Int         The percentage of free memory on the instance worker nodes after a warm start. \n",
       "                                      Minimum: 0. Maximum: 100.\n",
       "----\n",
       "\n",
       "## Action Magic\n",
       "\n",
       "----\n",
       "\n",
       "    %%sql               String        Run SQL code. All lines after the initial %%sql magic will be passed\n",
       "                                      as part of the SQL code.  \n",
       "----\n",
       "\n"
      ]
     },
     "metadata": {},
     "output_type": "display_data"
    }
   ],
   "source": [
    "%help"
   ]
  },
  {
   "cell_type": "code",
   "execution_count": 11,
   "id": "c1673d5c-9297-448e-8e31-2a6d42809496",
   "metadata": {
    "tags": []
   },
   "outputs": [
    {
     "name": "stdout",
     "output_type": "stream",
     "text": [
      "Setting session ID prefix to my-smgluedemo\n",
      "Setting Glue version to: 3.0\n",
      "Previous number of workers: 5\n",
      "Setting new number of workers to: 50\n",
      "Current idle_timeout is 2880 minutes.\n",
      "idle_timeout has been set to 600 minutes.\n",
      "Additional python modules to be included:\n",
      "sagemaker\n"
     ]
    }
   ],
   "source": [
    "%session_id_prefix my-smgluedemo\n",
    "%glue_version 3.0\n",
    "%number_of_workers 50\n",
    "%idle_timeout 600\n",
    "%additional_python_modules sagemaker"
   ]
  },
  {
   "cell_type": "code",
   "execution_count": 1,
   "id": "e4780304-97ff-459d-ac2b-029b83c0257e",
   "metadata": {
    "tags": []
   },
   "outputs": [
    {
     "name": "stdout",
     "output_type": "stream",
     "text": [
      "Authenticating with environment variables and user-defined glue_role_arn: arn:aws:iam::507922848584:role/service-role/SageMaker-myRoleforSMStudio\n",
      "Trying to create a Glue session for the kernel.\n",
      "Worker Type: G.1X\n",
      "Number of Workers: 50\n",
      "Session ID: my-smgluedemo-e3dccbcf-b014-4e17-a37b-25ca1090ed04\n",
      "Job Type: glueetl\n",
      "Applying the following default arguments:\n",
      "--glue_kernel_version 0.37.4\n",
      "--enable-glue-datacatalog true\n",
      "--additional-python-modules sagemaker\n",
      "Waiting for session my-smgluedemo-e3dccbcf-b014-4e17-a37b-25ca1090ed04 to get into ready status...\n",
      "Session my-smgluedemo-e3dccbcf-b014-4e17-a37b-25ca1090ed04 has been created.\n",
      "3.1.1-amzn-0\n"
     ]
    }
   ],
   "source": [
    "print(spark.version)"
   ]
  },
  {
   "cell_type": "markdown",
   "id": "e6bdcc48-8304-4661-a6a9-f6f03f618cd3",
   "metadata": {
    "tags": []
   },
   "source": [
    "# Part 1: Data preparation and cleaning using Spark "
   ]
  },
  {
   "cell_type": "markdown",
   "id": "f5b9b01e-1bdc-4537-875f-1dda545827fc",
   "metadata": {},
   "source": [
    "## 1.1 Data preparation and cleaning of the `first` dataset (NO2 Air Quality)\n",
    "\n",
    "In the cells below, we're going to perform the following operations:\n",
    "\n",
    "- Use Spark to read our data from the `OpenAQ` S3 Bucket.\n",
    "- Filter the available data to `Boston` and `NO2 readings` (indicative of air quality).\n",
    "- Group the readings by day."
   ]
  },
  {
   "cell_type": "code",
   "execution_count": 2,
   "id": "b722be6a-f815-4d32-954c-631629e7e104",
   "metadata": {
    "tags": []
   },
   "outputs": [
    {
     "name": "stdout",
     "output_type": "stream",
     "text": [
      "+--------------------+---------------+------------------+--------------------+-------+--------------------+--------+------+---------+-----------+----------+-----+-----+\n",
      "|         attribution|averagingPeriod|              city|         coordinates|country|                date|location|mobile|parameter| sourceName|sourceType| unit|value|\n",
      "+--------------------+---------------+------------------+--------------------+-------+--------------------+--------+------+---------+-----------+----------+-----+-----+\n",
      "|[{EEA, http://www...|   {hours, 1.0}|Escaldes-Engordany|{42.5096939994651...|     AD|{2023-02-21T02:00...| AD0942A| false|     pm10|EEA Andorra|government|µg/m³| 18.0|\n",
      "|[{EEA, http://www...|   {hours, 1.0}|Escaldes-Engordany|{42.5096939994651...|     AD|{2023-02-21T03:00...| AD0942A| false|     pm10|EEA Andorra|government|µg/m³| 20.0|\n",
      "+--------------------+---------------+------------------+--------------------+-------+--------------------+--------+------+---------+-----------+----------+-----+-----+\n",
      "only showing top 2 rows\n"
     ]
    }
   ],
   "source": [
    "df = spark.read.json(\"s3://openaq-fetches/realtime-gzipped/2022-01-05/1641409725.ndjson.gz\")\n",
    "df2 = spark.read.schema(df.schema).json(\"s3://openaq-fetches/realtime-gzipped/202*\")\n",
    "\n",
    "df2.show(2, truncate=True)"
   ]
  },
  {
   "cell_type": "code",
   "execution_count": 3,
   "id": "51fb24ce-0949-40e5-8e70-32fb28649e21",
   "metadata": {
    "tags": []
   },
   "outputs": [
    {
     "name": "stdout",
     "output_type": "stream",
     "text": [
      "+--------------------+---------------+--------------------+--------------------+-------+--------------------+--------------------+------+---------+----------+----------+----+------+----+\n",
      "|         attribution|averagingPeriod|                city|         coordinates|country|                date|            location|mobile|parameter|sourceName|sourceType|unit| value|year|\n",
      "+--------------------+---------------+--------------------+--------------------+-------+--------------------+--------------------+------+---------+----------+----------+----+------+----+\n",
      "|[{US EPA AirNow, ...|   {hours, 1.0}|Boston-Cambridge-...|{42.474701, -70.9...|     US|{2023-04-05T17:00...|                LYNN| false|      no2|    AirNow|government| ppm|0.0024|2023|\n",
      "|[{US EPA AirNow, ...|   {hours, 1.0}|Boston-Cambridge-...|{42.2117, -71.114...|     US|{2023-04-05T17:00...|E. Milton - Blue Hil| false|      no2|    AirNow|government| ppm| 0.002|2023|\n",
      "|[{US EPA AirNow, ...|   {hours, 1.0}|Boston-Cambridge-...|{42.3489, -71.097...|     US|{2023-04-05T17:00...|      BOSTON-KENMORE| false|      no2|    AirNow|government| ppm| 0.016|2023|\n",
      "|[{US EPA AirNow, ...|   {hours, 1.0}|Boston-Cambridge-...|{42.329399, -71.0...|     US|{2023-04-05T17:00...|    Boston - Roxbury| false|      no2|    AirNow|government| ppm|0.0068|2023|\n",
      "|[{US EPA AirNow, ...|   {hours, 1.0}|Boston-Cambridge-...|{42.474701, -70.9...|     US|{2023-04-07T16:00...|                LYNN| false|      no2|    AirNow|government| ppm|9.0E-4|2023|\n",
      "+--------------------+---------------+--------------------+--------------------+-------+--------------------+--------------------+------+---------+----------+----------+----+------+----+\n",
      "only showing top 5 rows\n"
     ]
    }
   ],
   "source": [
    "import pyspark.sql.functions as F\n",
    "\n",
    "'''\n",
    "Filtering Data ONLY for \n",
    "    City      : Boston\n",
    "    Parameter : no2\n",
    "\n",
    "Adding a new Column 'YEAR'    \n",
    "'''\n",
    "dfBos = df2.filter(F.lower((df2.city)) \\\n",
    "           .contains('boston')) \\\n",
    "           .filter(df2.parameter == \"no2\") \\\n",
    "           .withColumn(\"year\", F.substring(df2.date.utc, 1, 4)) \\\n",
    "           .cache()\n",
    "\n",
    "dfBos.show(5, truncate=True)"
   ]
  },
  {
   "cell_type": "code",
   "execution_count": 4,
   "id": "7953d5d5-86e3-4bff-9ebf-ac905b58d49f",
   "metadata": {
    "tags": []
   },
   "outputs": [
    {
     "name": "stdout",
     "output_type": "stream",
     "text": [
      "+----------+--------------------+\n",
      "|       ymd|             no2_avg|\n",
      "+----------+--------------------+\n",
      "|2022-05-31|0.005007751937984496|\n",
      "|2021-11-10|0.010848101265822781|\n",
      "|2021-03-31|0.005881355932203...|\n",
      "|2022-12-04|0.003643782837127...|\n",
      "|2021-12-13|0.010462264150943394|\n",
      "|2021-11-23|0.004562500000000002|\n",
      "|2023-02-23|0.009197023809523804|\n",
      "|2020-04-12| 0.00452808988764045|\n",
      "|2020-07-14|0.005851851851851853|\n",
      "|2020-12-26|0.003088235294117...|\n",
      "+----------+--------------------+\n",
      "only showing top 10 rows\n"
     ]
    }
   ],
   "source": [
    "'''\n",
    "Aggregating the data day wise by taking the average of `no2` value across each day. \n",
    "Reducing the no. of data points from ~2.5M to ~ 2K \n",
    "'''\n",
    "\n",
    "dfNoAvg = (dfBos.withColumn(\"ymd\", F.to_date(dfBos.date.utc)) \n",
    "                .groupBy(\"ymd\") \n",
    "                .avg(\"value\") \n",
    "                .withColumnRenamed(\"avg(value)\", \"no2_avg\")\n",
    "          )\n",
    "\n",
    "dfNoAvg.show(10, truncate=True)"
   ]
  },
  {
   "cell_type": "code",
   "execution_count": 5,
   "id": "45eeb4a8-63d8-481d-817c-bf4ec73082ed",
   "metadata": {
    "tags": []
   },
   "outputs": [
    {
     "name": "stdout",
     "output_type": "stream",
     "text": [
      "(2019, 2023)\n"
     ]
    }
   ],
   "source": [
    "import pyspark.sql.functions as F\n",
    "\n",
    "year_min = dfNoAvg.select(F.year(\"ymd\").alias(\"year\")).agg({'year':'min'}).first()[0]\n",
    "year_max = dfNoAvg.select(F.year(\"ymd\").alias(\"year\")).agg({'year':'max'}).first()[0]\n",
    "\n",
    "(year_min, year_max)"
   ]
  },
  {
   "cell_type": "markdown",
   "id": "9c82f762-3183-404c-bdbf-737c0897845c",
   "metadata": {
    "tags": []
   },
   "source": [
    "## 1.2 Data preparation and cleaning of the `second` dataset (Weather )\n",
    "\n",
    "\n",
    "Now that our first dataset looks good, we used the **year_min** and **year_max**  variables to limit the data we want to read from the second dataset.\n"
   ]
  },
  {
   "cell_type": "markdown",
   "id": "8ebedd47-fee9-4375-987b-c2523780a45a",
   "metadata": {},
   "source": [
    "### And now the weather"
   ]
  },
  {
   "cell_type": "code",
   "execution_count": 6,
   "id": "3520ed79-7174-43f8-8c38-f52bfbed0e03",
   "metadata": {
    "tags": []
   },
   "outputs": [
    {
     "name": "stdout",
     "output_type": "stream",
     "text": [
      "\n"
     ]
    }
   ],
   "source": [
    "from pyspark.sql.types import DoubleType\n",
    "from pyspark.sql import functions as F\n",
    "\n",
    "# Boston, MA, USA\n",
    "longLeft, latBottom, longRight, latTop = [-71.191162,42.227087,-70.986022,42.397057]\n",
    "\n",
    "dfSchema = spark.read.csv(\"s3://noaa-gsod-pds/2022/32509099999.csv\", header=True, inferSchema=True)\n",
    "\n",
    "# We read our first year, then union the rest of the years :)\n",
    "def read_year(year):\n",
    "    return spark.read.csv(f\"s3://noaa-gsod-pds/{year}/\", header=True, schema=dfSchema.schema)\n",
    "\n",
    "year_range = range(int(year_min), int(year_max)+1)\n",
    "df = read_year(year_range[0])\n",
    "for year in year_range[1:]:\n",
    "    df = df.union(read_year(year))\n",
    "\n",
    "df = df \\\n",
    "        .withColumn('LATITUDE', df.LATITUDE.cast(DoubleType())) \\\n",
    "        .withColumn('LONGITUDE', df.LONGITUDE.cast(DoubleType()))\n",
    "\n",
    "bostondf = df \\\n",
    "        .filter(df.LATITUDE >= latBottom) \\\n",
    "        .filter(df.LATITUDE <= latTop) \\\n",
    "        .filter(df.LONGITUDE >= longLeft) \\\n",
    "        .filter(df.LONGITUDE <= longRight)\n",
    "\n",
    "# Rename columns so they're easier to read\n",
    "bostonfeatures = bostondf.selectExpr(\"Date as date\", \"MAX as temp_max\", \"MIN as temp_min\", \"WDSP as wind_avg\", \"SLP as pressure_sea_level\", \"STP as pressure_station\")\n",
    "\n",
    "# Remove invalid readings\n",
    "no_data_mappings = [\n",
    "    [\"temp_max\", 9999.9],\n",
    "    [\"temp_min\", 9999.9],\n",
    "    [\"wind_avg\", 999.9],\n",
    "    [\"pressure_sea_level\", 9999.9],\n",
    "    [\"pressure_station\", 9999.9]\n",
    "]\n",
    "\n",
    "for [name, val] in no_data_mappings:\n",
    "    bostonfeatures = bostonfeatures \\\n",
    "                        .withColumn(name, F.when(F.col(name)==val, None) \\\n",
    "                                           .otherwise(F.col(name)))\n",
    "    \n",
    "# Now average each reading per day\n",
    "bostonfeatures = bostonfeatures \\\n",
    "                    .groupBy(\"date\") \\\n",
    "                    .agg(*[F.mean(c).alias(c) for c in bostonfeatures.columns[1:]])\n",
    "\n",
    "bostonfeatures = bostonfeatures.withColumn(\"date\", F.to_date(F.col(\"date\"), \"yyyy-MM-dd\"))\n",
    "bostonfeatures_pd = bostonfeatures.toPandas()"
   ]
  },
  {
   "cell_type": "code",
   "execution_count": 7,
   "id": "81617b39-4ebb-43a1-b703-43703a2b4578",
   "metadata": {
    "tags": []
   },
   "outputs": [
    {
     "data": {
      "image/png": "[encoded data removed]"
     },
     "metadata": {
      "image/png": {
       "height": 480,
       "width": 640
      }
     },
     "output_type": "display_data"
    }
   ],
   "source": [
    "import pandas as pd\n",
    "import numpy as np\n",
    "import matplotlib.pyplot as plt\n",
    "\n",
    "bostonfeatures_pd.plot(x='date', y=['temp_min', 'temp_max'])\n",
    "plt.ylabel('Max Temp (F)')\n",
    "plt.xlabel('Daily Average')\n",
    "plt.show()\n",
    "\n",
    "\n",
    "%matplot plt"
   ]
  },
  {
   "cell_type": "markdown",
   "id": "04b2e17b-696a-4c1d-b294-b263b27dcea2",
   "metadata": {},
   "source": [
    "## 1.3. Marry the `two processed data` and make it ready for the `ML training`\n",
    "\n",
    "Now that we've taken a quick look at our data and done some initial exploration for both the dataset, let's merge the two datasets."
   ]
  },
  {
   "cell_type": "code",
   "execution_count": 8,
   "id": "969544e0-5a15-4e2e-bb24-e93814dae7a8",
   "metadata": {
    "tags": []
   },
   "outputs": [
    {
     "name": "stdout",
     "output_type": "stream",
     "text": [
      "+----------+--------------------+\n",
      "|       ymd|             no2_avg|\n",
      "+----------+--------------------+\n",
      "|2021-11-10|0.010848101265822781|\n",
      "|2022-05-31|0.005007751937984497|\n",
      "|2021-12-13|0.010462264150943394|\n",
      "|2022-12-04|0.003643782837127...|\n",
      "|2020-01-16|0.014250000000000002|\n",
      "+----------+--------------------+\n",
      "only showing top 5 rows\n"
     ]
    }
   ],
   "source": [
    "# First Dataset - NO2 Dataset\n",
    "dfNoAvg.show(5)"
   ]
  },
  {
   "cell_type": "code",
   "execution_count": 9,
   "id": "e22f9965-4e52-415f-a4fd-c2c5afaad7e0",
   "metadata": {
    "tags": []
   },
   "outputs": [
    {
     "name": "stdout",
     "output_type": "stream",
     "text": [
      "+----------+--------+------------------+--------+------------------+----------------+\n",
      "|      date|temp_max|          temp_min|wind_avg|pressure_sea_level|pressure_station|\n",
      "+----------+--------+------------------+--------+------------------+----------------+\n",
      "|2023-04-18|   57.85|              48.8|    10.3|           1003.55|           501.3|\n",
      "|2022-03-18|    68.1|42.349999999999994|     4.7|            1013.3|          506.15|\n",
      "|2022-06-02|    63.0|              54.0|     7.1|            1009.2|             8.2|\n",
      "|2021-05-19|    80.5|              61.5|    4.45|           1023.65|           511.4|\n",
      "|2021-06-20|   87.85|              69.1|     4.7|            1006.8|           503.0|\n",
      "+----------+--------+------------------+--------+------------------+----------------+\n",
      "only showing top 5 rows\n"
     ]
    }
   ],
   "source": [
    "# Second Dataset - Weather Dataset \n",
    "bostonfeatures.show(5)"
   ]
  },
  {
   "cell_type": "code",
   "execution_count": 10,
   "id": "9c7c5af5-3e55-4c78-a19c-d9eb07622521",
   "metadata": {
    "tags": []
   },
   "outputs": [
    {
     "name": "stdout",
     "output_type": "stream",
     "text": [
      "\n"
     ]
    }
   ],
   "source": [
    "merged_df = dfNoAvg.join(bostonfeatures, dfNoAvg['ymd'] == bostonfeatures['date'], 'inner')"
   ]
  },
  {
   "cell_type": "code",
   "execution_count": 11,
   "id": "d21c13e0-6234-41eb-b6d8-af48bf0777da",
   "metadata": {
    "tags": []
   },
   "outputs": [
    {
     "name": "stdout",
     "output_type": "stream",
     "text": [
      "+--------------------+----------+------------------+--------+--------+------------------+------------------+\n",
      "|             no2_avg|      date|          temp_max|temp_min|wind_avg|pressure_sea_level|  pressure_station|\n",
      "+--------------------+----------+------------------+--------+--------+------------------+------------------+\n",
      "|               0.011|2019-12-31|43.150000000000006|    36.2|     7.3|1004.8499999999999|            502.45|\n",
      "|0.005319148936170214|2020-01-01|             42.55|    36.0|    6.05|            1001.2|             500.3|\n",
      "|0.009977011494252877|2020-01-02|             47.65|   34.15|    5.85|1009.6500000000001|            504.55|\n",
      "|0.016791666666666667|2020-01-03|              50.8|   38.95|     3.9|1007.8499999999999|             503.7|\n",
      "|0.018978723404255316|2020-01-04|             50.35|    42.8|     2.0|1005.5999999999999|             502.5|\n",
      "|0.003416666666666...|2020-01-05|              50.1|    35.0|     7.1|           1001.45|            500.25|\n",
      "|0.013885416666666666|2020-01-06|             38.65|    27.6|    2.85|1012.1500000000001|             505.8|\n",
      "|0.015556962025316456|2020-01-07|             41.35|    30.6|     4.3|            1015.0|            507.25|\n",
      "|0.011425000000000003|2020-01-08|             44.25|   33.35|    4.65|           1009.45|            504.45|\n",
      "|0.005458333333333335|2020-01-09|              40.4|    22.1|    7.45|1029.8000000000002|             514.6|\n",
      "|0.016882978723404257|2020-01-10|              51.0|    24.9|     5.3|            1034.6|            517.05|\n",
      "|0.006465909090909092|2020-01-11|             67.85|   49.25|    7.25|            1023.6|511.59999999999997|\n",
      "|0.001406250000000...|2020-01-12|             71.95|   51.25|    9.85|           1012.05|505.59999999999997|\n",
      "|0.007925531914893619|2020-01-13|             50.75|   35.95|     4.5|            1030.1|             514.7|\n",
      "|0.012370370370370374|2020-01-14|             41.35|   35.55|     2.5|           1026.65|            513.05|\n",
      "|0.010781250000000001|2020-01-15|              50.1|    38.2|     3.6|           1018.75|509.09999999999997|\n",
      "|0.014250000000000002|2020-01-16|             48.75|   36.85|     5.1|           1011.65|             505.4|\n",
      "|0.004300000000000001|2020-01-17|             41.05|   16.65|     9.0|            1025.5|             512.5|\n",
      "|0.009635416666666669|2020-01-18|             26.15|   13.65|    4.45|           1032.55|             516.0|\n",
      "|0.014961538461538462|2020-01-19|              44.0|   17.35|     5.0|           1005.75|             502.7|\n",
      "+--------------------+----------+------------------+--------+--------+------------------+------------------+\n",
      "only showing top 20 rows\n"
     ]
    }
   ],
   "source": [
    "merged_df = merged_df.drop('ymd').orderBy('date', ascending=True)\n",
    "merged_df.show()"
   ]
  },
  {
   "cell_type": "markdown",
   "id": "073effb6-de26-4e14-8cac-fd6c471997bc",
   "metadata": {},
   "source": [
    "## 1.4. Save the data to S3\n"
   ]
  },
  {
   "cell_type": "code",
   "execution_count": 12,
   "id": "db3e64bf-5413-419d-bf29-072b2a73d960",
   "metadata": {
    "tags": []
   },
   "outputs": [
    {
     "name": "stdout",
     "output_type": "stream",
     "text": [
      "AnalysisException: path s3://fcc-spark-example/subset-boston-data.parquet already exists.\n"
     ]
    }
   ],
   "source": [
    "bucket = 'fcc-spark-example'\n",
    "merged_df.coalesce(1).write.parquet(f\"s3://{bucket}/subset-boston-data.parquet\")"
   ]
  },
  {
   "cell_type": "markdown",
   "id": "2638a7ad-46b1-4c61-bb67-e9cb4bac4c0d",
   "metadata": {
    "tags": []
   },
   "source": [
    "# End of Data Processing and Clearning"
   ]
  },
  {
   "cell_type": "code",
   "execution_count": null,
   "id": "995afb2e-0578-4371-a39f-04c220b4ddd7",
   "metadata": {},
   "outputs": [],
   "source": []
  },
  {
   "cell_type": "code",
   "execution_count": null,
   "id": "184985a9-ee98-4639-870e-8a5205ee3821",
   "metadata": {},
   "outputs": [],
   "source": []
  },
  {
   "cell_type": "code",
   "execution_count": null,
   "id": "848b6046-69f2-487e-b38c-717326565fa6",
   "metadata": {},
   "outputs": [],
   "source": []
  },
  {
   "cell_type": "code",
   "execution_count": null,
   "id": "8bc8e2f6-ff96-4b79-a8f9-f39514dcf944",
   "metadata": {},
   "outputs": [],
   "source": []
  },
  {
   "cell_type": "code",
   "execution_count": null,
   "id": "8ec93de0-f3b3-4379-99d7-410c316d295a",
   "metadata": {},
   "outputs": [],
   "source": []
  },
  {
   "cell_type": "code",
   "execution_count": null,
   "id": "2a8afc9b-76f6-4380-ab0a-1edfe6dd1948",
   "metadata": {},
   "outputs": [],
   "source": []
  },
  {
   "cell_type": "code",
   "execution_count": null,
   "id": "500482bf-24d0-4b84-9a2e-9c74521ad2be",
   "metadata": {},
   "outputs": [],
   "source": []
  },
  {
   "cell_type": "code",
   "execution_count": null,
   "id": "9d089a86-fbf3-474a-93c1-269726c6d4a0",
   "metadata": {},
   "outputs": [],
   "source": []
  },
  {
   "cell_type": "code",
   "execution_count": null,
   "id": "34b5d2c6-bb80-476a-8223-b4bb8ec5dd72",
   "metadata": {},
   "outputs": [],
   "source": []
  },
  {
   "cell_type": "code",
   "execution_count": null,
   "id": "2ea757d5-631d-493a-baa4-bca3d51aa7cd",
   "metadata": {},
   "outputs": [],
   "source": []
  },
  {
   "cell_type": "code",
   "execution_count": null,
   "id": "0b1f18a6-21d1-4256-8a5d-4b9086305477",
   "metadata": {},
   "outputs": [],
   "source": []
  },
  {
   "cell_type": "code",
   "execution_count": null,
   "id": "e3689687-b2f0-4861-bf4d-9f424b01553a",
   "metadata": {},
   "outputs": [],
   "source": []
  },
  {
   "cell_type": "code",
   "execution_count": null,
   "id": "16c6de56-08f2-4ec8-8dd5-bd1209de6cd5",
   "metadata": {},
   "outputs": [],
   "source": []
  },
  {
   "cell_type": "code",
   "execution_count": null,
   "id": "a56b61b5-b346-4a3f-ada6-dd1471bd13af",
   "metadata": {},
   "outputs": [],
   "source": []
  },
  {
   "cell_type": "code",
   "execution_count": null,
   "id": "fb0ebcec-a186-481f-8812-3301b9b87028",
   "metadata": {},
   "outputs": [],
   "source": []
  },
  {
   "cell_type": "code",
   "execution_count": null,
   "id": "f53f705b-b29d-4083-aa9f-42887132b1d2",
   "metadata": {},
   "outputs": [],
   "source": []
  },
  {
   "cell_type": "code",
   "execution_count": null,
   "id": "2efa7883-4a4a-41fd-a826-a5edc6f46b15",
   "metadata": {},
   "outputs": [],
   "source": []
  },
  {
   "cell_type": "markdown",
   "id": "cf9c268e-fc0e-4b59-962a-8dccfd12e48b",
   "metadata": {
    "tags": []
   },
   "source": [
    "# Part 2: Model Building, Training and Deployment"
   ]
  },
  {
   "cell_type": "markdown",
   "id": "278daa2c-c55e-49b4-b847-56583a6cb584",
   "metadata": {},
   "source": [
    "## Spliting the data for training and testing "
   ]
  },
  {
   "cell_type": "code",
   "execution_count": 13,
   "id": "8a396437-dc12-4063-a31d-81c480229ade",
   "metadata": {
    "tags": []
   },
   "outputs": [
    {
     "name": "stdout",
     "output_type": "stream",
     "text": [
      "(1071, 5) (1071, 1)\n",
      "(163, 5) (163, 1)\n",
      "            temp_max  temp_min  wind_avg  pressure_sea_level  pressure_station\n",
      "2020-01-01     42.55     36.00      6.05             1001.20            500.30\n",
      "2020-01-02     47.65     34.15      5.85             1009.65            504.55\n",
      "2020-01-03     50.80     38.95      3.90             1007.85            503.70\n",
      "2020-01-04     50.35     42.80      2.00             1005.60            502.50\n",
      "2020-01-05     50.10     35.00      7.10             1001.45            500.25\n"
     ]
    }
   ],
   "source": [
    "import pandas as pd\n",
    "import numpy as np\n",
    "import matplotlib.pyplot as plt\n",
    "\n",
    "import warnings\n",
    "warnings.simplefilter(action='ignore', category=FutureWarning)\n",
    "\n",
    "comp_pd_df = merged_df.toPandas()\n",
    "comp_pd_df = comp_pd_df.set_index('date')\n",
    "comp_pd_df.index.name = None\n",
    "\n",
    "# Drop the 1st row \n",
    "aq_df = comp_pd_df.iloc[1:].copy()\n",
    "aq_df.index = pd.to_datetime(aq_df.index)\n",
    "\n",
    "# Dropping the NaN \n",
    "aq_df = aq_df.dropna()\n",
    "\n",
    "# Use the data from years 2020 up to 2022 as training, and the year 2023 as our candidate year for testing and validating our model.\n",
    "aq_train_df = aq_df[aq_df.index.year < 2023]\n",
    "aq_test_df = aq_df[aq_df.index.year == 2023]\n",
    "\n",
    "# Input Feature \n",
    "x_train = aq_train_df.drop('no2_avg',axis=1)\n",
    "x_test = aq_test_df.drop('no2_avg',axis=1)\n",
    "\n",
    "# Class Labels \n",
    "y_train = aq_train_df[[\"no2_avg\"]]\n",
    "y_test = aq_test_df[[\"no2_avg\"]]\n",
    "\n",
    "print(x_train.shape, y_train.shape)\n",
    "print(x_test.shape, y_test.shape)\n",
    "print(x_train.head())"
   ]
  },
  {
   "cell_type": "markdown",
   "id": "bf6e53ac-db10-44be-b0a3-f673589c90f6",
   "metadata": {},
   "source": [
    "## Few helper functions"
   ]
  },
  {
   "cell_type": "code",
   "execution_count": 14,
   "id": "4a9949cd-96c8-4cf7-ba70-e28785b3035b",
   "metadata": {
    "tags": []
   },
   "outputs": [
    {
     "name": "stdout",
     "output_type": "stream",
     "text": [
      "\n"
     ]
    }
   ],
   "source": [
    "from math import sqrt\n",
    "from sklearn.metrics import mean_squared_error, r2_score, explained_variance_score\n",
    "\n",
    "# sMAPE is used in KDD Air Quality challenge: https://biendata.com/competition/kdd_2018/evaluation/ \n",
    "def smape(actual, predicted):\n",
    "    dividend= np.abs(np.array(actual) - np.array(predicted))\n",
    "    denominator = np.array(actual) + np.array(predicted)\n",
    "    \n",
    "    return 2 * np.mean(np.divide(dividend, denominator, out=np.zeros_like(dividend), where=denominator!=0, casting='unsafe'))\n",
    "\n",
    "def print_metrics(y_test, y_pred):\n",
    "    print(\"RMSE: %.4f\" % sqrt(mean_squared_error(y_test, y_pred)))\n",
    "    print('Variance score: %.4f' % r2_score(y_test, y_pred))\n",
    "    print('Explained variance score: %.4f' % explained_variance_score(y_test, y_pred))\n",
    "    forecast_err = np.array(y_test) - np.array(y_pred)\n",
    "    print('Forecast bias: %.4f' % (np.sum(forecast_err) * 1.0/len(y_pred) ))\n",
    "    print('sMAPE: %.4f' % smape(y_test, y_pred))"
   ]
  },
  {
   "cell_type": "markdown",
   "id": "4d314108-3bea-4663-823d-73123139cd4e",
   "metadata": {},
   "source": [
    "## Training the model \n",
    "\n",
    "In the section below, we create a new training job using the Linear Learner algorithm. Once that job completes, we deploy an endpoint and run some validation tests against it. \n",
    "\n",
    "**NOTE**: You only need to create this training job and deploy it once. You can use the same endpoint, even in future runs of this notebook, without re-training or re-deploying. "
   ]
  },
  {
   "cell_type": "code",
   "execution_count": 15,
   "id": "31d24ff9-169f-4330-a5e4-f917b16e35a0",
   "metadata": {
    "collapsed": true,
    "jupyter": {
     "outputs_hidden": true
    },
    "tags": []
   },
   "outputs": [
    {
     "name": "stdout",
     "output_type": "stream",
     "text": [
      "2023-06-14 21:21:46 Starting - Starting the training job...\n",
      "2023-06-14 21:21:59 Starting - Preparing the instances for training.........\n",
      "2023-06-14 21:23:33 Downloading - Downloading input data...\n",
      "2023-06-14 21:23:59 Training - Downloading the training image......\n",
      "2023-06-14 21:25:10 Uploading - Uploading generated training modelDocker entrypoint called with argument(s): train\n",
      "Running default environment configuration script\n",
      "[06/14/2023 21:25:02 INFO 140335316649792] Reading default configuration from /opt/amazon/lib/python3.7/site-packages/algorithm/resources/default-input.json: {'mini_batch_size': '1000', 'epochs': '15', 'feature_dim': 'auto', 'use_bias': 'true', 'binary_classifier_model_selection_criteria': 'accuracy', 'f_beta': '1.0', 'target_recall': '0.8', 'target_precision': '0.8', 'num_models': 'auto', 'num_calibration_samples': '10000000', 'init_method': 'uniform', 'init_scale': '0.07', 'init_sigma': '0.01', 'init_bias': '0.0', 'optimizer': 'auto', 'loss': 'auto', 'margin': '1.0', 'quantile': '0.5', 'loss_insensitivity': '0.01', 'huber_delta': '1.0', 'num_classes': '1', 'accuracy_top_k': '3', 'wd': 'auto', 'l1': 'auto', 'momentum': 'auto', 'learning_rate': 'auto', 'beta_1': 'auto', 'beta_2': 'auto', 'bias_lr_mult': 'auto', 'bias_wd_mult': 'auto', 'use_lr_scheduler': 'true', 'lr_scheduler_step': 'auto', 'lr_scheduler_factor': 'auto', 'lr_scheduler_minimum_lr': 'auto', 'positive_example_weight_mult': '1.0', 'balance_multiclass_weights': 'false', 'normalize_data': 'true', 'normalize_label': 'auto', 'unbias_data': 'auto', 'unbias_label': 'auto', 'num_point_for_scaler': '10000', '_kvstore': 'auto', '_num_gpus': 'auto', '_num_kv_servers': 'auto', '_log_level': 'info', '_tuning_objective_metric': '', 'early_stopping_patience': '3', 'early_stopping_tolerance': '0.001', '_enable_profiler': 'false'}\n",
      "[06/14/2023 21:25:02 INFO 140335316649792] Merging with provided configuration from /opt/ml/input/config/hyperparameters.json: {'feature_dim': '5', 'mini_batch_size': '1000', 'normalize_data': 'True', 'normalize_label': 'True', 'predictor_type': 'regressor'}\n",
      "[06/14/2023 21:25:02 INFO 140335316649792] Final configuration: {'mini_batch_size': '1000', 'epochs': '15', 'feature_dim': '5', 'use_bias': 'true', 'binary_classifier_model_selection_criteria': 'accuracy', 'f_beta': '1.0', 'target_recall': '0.8', 'target_precision': '0.8', 'num_models': 'auto', 'num_calibration_samples': '10000000', 'init_method': 'uniform', 'init_scale': '0.07', 'init_sigma': '0.01', 'init_bias': '0.0', 'optimizer': 'auto', 'loss': 'auto', 'margin': '1.0', 'quantile': '0.5', 'loss_insensitivity': '0.01', 'huber_delta': '1.0', 'num_classes': '1', 'accuracy_top_k': '3', 'wd': 'auto', 'l1': 'auto', 'momentum': 'auto', 'learning_rate': 'auto', 'beta_1': 'auto', 'beta_2': 'auto', 'bias_lr_mult': 'auto', 'bias_wd_mult': 'auto', 'use_lr_scheduler': 'true', 'lr_scheduler_step': 'auto', 'lr_scheduler_factor': 'auto', 'lr_scheduler_minimum_lr': 'auto', 'positive_example_weight_mult': '1.0', 'balance_multiclass_weights': 'false', 'normalize_data': 'True', 'normalize_label': 'True', 'unbias_data': 'auto', 'unbias_label': 'auto', 'num_point_for_scaler': '10000', '_kvstore': 'auto', '_num_gpus': 'auto', '_num_kv_servers': 'auto', '_log_level': 'info', '_tuning_objective_metric': '', 'early_stopping_patience': '3', 'early_stopping_tolerance': '0.001', '_enable_profiler': 'false', 'predictor_type': 'regressor'}\n",
      "[06/14/2023 21:25:04 WARNING 140335316649792] Loggers have already been setup.\n",
      "[06/14/2023 21:25:04 INFO 140335316649792] Final configuration: {'mini_batch_size': '1000', 'epochs': '15', 'feature_dim': '5', 'use_bias': 'true', 'binary_classifier_model_selection_criteria': 'accuracy', 'f_beta': '1.0', 'target_recall': '0.8', 'target_precision': '0.8', 'num_models': 'auto', 'num_calibration_samples': '10000000', 'init_method': 'uniform', 'init_scale': '0.07', 'init_sigma': '0.01', 'init_bias': '0.0', 'optimizer': 'auto', 'loss': 'auto', 'margin': '1.0', 'quantile': '0.5', 'loss_insensitivity': '0.01', 'huber_delta': '1.0', 'num_classes': '1', 'accuracy_top_k': '3', 'wd': 'auto', 'l1': 'auto', 'momentum': 'auto', 'learning_rate': 'auto', 'beta_1': 'auto', 'beta_2': 'auto', 'bias_lr_mult': 'auto', 'bias_wd_mult': 'auto', 'use_lr_scheduler': 'true', 'lr_scheduler_step': 'auto', 'lr_scheduler_factor': 'auto', 'lr_scheduler_minimum_lr': 'auto', 'positive_example_weight_mult': '1.0', 'balance_multiclass_weights': 'false', 'normalize_data': 'True', 'normalize_label': 'True', 'unbias_data': 'auto', 'unbias_label': 'auto', 'num_point_for_scaler': '10000', '_kvstore': 'auto', '_num_gpus': 'auto', '_num_kv_servers': 'auto', '_log_level': 'info', '_tuning_objective_metric': '', 'early_stopping_patience': '3', 'early_stopping_tolerance': '0.001', '_enable_profiler': 'false', 'predictor_type': 'regressor'}\n",
      "[06/14/2023 21:25:04 WARNING 140335316649792] Loggers have already been setup.\n",
      "Process 7 is a worker.\n",
      "[06/14/2023 21:25:04 INFO 140335316649792] Using default worker.\n",
      "[06/14/2023 21:25:04 INFO 140335316649792] Checkpoint loading and saving are disabled.\n",
      "[2023-06-14 21:25:04.879] [tensorio] [warning] TensorIO is already initialized; ignoring the initialization routine.\n",
      "[2023-06-14 21:25:04.892] [tensorio] [info] epoch_stats={\"data_pipeline\": \"/opt/ml/input/data/train\", \"epoch\": 0, \"duration\": 14, \"num_examples\": 1, \"num_bytes\": 64000}\n",
      "[06/14/2023 21:25:04 INFO 140335316649792] Create Store: local\n",
      "[2023-06-14 21:25:04.905] [tensorio] [info] epoch_stats={\"data_pipeline\": \"/opt/ml/input/data/train\", \"epoch\": 1, \"duration\": 12, \"num_examples\": 2, \"num_bytes\": 68544}\n",
      "[06/14/2023 21:25:04 INFO 140335316649792] Scaler algorithm parameters\n",
      " <algorithm.scaler.ScalerAlgorithmStable object at 0x7fa1cbf10c50>\n",
      "[06/14/2023 21:25:04 INFO 140335316649792] Scaling model computed with parameters:\n",
      " {'stdev_label': \n",
      "[0.00439914]\n",
      "<NDArray 1 @cpu(0)>, 'stdev_weight': \n",
      "[ 17.317747   16.486868    2.9431407   7.611876  107.63156  ]\n",
      "<NDArray 5 @cpu(0)>, 'mean_label': \n",
      "[0.00713437]\n",
      "<NDArray 1 @cpu(0)>, 'mean_weight': \n",
      "[  63.2533    47.22165    5.8689  1015.7924   503.70746]\n",
      "<NDArray 5 @cpu(0)>}\n",
      "[06/14/2023 21:25:04 INFO 140335316649792] nvidia-smi: took 0.031 seconds to run.\n",
      "[06/14/2023 21:25:04 INFO 140335316649792] nvidia-smi identified 0 GPUs.\n",
      "[06/14/2023 21:25:04 INFO 140335316649792] Number of GPUs being used: 0\n",
      "#metrics {\"StartTime\": 1686777904.990354, \"EndTime\": 1686777904.9903834, \"Dimensions\": {\"Algorithm\": \"Linear Learner\", \"Host\": \"algo-1\", \"Operation\": \"training\", \"Meta\": \"init_train_data_iter\"}, \"Metrics\": {\"Total Records Seen\": {\"sum\": 2071.0, \"count\": 1, \"min\": 2071, \"max\": 2071}, \"Total Batches Seen\": {\"sum\": 3.0, \"count\": 1, \"min\": 3, \"max\": 3}, \"Max Records Seen Between Resets\": {\"sum\": 1071.0, \"count\": 1, \"min\": 1071, \"max\": 1071}, \"Max Batches Seen Between Resets\": {\"sum\": 2.0, \"count\": 1, \"min\": 2, \"max\": 2}, \"Reset Count\": {\"sum\": 2.0, \"count\": 1, \"min\": 2, \"max\": 2}, \"Number of Records Since Last Reset\": {\"sum\": 0.0, \"count\": 1, \"min\": 0, \"max\": 0}, \"Number of Batches Since Last Reset\": {\"sum\": 0.0, \"count\": 1, \"min\": 0, \"max\": 0}}}\n",
      "[2023-06-14 21:25:05.035] [tensorio] [info] epoch_stats={\"data_pipeline\": \"/opt/ml/input/data/train\", \"epoch\": 4, \"duration\": 44, \"num_examples\": 2, \"num_bytes\": 68544}\n",
      "#metrics {\"StartTime\": 1686777905.035058, \"EndTime\": 1686777905.035127, \"Dimensions\": {\"Algorithm\": \"Linear Learner\", \"Host\": \"algo-1\", \"Operation\": \"training\", \"epoch\": 0, \"model\": 0}, \"Metrics\": {\"train_mse_objective\": {\"sum\": 1.02216162109375, \"count\": 1, \"min\": 1.02216162109375, \"max\": 1.02216162109375}}}\n",
      "#metrics {\"StartTime\": 1686777905.0352077, \"EndTime\": 1686777905.0352178, \"Dimensions\": {\"Algorithm\": \"Linear Learner\", \"Host\": \"algo-1\", \"Operation\": \"training\", \"epoch\": 0, \"model\": 1}, \"Metrics\": {\"train_mse_objective\": {\"sum\": 1.0017120361328125, \"count\": 1, \"min\": 1.0017120361328125, \"max\": 1.0017120361328125}}}\n",
      "#metrics {\"StartTime\": 1686777905.0352457, \"EndTime\": 1686777905.0352516, \"Dimensions\": {\"Algorithm\": \"Linear Learner\", \"Host\": \"algo-1\", \"Operation\": \"training\", \"epoch\": 0, \"model\": 2}, \"Metrics\": {\"train_mse_objective\": {\"sum\": 1.0297730712890625, \"count\": 1, \"min\": 1.0297730712890625, \"max\": 1.0297730712890625}}}\n",
      "#metrics {\"StartTime\": 1686777905.035274, \"EndTime\": 1686777905.0352793, \"Dimensions\": {\"Algorithm\": \"Linear Learner\", \"Host\": \"algo-1\", \"Operation\": \"training\", \"epoch\": 0, \"model\": 3}, \"Metrics\": {\"train_mse_objective\": {\"sum\": 1.0047203369140625, \"count\": 1, \"min\": 1.0047203369140625, \"max\": 1.0047203369140625}}}\n",
      "#metrics {\"StartTime\": 1686777905.035303, \"EndTime\": 1686777905.0353086, \"Dimensions\": {\"Algorithm\": \"Linear Learner\", \"Host\": \"algo-1\", \"Operation\": \"training\", \"epoch\": 0, \"model\": 4}, \"Metrics\": {\"train_mse_objective\": {\"sum\": 1.0763988037109375, \"count\": 1, \"min\": 1.0763988037109375, \"max\": 1.0763988037109375}}}\n",
      "#metrics {\"StartTime\": 1686777905.0353293, \"EndTime\": 1686777905.0353343, \"Dimensions\": {\"Algorithm\": \"Linear Learner\", \"Host\": \"algo-1\", \"Operation\": \"training\", \"epoch\": 0, \"model\": 5}, \"Metrics\": {\"train_mse_objective\": {\"sum\": 1.134108154296875, \"count\": 1, \"min\": 1.134108154296875, \"max\": 1.134108154296875}}}\n",
      "#metrics {\"StartTime\": 1686777905.0353582, \"EndTime\": 1686777905.0353637, \"Dimensions\": {\"Algorithm\": \"Linear Learner\", \"Host\": \"algo-1\", \"Operation\": \"training\", \"epoch\": 0, \"model\": 6}, \"Metrics\": {\"train_mse_objective\": {\"sum\": 1.1350196533203125, \"count\": 1, \"min\": 1.1350196533203125, \"max\": 1.1350196533203125}}}\n",
      "#metrics {\"StartTime\": 1686777905.0353863, \"EndTime\": 1686777905.0353916, \"Dimensions\": {\"Algorithm\": \"Linear Learner\", \"Host\": \"algo-1\", \"Operation\": \"training\", \"epoch\": 0, \"model\": 7}, \"Metrics\": {\"train_mse_objective\": {\"sum\": 0.9340640258789062, \"count\": 1, \"min\": 0.9340640258789062, \"max\": 0.9340640258789062}}}\n",
      "#metrics {\"StartTime\": 1686777905.0354142, \"EndTime\": 1686777905.0354197, \"Dimensions\": {\"Algorithm\": \"Linear Learner\", \"Host\": \"algo-1\", \"Operation\": \"training\", \"epoch\": 0, \"model\": 8}, \"Metrics\": {\"train_mse_objective\": {\"sum\": 0.8850604248046875, \"count\": 1, \"min\": 0.8850604248046875, \"max\": 0.8850604248046875}}}\n",
      "#metrics {\"StartTime\": 1686777905.0354426, \"EndTime\": 1686777905.0354478, \"Dimensions\": {\"Algorithm\": \"Linear Learner\", \"Host\": \"algo-1\", \"Operation\": \"training\", \"epoch\": 0, \"model\": 9}, \"Metrics\": {\"train_mse_objective\": {\"sum\": 0.9903997802734374, \"count\": 1, \"min\": 0.9903997802734374, \"max\": 0.9903997802734374}}}\n",
      "#metrics {\"StartTime\": 1686777905.0354702, \"EndTime\": 1686777905.0354757, \"Dimensions\": {\"Algorithm\": \"Linear Learner\", \"Host\": \"algo-1\", \"Operation\": \"training\", \"epoch\": 0, \"model\": 10}, \"Metrics\": {\"train_mse_objective\": {\"sum\": 1.104272216796875, \"count\": 1, \"min\": 1.104272216796875, \"max\": 1.104272216796875}}}\n",
      "#metrics {\"StartTime\": 1686777905.035496, \"EndTime\": 1686777905.035501, \"Dimensions\": {\"Algorithm\": \"Linear Learner\", \"Host\": \"algo-1\", \"Operation\": \"training\", \"epoch\": 0, \"model\": 11}, \"Metrics\": {\"train_mse_objective\": {\"sum\": 1.0242237548828126, \"count\": 1, \"min\": 1.0242237548828126, \"max\": 1.0242237548828126}}}\n",
      "#metrics {\"StartTime\": 1686777905.0355213, \"EndTime\": 1686777905.0355268, \"Dimensions\": {\"Algorithm\": \"Linear Learner\", \"Host\": \"algo-1\", \"Operation\": \"training\", \"epoch\": 0, \"model\": 12}, \"Metrics\": {\"train_mse_objective\": {\"sum\": 0.98870703125, \"count\": 1, \"min\": 0.98870703125, \"max\": 0.98870703125}}}\n",
      "#metrics {\"StartTime\": 1686777905.0355463, \"EndTime\": 1686777905.0355515, \"Dimensions\": {\"Algorithm\": \"Linear Learner\", \"Host\": \"algo-1\", \"Operation\": \"training\", \"epoch\": 0, \"model\": 13}, \"Metrics\": {\"train_mse_objective\": {\"sum\": 1.0908687744140626, \"count\": 1, \"min\": 1.0908687744140626, \"max\": 1.0908687744140626}}}\n",
      "#metrics {\"StartTime\": 1686777905.0355732, \"EndTime\": 1686777905.0355787, \"Dimensions\": {\"Algorithm\": \"Linear Learner\", \"Host\": \"algo-1\", \"Operation\": \"training\", \"epoch\": 0, \"model\": 14}, \"Metrics\": {\"train_mse_objective\": {\"sum\": 1.1164923095703125, \"count\": 1, \"min\": 1.1164923095703125, \"max\": 1.1164923095703125}}}\n",
      "#metrics {\"StartTime\": 1686777905.0355988, \"EndTime\": 1686777905.035604, \"Dimensions\": {\"Algorithm\": \"Linear Learner\", \"Host\": \"algo-1\", \"Operation\": \"training\", \"epoch\": 0, \"model\": 15}, \"Metrics\": {\"train_mse_objective\": {\"sum\": 0.9398934326171875, \"count\": 1, \"min\": 0.9398934326171875, \"max\": 0.9398934326171875}}}\n",
      "#metrics {\"StartTime\": 1686777905.035624, \"EndTime\": 1686777905.035629, \"Dimensions\": {\"Algorithm\": \"Linear Learner\", \"Host\": \"algo-1\", \"Operation\": \"training\", \"epoch\": 0, \"model\": 16}, \"Metrics\": {\"train_mse_objective\": {\"sum\": 1.0530172119140624, \"count\": 1, \"min\": 1.0530172119140624, \"max\": 1.0530172119140624}}}\n",
      "#metrics {\"StartTime\": 1686777905.0356488, \"EndTime\": 1686777905.035654, \"Dimensions\": {\"Algorithm\": \"Linear Learner\", \"Host\": \"algo-1\", \"Operation\": \"training\", \"epoch\": 0, \"model\": 17}, \"Metrics\": {\"train_mse_objective\": {\"sum\": 1.07394384765625, \"count\": 1, \"min\": 1.07394384765625, \"max\": 1.07394384765625}}}\n",
      "#metrics {\"StartTime\": 1686777905.0356774, \"EndTime\": 1686777905.0356832, \"Dimensions\": {\"Algorithm\": \"Linear Learner\", \"Host\": \"algo-1\", \"Operation\": \"training\", \"epoch\": 0, \"model\": 18}, \"Metrics\": {\"train_mse_objective\": {\"sum\": 1.099530517578125, \"count\": 1, \"min\": 1.099530517578125, \"max\": 1.099530517578125}}}\n",
      "#metrics {\"StartTime\": 1686777905.0357077, \"EndTime\": 1686777905.0357127, \"Dimensions\": {\"Algorithm\": \"Linear Learner\", \"Host\": \"algo-1\", \"Operation\": \"training\", \"epoch\": 0, \"model\": 19}, \"Metrics\": {\"train_mse_objective\": {\"sum\": 1.0041085205078124, \"count\": 1, \"min\": 1.0041085205078124, \"max\": 1.0041085205078124}}}\n",
      "#metrics {\"StartTime\": 1686777905.035733, \"EndTime\": 1686777905.0357382, \"Dimensions\": {\"Algorithm\": \"Linear Learner\", \"Host\": \"algo-1\", \"Operation\": \"training\", \"epoch\": 0, \"model\": 20}, \"Metrics\": {\"train_mse_objective\": {\"sum\": 0.9506248779296875, \"count\": 1, \"min\": 0.9506248779296875, \"max\": 0.9506248779296875}}}\n",
      "#metrics {\"StartTime\": 1686777905.0357583, \"EndTime\": 1686777905.0357635, \"Dimensions\": {\"Algorithm\": \"Linear Learner\", \"Host\": \"algo-1\", \"Operation\": \"training\", \"epoch\": 0, \"model\": 21}, \"Metrics\": {\"train_mse_objective\": {\"sum\": 0.9690664672851562, \"count\": 1, \"min\": 0.9690664672851562, \"max\": 0.9690664672851562}}}\n",
      "#metrics {\"StartTime\": 1686777905.0357857, \"EndTime\": 1686777905.035791, \"Dimensions\": {\"Algorithm\": \"Linear Learner\", \"Host\": \"algo-1\", \"Operation\": \"training\", \"epoch\": 0, \"model\": 22}, \"Metrics\": {\"train_mse_objective\": {\"sum\": 1.0072550659179687, \"count\": 1, \"min\": 1.0072550659179687, \"max\": 1.0072550659179687}}}\n",
      "#metrics {\"StartTime\": 1686777905.0358107, \"EndTime\": 1686777905.035816, \"Dimensions\": {\"Algorithm\": \"Linear Learner\", \"Host\": \"algo-1\", \"Operation\": \"training\", \"epoch\": 0, \"model\": 23}, \"Metrics\": {\"train_mse_objective\": {\"sum\": 1.0789600830078125, \"count\": 1, \"min\": 1.0789600830078125, \"max\": 1.0789600830078125}}}\n",
      "#metrics {\"StartTime\": 1686777905.035837, \"EndTime\": 1686777905.035842, \"Dimensions\": {\"Algorithm\": \"Linear Learner\", \"Host\": \"algo-1\", \"Operation\": \"training\", \"epoch\": 0, \"model\": 24}, \"Metrics\": {\"train_mse_objective\": {\"sum\": 0.9693126220703125, \"count\": 1, \"min\": 0.9693126220703125, \"max\": 0.9693126220703125}}}\n",
      "#metrics {\"StartTime\": 1686777905.0358644, \"EndTime\": 1686777905.0358694, \"Dimensions\": {\"Algorithm\": \"Linear Learner\", \"Host\": \"algo-1\", \"Operation\": \"training\", \"epoch\": 0, \"model\": 25}, \"Metrics\": {\"train_mse_objective\": {\"sum\": 0.9535215454101562, \"count\": 1, \"min\": 0.9535215454101562, \"max\": 0.9535215454101562}}}\n",
      "#metrics {\"StartTime\": 1686777905.0358894, \"EndTime\": 1686777905.0358946, \"Dimensions\": {\"Algorithm\": \"Linear Learner\", \"Host\": \"algo-1\", \"Operation\": \"training\", \"epoch\": 0, \"model\": 26}, \"Metrics\": {\"train_mse_objective\": {\"sum\": 0.9526671752929687, \"count\": 1, \"min\": 0.9526671752929687, \"max\": 0.9526671752929687}}}\n",
      "#metrics {\"StartTime\": 1686777905.0359144, \"EndTime\": 1686777905.0359197, \"Dimensions\": {\"Algorithm\": \"Linear Learner\", \"Host\": \"algo-1\", \"Operation\": \"training\", \"epoch\": 0, \"model\": 27}, \"Metrics\": {\"train_mse_objective\": {\"sum\": 1.0269730224609375, \"count\": 1, \"min\": 1.0269730224609375, \"max\": 1.0269730224609375}}}\n",
      "#metrics {\"StartTime\": 1686777905.0359392, \"EndTime\": 1686777905.0359447, \"Dimensions\": {\"Algorithm\": \"Linear Learner\", \"Host\": \"algo-1\", \"Operation\": \"training\", \"epoch\": 0, \"model\": 28}, \"Metrics\": {\"train_mse_objective\": {\"sum\": 0.9508773193359376, \"count\": 1, \"min\": 0.9508773193359376, \"max\": 0.9508773193359376}}}\n",
      "#metrics {\"StartTime\": 1686777905.0359645, \"EndTime\": 1686777905.0359697, \"Dimensions\": {\"Algorithm\": \"Linear Learner\", \"Host\": \"algo-1\", \"Operation\": \"training\", \"epoch\": 0, \"model\": 29}, \"Metrics\": {\"train_mse_objective\": {\"sum\": 1.050606689453125, \"count\": 1, \"min\": 1.050606689453125, \"max\": 1.050606689453125}}}\n",
      "#metrics {\"StartTime\": 1686777905.0359895, \"EndTime\": 1686777905.0359948, \"Dimensions\": {\"Algorithm\": \"Linear Learner\", \"Host\": \"algo-1\", \"Operation\": \"training\", \"epoch\": 0, \"model\": 30}, \"Metrics\": {\"train_mse_objective\": {\"sum\": 1.0049104614257813, \"count\": 1, \"min\": 1.0049104614257813, \"max\": 1.0049104614257813}}}\n",
      "#metrics {\"StartTime\": 1686777905.0360148, \"EndTime\": 1686777905.03602, \"Dimensions\": {\"Algorithm\": \"Linear Learner\", \"Host\": \"algo-1\", \"Operation\": \"training\", \"epoch\": 0, \"model\": 31}, \"Metrics\": {\"train_mse_objective\": {\"sum\": 0.8938972778320312, \"count\": 1, \"min\": 0.8938972778320312, \"max\": 0.8938972778320312}}}\n",
      "[06/14/2023 21:25:05 INFO 140335316649792] #quality_metric: host=algo-1, epoch=0, train mse_objective <loss>=1.02216162109375\n",
      "[06/14/2023 21:25:05 INFO 140335316649792] #early_stopping_criteria_metric: host=algo-1, epoch=0, criteria=mse_objective, value=0.8850604248046875\n",
      "[06/14/2023 21:25:05 INFO 140335316649792] Epoch 0: Loss improved. Updating best model\n",
      "[06/14/2023 21:25:05 INFO 140335316649792] Saving model for epoch: 0\n",
      "[06/14/2023 21:25:05 INFO 140335316649792] Saved checkpoint to \"/tmp/tmp4198oyla/mx-mod-0000.params\"\n",
      "[06/14/2023 21:25:05 INFO 140335316649792] #progress_metric: host=algo-1, completed 6.666666666666667 % of epochs\n",
      "#metrics {\"StartTime\": 1686777904.990635, \"EndTime\": 1686777905.0451798, \"Dimensions\": {\"Algorithm\": \"Linear Learner\", \"Host\": \"algo-1\", \"Operation\": \"training\", \"epoch\": 0, \"Meta\": \"training_data_iter\"}, \"Metrics\": {\"Total Records Seen\": {\"sum\": 3142.0, \"count\": 1, \"min\": 3142, \"max\": 3142}, \"Total Batches Seen\": {\"sum\": 5.0, \"count\": 1, \"min\": 5, \"max\": 5}, \"Max Records Seen Between Resets\": {\"sum\": 1071.0, \"count\": 1, \"min\": 1071, \"max\": 1071}, \"Max Batches Seen Between Resets\": {\"sum\": 2.0, \"count\": 1, \"min\": 2, \"max\": 2}, \"Reset Count\": {\"sum\": 3.0, \"count\": 1, \"min\": 3, \"max\": 3}, \"Number of Records Since Last Reset\": {\"sum\": 1071.0, \"count\": 1, \"min\": 1071, \"max\": 1071}, \"Number of Batches Since Last Reset\": {\"sum\": 2.0, \"count\": 1, \"min\": 2, \"max\": 2}}}\n",
      "[06/14/2023 21:25:05 INFO 140335316649792] #throughput_metric: host=algo-1, train throughput=19599.722433592797 records/second\n",
      "[2023-06-14 21:25:05.060] [tensorio] [info] epoch_stats={\"data_pipeline\": \"/opt/ml/input/data/train\", \"epoch\": 6, \"duration\": 14, \"num_examples\": 2, \"num_bytes\": 68544}\n",
      "#metrics {\"StartTime\": 1686777905.0604782, \"EndTime\": 1686777905.0605416, \"Dimensions\": {\"Algorithm\": \"Linear Learner\", \"Host\": \"algo-1\", \"Operation\": \"training\", \"epoch\": 1, \"model\": 0}, \"Metrics\": {\"train_mse_objective\": {\"sum\": 1.006066162109375, \"count\": 1, \"min\": 1.006066162109375, \"max\": 1.006066162109375}}}\n",
      "#metrics {\"StartTime\": 1686777905.0606172, \"EndTime\": 1686777905.0606267, \"Dimensions\": {\"Algorithm\": \"Linear Learner\", \"Host\": \"algo-1\", \"Operation\": \"training\", \"epoch\": 1, \"model\": 1}, \"Metrics\": {\"train_mse_objective\": {\"sum\": 0.985068603515625, \"count\": 1, \"min\": 0.985068603515625, \"max\": 0.985068603515625}}}\n",
      "#metrics {\"StartTime\": 1686777905.0606642, \"EndTime\": 1686777905.0606704, \"Dimensions\": {\"Algorithm\": \"Linear Learner\", \"Host\": \"algo-1\", \"Operation\": \"training\", \"epoch\": 1, \"model\": 2}, \"Metrics\": {\"train_mse_objective\": {\"sum\": 1.0134525756835937, \"count\": 1, \"min\": 1.0134525756835937, \"max\": 1.0134525756835937}}}\n",
      "#metrics {\"StartTime\": 1686777905.060693, \"EndTime\": 1686777905.0606983, \"Dimensions\": {\"Algorithm\": \"Linear Learner\", \"Host\": \"algo-1\", \"Operation\": \"training\", \"epoch\": 1, \"model\": 3}, \"Metrics\": {\"train_mse_objective\": {\"sum\": 0.9882579956054688, \"count\": 1, \"min\": 0.9882579956054688, \"max\": 0.9882579956054688}}}\n",
      "#metrics {\"StartTime\": 1686777905.06072, \"EndTime\": 1686777905.0607252, \"Dimensions\": {\"Algorithm\": \"Linear Learner\", \"Host\": \"algo-1\", \"Operation\": \"training\", \"epoch\": 1, \"model\": 4}, \"Metrics\": {\"train_mse_objective\": {\"sum\": 0.9089137573242188, \"count\": 1, \"min\": 0.9089137573242188, \"max\": 0.9089137573242188}}}\n",
      "#metrics {\"StartTime\": 1686777905.0607486, \"EndTime\": 1686777905.060754, \"Dimensions\": {\"Algorithm\": \"Linear Learner\", \"Host\": \"algo-1\", \"Operation\": \"training\", \"epoch\": 1, \"model\": 5}, \"Metrics\": {\"train_mse_objective\": {\"sum\": 0.8862894897460938, \"count\": 1, \"min\": 0.8862894897460938, \"max\": 0.8862894897460938}}}\n",
      "#metrics {\"StartTime\": 1686777905.0607789, \"EndTime\": 1686777905.060784, \"Dimensions\": {\"Algorithm\": \"Linear Learner\", \"Host\": \"algo-1\", \"Operation\": \"training\", \"epoch\": 1, \"model\": 6}, \"Metrics\": {\"train_mse_objective\": {\"sum\": 0.8347337646484375, \"count\": 1, \"min\": 0.8347337646484375, \"max\": 0.8347337646484375}}}\n",
      "#metrics {\"StartTime\": 1686777905.0608041, \"EndTime\": 1686777905.0608091, \"Dimensions\": {\"Algorithm\": \"Linear Learner\", \"Host\": \"algo-1\", \"Operation\": \"training\", \"epoch\": 1, \"model\": 7}, \"Metrics\": {\"train_mse_objective\": {\"sum\": 0.807532470703125, \"count\": 1, \"min\": 0.807532470703125, \"max\": 0.807532470703125}}}\n",
      "#metrics {\"StartTime\": 1686777905.0608292, \"EndTime\": 1686777905.0608346, \"Dimensions\": {\"Algorithm\": \"Linear Learner\", \"Host\": \"algo-1\", \"Operation\": \"training\", \"epoch\": 1, \"model\": 8}, \"Metrics\": {\"train_mse_objective\": {\"sum\": 0.8729747314453125, \"count\": 1, \"min\": 0.8729747314453125, \"max\": 0.8729747314453125}}}\n",
      "#metrics {\"StartTime\": 1686777905.0608547, \"EndTime\": 1686777905.0608597, \"Dimensions\": {\"Algorithm\": \"Linear Learner\", \"Host\": \"algo-1\", \"Operation\": \"training\", \"epoch\": 1, \"model\": 9}, \"Metrics\": {\"train_mse_objective\": {\"sum\": 0.9741072998046875, \"count\": 1, \"min\": 0.9741072998046875, \"max\": 0.9741072998046875}}}\n",
      "#metrics {\"StartTime\": 1686777905.06088, \"EndTime\": 1686777905.060885, \"Dimensions\": {\"Algorithm\": \"Linear Learner\", \"Host\": \"algo-1\", \"Operation\": \"training\", \"epoch\": 1, \"model\": 10}, \"Metrics\": {\"train_mse_objective\": {\"sum\": 1.0858118896484374, \"count\": 1, \"min\": 1.0858118896484374, \"max\": 1.0858118896484374}}}\n",
      "#metrics {\"StartTime\": 1686777905.0609088, \"EndTime\": 1686777905.0609143, \"Dimensions\": {\"Algorithm\": \"Linear Learner\", \"Host\": \"algo-1\", \"Operation\": \"training\", \"epoch\": 1, \"model\": 11}, \"Metrics\": {\"train_mse_objective\": {\"sum\": 1.0068366088867187, \"count\": 1, \"min\": 1.0068366088867187, \"max\": 1.0068366088867187}}}\n",
      "#metrics {\"StartTime\": 1686777905.060935, \"EndTime\": 1686777905.0609665, \"Dimensions\": {\"Algorithm\": \"Linear Learner\", \"Host\": \"algo-1\", \"Operation\": \"training\", \"epoch\": 1, \"model\": 12}, \"Metrics\": {\"train_mse_objective\": {\"sum\": 0.7468883056640625, \"count\": 1, \"min\": 0.7468883056640625, \"max\": 0.7468883056640625}}}\n",
      "#metrics {\"StartTime\": 1686777905.060989, \"EndTime\": 1686777905.0609949, \"Dimensions\": {\"Algorithm\": \"Linear Learner\", \"Host\": \"algo-1\", \"Operation\": \"training\", \"epoch\": 1, \"model\": 13}, \"Metrics\": {\"train_mse_objective\": {\"sum\": 0.8101138916015626, \"count\": 1, \"min\": 0.8101138916015626, \"max\": 0.8101138916015626}}}\n",
      "#metrics {\"StartTime\": 1686777905.061021, \"EndTime\": 1686777905.0610266, \"Dimensions\": {\"Algorithm\": \"Linear Learner\", \"Host\": \"algo-1\", \"Operation\": \"training\", \"epoch\": 1, \"model\": 14}, \"Metrics\": {\"train_mse_objective\": {\"sum\": 0.9052518310546875, \"count\": 1, \"min\": 0.9052518310546875, \"max\": 0.9052518310546875}}}\n",
      "#metrics {\"StartTime\": 1686777905.0610495, \"EndTime\": 1686777905.0610547, \"Dimensions\": {\"Algorithm\": \"Linear Learner\", \"Host\": \"algo-1\", \"Operation\": \"training\", \"epoch\": 1, \"model\": 15}, \"Metrics\": {\"train_mse_objective\": {\"sum\": 0.7107618408203125, \"count\": 1, \"min\": 0.7107618408203125, \"max\": 0.7107618408203125}}}\n",
      "#metrics {\"StartTime\": 1686777905.061075, \"EndTime\": 1686777905.0610802, \"Dimensions\": {\"Algorithm\": \"Linear Learner\", \"Host\": \"algo-1\", \"Operation\": \"training\", \"epoch\": 1, \"model\": 16}, \"Metrics\": {\"train_mse_objective\": {\"sum\": 1.0356744384765626, \"count\": 1, \"min\": 1.0356744384765626, \"max\": 1.0356744384765626}}}\n",
      "#metrics {\"StartTime\": 1686777905.0611002, \"EndTime\": 1686777905.0611055, \"Dimensions\": {\"Algorithm\": \"Linear Learner\", \"Host\": \"algo-1\", \"Operation\": \"training\", \"epoch\": 1, \"model\": 17}, \"Metrics\": {\"train_mse_objective\": {\"sum\": 1.0568455810546875, \"count\": 1, \"min\": 1.0568455810546875, \"max\": 1.0568455810546875}}}\n",
      "#metrics {\"StartTime\": 1686777905.0611253, \"EndTime\": 1686777905.0611305, \"Dimensions\": {\"Algorithm\": \"Linear Learner\", \"Host\": \"algo-1\", \"Operation\": \"training\", \"epoch\": 1, \"model\": 18}, \"Metrics\": {\"train_mse_objective\": {\"sum\": 1.0808736572265625, \"count\": 1, \"min\": 1.0808736572265625, \"max\": 1.0808736572265625}}}\n",
      "#metrics {\"StartTime\": 1686777905.0611508, \"EndTime\": 1686777905.061156, \"Dimensions\": {\"Algorithm\": \"Linear Learner\", \"Host\": \"algo-1\", \"Operation\": \"training\", \"epoch\": 1, \"model\": 19}, \"Metrics\": {\"train_mse_objective\": {\"sum\": 0.9871458129882813, \"count\": 1, \"min\": 0.9871458129882813, \"max\": 0.9871458129882813}}}\n",
      "#metrics {\"StartTime\": 1686777905.0611758, \"EndTime\": 1686777905.0611815, \"Dimensions\": {\"Algorithm\": \"Linear Learner\", \"Host\": \"algo-1\", \"Operation\": \"training\", \"epoch\": 1, \"model\": 20}, \"Metrics\": {\"train_mse_objective\": {\"sum\": 0.816015869140625, \"count\": 1, \"min\": 0.816015869140625, \"max\": 0.816015869140625}}}\n",
      "#metrics {\"StartTime\": 1686777905.0612013, \"EndTime\": 1686777905.0612066, \"Dimensions\": {\"Algorithm\": \"Linear Learner\", \"Host\": \"algo-1\", \"Operation\": \"training\", \"epoch\": 1, \"model\": 21}, \"Metrics\": {\"train_mse_objective\": {\"sum\": 0.8192308959960938, \"count\": 1, \"min\": 0.8192308959960938, \"max\": 0.8192308959960938}}}\n",
      "#metrics {\"StartTime\": 1686777905.0612292, \"EndTime\": 1686777905.0612347, \"Dimensions\": {\"Algorithm\": \"Linear Learner\", \"Host\": \"algo-1\", \"Operation\": \"training\", \"epoch\": 1, \"model\": 22}, \"Metrics\": {\"train_mse_objective\": {\"sum\": 0.7830580444335937, \"count\": 1, \"min\": 0.7830580444335937, \"max\": 0.7830580444335937}}}\n",
      "#metrics {\"StartTime\": 1686777905.0612547, \"EndTime\": 1686777905.0612597, \"Dimensions\": {\"Algorithm\": \"Linear Learner\", \"Host\": \"algo-1\", \"Operation\": \"training\", \"epoch\": 1, \"model\": 23}, \"Metrics\": {\"train_mse_objective\": {\"sum\": 0.8611998901367187, \"count\": 1, \"min\": 0.8611998901367187, \"max\": 0.8611998901367187}}}\n",
      "#metrics {\"StartTime\": 1686777905.06128, \"EndTime\": 1686777905.061285, \"Dimensions\": {\"Algorithm\": \"Linear Learner\", \"Host\": \"algo-1\", \"Operation\": \"training\", \"epoch\": 1, \"model\": 24}, \"Metrics\": {\"train_mse_objective\": {\"sum\": 0.9743131103515625, \"count\": 1, \"min\": 0.9743131103515625, \"max\": 0.9743131103515625}}}\n",
      "#metrics {\"StartTime\": 1686777905.0613072, \"EndTime\": 1686777905.0613124, \"Dimensions\": {\"Algorithm\": \"Linear Learner\", \"Host\": \"algo-1\", \"Operation\": \"training\", \"epoch\": 1, \"model\": 25}, \"Metrics\": {\"train_mse_objective\": {\"sum\": 0.9576375122070313, \"count\": 1, \"min\": 0.9576375122070313, \"max\": 0.9576375122070313}}}\n",
      "#metrics {\"StartTime\": 1686777905.0613327, \"EndTime\": 1686777905.061338, \"Dimensions\": {\"Algorithm\": \"Linear Learner\", \"Host\": \"algo-1\", \"Operation\": \"training\", \"epoch\": 1, \"model\": 26}, \"Metrics\": {\"train_mse_objective\": {\"sum\": 0.9543069458007812, \"count\": 1, \"min\": 0.9543069458007812, \"max\": 0.9543069458007812}}}\n",
      "#metrics {\"StartTime\": 1686777905.061358, \"EndTime\": 1686777905.0613632, \"Dimensions\": {\"Algorithm\": \"Linear Learner\", \"Host\": \"algo-1\", \"Operation\": \"training\", \"epoch\": 1, \"model\": 27}, \"Metrics\": {\"train_mse_objective\": {\"sum\": 1.0207877197265625, \"count\": 1, \"min\": 1.0207877197265625, \"max\": 1.0207877197265625}}}\n",
      "#metrics {\"StartTime\": 1686777905.0613856, \"EndTime\": 1686777905.061391, \"Dimensions\": {\"Algorithm\": \"Linear Learner\", \"Host\": \"algo-1\", \"Operation\": \"training\", \"epoch\": 1, \"model\": 28}, \"Metrics\": {\"train_mse_objective\": {\"sum\": 1.1274150390625, \"count\": 1, \"min\": 1.1274150390625, \"max\": 1.1274150390625}}}\n",
      "#metrics {\"StartTime\": 1686777905.0614114, \"EndTime\": 1686777905.0614164, \"Dimensions\": {\"Algorithm\": \"Linear Learner\", \"Host\": \"algo-1\", \"Operation\": \"training\", \"epoch\": 1, \"model\": 29}, \"Metrics\": {\"train_mse_objective\": {\"sum\": 0.9528507690429687, \"count\": 1, \"min\": 0.9528507690429687, \"max\": 0.9528507690429687}}}\n",
      "#metrics {\"StartTime\": 1686777905.0614364, \"EndTime\": 1686777905.0614414, \"Dimensions\": {\"Algorithm\": \"Linear Learner\", \"Host\": \"algo-1\", \"Operation\": \"training\", \"epoch\": 1, \"model\": 30}, \"Metrics\": {\"train_mse_objective\": {\"sum\": 1.112237060546875, \"count\": 1, \"min\": 1.112237060546875, \"max\": 1.112237060546875}}}\n",
      "#metrics {\"StartTime\": 1686777905.0614612, \"EndTime\": 1686777905.0614665, \"Dimensions\": {\"Algorithm\": \"Linear Learner\", \"Host\": \"algo-1\", \"Operation\": \"training\", \"epoch\": 1, \"model\": 31}, \"Metrics\": {\"train_mse_objective\": {\"sum\": 1.26973046875, \"count\": 1, \"min\": 1.26973046875, \"max\": 1.26973046875}}}\n",
      "[06/14/2023 21:25:05 INFO 140335316649792] #quality_metric: host=algo-1, epoch=1, train mse_objective <loss>=1.006066162109375\n",
      "[06/14/2023 21:25:05 INFO 140335316649792] #early_stopping_criteria_metric: host=algo-1, epoch=1, criteria=mse_objective, value=0.7107618408203125\n",
      "[06/14/2023 21:25:05 INFO 140335316649792] Epoch 1: Loss improved. Updating best model\n",
      "[06/14/2023 21:25:05 INFO 140335316649792] Saving model for epoch: 1\n",
      "[06/14/2023 21:25:05 INFO 140335316649792] Saved checkpoint to \"/tmp/tmpco5zkhjp/mx-mod-0000.params\"\n",
      "[06/14/2023 21:25:05 INFO 140335316649792] #progress_metric: host=algo-1, completed 13.333333333333334 % of epochs\n",
      "#metrics {\"StartTime\": 1686777905.045384, \"EndTime\": 1686777905.0688004, \"Dimensions\": {\"Algorithm\": \"Linear Learner\", \"Host\": \"algo-1\", \"Operation\": \"training\", \"epoch\": 1, \"Meta\": \"training_data_iter\"}, \"Metrics\": {\"Total Records Seen\": {\"sum\": 4213.0, \"count\": 1, \"min\": 4213, \"max\": 4213}, \"Total Batches Seen\": {\"sum\": 7.0, \"count\": 1, \"min\": 7, \"max\": 7}, \"Max Records Seen Between Resets\": {\"sum\": 1071.0, \"count\": 1, \"min\": 1071, \"max\": 1071}, \"Max Batches Seen Between Resets\": {\"sum\": 2.0, \"count\": 1, \"min\": 2, \"max\": 2}, \"Reset Count\": {\"sum\": 4.0, \"count\": 1, \"min\": 4, \"max\": 4}, \"Number of Records Since Last Reset\": {\"sum\": 1071.0, \"count\": 1, \"min\": 1071, \"max\": 1071}, \"Number of Batches Since Last Reset\": {\"sum\": 2.0, \"count\": 1, \"min\": 2, \"max\": 2}}}\n",
      "[06/14/2023 21:25:05 INFO 140335316649792] #throughput_metric: host=algo-1, train throughput=45532.49727844958 records/second\n",
      "[2023-06-14 21:25:05.084] [tensorio] [info] epoch_stats={\"data_pipeline\": \"/opt/ml/input/data/train\", \"epoch\": 8, \"duration\": 15, \"num_examples\": 2, \"num_bytes\": 68544}\n",
      "#metrics {\"StartTime\": 1686777905.084251, \"EndTime\": 1686777905.0843105, \"Dimensions\": {\"Algorithm\": \"Linear Learner\", \"Host\": \"algo-1\", \"Operation\": \"training\", \"epoch\": 2, \"model\": 0}, \"Metrics\": {\"train_mse_objective\": {\"sum\": 0.9903468017578125, \"count\": 1, \"min\": 0.9903468017578125, \"max\": 0.9903468017578125}}}\n",
      "#metrics {\"StartTime\": 1686777905.084377, \"EndTime\": 1686777905.0843863, \"Dimensions\": {\"Algorithm\": \"Linear Learner\", \"Host\": \"algo-1\", \"Operation\": \"training\", \"epoch\": 2, \"model\": 1}, \"Metrics\": {\"train_mse_objective\": {\"sum\": 0.97018798828125, \"count\": 1, \"min\": 0.97018798828125, \"max\": 0.97018798828125}}}\n",
      "#metrics {\"StartTime\": 1686777905.0844183, \"EndTime\": 1686777905.0844245, \"Dimensions\": {\"Algorithm\": \"Linear Learner\", \"Host\": \"algo-1\", \"Operation\": \"training\", \"epoch\": 2, \"model\": 2}, \"Metrics\": {\"train_mse_objective\": {\"sum\": 0.998368896484375, \"count\": 1, \"min\": 0.998368896484375, \"max\": 0.998368896484375}}}\n",
      "#metrics {\"StartTime\": 1686777905.0844464, \"EndTime\": 1686777905.084452, \"Dimensions\": {\"Algorithm\": \"Linear Learner\", \"Host\": \"algo-1\", \"Operation\": \"training\", \"epoch\": 2, \"model\": 3}, \"Metrics\": {\"train_mse_objective\": {\"sum\": 0.9728997802734375, \"count\": 1, \"min\": 0.9728997802734375, \"max\": 0.9728997802734375}}}\n",
      "#metrics {\"StartTime\": 1686777905.0844781, \"EndTime\": 1686777905.0844839, \"Dimensions\": {\"Algorithm\": \"Linear Learner\", \"Host\": \"algo-1\", \"Operation\": \"training\", \"epoch\": 2, \"model\": 4}, \"Metrics\": {\"train_mse_objective\": {\"sum\": 0.86045703125, \"count\": 1, \"min\": 0.86045703125, \"max\": 0.86045703125}}}\n",
      "#metrics {\"StartTime\": 1686777905.084509, \"EndTime\": 1686777905.0845146, \"Dimensions\": {\"Algorithm\": \"Linear Learner\", \"Host\": \"algo-1\", \"Operation\": \"training\", \"epoch\": 2, \"model\": 5}, \"Metrics\": {\"train_mse_objective\": {\"sum\": 0.9148922729492187, \"count\": 1, \"min\": 0.9148922729492187, \"max\": 0.9148922729492187}}}\n",
      "#metrics {\"StartTime\": 1686777905.0845392, \"EndTime\": 1686777905.0845444, \"Dimensions\": {\"Algorithm\": \"Linear Learner\", \"Host\": \"algo-1\", \"Operation\": \"training\", \"epoch\": 2, \"model\": 6}, \"Metrics\": {\"train_mse_objective\": {\"sum\": 1.0937572021484374, \"count\": 1, \"min\": 1.0937572021484374, \"max\": 1.0937572021484374}}}\n",
      "#metrics {\"StartTime\": 1686777905.084569, \"EndTime\": 1686777905.0845745, \"Dimensions\": {\"Algorithm\": \"Linear Learner\", \"Host\": \"algo-1\", \"Operation\": \"training\", \"epoch\": 2, \"model\": 7}, \"Metrics\": {\"train_mse_objective\": {\"sum\": 0.8990514526367187, \"count\": 1, \"min\": 0.8990514526367187, \"max\": 0.8990514526367187}}}\n",
      "#metrics {\"StartTime\": 1686777905.0845985, \"EndTime\": 1686777905.0846038, \"Dimensions\": {\"Algorithm\": \"Linear Learner\", \"Host\": \"algo-1\", \"Operation\": \"training\", \"epoch\": 2, \"model\": 8}, \"Metrics\": {\"train_mse_objective\": {\"sum\": 0.8609124145507813, \"count\": 1, \"min\": 0.8609124145507813, \"max\": 0.8609124145507813}}}\n",
      "#metrics {\"StartTime\": 1686777905.0846272, \"EndTime\": 1686777905.0846324, \"Dimensions\": {\"Algorithm\": \"Linear Learner\", \"Host\": \"algo-1\", \"Operation\": \"training\", \"epoch\": 2, \"model\": 9}, \"Metrics\": {\"train_mse_objective\": {\"sum\": 0.9586372680664063, \"count\": 1, \"min\": 0.9586372680664063, \"max\": 0.9586372680664063}}}\n",
      "#metrics {\"StartTime\": 1686777905.0846555, \"EndTime\": 1686777905.0846608, \"Dimensions\": {\"Algorithm\": \"Linear Learner\", \"Host\": \"algo-1\", \"Operation\": \"training\", \"epoch\": 2, \"model\": 10}, \"Metrics\": {\"train_mse_objective\": {\"sum\": 1.06913330078125, \"count\": 1, \"min\": 1.06913330078125, \"max\": 1.06913330078125}}}\n",
      "#metrics {\"StartTime\": 1686777905.0846846, \"EndTime\": 1686777905.0846896, \"Dimensions\": {\"Algorithm\": \"Linear Learner\", \"Host\": \"algo-1\", \"Operation\": \"training\", \"epoch\": 2, \"model\": 11}, \"Metrics\": {\"train_mse_objective\": {\"sum\": 0.9909069213867188, \"count\": 1, \"min\": 0.9909069213867188, \"max\": 0.9909069213867188}}}\n",
      "#metrics {\"StartTime\": 1686777905.0847142, \"EndTime\": 1686777905.0847197, \"Dimensions\": {\"Algorithm\": \"Linear Learner\", \"Host\": \"algo-1\", \"Operation\": \"training\", \"epoch\": 2, \"model\": 12}, \"Metrics\": {\"train_mse_objective\": {\"sum\": 1.1690634765625, \"count\": 1, \"min\": 1.1690634765625, \"max\": 1.1690634765625}}}\n",
      "#metrics {\"StartTime\": 1686777905.0847433, \"EndTime\": 1686777905.0847483, \"Dimensions\": {\"Algorithm\": \"Linear Learner\", \"Host\": \"algo-1\", \"Operation\": \"training\", \"epoch\": 2, \"model\": 13}, \"Metrics\": {\"train_mse_objective\": {\"sum\": 1.1389429931640624, \"count\": 1, \"min\": 1.1389429931640624, \"max\": 1.1389429931640624}}}\n",
      "#metrics {\"StartTime\": 1686777905.0847723, \"EndTime\": 1686777905.0847778, \"Dimensions\": {\"Algorithm\": \"Linear Learner\", \"Host\": \"algo-1\", \"Operation\": \"training\", \"epoch\": 2, \"model\": 14}, \"Metrics\": {\"train_mse_objective\": {\"sum\": 0.8999092407226562, \"count\": 1, \"min\": 0.8999092407226562, \"max\": 0.8999092407226562}}}\n",
      "#metrics {\"StartTime\": 1686777905.0848, \"EndTime\": 1686777905.0848055, \"Dimensions\": {\"Algorithm\": \"Linear Learner\", \"Host\": \"algo-1\", \"Operation\": \"training\", \"epoch\": 2, \"model\": 15}, \"Metrics\": {\"train_mse_objective\": {\"sum\": 1.1725975341796875, \"count\": 1, \"min\": 1.1725975341796875, \"max\": 1.1725975341796875}}}\n",
      "#metrics {\"StartTime\": 1686777905.0848317, \"EndTime\": 1686777905.0848372, \"Dimensions\": {\"Algorithm\": \"Linear Learner\", \"Host\": \"algo-1\", \"Operation\": \"training\", \"epoch\": 2, \"model\": 16}, \"Metrics\": {\"train_mse_objective\": {\"sum\": 1.0186034545898437, \"count\": 1, \"min\": 1.0186034545898437, \"max\": 1.0186034545898437}}}\n",
      "#metrics {\"StartTime\": 1686777905.084858, \"EndTime\": 1686777905.084863, \"Dimensions\": {\"Algorithm\": \"Linear Learner\", \"Host\": \"algo-1\", \"Operation\": \"training\", \"epoch\": 2, \"model\": 17}, \"Metrics\": {\"train_mse_objective\": {\"sum\": 1.0402691650390625, \"count\": 1, \"min\": 1.0402691650390625, \"max\": 1.0402691650390625}}}\n",
      "#metrics {\"StartTime\": 1686777905.0848854, \"EndTime\": 1686777905.0848906, \"Dimensions\": {\"Algorithm\": \"Linear Learner\", \"Host\": \"algo-1\", \"Operation\": \"training\", \"epoch\": 2, \"model\": 18}, \"Metrics\": {\"train_mse_objective\": {\"sum\": 1.062996826171875, \"count\": 1, \"min\": 1.062996826171875, \"max\": 1.062996826171875}}}\n",
      "#metrics {\"StartTime\": 1686777905.0849109, \"EndTime\": 1686777905.0849159, \"Dimensions\": {\"Algorithm\": \"Linear Learner\", \"Host\": \"algo-1\", \"Operation\": \"training\", \"epoch\": 2, \"model\": 19}, \"Metrics\": {\"train_mse_objective\": {\"sum\": 0.9714458618164062, \"count\": 1, \"min\": 0.9714458618164062, \"max\": 0.9714458618164062}}}\n",
      "#metrics {\"StartTime\": 1686777905.0849705, \"EndTime\": 1686777905.084977, \"Dimensions\": {\"Algorithm\": \"Linear Learner\", \"Host\": \"algo-1\", \"Operation\": \"training\", \"epoch\": 2, \"model\": 20}, \"Metrics\": {\"train_mse_objective\": {\"sum\": 0.897747314453125, \"count\": 1, \"min\": 0.897747314453125, \"max\": 0.897747314453125}}}\n",
      "#metrics {\"StartTime\": 1686777905.085004, \"EndTime\": 1686777905.0850096, \"Dimensions\": {\"Algorithm\": \"Linear Learner\", \"Host\": \"algo-1\", \"Operation\": \"training\", \"epoch\": 2, \"model\": 21}, \"Metrics\": {\"train_mse_objective\": {\"sum\": 0.8461341552734375, \"count\": 1, \"min\": 0.8461341552734375, \"max\": 0.8461341552734375}}}\n",
      "#metrics {\"StartTime\": 1686777905.0850306, \"EndTime\": 1686777905.085036, \"Dimensions\": {\"Algorithm\": \"Linear Learner\", \"Host\": \"algo-1\", \"Operation\": \"training\", \"epoch\": 2, \"model\": 22}, \"Metrics\": {\"train_mse_objective\": {\"sum\": 0.9999383544921875, \"count\": 1, \"min\": 0.9999383544921875, \"max\": 0.9999383544921875}}}\n",
      "#metrics {\"StartTime\": 1686777905.085059, \"EndTime\": 1686777905.085064, \"Dimensions\": {\"Algorithm\": \"Linear Learner\", \"Host\": \"algo-1\", \"Operation\": \"training\", \"epoch\": 2, \"model\": 23}, \"Metrics\": {\"train_mse_objective\": {\"sum\": 0.9619004516601563, \"count\": 1, \"min\": 0.9619004516601563, \"max\": 0.9619004516601563}}}\n",
      "#metrics {\"StartTime\": 1686777905.0850873, \"EndTime\": 1686777905.0850925, \"Dimensions\": {\"Algorithm\": \"Linear Learner\", \"Host\": \"algo-1\", \"Operation\": \"training\", \"epoch\": 2, \"model\": 24}, \"Metrics\": {\"train_mse_objective\": {\"sum\": 0.9779675903320313, \"count\": 1, \"min\": 0.9779675903320313, \"max\": 0.9779675903320313}}}\n",
      "#metrics {\"StartTime\": 1686777905.0851135, \"EndTime\": 1686777905.085119, \"Dimensions\": {\"Algorithm\": \"Linear Learner\", \"Host\": \"algo-1\", \"Operation\": \"training\", \"epoch\": 2, \"model\": 25}, \"Metrics\": {\"train_mse_objective\": {\"sum\": 0.96242529296875, \"count\": 1, \"min\": 0.96242529296875, \"max\": 0.96242529296875}}}\n",
      "#metrics {\"StartTime\": 1686777905.0851424, \"EndTime\": 1686777905.0851476, \"Dimensions\": {\"Algorithm\": \"Linear Learner\", \"Host\": \"algo-1\", \"Operation\": \"training\", \"epoch\": 2, \"model\": 26}, \"Metrics\": {\"train_mse_objective\": {\"sum\": 0.95726220703125, \"count\": 1, \"min\": 0.95726220703125, \"max\": 0.95726220703125}}}\n",
      "#metrics {\"StartTime\": 1686777905.0851703, \"EndTime\": 1686777905.0851753, \"Dimensions\": {\"Algorithm\": \"Linear Learner\", \"Host\": \"algo-1\", \"Operation\": \"training\", \"epoch\": 2, \"model\": 27}, \"Metrics\": {\"train_mse_objective\": {\"sum\": 1.0160242919921876, \"count\": 1, \"min\": 1.0160242919921876, \"max\": 1.0160242919921876}}}\n",
      "#metrics {\"StartTime\": 1686777905.0851982, \"EndTime\": 1686777905.0852032, \"Dimensions\": {\"Algorithm\": \"Linear Learner\", \"Host\": \"algo-1\", \"Operation\": \"training\", \"epoch\": 2, \"model\": 28}, \"Metrics\": {\"train_mse_objective\": {\"sum\": 1.3235482177734375, \"count\": 1, \"min\": 1.3235482177734375, \"max\": 1.3235482177734375}}}\n",
      "#metrics {\"StartTime\": 1686777905.085224, \"EndTime\": 1686777905.0852294, \"Dimensions\": {\"Algorithm\": \"Linear Learner\", \"Host\": \"algo-1\", \"Operation\": \"training\", \"epoch\": 2, \"model\": 29}, \"Metrics\": {\"train_mse_objective\": {\"sum\": 1.2599205322265625, \"count\": 1, \"min\": 1.2599205322265625, \"max\": 1.2599205322265625}}}\n",
      "#metrics {\"StartTime\": 1686777905.0852532, \"EndTime\": 1686777905.0852585, \"Dimensions\": {\"Algorithm\": \"Linear Learner\", \"Host\": \"algo-1\", \"Operation\": \"training\", \"epoch\": 2, \"model\": 30}, \"Metrics\": {\"train_mse_objective\": {\"sum\": 1.3516844482421875, \"count\": 1, \"min\": 1.3516844482421875, \"max\": 1.3516844482421875}}}\n",
      "#metrics {\"StartTime\": 1686777905.0852826, \"EndTime\": 1686777905.085288, \"Dimensions\": {\"Algorithm\": \"Linear Learner\", \"Host\": \"algo-1\", \"Operation\": \"training\", \"epoch\": 2, \"model\": 31}, \"Metrics\": {\"train_mse_objective\": {\"sum\": 1.3527298583984375, \"count\": 1, \"min\": 1.3527298583984375, \"max\": 1.3527298583984375}}}\n",
      "[06/14/2023 21:25:05 INFO 140335316649792] #quality_metric: host=algo-1, epoch=2, train mse_objective <loss>=0.9903468017578125\n",
      "[06/14/2023 21:25:05 INFO 140335316649792] #early_stopping_criteria_metric: host=algo-1, epoch=2, criteria=mse_objective, value=0.8461341552734375\n",
      "[06/14/2023 21:25:05 INFO 140335316649792] Saving model for epoch: 2\n",
      "[06/14/2023 21:25:05 INFO 140335316649792] Saved checkpoint to \"/tmp/tmp9fbf2_hm/mx-mod-0000.params\"\n",
      "[06/14/2023 21:25:05 INFO 140335316649792] #progress_metric: host=algo-1, completed 20.0 % of epochs\n",
      "#metrics {\"StartTime\": 1686777905.0690153, \"EndTime\": 1686777905.091843, \"Dimensions\": {\"Algorithm\": \"Linear Learner\", \"Host\": \"algo-1\", \"Operation\": \"training\", \"epoch\": 2, \"Meta\": \"training_data_iter\"}, \"Metrics\": {\"Total Records Seen\": {\"sum\": 5284.0, \"count\": 1, \"min\": 5284, \"max\": 5284}, \"Total Batches Seen\": {\"sum\": 9.0, \"count\": 1, \"min\": 9, \"max\": 9}, \"Max Records Seen Between Resets\": {\"sum\": 1071.0, \"count\": 1, \"min\": 1071, \"max\": 1071}, \"Max Batches Seen Between Resets\": {\"sum\": 2.0, \"count\": 1, \"min\": 2, \"max\": 2}, \"Reset Count\": {\"sum\": 5.0, \"count\": 1, \"min\": 5, \"max\": 5}, \"Number of Records Since Last Reset\": {\"sum\": 1071.0, \"count\": 1, \"min\": 1071, \"max\": 1071}, \"Number of Batches Since Last Reset\": {\"sum\": 2.0, \"count\": 1, \"min\": 2, \"max\": 2}}}\n",
      "[06/14/2023 21:25:05 INFO 140335316649792] #throughput_metric: host=algo-1, train throughput=46707.07436366661 records/second\n",
      "[2023-06-14 21:25:05.107] [tensorio] [info] epoch_stats={\"data_pipeline\": \"/opt/ml/input/data/train\", \"epoch\": 10, \"duration\": 15, \"num_examples\": 2, \"num_bytes\": 68544}\n",
      "#metrics {\"StartTime\": 1686777905.107566, \"EndTime\": 1686777905.1076262, \"Dimensions\": {\"Algorithm\": \"Linear Learner\", \"Host\": \"algo-1\", \"Operation\": \"training\", \"epoch\": 3, \"model\": 0}, \"Metrics\": {\"train_mse_objective\": {\"sum\": 0.974605224609375, \"count\": 1, \"min\": 0.974605224609375, \"max\": 0.974605224609375}}}\n",
      "#metrics {\"StartTime\": 1686777905.107899, \"EndTime\": 1686777905.1079104, \"Dimensions\": {\"Algorithm\": \"Linear Learner\", \"Host\": \"algo-1\", \"Operation\": \"training\", \"epoch\": 3, \"model\": 1}, \"Metrics\": {\"train_mse_objective\": {\"sum\": 0.953135498046875, \"count\": 1, \"min\": 0.953135498046875, \"max\": 0.953135498046875}}}\n",
      "#metrics {\"StartTime\": 1686777905.1079402, \"EndTime\": 1686777905.1079464, \"Dimensions\": {\"Algorithm\": \"Linear Learner\", \"Host\": \"algo-1\", \"Operation\": \"training\", \"epoch\": 3, \"model\": 2}, \"Metrics\": {\"train_mse_objective\": {\"sum\": 0.982017578125, \"count\": 1, \"min\": 0.982017578125, \"max\": 0.982017578125}}}\n",
      "#metrics {\"StartTime\": 1686777905.1079736, \"EndTime\": 1686777905.1079795, \"Dimensions\": {\"Algorithm\": \"Linear Learner\", \"Host\": \"algo-1\", \"Operation\": \"training\", \"epoch\": 3, \"model\": 3}, \"Metrics\": {\"train_mse_objective\": {\"sum\": 0.956477294921875, \"count\": 1, \"min\": 0.956477294921875, \"max\": 0.956477294921875}}}\n",
      "#metrics {\"StartTime\": 1686777905.108005, \"EndTime\": 1686777905.1080108, \"Dimensions\": {\"Algorithm\": \"Linear Learner\", \"Host\": \"algo-1\", \"Operation\": \"training\", \"epoch\": 3, \"model\": 4}, \"Metrics\": {\"train_mse_objective\": {\"sum\": 0.7241810302734375, \"count\": 1, \"min\": 0.7241810302734375, \"max\": 0.7241810302734375}}}\n",
      "#metrics {\"StartTime\": 1686777905.1080317, \"EndTime\": 1686777905.1080368, \"Dimensions\": {\"Algorithm\": \"Linear Learner\", \"Host\": \"algo-1\", \"Operation\": \"training\", \"epoch\": 3, \"model\": 5}, \"Metrics\": {\"train_mse_objective\": {\"sum\": 0.6986046752929688, \"count\": 1, \"min\": 0.6986046752929688, \"max\": 0.6986046752929688}}}\n",
      "#metrics {\"StartTime\": 1686777905.10806, \"EndTime\": 1686777905.1080654, \"Dimensions\": {\"Algorithm\": \"Linear Learner\", \"Host\": \"algo-1\", \"Operation\": \"training\", \"epoch\": 3, \"model\": 6}, \"Metrics\": {\"train_mse_objective\": {\"sum\": 0.6737341918945312, \"count\": 1, \"min\": 0.6737341918945312, \"max\": 0.6737341918945312}}}\n",
      "#metrics {\"StartTime\": 1686777905.1080897, \"EndTime\": 1686777905.108095, \"Dimensions\": {\"Algorithm\": \"Linear Learner\", \"Host\": \"algo-1\", \"Operation\": \"training\", \"epoch\": 3, \"model\": 7}, \"Metrics\": {\"train_mse_objective\": {\"sum\": 0.7074252319335937, \"count\": 1, \"min\": 0.7074252319335937, \"max\": 0.7074252319335937}}}\n",
      "#metrics {\"StartTime\": 1686777905.1081188, \"EndTime\": 1686777905.1081243, \"Dimensions\": {\"Algorithm\": \"Linear Learner\", \"Host\": \"algo-1\", \"Operation\": \"training\", \"epoch\": 3, \"model\": 8}, \"Metrics\": {\"train_mse_objective\": {\"sum\": 0.84929736328125, \"count\": 1, \"min\": 0.84929736328125, \"max\": 0.84929736328125}}}\n",
      "#metrics {\"StartTime\": 1686777905.1081445, \"EndTime\": 1686777905.1081498, \"Dimensions\": {\"Algorithm\": \"Linear Learner\", \"Host\": \"algo-1\", \"Operation\": \"training\", \"epoch\": 3, \"model\": 9}, \"Metrics\": {\"train_mse_objective\": {\"sum\": 0.9425160522460938, \"count\": 1, \"min\": 0.9425160522460938, \"max\": 0.9425160522460938}}}\n",
      "#metrics {\"StartTime\": 1686777905.108172, \"EndTime\": 1686777905.1081774, \"Dimensions\": {\"Algorithm\": \"Linear Learner\", \"Host\": \"algo-1\", \"Operation\": \"training\", \"epoch\": 3, \"model\": 10}, \"Metrics\": {\"train_mse_objective\": {\"sum\": 1.0502464599609376, \"count\": 1, \"min\": 1.0502464599609376, \"max\": 1.0502464599609376}}}\n",
      "#metrics {\"StartTime\": 1686777905.108202, \"EndTime\": 1686777905.1082075, \"Dimensions\": {\"Algorithm\": \"Linear Learner\", \"Host\": \"algo-1\", \"Operation\": \"training\", \"epoch\": 3, \"model\": 11}, \"Metrics\": {\"train_mse_objective\": {\"sum\": 0.9733524169921876, \"count\": 1, \"min\": 0.9733524169921876, \"max\": 0.9733524169921876}}}\n",
      "#metrics {\"StartTime\": 1686777905.1082308, \"EndTime\": 1686777905.108236, \"Dimensions\": {\"Algorithm\": \"Linear Learner\", \"Host\": \"algo-1\", \"Operation\": \"training\", \"epoch\": 3, \"model\": 12}, \"Metrics\": {\"train_mse_objective\": {\"sum\": 0.6739257202148438, \"count\": 1, \"min\": 0.6739257202148438, \"max\": 0.6739257202148438}}}\n",
      "#metrics {\"StartTime\": 1686777905.1082585, \"EndTime\": 1686777905.108264, \"Dimensions\": {\"Algorithm\": \"Linear Learner\", \"Host\": \"algo-1\", \"Operation\": \"training\", \"epoch\": 3, \"model\": 13}, \"Metrics\": {\"train_mse_objective\": {\"sum\": 0.6684318237304687, \"count\": 1, \"min\": 0.6684318237304687, \"max\": 0.6684318237304687}}}\n",
      "#metrics {\"StartTime\": 1686777905.108288, \"EndTime\": 1686777905.1082933, \"Dimensions\": {\"Algorithm\": \"Linear Learner\", \"Host\": \"algo-1\", \"Operation\": \"training\", \"epoch\": 3, \"model\": 14}, \"Metrics\": {\"train_mse_objective\": {\"sum\": 0.7045728759765625, \"count\": 1, \"min\": 0.7045728759765625, \"max\": 0.7045728759765625}}}\n",
      "#metrics {\"StartTime\": 1686777905.108316, \"EndTime\": 1686777905.108321, \"Dimensions\": {\"Algorithm\": \"Linear Learner\", \"Host\": \"algo-1\", \"Operation\": \"training\", \"epoch\": 3, \"model\": 15}, \"Metrics\": {\"train_mse_objective\": {\"sum\": 0.6841575317382812, \"count\": 1, \"min\": 0.6841575317382812, \"max\": 0.6841575317382812}}}\n",
      "#metrics {\"StartTime\": 1686777905.1083446, \"EndTime\": 1686777905.1083498, \"Dimensions\": {\"Algorithm\": \"Linear Learner\", \"Host\": \"algo-1\", \"Operation\": \"training\", \"epoch\": 3, \"model\": 16}, \"Metrics\": {\"train_mse_objective\": {\"sum\": 1.0016835327148437, \"count\": 1, \"min\": 1.0016835327148437, \"max\": 1.0016835327148437}}}\n",
      "#metrics {\"StartTime\": 1686777905.1083746, \"EndTime\": 1686777905.1083798, \"Dimensions\": {\"Algorithm\": \"Linear Learner\", \"Host\": \"algo-1\", \"Operation\": \"training\", \"epoch\": 3, \"model\": 17}, \"Metrics\": {\"train_mse_objective\": {\"sum\": 1.0234996337890625, \"count\": 1, \"min\": 1.0234996337890625, \"max\": 1.0234996337890625}}}\n",
      "#metrics {\"StartTime\": 1686777905.1084116, \"EndTime\": 1686777905.1084173, \"Dimensions\": {\"Algorithm\": \"Linear Learner\", \"Host\": \"algo-1\", \"Operation\": \"training\", \"epoch\": 3, \"model\": 18}, \"Metrics\": {\"train_mse_objective\": {\"sum\": 1.0445482177734375, \"count\": 1, \"min\": 1.0445482177734375, \"max\": 1.0445482177734375}}}\n",
      "#metrics {\"StartTime\": 1686777905.10844, \"EndTime\": 1686777905.1084452, \"Dimensions\": {\"Algorithm\": \"Linear Learner\", \"Host\": \"algo-1\", \"Operation\": \"training\", \"epoch\": 3, \"model\": 19}, \"Metrics\": {\"train_mse_objective\": {\"sum\": 0.9544625244140625, \"count\": 1, \"min\": 0.9544625244140625, \"max\": 0.9544625244140625}}}\n",
      "#metrics {\"StartTime\": 1686777905.108469, \"EndTime\": 1686777905.108474, \"Dimensions\": {\"Algorithm\": \"Linear Learner\", \"Host\": \"algo-1\", \"Operation\": \"training\", \"epoch\": 3, \"model\": 20}, \"Metrics\": {\"train_mse_objective\": {\"sum\": 0.6853966064453125, \"count\": 1, \"min\": 0.6853966064453125, \"max\": 0.6853966064453125}}}\n",
      "#metrics {\"StartTime\": 1686777905.108498, \"EndTime\": 1686777905.1085036, \"Dimensions\": {\"Algorithm\": \"Linear Learner\", \"Host\": \"algo-1\", \"Operation\": \"training\", \"epoch\": 3, \"model\": 21}, \"Metrics\": {\"train_mse_objective\": {\"sum\": 0.6920762329101563, \"count\": 1, \"min\": 0.6920762329101563, \"max\": 0.6920762329101563}}}\n",
      "#metrics {\"StartTime\": 1686777905.1085258, \"EndTime\": 1686777905.108531, \"Dimensions\": {\"Algorithm\": \"Linear Learner\", \"Host\": \"algo-1\", \"Operation\": \"training\", \"epoch\": 3, \"model\": 22}, \"Metrics\": {\"train_mse_objective\": {\"sum\": 0.6565408325195312, \"count\": 1, \"min\": 0.6565408325195312, \"max\": 0.6565408325195312}}}\n",
      "#metrics {\"StartTime\": 1686777905.1085553, \"EndTime\": 1686777905.1085606, \"Dimensions\": {\"Algorithm\": \"Linear Learner\", \"Host\": \"algo-1\", \"Operation\": \"training\", \"epoch\": 3, \"model\": 23}, \"Metrics\": {\"train_mse_objective\": {\"sum\": 0.6762831420898437, \"count\": 1, \"min\": 0.6762831420898437, \"max\": 0.6762831420898437}}}\n",
      "#metrics {\"StartTime\": 1686777905.108585, \"EndTime\": 1686777905.1085904, \"Dimensions\": {\"Algorithm\": \"Linear Learner\", \"Host\": \"algo-1\", \"Operation\": \"training\", \"epoch\": 3, \"model\": 24}, \"Metrics\": {\"train_mse_objective\": {\"sum\": 0.9790867309570312, \"count\": 1, \"min\": 0.9790867309570312, \"max\": 0.9790867309570312}}}\n",
      "#metrics {\"StartTime\": 1686777905.1086125, \"EndTime\": 1686777905.108618, \"Dimensions\": {\"Algorithm\": \"Linear Learner\", \"Host\": \"algo-1\", \"Operation\": \"training\", \"epoch\": 3, \"model\": 25}, \"Metrics\": {\"train_mse_objective\": {\"sum\": 0.9662904052734375, \"count\": 1, \"min\": 0.9662904052734375, \"max\": 0.9662904052734375}}}\n",
      "#metrics {\"StartTime\": 1686777905.1086385, \"EndTime\": 1686777905.1086435, \"Dimensions\": {\"Algorithm\": \"Linear Learner\", \"Host\": \"algo-1\", \"Operation\": \"training\", \"epoch\": 3, \"model\": 26}, \"Metrics\": {\"train_mse_objective\": {\"sum\": 0.9580093994140625, \"count\": 1, \"min\": 0.9580093994140625, \"max\": 0.9580093994140625}}}\n",
      "#metrics {\"StartTime\": 1686777905.108668, \"EndTime\": 1686777905.1086733, \"Dimensions\": {\"Algorithm\": \"Linear Learner\", \"Host\": \"algo-1\", \"Operation\": \"training\", \"epoch\": 3, \"model\": 27}, \"Metrics\": {\"train_mse_objective\": {\"sum\": 1.0091856689453125, \"count\": 1, \"min\": 1.0091856689453125, \"max\": 1.0091856689453125}}}\n",
      "#metrics {\"StartTime\": 1686777905.1086957, \"EndTime\": 1686777905.108701, \"Dimensions\": {\"Algorithm\": \"Linear Learner\", \"Host\": \"algo-1\", \"Operation\": \"training\", \"epoch\": 3, \"model\": 28}, \"Metrics\": {\"train_mse_objective\": {\"sum\": 1.018538818359375, \"count\": 1, \"min\": 1.018538818359375, \"max\": 1.018538818359375}}}\n",
      "#metrics {\"StartTime\": 1686777905.108725, \"EndTime\": 1686777905.10873, \"Dimensions\": {\"Algorithm\": \"Linear Learner\", \"Host\": \"algo-1\", \"Operation\": \"training\", \"epoch\": 3, \"model\": 29}, \"Metrics\": {\"train_mse_objective\": {\"sum\": 1.0114102172851562, \"count\": 1, \"min\": 1.0114102172851562, \"max\": 1.0114102172851562}}}\n",
      "#metrics {\"StartTime\": 1686777905.1087525, \"EndTime\": 1686777905.1087575, \"Dimensions\": {\"Algorithm\": \"Linear Learner\", \"Host\": \"algo-1\", \"Operation\": \"training\", \"epoch\": 3, \"model\": 30}, \"Metrics\": {\"train_mse_objective\": {\"sum\": 0.97855810546875, \"count\": 1, \"min\": 0.97855810546875, \"max\": 0.97855810546875}}}\n",
      "#metrics {\"StartTime\": 1686777905.1087778, \"EndTime\": 1686777905.1087828, \"Dimensions\": {\"Algorithm\": \"Linear Learner\", \"Host\": \"algo-1\", \"Operation\": \"training\", \"epoch\": 3, \"model\": 31}, \"Metrics\": {\"train_mse_objective\": {\"sum\": 0.9770177001953125, \"count\": 1, \"min\": 0.9770177001953125, \"max\": 0.9770177001953125}}}\n",
      "[06/14/2023 21:25:05 INFO 140335316649792] #quality_metric: host=algo-1, epoch=3, train mse_objective <loss>=0.974605224609375\n",
      "[06/14/2023 21:25:05 INFO 140335316649792] #early_stopping_criteria_metric: host=algo-1, epoch=3, criteria=mse_objective, value=0.6565408325195312\n",
      "[06/14/2023 21:25:05 INFO 140335316649792] Epoch 3: Loss improved. Updating best model\n",
      "[06/14/2023 21:25:05 INFO 140335316649792] Saving model for epoch: 3\n",
      "[06/14/2023 21:25:05 INFO 140335316649792] Saved checkpoint to \"/tmp/tmpdqlzgcdo/mx-mod-0000.params\"\n",
      "[06/14/2023 21:25:05 INFO 140335316649792] #progress_metric: host=algo-1, completed 26.666666666666668 % of epochs\n",
      "#metrics {\"StartTime\": 1686777905.0920324, \"EndTime\": 1686777905.1162136, \"Dimensions\": {\"Algorithm\": \"Linear Learner\", \"Host\": \"algo-1\", \"Operation\": \"training\", \"epoch\": 3, \"Meta\": \"training_data_iter\"}, \"Metrics\": {\"Total Records Seen\": {\"sum\": 6355.0, \"count\": 1, \"min\": 6355, \"max\": 6355}, \"Total Batches Seen\": {\"sum\": 11.0, \"count\": 1, \"min\": 11, \"max\": 11}, \"Max Records Seen Between Resets\": {\"sum\": 1071.0, \"count\": 1, \"min\": 1071, \"max\": 1071}, \"Max Batches Seen Between Resets\": {\"sum\": 2.0, \"count\": 1, \"min\": 2, \"max\": 2}, \"Reset Count\": {\"sum\": 6.0, \"count\": 1, \"min\": 6, \"max\": 6}, \"Number of Records Since Last Reset\": {\"sum\": 1071.0, \"count\": 1, \"min\": 1071, \"max\": 1071}, \"Number of Batches Since Last Reset\": {\"sum\": 2.0, \"count\": 1, \"min\": 2, \"max\": 2}}}\n",
      "[06/14/2023 21:25:05 INFO 140335316649792] #throughput_metric: host=algo-1, train throughput=44109.816317913566 records/second\n",
      "[2023-06-14 21:25:05.131] [tensorio] [info] epoch_stats={\"data_pipeline\": \"/opt/ml/input/data/train\", \"epoch\": 12, \"duration\": 15, \"num_examples\": 2, \"num_bytes\": 68544}\n",
      "#metrics {\"StartTime\": 1686777905.1320238, \"EndTime\": 1686777905.1320834, \"Dimensions\": {\"Algorithm\": \"Linear Learner\", \"Host\": \"algo-1\", \"Operation\": \"training\", \"epoch\": 4, \"model\": 0}, \"Metrics\": {\"train_mse_objective\": {\"sum\": 0.9594590454101563, \"count\": 1, \"min\": 0.9594590454101563, \"max\": 0.9594590454101563}}}\n",
      "#metrics {\"StartTime\": 1686777905.1321485, \"EndTime\": 1686777905.132158, \"Dimensions\": {\"Algorithm\": \"Linear Learner\", \"Host\": \"algo-1\", \"Operation\": \"training\", \"epoch\": 4, \"model\": 1}, \"Metrics\": {\"train_mse_objective\": {\"sum\": 0.9384002685546875, \"count\": 1, \"min\": 0.9384002685546875, \"max\": 0.9384002685546875}}}\n",
      "#metrics {\"StartTime\": 1686777905.1321826, \"EndTime\": 1686777905.1321883, \"Dimensions\": {\"Algorithm\": \"Linear Learner\", \"Host\": \"algo-1\", \"Operation\": \"training\", \"epoch\": 4, \"model\": 2}, \"Metrics\": {\"train_mse_objective\": {\"sum\": 0.9673231201171875, \"count\": 1, \"min\": 0.9673231201171875, \"max\": 0.9673231201171875}}}\n",
      "#metrics {\"StartTime\": 1686777905.1322103, \"EndTime\": 1686777905.1322155, \"Dimensions\": {\"Algorithm\": \"Linear Learner\", \"Host\": \"algo-1\", \"Operation\": \"training\", \"epoch\": 4, \"model\": 3}, \"Metrics\": {\"train_mse_objective\": {\"sum\": 0.9415489501953125, \"count\": 1, \"min\": 0.9415489501953125, \"max\": 0.9415489501953125}}}\n",
      "#metrics {\"StartTime\": 1686777905.132237, \"EndTime\": 1686777905.1322422, \"Dimensions\": {\"Algorithm\": \"Linear Learner\", \"Host\": \"algo-1\", \"Operation\": \"training\", \"epoch\": 4, \"model\": 4}, \"Metrics\": {\"train_mse_objective\": {\"sum\": 0.7144944458007813, \"count\": 1, \"min\": 0.7144944458007813, \"max\": 0.7144944458007813}}}\n",
      "#metrics {\"StartTime\": 1686777905.1322656, \"EndTime\": 1686777905.1322708, \"Dimensions\": {\"Algorithm\": \"Linear Learner\", \"Host\": \"algo-1\", \"Operation\": \"training\", \"epoch\": 4, \"model\": 5}, \"Metrics\": {\"train_mse_objective\": {\"sum\": 0.7529827270507813, \"count\": 1, \"min\": 0.7529827270507813, \"max\": 0.7529827270507813}}}\n",
      "#metrics {\"StartTime\": 1686777905.1322918, \"EndTime\": 1686777905.132297, \"Dimensions\": {\"Algorithm\": \"Linear Learner\", \"Host\": \"algo-1\", \"Operation\": \"training\", \"epoch\": 4, \"model\": 6}, \"Metrics\": {\"train_mse_objective\": {\"sum\": 0.8737408447265625, \"count\": 1, \"min\": 0.8737408447265625, \"max\": 0.8737408447265625}}}\n",
      "#metrics {\"StartTime\": 1686777905.1323175, \"EndTime\": 1686777905.1323225, \"Dimensions\": {\"Algorithm\": \"Linear Learner\", \"Host\": \"algo-1\", \"Operation\": \"training\", \"epoch\": 4, \"model\": 7}, \"Metrics\": {\"train_mse_objective\": {\"sum\": 0.7503407592773438, \"count\": 1, \"min\": 0.7503407592773438, \"max\": 0.7503407592773438}}}\n",
      "#metrics {\"StartTime\": 1686777905.132343, \"EndTime\": 1686777905.1323478, \"Dimensions\": {\"Algorithm\": \"Linear Learner\", \"Host\": \"algo-1\", \"Operation\": \"training\", \"epoch\": 4, \"model\": 8}, \"Metrics\": {\"train_mse_objective\": {\"sum\": 0.8378130493164062, \"count\": 1, \"min\": 0.8378130493164062, \"max\": 0.8378130493164062}}}\n",
      "#metrics {\"StartTime\": 1686777905.1323683, \"EndTime\": 1686777905.1323736, \"Dimensions\": {\"Algorithm\": \"Linear Learner\", \"Host\": \"algo-1\", \"Operation\": \"training\", \"epoch\": 4, \"model\": 9}, \"Metrics\": {\"train_mse_objective\": {\"sum\": 0.9275397338867187, \"count\": 1, \"min\": 0.9275397338867187, \"max\": 0.9275397338867187}}}\n",
      "#metrics {\"StartTime\": 1686777905.1324034, \"EndTime\": 1686777905.1324089, \"Dimensions\": {\"Algorithm\": \"Linear Learner\", \"Host\": \"algo-1\", \"Operation\": \"training\", \"epoch\": 4, \"model\": 10}, \"Metrics\": {\"train_mse_objective\": {\"sum\": 1.033701171875, \"count\": 1, \"min\": 1.033701171875, \"max\": 1.033701171875}}}\n",
      "#metrics {\"StartTime\": 1686777905.1324294, \"EndTime\": 1686777905.1324344, \"Dimensions\": {\"Algorithm\": \"Linear Learner\", \"Host\": \"algo-1\", \"Operation\": \"training\", \"epoch\": 4, \"model\": 11}, \"Metrics\": {\"train_mse_objective\": {\"sum\": 0.957732666015625, \"count\": 1, \"min\": 0.957732666015625, \"max\": 0.957732666015625}}}\n",
      "#metrics {\"StartTime\": 1686777905.1324544, \"EndTime\": 1686777905.1324594, \"Dimensions\": {\"Algorithm\": \"Linear Learner\", \"Host\": \"algo-1\", \"Operation\": \"training\", \"epoch\": 4, \"model\": 12}, \"Metrics\": {\"train_mse_objective\": {\"sum\": 0.9273709716796875, \"count\": 1, \"min\": 0.9273709716796875, \"max\": 0.9273709716796875}}}\n",
      "#metrics {\"StartTime\": 1686777905.1324797, \"EndTime\": 1686777905.132485, \"Dimensions\": {\"Algorithm\": \"Linear Learner\", \"Host\": \"algo-1\", \"Operation\": \"training\", \"epoch\": 4, \"model\": 13}, \"Metrics\": {\"train_mse_objective\": {\"sum\": 0.8939179077148437, \"count\": 1, \"min\": 0.8939179077148437, \"max\": 0.8939179077148437}}}\n",
      "#metrics {\"StartTime\": 1686777905.1325045, \"EndTime\": 1686777905.1325097, \"Dimensions\": {\"Algorithm\": \"Linear Learner\", \"Host\": \"algo-1\", \"Operation\": \"training\", \"epoch\": 4, \"model\": 14}, \"Metrics\": {\"train_mse_objective\": {\"sum\": 0.7269241333007812, \"count\": 1, \"min\": 0.7269241333007812, \"max\": 0.7269241333007812}}}\n",
      "#metrics {\"StartTime\": 1686777905.13253, \"EndTime\": 1686777905.132535, \"Dimensions\": {\"Algorithm\": \"Linear Learner\", \"Host\": \"algo-1\", \"Operation\": \"training\", \"epoch\": 4, \"model\": 15}, \"Metrics\": {\"train_mse_objective\": {\"sum\": 0.9409971923828125, \"count\": 1, \"min\": 0.9409971923828125, \"max\": 0.9409971923828125}}}\n",
      "#metrics {\"StartTime\": 1686777905.1325572, \"EndTime\": 1686777905.1325622, \"Dimensions\": {\"Algorithm\": \"Linear Learner\", \"Host\": \"algo-1\", \"Operation\": \"training\", \"epoch\": 4, \"model\": 16}, \"Metrics\": {\"train_mse_objective\": {\"sum\": 0.9852452392578125, \"count\": 1, \"min\": 0.9852452392578125, \"max\": 0.9852452392578125}}}\n",
      "#metrics {\"StartTime\": 1686777905.1325824, \"EndTime\": 1686777905.1325877, \"Dimensions\": {\"Algorithm\": \"Linear Learner\", \"Host\": \"algo-1\", \"Operation\": \"training\", \"epoch\": 4, \"model\": 17}, \"Metrics\": {\"train_mse_objective\": {\"sum\": 1.0075147705078125, \"count\": 1, \"min\": 1.0075147705078125, \"max\": 1.0075147705078125}}}\n",
      "#metrics {\"StartTime\": 1686777905.1326077, \"EndTime\": 1686777905.1326134, \"Dimensions\": {\"Algorithm\": \"Linear Learner\", \"Host\": \"algo-1\", \"Operation\": \"training\", \"epoch\": 4, \"model\": 18}, \"Metrics\": {\"train_mse_objective\": {\"sum\": 1.027198974609375, \"count\": 1, \"min\": 1.027198974609375, \"max\": 1.027198974609375}}}\n",
      "#metrics {\"StartTime\": 1686777905.132633, \"EndTime\": 1686777905.1326382, \"Dimensions\": {\"Algorithm\": \"Linear Learner\", \"Host\": \"algo-1\", \"Operation\": \"training\", \"epoch\": 4, \"model\": 19}, \"Metrics\": {\"train_mse_objective\": {\"sum\": 0.9391788940429687, \"count\": 1, \"min\": 0.9391788940429687, \"max\": 0.9391788940429687}}}\n",
      "#metrics {\"StartTime\": 1686777905.132658, \"EndTime\": 1686777905.1326632, \"Dimensions\": {\"Algorithm\": \"Linear Learner\", \"Host\": \"algo-1\", \"Operation\": \"training\", \"epoch\": 4, \"model\": 20}, \"Metrics\": {\"train_mse_objective\": {\"sum\": 0.6889517822265625, \"count\": 1, \"min\": 0.6889517822265625, \"max\": 0.6889517822265625}}}\n",
      "#metrics {\"StartTime\": 1686777905.1326833, \"EndTime\": 1686777905.1326883, \"Dimensions\": {\"Algorithm\": \"Linear Learner\", \"Host\": \"algo-1\", \"Operation\": \"training\", \"epoch\": 4, \"model\": 21}, \"Metrics\": {\"train_mse_objective\": {\"sum\": 0.6707691650390625, \"count\": 1, \"min\": 0.6707691650390625, \"max\": 0.6707691650390625}}}\n",
      "#metrics {\"StartTime\": 1686777905.1327102, \"EndTime\": 1686777905.1327155, \"Dimensions\": {\"Algorithm\": \"Linear Learner\", \"Host\": \"algo-1\", \"Operation\": \"training\", \"epoch\": 4, \"model\": 22}, \"Metrics\": {\"train_mse_objective\": {\"sum\": 0.7683834838867187, \"count\": 1, \"min\": 0.7683834838867187, \"max\": 0.7683834838867187}}}\n",
      "#metrics {\"StartTime\": 1686777905.1327355, \"EndTime\": 1686777905.1327405, \"Dimensions\": {\"Algorithm\": \"Linear Learner\", \"Host\": \"algo-1\", \"Operation\": \"training\", \"epoch\": 4, \"model\": 23}, \"Metrics\": {\"train_mse_objective\": {\"sum\": 0.7269542236328125, \"count\": 1, \"min\": 0.7269542236328125, \"max\": 0.7269542236328125}}}\n",
      "#metrics {\"StartTime\": 1686777905.1327603, \"EndTime\": 1686777905.1327655, \"Dimensions\": {\"Algorithm\": \"Linear Learner\", \"Host\": \"algo-1\", \"Operation\": \"training\", \"epoch\": 4, \"model\": 24}, \"Metrics\": {\"train_mse_objective\": {\"sum\": 0.9786641845703125, \"count\": 1, \"min\": 0.9786641845703125, \"max\": 0.9786641845703125}}}\n",
      "#metrics {\"StartTime\": 1686777905.1327853, \"EndTime\": 1686777905.1327906, \"Dimensions\": {\"Algorithm\": \"Linear Learner\", \"Host\": \"algo-1\", \"Operation\": \"training\", \"epoch\": 4, \"model\": 25}, \"Metrics\": {\"train_mse_objective\": {\"sum\": 0.9710018920898438, \"count\": 1, \"min\": 0.9710018920898438, \"max\": 0.9710018920898438}}}\n",
      "#metrics {\"StartTime\": 1686777905.1328104, \"EndTime\": 1686777905.1328154, \"Dimensions\": {\"Algorithm\": \"Linear Learner\", \"Host\": \"algo-1\", \"Operation\": \"training\", \"epoch\": 4, \"model\": 26}, \"Metrics\": {\"train_mse_objective\": {\"sum\": 0.960674560546875, \"count\": 1, \"min\": 0.960674560546875, \"max\": 0.960674560546875}}}\n",
      "#metrics {\"StartTime\": 1686777905.1328354, \"EndTime\": 1686777905.1328402, \"Dimensions\": {\"Algorithm\": \"Linear Learner\", \"Host\": \"algo-1\", \"Operation\": \"training\", \"epoch\": 4, \"model\": 27}, \"Metrics\": {\"train_mse_objective\": {\"sum\": 1.0044139404296875, \"count\": 1, \"min\": 1.0044139404296875, \"max\": 1.0044139404296875}}}\n",
      "#metrics {\"StartTime\": 1686777905.1328626, \"EndTime\": 1686777905.1328678, \"Dimensions\": {\"Algorithm\": \"Linear Learner\", \"Host\": \"algo-1\", \"Operation\": \"training\", \"epoch\": 4, \"model\": 28}, \"Metrics\": {\"train_mse_objective\": {\"sum\": 1.0411546630859374, \"count\": 1, \"min\": 1.0411546630859374, \"max\": 1.0411546630859374}}}\n",
      "#metrics {\"StartTime\": 1686777905.132888, \"EndTime\": 1686777905.1328928, \"Dimensions\": {\"Algorithm\": \"Linear Learner\", \"Host\": \"algo-1\", \"Operation\": \"training\", \"epoch\": 4, \"model\": 29}, \"Metrics\": {\"train_mse_objective\": {\"sum\": 1.1614339599609376, \"count\": 1, \"min\": 1.1614339599609376, \"max\": 1.1614339599609376}}}\n",
      "#metrics {\"StartTime\": 1686777905.132913, \"EndTime\": 1686777905.1329181, \"Dimensions\": {\"Algorithm\": \"Linear Learner\", \"Host\": \"algo-1\", \"Operation\": \"training\", \"epoch\": 4, \"model\": 30}, \"Metrics\": {\"train_mse_objective\": {\"sum\": 1.1201153564453126, \"count\": 1, \"min\": 1.1201153564453126, \"max\": 1.1201153564453126}}}\n",
      "#metrics {\"StartTime\": 1686777905.132938, \"EndTime\": 1686777905.132976, \"Dimensions\": {\"Algorithm\": \"Linear Learner\", \"Host\": \"algo-1\", \"Operation\": \"training\", \"epoch\": 4, \"model\": 31}, \"Metrics\": {\"train_mse_objective\": {\"sum\": 0.9459694213867188, \"count\": 1, \"min\": 0.9459694213867188, \"max\": 0.9459694213867188}}}\n",
      "[06/14/2023 21:25:05 INFO 140335316649792] #quality_metric: host=algo-1, epoch=4, train mse_objective <loss>=0.9594590454101563\n",
      "[06/14/2023 21:25:05 INFO 140335316649792] #early_stopping_criteria_metric: host=algo-1, epoch=4, criteria=mse_objective, value=0.6707691650390625\n",
      "[06/14/2023 21:25:05 INFO 140335316649792] Saving model for epoch: 4\n",
      "[06/14/2023 21:25:05 INFO 140335316649792] Saved checkpoint to \"/tmp/tmptmss4_20/mx-mod-0000.params\"\n",
      "[06/14/2023 21:25:05 INFO 140335316649792] #progress_metric: host=algo-1, completed 33.333333333333336 % of epochs\n",
      "#metrics {\"StartTime\": 1686777905.116409, \"EndTime\": 1686777905.1396961, \"Dimensions\": {\"Algorithm\": \"Linear Learner\", \"Host\": \"algo-1\", \"Operation\": \"training\", \"epoch\": 4, \"Meta\": \"training_data_iter\"}, \"Metrics\": {\"Total Records Seen\": {\"sum\": 7426.0, \"count\": 1, \"min\": 7426, \"max\": 7426}, \"Total Batches Seen\": {\"sum\": 13.0, \"count\": 1, \"min\": 13, \"max\": 13}, \"Max Records Seen Between Resets\": {\"sum\": 1071.0, \"count\": 1, \"min\": 1071, \"max\": 1071}, \"Max Batches Seen Between Resets\": {\"sum\": 2.0, \"count\": 1, \"min\": 2, \"max\": 2}, \"Reset Count\": {\"sum\": 7.0, \"count\": 1, \"min\": 7, \"max\": 7}, \"Number of Records Since Last Reset\": {\"sum\": 1071.0, \"count\": 1, \"min\": 1071, \"max\": 1071}, \"Number of Batches Since Last Reset\": {\"sum\": 2.0, \"count\": 1, \"min\": 2, \"max\": 2}}}\n",
      "[06/14/2023 21:25:05 INFO 140335316649792] #throughput_metric: host=algo-1, train throughput=45785.42465753425 records/second\n",
      "[2023-06-14 21:25:05.155] [tensorio] [info] epoch_stats={\"data_pipeline\": \"/opt/ml/input/data/train\", \"epoch\": 14, \"duration\": 15, \"num_examples\": 2, \"num_bytes\": 68544}\n",
      "#metrics {\"StartTime\": 1686777905.155912, \"EndTime\": 1686777905.155986, \"Dimensions\": {\"Algorithm\": \"Linear Learner\", \"Host\": \"algo-1\", \"Operation\": \"training\", \"epoch\": 5, \"model\": 0}, \"Metrics\": {\"train_mse_objective\": {\"sum\": 0.9451370849609375, \"count\": 1, \"min\": 0.9451370849609375, \"max\": 0.9451370849609375}}}\n",
      "#metrics {\"StartTime\": 1686777905.1560595, \"EndTime\": 1686777905.1560724, \"Dimensions\": {\"Algorithm\": \"Linear Learner\", \"Host\": \"algo-1\", \"Operation\": \"training\", \"epoch\": 5, \"model\": 1}, \"Metrics\": {\"train_mse_objective\": {\"sum\": 0.9238663940429688, \"count\": 1, \"min\": 0.9238663940429688, \"max\": 0.9238663940429688}}}\n",
      "#metrics {\"StartTime\": 1686777905.156104, \"EndTime\": 1686777905.1561122, \"Dimensions\": {\"Algorithm\": \"Linear Learner\", \"Host\": \"algo-1\", \"Operation\": \"training\", \"epoch\": 5, \"model\": 2}, \"Metrics\": {\"train_mse_objective\": {\"sum\": 0.95290185546875, \"count\": 1, \"min\": 0.95290185546875, \"max\": 0.95290185546875}}}\n",
      "#metrics {\"StartTime\": 1686777905.1561425, \"EndTime\": 1686777905.1561518, \"Dimensions\": {\"Algorithm\": \"Linear Learner\", \"Host\": \"algo-1\", \"Operation\": \"training\", \"epoch\": 5, \"model\": 3}, \"Metrics\": {\"train_mse_objective\": {\"sum\": 0.9269659423828125, \"count\": 1, \"min\": 0.9269659423828125, \"max\": 0.9269659423828125}}}\n",
      "#metrics {\"StartTime\": 1686777905.1561866, \"EndTime\": 1686777905.1561964, \"Dimensions\": {\"Algorithm\": \"Linear Learner\", \"Host\": \"algo-1\", \"Operation\": \"training\", \"epoch\": 5, \"model\": 4}, \"Metrics\": {\"train_mse_objective\": {\"sum\": 0.8364293212890626, \"count\": 1, \"min\": 0.8364293212890626, \"max\": 0.8364293212890626}}}\n",
      "#metrics {\"StartTime\": 1686777905.156231, \"EndTime\": 1686777905.1562405, \"Dimensions\": {\"Algorithm\": \"Linear Learner\", \"Host\": \"algo-1\", \"Operation\": \"training\", \"epoch\": 5, \"model\": 5}, \"Metrics\": {\"train_mse_objective\": {\"sum\": 0.8619542236328125, \"count\": 1, \"min\": 0.8619542236328125, \"max\": 0.8619542236328125}}}\n",
      "#metrics {\"StartTime\": 1686777905.156277, \"EndTime\": 1686777905.1562867, \"Dimensions\": {\"Algorithm\": \"Linear Learner\", \"Host\": \"algo-1\", \"Operation\": \"training\", \"epoch\": 5, \"model\": 6}, \"Metrics\": {\"train_mse_objective\": {\"sum\": 0.9758377685546875, \"count\": 1, \"min\": 0.9758377685546875, \"max\": 0.9758377685546875}}}\n",
      "#metrics {\"StartTime\": 1686777905.1563222, \"EndTime\": 1686777905.1563323, \"Dimensions\": {\"Algorithm\": \"Linear Learner\", \"Host\": \"algo-1\", \"Operation\": \"training\", \"epoch\": 5, \"model\": 7}, \"Metrics\": {\"train_mse_objective\": {\"sum\": 0.8314310302734375, \"count\": 1, \"min\": 0.8314310302734375, \"max\": 0.8314310302734375}}}\n",
      "#metrics {\"StartTime\": 1686777905.1563652, \"EndTime\": 1686777905.1563742, \"Dimensions\": {\"Algorithm\": \"Linear Learner\", \"Host\": \"algo-1\", \"Operation\": \"training\", \"epoch\": 5, \"model\": 8}, \"Metrics\": {\"train_mse_objective\": {\"sum\": 0.8271822509765625, \"count\": 1, \"min\": 0.8271822509765625, \"max\": 0.8271822509765625}}}\n",
      "#metrics {\"StartTime\": 1686777905.1564186, \"EndTime\": 1686777905.1564286, \"Dimensions\": {\"Algorithm\": \"Linear Learner\", \"Host\": \"algo-1\", \"Operation\": \"training\", \"epoch\": 5, \"model\": 9}, \"Metrics\": {\"train_mse_objective\": {\"sum\": 0.91309033203125, \"count\": 1, \"min\": 0.91309033203125, \"max\": 0.91309033203125}}}\n",
      "#metrics {\"StartTime\": 1686777905.156463, \"EndTime\": 1686777905.156473, \"Dimensions\": {\"Algorithm\": \"Linear Learner\", \"Host\": \"algo-1\", \"Operation\": \"training\", \"epoch\": 5, \"model\": 10}, \"Metrics\": {\"train_mse_objective\": {\"sum\": 1.01736181640625, \"count\": 1, \"min\": 1.01736181640625, \"max\": 1.01736181640625}}}\n",
      "#metrics {\"StartTime\": 1686777905.156509, \"EndTime\": 1686777905.1565192, \"Dimensions\": {\"Algorithm\": \"Linear Learner\", \"Host\": \"algo-1\", \"Operation\": \"training\", \"epoch\": 5, \"model\": 11}, \"Metrics\": {\"train_mse_objective\": {\"sum\": 0.9423170166015625, \"count\": 1, \"min\": 0.9423170166015625, \"max\": 0.9423170166015625}}}\n",
      "#metrics {\"StartTime\": 1686777905.1565528, \"EndTime\": 1686777905.156562, \"Dimensions\": {\"Algorithm\": \"Linear Learner\", \"Host\": \"algo-1\", \"Operation\": \"training\", \"epoch\": 5, \"model\": 12}, \"Metrics\": {\"train_mse_objective\": {\"sum\": 1.058690673828125, \"count\": 1, \"min\": 1.058690673828125, \"max\": 1.058690673828125}}}\n",
      "#metrics {\"StartTime\": 1686777905.1565983, \"EndTime\": 1686777905.1566076, \"Dimensions\": {\"Algorithm\": \"Linear Learner\", \"Host\": \"algo-1\", \"Operation\": \"training\", \"epoch\": 5, \"model\": 13}, \"Metrics\": {\"train_mse_objective\": {\"sum\": 1.0132245483398437, \"count\": 1, \"min\": 1.0132245483398437, \"max\": 1.0132245483398437}}}\n",
      "#metrics {\"StartTime\": 1686777905.1566398, \"EndTime\": 1686777905.1566496, \"Dimensions\": {\"Algorithm\": \"Linear Learner\", \"Host\": \"algo-1\", \"Operation\": \"training\", \"epoch\": 5, \"model\": 14}, \"Metrics\": {\"train_mse_objective\": {\"sum\": 0.8470865478515625, \"count\": 1, \"min\": 0.8470865478515625, \"max\": 0.8470865478515625}}}\n",
      "#metrics {\"StartTime\": 1686777905.1566823, \"EndTime\": 1686777905.1566918, \"Dimensions\": {\"Algorithm\": \"Linear Learner\", \"Host\": \"algo-1\", \"Operation\": \"training\", \"epoch\": 5, \"model\": 15}, \"Metrics\": {\"train_mse_objective\": {\"sum\": 1.0637578125, \"count\": 1, \"min\": 1.0637578125, \"max\": 1.0637578125}}}\n",
      "#metrics {\"StartTime\": 1686777905.1567273, \"EndTime\": 1686777905.156737, \"Dimensions\": {\"Algorithm\": \"Linear Learner\", \"Host\": \"algo-1\", \"Operation\": \"training\", \"epoch\": 5, \"model\": 16}, \"Metrics\": {\"train_mse_objective\": {\"sum\": 0.96971435546875, \"count\": 1, \"min\": 0.96971435546875, \"max\": 0.96971435546875}}}\n",
      "#metrics {\"StartTime\": 1686777905.1567712, \"EndTime\": 1686777905.156781, \"Dimensions\": {\"Algorithm\": \"Linear Learner\", \"Host\": \"algo-1\", \"Operation\": \"training\", \"epoch\": 5, \"model\": 17}, \"Metrics\": {\"train_mse_objective\": {\"sum\": 0.9923033447265625, \"count\": 1, \"min\": 0.9923033447265625, \"max\": 0.9923033447265625}}}\n",
      "#metrics {\"StartTime\": 1686777905.1568167, \"EndTime\": 1686777905.1568253, \"Dimensions\": {\"Algorithm\": \"Linear Learner\", \"Host\": \"algo-1\", \"Operation\": \"training\", \"epoch\": 5, \"model\": 18}, \"Metrics\": {\"train_mse_objective\": {\"sum\": 1.0104291381835937, \"count\": 1, \"min\": 1.0104291381835937, \"max\": 1.0104291381835937}}}\n",
      "#metrics {\"StartTime\": 1686777905.1568587, \"EndTime\": 1686777905.1568677, \"Dimensions\": {\"Algorithm\": \"Linear Learner\", \"Host\": \"algo-1\", \"Operation\": \"training\", \"epoch\": 5, \"model\": 19}, \"Metrics\": {\"train_mse_objective\": {\"sum\": 0.92418798828125, \"count\": 1, \"min\": 0.92418798828125, \"max\": 0.92418798828125}}}\n",
      "#metrics {\"StartTime\": 1686777905.156904, \"EndTime\": 1686777905.156913, \"Dimensions\": {\"Algorithm\": \"Linear Learner\", \"Host\": \"algo-1\", \"Operation\": \"training\", \"epoch\": 5, \"model\": 20}, \"Metrics\": {\"train_mse_objective\": {\"sum\": 0.7785425415039062, \"count\": 1, \"min\": 0.7785425415039062, \"max\": 0.7785425415039062}}}\n",
      "#metrics {\"StartTime\": 1686777905.156967, \"EndTime\": 1686777905.1569784, \"Dimensions\": {\"Algorithm\": \"Linear Learner\", \"Host\": \"algo-1\", \"Operation\": \"training\", \"epoch\": 5, \"model\": 21}, \"Metrics\": {\"train_mse_objective\": {\"sum\": 0.760369384765625, \"count\": 1, \"min\": 0.760369384765625, \"max\": 0.760369384765625}}}\n",
      "#metrics {\"StartTime\": 1686777905.1570168, \"EndTime\": 1686777905.1570268, \"Dimensions\": {\"Algorithm\": \"Linear Learner\", \"Host\": \"algo-1\", \"Operation\": \"training\", \"epoch\": 5, \"model\": 22}, \"Metrics\": {\"train_mse_objective\": {\"sum\": 0.8294029541015625, \"count\": 1, \"min\": 0.8294029541015625, \"max\": 0.8294029541015625}}}\n",
      "#metrics {\"StartTime\": 1686777905.1570609, \"EndTime\": 1686777905.15707, \"Dimensions\": {\"Algorithm\": \"Linear Learner\", \"Host\": \"algo-1\", \"Operation\": \"training\", \"epoch\": 5, \"model\": 23}, \"Metrics\": {\"train_mse_objective\": {\"sum\": 0.7884896240234375, \"count\": 1, \"min\": 0.7884896240234375, \"max\": 0.7884896240234375}}}\n",
      "#metrics {\"StartTime\": 1686777905.1571062, \"EndTime\": 1686777905.1571164, \"Dimensions\": {\"Algorithm\": \"Linear Learner\", \"Host\": \"algo-1\", \"Operation\": \"training\", \"epoch\": 5, \"model\": 24}, \"Metrics\": {\"train_mse_objective\": {\"sum\": 0.9778370361328125, \"count\": 1, \"min\": 0.9778370361328125, \"max\": 0.9778370361328125}}}\n",
      "#metrics {\"StartTime\": 1686777905.1571505, \"EndTime\": 1686777905.15716, \"Dimensions\": {\"Algorithm\": \"Linear Learner\", \"Host\": \"algo-1\", \"Operation\": \"training\", \"epoch\": 5, \"model\": 25}, \"Metrics\": {\"train_mse_objective\": {\"sum\": 0.9757728881835938, \"count\": 1, \"min\": 0.9757728881835938, \"max\": 0.9757728881835938}}}\n",
      "#metrics {\"StartTime\": 1686777905.1571956, \"EndTime\": 1686777905.1572053, \"Dimensions\": {\"Algorithm\": \"Linear Learner\", \"Host\": \"algo-1\", \"Operation\": \"training\", \"epoch\": 5, \"model\": 26}, \"Metrics\": {\"train_mse_objective\": {\"sum\": 0.963368408203125, \"count\": 1, \"min\": 0.963368408203125, \"max\": 0.963368408203125}}}\n",
      "#metrics {\"StartTime\": 1686777905.157237, \"EndTime\": 1686777905.1572468, \"Dimensions\": {\"Algorithm\": \"Linear Learner\", \"Host\": \"algo-1\", \"Operation\": \"training\", \"epoch\": 5, \"model\": 27}, \"Metrics\": {\"train_mse_objective\": {\"sum\": 0.99982763671875, \"count\": 1, \"min\": 0.99982763671875, \"max\": 0.99982763671875}}}\n",
      "#metrics {\"StartTime\": 1686777905.1572783, \"EndTime\": 1686777905.1572874, \"Dimensions\": {\"Algorithm\": \"Linear Learner\", \"Host\": \"algo-1\", \"Operation\": \"training\", \"epoch\": 5, \"model\": 28}, \"Metrics\": {\"train_mse_objective\": {\"sum\": 1.088587890625, \"count\": 1, \"min\": 1.088587890625, \"max\": 1.088587890625}}}\n",
      "#metrics {\"StartTime\": 1686777905.1573176, \"EndTime\": 1686777905.1573274, \"Dimensions\": {\"Algorithm\": \"Linear Learner\", \"Host\": \"algo-1\", \"Operation\": \"training\", \"epoch\": 5, \"model\": 29}, \"Metrics\": {\"train_mse_objective\": {\"sum\": 1.2275877685546874, \"count\": 1, \"min\": 1.2275877685546874, \"max\": 1.2275877685546874}}}\n",
      "#metrics {\"StartTime\": 1686777905.1573606, \"EndTime\": 1686777905.15737, \"Dimensions\": {\"Algorithm\": \"Linear Learner\", \"Host\": \"algo-1\", \"Operation\": \"training\", \"epoch\": 5, \"model\": 30}, \"Metrics\": {\"train_mse_objective\": {\"sum\": 1.18158935546875, \"count\": 1, \"min\": 1.18158935546875, \"max\": 1.18158935546875}}}\n",
      "#metrics {\"StartTime\": 1686777905.157402, \"EndTime\": 1686777905.1574116, \"Dimensions\": {\"Algorithm\": \"Linear Learner\", \"Host\": \"algo-1\", \"Operation\": \"training\", \"epoch\": 5, \"model\": 31}, \"Metrics\": {\"train_mse_objective\": {\"sum\": 1.0184425048828125, \"count\": 1, \"min\": 1.0184425048828125, \"max\": 1.0184425048828125}}}\n",
      "[06/14/2023 21:25:05 INFO 140335316649792] #quality_metric: host=algo-1, epoch=5, train mse_objective <loss>=0.9451370849609375\n",
      "[06/14/2023 21:25:05 INFO 140335316649792] #early_stopping_criteria_metric: host=algo-1, epoch=5, criteria=mse_objective, value=0.760369384765625\n",
      "[06/14/2023 21:25:05 INFO 140335316649792] Saving model for epoch: 5\n",
      "[06/14/2023 21:25:05 INFO 140335316649792] Saved checkpoint to \"/tmp/tmpa4h1l14z/mx-mod-0000.params\"\n",
      "[06/14/2023 21:25:05 INFO 140335316649792] #progress_metric: host=algo-1, completed 40.0 % of epochs\n",
      "#metrics {\"StartTime\": 1686777905.1398835, \"EndTime\": 1686777905.1634898, \"Dimensions\": {\"Algorithm\": \"Linear Learner\", \"Host\": \"algo-1\", \"Operation\": \"training\", \"epoch\": 5, \"Meta\": \"training_data_iter\"}, \"Metrics\": {\"Total Records Seen\": {\"sum\": 8497.0, \"count\": 1, \"min\": 8497, \"max\": 8497}, \"Total Batches Seen\": {\"sum\": 15.0, \"count\": 1, \"min\": 15, \"max\": 15}, \"Max Records Seen Between Resets\": {\"sum\": 1071.0, \"count\": 1, \"min\": 1071, \"max\": 1071}, \"Max Batches Seen Between Resets\": {\"sum\": 2.0, \"count\": 1, \"min\": 2, \"max\": 2}, \"Reset Count\": {\"sum\": 8.0, \"count\": 1, \"min\": 8, \"max\": 8}, \"Number of Records Since Last Reset\": {\"sum\": 1071.0, \"count\": 1, \"min\": 1071, \"max\": 1071}, \"Number of Batches Since Last Reset\": {\"sum\": 2.0, \"count\": 1, \"min\": 2, \"max\": 2}}}\n",
      "[06/14/2023 21:25:05 INFO 140335316649792] #throughput_metric: host=algo-1, train throughput=45146.27575602255 records/second\n",
      "[2023-06-14 21:25:05.179] [tensorio] [info] epoch_stats={\"data_pipeline\": \"/opt/ml/input/data/train\", \"epoch\": 16, \"duration\": 15, \"num_examples\": 2, \"num_bytes\": 68544}\n",
      "#metrics {\"StartTime\": 1686777905.179134, \"EndTime\": 1686777905.1792023, \"Dimensions\": {\"Algorithm\": \"Linear Learner\", \"Host\": \"algo-1\", \"Operation\": \"training\", \"epoch\": 6, \"model\": 0}, \"Metrics\": {\"train_mse_objective\": {\"sum\": 0.9309275512695312, \"count\": 1, \"min\": 0.9309275512695312, \"max\": 0.9309275512695312}}}\n",
      "#metrics {\"StartTime\": 1686777905.1792746, \"EndTime\": 1686777905.1792896, \"Dimensions\": {\"Algorithm\": \"Linear Learner\", \"Host\": \"algo-1\", \"Operation\": \"training\", \"epoch\": 6, \"model\": 1}, \"Metrics\": {\"train_mse_objective\": {\"sum\": 0.9089638061523437, \"count\": 1, \"min\": 0.9089638061523437, \"max\": 0.9089638061523437}}}\n",
      "#metrics {\"StartTime\": 1686777905.179328, \"EndTime\": 1686777905.1793375, \"Dimensions\": {\"Algorithm\": \"Linear Learner\", \"Host\": \"algo-1\", \"Operation\": \"training\", \"epoch\": 6, \"model\": 2}, \"Metrics\": {\"train_mse_objective\": {\"sum\": 0.938397705078125, \"count\": 1, \"min\": 0.938397705078125, \"max\": 0.938397705078125}}}\n",
      "#metrics {\"StartTime\": 1686777905.1793675, \"EndTime\": 1686777905.1793768, \"Dimensions\": {\"Algorithm\": \"Linear Learner\", \"Host\": \"algo-1\", \"Operation\": \"training\", \"epoch\": 6, \"model\": 3}, \"Metrics\": {\"train_mse_objective\": {\"sum\": 0.912354248046875, \"count\": 1, \"min\": 0.912354248046875, \"max\": 0.912354248046875}}}\n",
      "#metrics {\"StartTime\": 1686777905.1794133, \"EndTime\": 1686777905.1794217, \"Dimensions\": {\"Algorithm\": \"Linear Learner\", \"Host\": \"algo-1\", \"Operation\": \"training\", \"epoch\": 6, \"model\": 4}, \"Metrics\": {\"train_mse_objective\": {\"sum\": 0.7815601196289063, \"count\": 1, \"min\": 0.7815601196289063, \"max\": 0.7815601196289063}}}\n",
      "#metrics {\"StartTime\": 1686777905.179453, \"EndTime\": 1686777905.179461, \"Dimensions\": {\"Algorithm\": \"Linear Learner\", \"Host\": \"algo-1\", \"Operation\": \"training\", \"epoch\": 6, \"model\": 5}, \"Metrics\": {\"train_mse_objective\": {\"sum\": 0.7760836181640625, \"count\": 1, \"min\": 0.7760836181640625, \"max\": 0.7760836181640625}}}\n",
      "#metrics {\"StartTime\": 1686777905.1794877, \"EndTime\": 1686777905.179495, \"Dimensions\": {\"Algorithm\": \"Linear Learner\", \"Host\": \"algo-1\", \"Operation\": \"training\", \"epoch\": 6, \"model\": 6}, \"Metrics\": {\"train_mse_objective\": {\"sum\": 0.8089533081054687, \"count\": 1, \"min\": 0.8089533081054687, \"max\": 0.8089533081054687}}}\n",
      "#metrics {\"StartTime\": 1686777905.179522, \"EndTime\": 1686777905.17953, \"Dimensions\": {\"Algorithm\": \"Linear Learner\", \"Host\": \"algo-1\", \"Operation\": \"training\", \"epoch\": 6, \"model\": 7}, \"Metrics\": {\"train_mse_objective\": {\"sum\": 0.7221036987304688, \"count\": 1, \"min\": 0.7221036987304688, \"max\": 0.7221036987304688}}}\n",
      "#metrics {\"StartTime\": 1686777905.1795561, \"EndTime\": 1686777905.179564, \"Dimensions\": {\"Algorithm\": \"Linear Learner\", \"Host\": \"algo-1\", \"Operation\": \"training\", \"epoch\": 6, \"model\": 8}, \"Metrics\": {\"train_mse_objective\": {\"sum\": 0.8167568359375, \"count\": 1, \"min\": 0.8167568359375, \"max\": 0.8167568359375}}}\n",
      "#metrics {\"StartTime\": 1686777905.1795974, \"EndTime\": 1686777905.1796055, \"Dimensions\": {\"Algorithm\": \"Linear Learner\", \"Host\": \"algo-1\", \"Operation\": \"training\", \"epoch\": 6, \"model\": 9}, \"Metrics\": {\"train_mse_objective\": {\"sum\": 0.8986716918945312, \"count\": 1, \"min\": 0.8986716918945312, \"max\": 0.8986716918945312}}}\n",
      "#metrics {\"StartTime\": 1686777905.1796365, \"EndTime\": 1686777905.1796446, \"Dimensions\": {\"Algorithm\": \"Linear Learner\", \"Host\": \"algo-1\", \"Operation\": \"training\", \"epoch\": 6, \"model\": 10}, \"Metrics\": {\"train_mse_objective\": {\"sum\": 1.000641357421875, \"count\": 1, \"min\": 1.000641357421875, \"max\": 1.000641357421875}}}\n",
      "#metrics {\"StartTime\": 1686777905.1796756, \"EndTime\": 1686777905.1796844, \"Dimensions\": {\"Algorithm\": \"Linear Learner\", \"Host\": \"algo-1\", \"Operation\": \"training\", \"epoch\": 6, \"model\": 11}, \"Metrics\": {\"train_mse_objective\": {\"sum\": 0.9267261352539062, \"count\": 1, \"min\": 0.9267261352539062, \"max\": 0.9267261352539062}}}\n",
      "#metrics {\"StartTime\": 1686777905.179715, \"EndTime\": 1686777905.1797233, \"Dimensions\": {\"Algorithm\": \"Linear Learner\", \"Host\": \"algo-1\", \"Operation\": \"training\", \"epoch\": 6, \"model\": 12}, \"Metrics\": {\"train_mse_objective\": {\"sum\": 0.8447373657226562, \"count\": 1, \"min\": 0.8447373657226562, \"max\": 0.8447373657226562}}}\n",
      "#metrics {\"StartTime\": 1686777905.179756, \"EndTime\": 1686777905.1797647, \"Dimensions\": {\"Algorithm\": \"Linear Learner\", \"Host\": \"algo-1\", \"Operation\": \"training\", \"epoch\": 6, \"model\": 13}, \"Metrics\": {\"train_mse_objective\": {\"sum\": 0.8298294067382812, \"count\": 1, \"min\": 0.8298294067382812, \"max\": 0.8298294067382812}}}\n",
      "#metrics {\"StartTime\": 1686777905.1797988, \"EndTime\": 1686777905.1798074, \"Dimensions\": {\"Algorithm\": \"Linear Learner\", \"Host\": \"algo-1\", \"Operation\": \"training\", \"epoch\": 6, \"model\": 14}, \"Metrics\": {\"train_mse_objective\": {\"sum\": 0.7799320678710937, \"count\": 1, \"min\": 0.7799320678710937, \"max\": 0.7799320678710937}}}\n",
      "#metrics {\"StartTime\": 1686777905.1798398, \"EndTime\": 1686777905.179848, \"Dimensions\": {\"Algorithm\": \"Linear Learner\", \"Host\": \"algo-1\", \"Operation\": \"training\", \"epoch\": 6, \"model\": 15}, \"Metrics\": {\"train_mse_objective\": {\"sum\": 0.83313525390625, \"count\": 1, \"min\": 0.83313525390625, \"max\": 0.83313525390625}}}\n",
      "#metrics {\"StartTime\": 1686777905.1798775, \"EndTime\": 1686777905.1798863, \"Dimensions\": {\"Algorithm\": \"Linear Learner\", \"Host\": \"algo-1\", \"Operation\": \"training\", \"epoch\": 6, \"model\": 16}, \"Metrics\": {\"train_mse_objective\": {\"sum\": 0.9543753662109375, \"count\": 1, \"min\": 0.9543753662109375, \"max\": 0.9543753662109375}}}\n",
      "#metrics {\"StartTime\": 1686777905.1799204, \"EndTime\": 1686777905.1799283, \"Dimensions\": {\"Algorithm\": \"Linear Learner\", \"Host\": \"algo-1\", \"Operation\": \"training\", \"epoch\": 6, \"model\": 17}, \"Metrics\": {\"train_mse_objective\": {\"sum\": 0.9772023315429688, \"count\": 1, \"min\": 0.9772023315429688, \"max\": 0.9772023315429688}}}\n",
      "#metrics {\"StartTime\": 1686777905.1799603, \"EndTime\": 1686777905.179968, \"Dimensions\": {\"Algorithm\": \"Linear Learner\", \"Host\": \"algo-1\", \"Operation\": \"training\", \"epoch\": 6, \"model\": 18}, \"Metrics\": {\"train_mse_objective\": {\"sum\": 0.9937194213867188, \"count\": 1, \"min\": 0.9937194213867188, \"max\": 0.9937194213867188}}}\n",
      "#metrics {\"StartTime\": 1686777905.1799974, \"EndTime\": 1686777905.180005, \"Dimensions\": {\"Algorithm\": \"Linear Learner\", \"Host\": \"algo-1\", \"Operation\": \"training\", \"epoch\": 6, \"model\": 19}, \"Metrics\": {\"train_mse_objective\": {\"sum\": 0.9091443481445313, \"count\": 1, \"min\": 0.9091443481445313, \"max\": 0.9091443481445313}}}\n",
      "#metrics {\"StartTime\": 1686777905.1800332, \"EndTime\": 1686777905.1800413, \"Dimensions\": {\"Algorithm\": \"Linear Learner\", \"Host\": \"algo-1\", \"Operation\": \"training\", \"epoch\": 6, \"model\": 20}, \"Metrics\": {\"train_mse_objective\": {\"sum\": 0.7145595703125, \"count\": 1, \"min\": 0.7145595703125, \"max\": 0.7145595703125}}}\n",
      "#metrics {\"StartTime\": 1686777905.180073, \"EndTime\": 1686777905.1800807, \"Dimensions\": {\"Algorithm\": \"Linear Learner\", \"Host\": \"algo-1\", \"Operation\": \"training\", \"epoch\": 6, \"model\": 21}, \"Metrics\": {\"train_mse_objective\": {\"sum\": 0.70767626953125, \"count\": 1, \"min\": 0.70767626953125, \"max\": 0.70767626953125}}}\n",
      "#metrics {\"StartTime\": 1686777905.1801093, \"EndTime\": 1686777905.1801176, \"Dimensions\": {\"Algorithm\": \"Linear Learner\", \"Host\": \"algo-1\", \"Operation\": \"training\", \"epoch\": 6, \"model\": 22}, \"Metrics\": {\"train_mse_objective\": {\"sum\": 0.6988079833984375, \"count\": 1, \"min\": 0.6988079833984375, \"max\": 0.6988079833984375}}}\n",
      "#metrics {\"StartTime\": 1686777905.1801474, \"EndTime\": 1686777905.1801553, \"Dimensions\": {\"Algorithm\": \"Linear Learner\", \"Host\": \"algo-1\", \"Operation\": \"training\", \"epoch\": 6, \"model\": 23}, \"Metrics\": {\"train_mse_objective\": {\"sum\": 0.6768855590820313, \"count\": 1, \"min\": 0.6768855590820313, \"max\": 0.6768855590820313}}}\n",
      "#metrics {\"StartTime\": 1686777905.1801875, \"EndTime\": 1686777905.1801956, \"Dimensions\": {\"Algorithm\": \"Linear Learner\", \"Host\": \"algo-1\", \"Operation\": \"training\", \"epoch\": 6, \"model\": 24}, \"Metrics\": {\"train_mse_objective\": {\"sum\": 0.9764688720703125, \"count\": 1, \"min\": 0.9764688720703125, \"max\": 0.9764688720703125}}}\n",
      "#metrics {\"StartTime\": 1686777905.180228, \"EndTime\": 1686777905.1802363, \"Dimensions\": {\"Algorithm\": \"Linear Learner\", \"Host\": \"algo-1\", \"Operation\": \"training\", \"epoch\": 6, \"model\": 25}, \"Metrics\": {\"train_mse_objective\": {\"sum\": 0.979979248046875, \"count\": 1, \"min\": 0.979979248046875, \"max\": 0.979979248046875}}}\n",
      "#metrics {\"StartTime\": 1686777905.1803231, \"EndTime\": 1686777905.1803358, \"Dimensions\": {\"Algorithm\": \"Linear Learner\", \"Host\": \"algo-1\", \"Operation\": \"training\", \"epoch\": 6, \"model\": 26}, \"Metrics\": {\"train_mse_objective\": {\"sum\": 0.9657122192382812, \"count\": 1, \"min\": 0.9657122192382812, \"max\": 0.9657122192382812}}}\n",
      "#metrics {\"StartTime\": 1686777905.1803691, \"EndTime\": 1686777905.1803782, \"Dimensions\": {\"Algorithm\": \"Linear Learner\", \"Host\": \"algo-1\", \"Operation\": \"training\", \"epoch\": 6, \"model\": 27}, \"Metrics\": {\"train_mse_objective\": {\"sum\": 0.9950216064453125, \"count\": 1, \"min\": 0.9950216064453125, \"max\": 0.9950216064453125}}}\n",
      "#metrics {\"StartTime\": 1686777905.1804214, \"EndTime\": 1686777905.1804302, \"Dimensions\": {\"Algorithm\": \"Linear Learner\", \"Host\": \"algo-1\", \"Operation\": \"training\", \"epoch\": 6, \"model\": 28}, \"Metrics\": {\"train_mse_objective\": {\"sum\": 0.9844647827148437, \"count\": 1, \"min\": 0.9844647827148437, \"max\": 0.9844647827148437}}}\n",
      "#metrics {\"StartTime\": 1686777905.1804633, \"EndTime\": 1686777905.1804721, \"Dimensions\": {\"Algorithm\": \"Linear Learner\", \"Host\": \"algo-1\", \"Operation\": \"training\", \"epoch\": 6, \"model\": 29}, \"Metrics\": {\"train_mse_objective\": {\"sum\": 1.0702366943359376, \"count\": 1, \"min\": 1.0702366943359376, \"max\": 1.0702366943359376}}}\n",
      "#metrics {\"StartTime\": 1686777905.180508, \"EndTime\": 1686777905.1805174, \"Dimensions\": {\"Algorithm\": \"Linear Learner\", \"Host\": \"algo-1\", \"Operation\": \"training\", \"epoch\": 6, \"model\": 30}, \"Metrics\": {\"train_mse_objective\": {\"sum\": 1.028525146484375, \"count\": 1, \"min\": 1.028525146484375, \"max\": 1.028525146484375}}}\n",
      "#metrics {\"StartTime\": 1686777905.180553, \"EndTime\": 1686777905.1805613, \"Dimensions\": {\"Algorithm\": \"Linear Learner\", \"Host\": \"algo-1\", \"Operation\": \"training\", \"epoch\": 6, \"model\": 31}, \"Metrics\": {\"train_mse_objective\": {\"sum\": 0.9692490234375, \"count\": 1, \"min\": 0.9692490234375, \"max\": 0.9692490234375}}}\n",
      "[06/14/2023 21:25:05 INFO 140335316649792] #quality_metric: host=algo-1, epoch=6, train mse_objective <loss>=0.9309275512695312\n",
      "[06/14/2023 21:25:05 INFO 140335316649792] #early_stopping_criteria_metric: host=algo-1, epoch=6, criteria=mse_objective, value=0.6768855590820313\n",
      "[06/14/2023 21:25:05 INFO 140335316649792] Saving model for epoch: 6\n",
      "[06/14/2023 21:25:05 INFO 140335316649792] Saved checkpoint to \"/tmp/tmpq3idgi55/mx-mod-0000.params\"\n",
      "[06/14/2023 21:25:05 INFO 140335316649792] #progress_metric: host=algo-1, completed 46.666666666666664 % of epochs\n",
      "#metrics {\"StartTime\": 1686777905.1637387, \"EndTime\": 1686777905.186395, \"Dimensions\": {\"Algorithm\": \"Linear Learner\", \"Host\": \"algo-1\", \"Operation\": \"training\", \"epoch\": 6, \"Meta\": \"training_data_iter\"}, \"Metrics\": {\"Total Records Seen\": {\"sum\": 9568.0, \"count\": 1, \"min\": 9568, \"max\": 9568}, \"Total Batches Seen\": {\"sum\": 17.0, \"count\": 1, \"min\": 17, \"max\": 17}, \"Max Records Seen Between Resets\": {\"sum\": 1071.0, \"count\": 1, \"min\": 1071, \"max\": 1071}, \"Max Batches Seen Between Resets\": {\"sum\": 2.0, \"count\": 1, \"min\": 2, \"max\": 2}, \"Reset Count\": {\"sum\": 9.0, \"count\": 1, \"min\": 9, \"max\": 9}, \"Number of Records Since Last Reset\": {\"sum\": 1071.0, \"count\": 1, \"min\": 1071, \"max\": 1071}, \"Number of Batches Since Last Reset\": {\"sum\": 2.0, \"count\": 1, \"min\": 2, \"max\": 2}}}\n",
      "[06/14/2023 21:25:05 INFO 140335316649792] #throughput_metric: host=algo-1, train throughput=47034.24444281571 records/second\n",
      "[2023-06-14 21:25:05.201] [tensorio] [info] epoch_stats={\"data_pipeline\": \"/opt/ml/input/data/train\", \"epoch\": 18, \"duration\": 14, \"num_examples\": 2, \"num_bytes\": 68544}\n",
      "#metrics {\"StartTime\": 1686777905.2014267, \"EndTime\": 1686777905.2014852, \"Dimensions\": {\"Algorithm\": \"Linear Learner\", \"Host\": \"algo-1\", \"Operation\": \"training\", \"epoch\": 7, \"model\": 0}, \"Metrics\": {\"train_mse_objective\": {\"sum\": 0.9171712646484375, \"count\": 1, \"min\": 0.9171712646484375, \"max\": 0.9171712646484375}}}\n",
      "#metrics {\"StartTime\": 1686777905.2015545, \"EndTime\": 1686777905.201564, \"Dimensions\": {\"Algorithm\": \"Linear Learner\", \"Host\": \"algo-1\", \"Operation\": \"training\", \"epoch\": 7, \"model\": 1}, \"Metrics\": {\"train_mse_objective\": {\"sum\": 0.894685302734375, \"count\": 1, \"min\": 0.894685302734375, \"max\": 0.894685302734375}}}\n",
      "#metrics {\"StartTime\": 1686777905.2015934, \"EndTime\": 1686777905.2015996, \"Dimensions\": {\"Algorithm\": \"Linear Learner\", \"Host\": \"algo-1\", \"Operation\": \"training\", \"epoch\": 7, \"model\": 2}, \"Metrics\": {\"train_mse_objective\": {\"sum\": 0.9246111450195312, \"count\": 1, \"min\": 0.9246111450195312, \"max\": 0.9246111450195312}}}\n",
      "#metrics {\"StartTime\": 1686777905.2016246, \"EndTime\": 1686777905.2016304, \"Dimensions\": {\"Algorithm\": \"Linear Learner\", \"Host\": \"algo-1\", \"Operation\": \"training\", \"epoch\": 7, \"model\": 3}, \"Metrics\": {\"train_mse_objective\": {\"sum\": 0.8984644165039063, \"count\": 1, \"min\": 0.8984644165039063, \"max\": 0.8984644165039063}}}\n",
      "#metrics {\"StartTime\": 1686777905.2016518, \"EndTime\": 1686777905.2016568, \"Dimensions\": {\"Algorithm\": \"Linear Learner\", \"Host\": \"algo-1\", \"Operation\": \"training\", \"epoch\": 7, \"model\": 4}, \"Metrics\": {\"train_mse_objective\": {\"sum\": 0.7032120971679687, \"count\": 1, \"min\": 0.7032120971679687, \"max\": 0.7032120971679687}}}\n",
      "#metrics {\"StartTime\": 1686777905.201682, \"EndTime\": 1686777905.2016878, \"Dimensions\": {\"Algorithm\": \"Linear Learner\", \"Host\": \"algo-1\", \"Operation\": \"training\", \"epoch\": 7, \"model\": 5}, \"Metrics\": {\"train_mse_objective\": {\"sum\": 0.725182373046875, \"count\": 1, \"min\": 0.725182373046875, \"max\": 0.725182373046875}}}\n",
      "#metrics {\"StartTime\": 1686777905.2017143, \"EndTime\": 1686777905.2017198, \"Dimensions\": {\"Algorithm\": \"Linear Learner\", \"Host\": \"algo-1\", \"Operation\": \"training\", \"epoch\": 7, \"model\": 6}, \"Metrics\": {\"train_mse_objective\": {\"sum\": 0.7236519165039063, \"count\": 1, \"min\": 0.7236519165039063, \"max\": 0.7236519165039063}}}\n",
      "#metrics {\"StartTime\": 1686777905.20174, \"EndTime\": 1686777905.201745, \"Dimensions\": {\"Algorithm\": \"Linear Learner\", \"Host\": \"algo-1\", \"Operation\": \"training\", \"epoch\": 7, \"model\": 7}, \"Metrics\": {\"train_mse_objective\": {\"sum\": 0.6636129760742188, \"count\": 1, \"min\": 0.6636129760742188, \"max\": 0.6636129760742188}}}\n",
      "#metrics {\"StartTime\": 1686777905.2017686, \"EndTime\": 1686777905.201774, \"Dimensions\": {\"Algorithm\": \"Linear Learner\", \"Host\": \"algo-1\", \"Operation\": \"training\", \"epoch\": 7, \"model\": 8}, \"Metrics\": {\"train_mse_objective\": {\"sum\": 0.8064939575195312, \"count\": 1, \"min\": 0.8064939575195312, \"max\": 0.8064939575195312}}}\n",
      "#metrics {\"StartTime\": 1686777905.2017975, \"EndTime\": 1686777905.2018025, \"Dimensions\": {\"Algorithm\": \"Linear Learner\", \"Host\": \"algo-1\", \"Operation\": \"training\", \"epoch\": 7, \"model\": 9}, \"Metrics\": {\"train_mse_objective\": {\"sum\": 0.8849080810546875, \"count\": 1, \"min\": 0.8849080810546875, \"max\": 0.8849080810546875}}}\n",
      "#metrics {\"StartTime\": 1686777905.201828, \"EndTime\": 1686777905.2018335, \"Dimensions\": {\"Algorithm\": \"Linear Learner\", \"Host\": \"algo-1\", \"Operation\": \"training\", \"epoch\": 7, \"model\": 10}, \"Metrics\": {\"train_mse_objective\": {\"sum\": 0.9845374145507813, \"count\": 1, \"min\": 0.9845374145507813, \"max\": 0.9845374145507813}}}\n",
      "#metrics {\"StartTime\": 1686777905.2018564, \"EndTime\": 1686777905.2018616, \"Dimensions\": {\"Algorithm\": \"Linear Learner\", \"Host\": \"algo-1\", \"Operation\": \"training\", \"epoch\": 7, \"model\": 11}, \"Metrics\": {\"train_mse_objective\": {\"sum\": 0.9118574829101562, \"count\": 1, \"min\": 0.9118574829101562, \"max\": 0.9118574829101562}}}\n",
      "#metrics {\"StartTime\": 1686777905.2018857, \"EndTime\": 1686777905.2018912, \"Dimensions\": {\"Algorithm\": \"Linear Learner\", \"Host\": \"algo-1\", \"Operation\": \"training\", \"epoch\": 7, \"model\": 12}, \"Metrics\": {\"train_mse_objective\": {\"sum\": 0.6837935791015625, \"count\": 1, \"min\": 0.6837935791015625, \"max\": 0.6837935791015625}}}\n",
      "#metrics {\"StartTime\": 1686777905.2019136, \"EndTime\": 1686777905.2019196, \"Dimensions\": {\"Algorithm\": \"Linear Learner\", \"Host\": \"algo-1\", \"Operation\": \"training\", \"epoch\": 7, \"model\": 13}, \"Metrics\": {\"train_mse_objective\": {\"sum\": 0.713102783203125, \"count\": 1, \"min\": 0.713102783203125, \"max\": 0.713102783203125}}}\n",
      "#metrics {\"StartTime\": 1686777905.2019424, \"EndTime\": 1686777905.2019477, \"Dimensions\": {\"Algorithm\": \"Linear Learner\", \"Host\": \"algo-1\", \"Operation\": \"training\", \"epoch\": 7, \"model\": 14}, \"Metrics\": {\"train_mse_objective\": {\"sum\": 0.7206134033203125, \"count\": 1, \"min\": 0.7206134033203125, \"max\": 0.7206134033203125}}}\n",
      "#metrics {\"StartTime\": 1686777905.2019713, \"EndTime\": 1686777905.2019763, \"Dimensions\": {\"Algorithm\": \"Linear Learner\", \"Host\": \"algo-1\", \"Operation\": \"training\", \"epoch\": 7, \"model\": 15}, \"Metrics\": {\"train_mse_objective\": {\"sum\": 0.6623385620117187, \"count\": 1, \"min\": 0.6623385620117187, \"max\": 0.6623385620117187}}}\n",
      "#metrics {\"StartTime\": 1686777905.2019966, \"EndTime\": 1686777905.2020016, \"Dimensions\": {\"Algorithm\": \"Linear Learner\", \"Host\": \"algo-1\", \"Operation\": \"training\", \"epoch\": 7, \"model\": 16}, \"Metrics\": {\"train_mse_objective\": {\"sum\": 0.9394664916992187, \"count\": 1, \"min\": 0.9394664916992187, \"max\": 0.9394664916992187}}}\n",
      "#metrics {\"StartTime\": 1686777905.2020242, \"EndTime\": 1686777905.2020295, \"Dimensions\": {\"Algorithm\": \"Linear Learner\", \"Host\": \"algo-1\", \"Operation\": \"training\", \"epoch\": 7, \"model\": 17}, \"Metrics\": {\"train_mse_objective\": {\"sum\": 0.962658935546875, \"count\": 1, \"min\": 0.962658935546875, \"max\": 0.962658935546875}}}\n",
      "#metrics {\"StartTime\": 1686777905.2020495, \"EndTime\": 1686777905.2020547, \"Dimensions\": {\"Algorithm\": \"Linear Learner\", \"Host\": \"algo-1\", \"Operation\": \"training\", \"epoch\": 7, \"model\": 18}, \"Metrics\": {\"train_mse_objective\": {\"sum\": 0.9776746215820312, \"count\": 1, \"min\": 0.9776746215820312, \"max\": 0.9776746215820312}}}\n",
      "#metrics {\"StartTime\": 1686777905.2020757, \"EndTime\": 1686777905.2020807, \"Dimensions\": {\"Algorithm\": \"Linear Learner\", \"Host\": \"algo-1\", \"Operation\": \"training\", \"epoch\": 7, \"model\": 19}, \"Metrics\": {\"train_mse_objective\": {\"sum\": 0.894867919921875, \"count\": 1, \"min\": 0.894867919921875, \"max\": 0.894867919921875}}}\n",
      "#metrics {\"StartTime\": 1686777905.2021031, \"EndTime\": 1686777905.2021084, \"Dimensions\": {\"Algorithm\": \"Linear Learner\", \"Host\": \"algo-1\", \"Operation\": \"training\", \"epoch\": 7, \"model\": 20}, \"Metrics\": {\"train_mse_objective\": {\"sum\": 0.701564453125, \"count\": 1, \"min\": 0.701564453125, \"max\": 0.701564453125}}}\n",
      "#metrics {\"StartTime\": 1686777905.2021286, \"EndTime\": 1686777905.2021337, \"Dimensions\": {\"Algorithm\": \"Linear Learner\", \"Host\": \"algo-1\", \"Operation\": \"training\", \"epoch\": 7, \"model\": 21}, \"Metrics\": {\"train_mse_objective\": {\"sum\": 0.6980833129882813, \"count\": 1, \"min\": 0.6980833129882813, \"max\": 0.6980833129882813}}}\n",
      "#metrics {\"StartTime\": 1686777905.202157, \"EndTime\": 1686777905.2021625, \"Dimensions\": {\"Algorithm\": \"Linear Learner\", \"Host\": \"algo-1\", \"Operation\": \"training\", \"epoch\": 7, \"model\": 22}, \"Metrics\": {\"train_mse_objective\": {\"sum\": 0.6879876098632812, \"count\": 1, \"min\": 0.6879876098632812, \"max\": 0.6879876098632812}}}\n",
      "#metrics {\"StartTime\": 1686777905.2021832, \"EndTime\": 1686777905.2021883, \"Dimensions\": {\"Algorithm\": \"Linear Learner\", \"Host\": \"algo-1\", \"Operation\": \"training\", \"epoch\": 7, \"model\": 23}, \"Metrics\": {\"train_mse_objective\": {\"sum\": 0.659395751953125, \"count\": 1, \"min\": 0.659395751953125, \"max\": 0.659395751953125}}}\n",
      "#metrics {\"StartTime\": 1686777905.202208, \"EndTime\": 1686777905.2022133, \"Dimensions\": {\"Algorithm\": \"Linear Learner\", \"Host\": \"algo-1\", \"Operation\": \"training\", \"epoch\": 7, \"model\": 24}, \"Metrics\": {\"train_mse_objective\": {\"sum\": 0.9754028930664063, \"count\": 1, \"min\": 0.9754028930664063, \"max\": 0.9754028930664063}}}\n",
      "#metrics {\"StartTime\": 1686777905.202233, \"EndTime\": 1686777905.2022383, \"Dimensions\": {\"Algorithm\": \"Linear Learner\", \"Host\": \"algo-1\", \"Operation\": \"training\", \"epoch\": 7, \"model\": 25}, \"Metrics\": {\"train_mse_objective\": {\"sum\": 0.9841283569335938, \"count\": 1, \"min\": 0.9841283569335938, \"max\": 0.9841283569335938}}}\n",
      "#metrics {\"StartTime\": 1686777905.2022607, \"EndTime\": 1686777905.2022662, \"Dimensions\": {\"Algorithm\": \"Linear Learner\", \"Host\": \"algo-1\", \"Operation\": \"training\", \"epoch\": 7, \"model\": 26}, \"Metrics\": {\"train_mse_objective\": {\"sum\": 0.9687301025390626, \"count\": 1, \"min\": 0.9687301025390626, \"max\": 0.9687301025390626}}}\n",
      "#metrics {\"StartTime\": 1686777905.2022862, \"EndTime\": 1686777905.2022913, \"Dimensions\": {\"Algorithm\": \"Linear Learner\", \"Host\": \"algo-1\", \"Operation\": \"training\", \"epoch\": 7, \"model\": 27}, \"Metrics\": {\"train_mse_objective\": {\"sum\": 0.9909588623046875, \"count\": 1, \"min\": 0.9909588623046875, \"max\": 0.9909588623046875}}}\n",
      "#metrics {\"StartTime\": 1686777905.2023115, \"EndTime\": 1686777905.2023163, \"Dimensions\": {\"Algorithm\": \"Linear Learner\", \"Host\": \"algo-1\", \"Operation\": \"training\", \"epoch\": 7, \"model\": 28}, \"Metrics\": {\"train_mse_objective\": {\"sum\": 0.9844620971679687, \"count\": 1, \"min\": 0.9844620971679687, \"max\": 0.9844620971679687}}}\n",
      "#metrics {\"StartTime\": 1686777905.2023365, \"EndTime\": 1686777905.2023416, \"Dimensions\": {\"Algorithm\": \"Linear Learner\", \"Host\": \"algo-1\", \"Operation\": \"training\", \"epoch\": 7, \"model\": 29}, \"Metrics\": {\"train_mse_objective\": {\"sum\": 1.0048580932617188, \"count\": 1, \"min\": 1.0048580932617188, \"max\": 1.0048580932617188}}}\n",
      "#metrics {\"StartTime\": 1686777905.2023683, \"EndTime\": 1686777905.2023733, \"Dimensions\": {\"Algorithm\": \"Linear Learner\", \"Host\": \"algo-1\", \"Operation\": \"training\", \"epoch\": 7, \"model\": 30}, \"Metrics\": {\"train_mse_objective\": {\"sum\": 0.9952666625976563, \"count\": 1, \"min\": 0.9952666625976563, \"max\": 0.9952666625976563}}}\n",
      "#metrics {\"StartTime\": 1686777905.2023933, \"EndTime\": 1686777905.2023985, \"Dimensions\": {\"Algorithm\": \"Linear Learner\", \"Host\": \"algo-1\", \"Operation\": \"training\", \"epoch\": 7, \"model\": 31}, \"Metrics\": {\"train_mse_objective\": {\"sum\": 1.0209095458984374, \"count\": 1, \"min\": 1.0209095458984374, \"max\": 1.0209095458984374}}}\n",
      "[06/14/2023 21:25:05 INFO 140335316649792] #quality_metric: host=algo-1, epoch=7, train mse_objective <loss>=0.9171712646484375\n",
      "[06/14/2023 21:25:05 INFO 140335316649792] #early_stopping_criteria_metric: host=algo-1, epoch=7, criteria=mse_objective, value=0.659395751953125\n",
      "[06/14/2023 21:25:05 INFO 140335316649792] Epoch 7: Loss has not improved for 0 epochs.\n",
      "[06/14/2023 21:25:05 INFO 140335316649792] Saving model for epoch: 7\n",
      "[06/14/2023 21:25:05 INFO 140335316649792] Saved checkpoint to \"/tmp/tmpsrrxyst6/mx-mod-0000.params\"\n",
      "[06/14/2023 21:25:05 INFO 140335316649792] #progress_metric: host=algo-1, completed 53.333333333333336 % of epochs\n",
      "#metrics {\"StartTime\": 1686777905.1866348, \"EndTime\": 1686777905.20905, \"Dimensions\": {\"Algorithm\": \"Linear Learner\", \"Host\": \"algo-1\", \"Operation\": \"training\", \"epoch\": 7, \"Meta\": \"training_data_iter\"}, \"Metrics\": {\"Total Records Seen\": {\"sum\": 10639.0, \"count\": 1, \"min\": 10639, \"max\": 10639}, \"Total Batches Seen\": {\"sum\": 19.0, \"count\": 1, \"min\": 19, \"max\": 19}, \"Max Records Seen Between Resets\": {\"sum\": 1071.0, \"count\": 1, \"min\": 1071, \"max\": 1071}, \"Max Batches Seen Between Resets\": {\"sum\": 2.0, \"count\": 1, \"min\": 2, \"max\": 2}, \"Reset Count\": {\"sum\": 10.0, \"count\": 1, \"min\": 10, \"max\": 10}, \"Number of Records Since Last Reset\": {\"sum\": 1071.0, \"count\": 1, \"min\": 1071, \"max\": 1071}, \"Number of Batches Since Last Reset\": {\"sum\": 2.0, \"count\": 1, \"min\": 2, \"max\": 2}}}\n",
      "[06/14/2023 21:25:05 INFO 140335316649792] #throughput_metric: host=algo-1, train throughput=47563.12757689661 records/second\n",
      "[2023-06-14 21:25:05.224] [tensorio] [info] epoch_stats={\"data_pipeline\": \"/opt/ml/input/data/train\", \"epoch\": 20, \"duration\": 14, \"num_examples\": 2, \"num_bytes\": 68544}\n",
      "#metrics {\"StartTime\": 1686777905.2242787, \"EndTime\": 1686777905.2243378, \"Dimensions\": {\"Algorithm\": \"Linear Learner\", \"Host\": \"algo-1\", \"Operation\": \"training\", \"epoch\": 8, \"model\": 0}, \"Metrics\": {\"train_mse_objective\": {\"sum\": 0.9041302490234375, \"count\": 1, \"min\": 0.9041302490234375, \"max\": 0.9041302490234375}}}\n",
      "#metrics {\"StartTime\": 1686777905.2244103, \"EndTime\": 1686777905.2244198, \"Dimensions\": {\"Algorithm\": \"Linear Learner\", \"Host\": \"algo-1\", \"Operation\": \"training\", \"epoch\": 8, \"model\": 1}, \"Metrics\": {\"train_mse_objective\": {\"sum\": 0.8814446411132812, \"count\": 1, \"min\": 0.8814446411132812, \"max\": 0.8814446411132812}}}\n",
      "#metrics {\"StartTime\": 1686777905.224449, \"EndTime\": 1686777905.224455, \"Dimensions\": {\"Algorithm\": \"Linear Learner\", \"Host\": \"algo-1\", \"Operation\": \"training\", \"epoch\": 8, \"model\": 2}, \"Metrics\": {\"train_mse_objective\": {\"sum\": 0.9116272583007813, \"count\": 1, \"min\": 0.9116272583007813, \"max\": 0.9116272583007813}}}\n",
      "#metrics {\"StartTime\": 1686777905.2244792, \"EndTime\": 1686777905.2244852, \"Dimensions\": {\"Algorithm\": \"Linear Learner\", \"Host\": \"algo-1\", \"Operation\": \"training\", \"epoch\": 8, \"model\": 3}, \"Metrics\": {\"train_mse_objective\": {\"sum\": 0.8853553466796875, \"count\": 1, \"min\": 0.8853553466796875, \"max\": 0.8853553466796875}}}\n",
      "#metrics {\"StartTime\": 1686777905.224506, \"EndTime\": 1686777905.2245111, \"Dimensions\": {\"Algorithm\": \"Linear Learner\", \"Host\": \"algo-1\", \"Operation\": \"training\", \"epoch\": 8, \"model\": 4}, \"Metrics\": {\"train_mse_objective\": {\"sum\": 0.7173060302734375, \"count\": 1, \"min\": 0.7173060302734375, \"max\": 0.7173060302734375}}}\n",
      "#metrics {\"StartTime\": 1686777905.2245314, \"EndTime\": 1686777905.2245367, \"Dimensions\": {\"Algorithm\": \"Linear Learner\", \"Host\": \"algo-1\", \"Operation\": \"training\", \"epoch\": 8, \"model\": 5}, \"Metrics\": {\"train_mse_objective\": {\"sum\": 0.7613701782226563, \"count\": 1, \"min\": 0.7613701782226563, \"max\": 0.7613701782226563}}}\n",
      "#metrics {\"StartTime\": 1686777905.2245607, \"EndTime\": 1686777905.224566, \"Dimensions\": {\"Algorithm\": \"Linear Learner\", \"Host\": \"algo-1\", \"Operation\": \"training\", \"epoch\": 8, \"model\": 6}, \"Metrics\": {\"train_mse_objective\": {\"sum\": 0.799380126953125, \"count\": 1, \"min\": 0.799380126953125, \"max\": 0.799380126953125}}}\n",
      "#metrics {\"StartTime\": 1686777905.22459, \"EndTime\": 1686777905.2245955, \"Dimensions\": {\"Algorithm\": \"Linear Learner\", \"Host\": \"algo-1\", \"Operation\": \"training\", \"epoch\": 8, \"model\": 7}, \"Metrics\": {\"train_mse_objective\": {\"sum\": 0.7109956665039062, \"count\": 1, \"min\": 0.7109956665039062, \"max\": 0.7109956665039062}}}\n",
      "#metrics {\"StartTime\": 1686777905.2246232, \"EndTime\": 1686777905.2246294, \"Dimensions\": {\"Algorithm\": \"Linear Learner\", \"Host\": \"algo-1\", \"Operation\": \"training\", \"epoch\": 8, \"model\": 8}, \"Metrics\": {\"train_mse_objective\": {\"sum\": 0.7968128662109375, \"count\": 1, \"min\": 0.7968128662109375, \"max\": 0.7968128662109375}}}\n",
      "#metrics {\"StartTime\": 1686777905.224653, \"EndTime\": 1686777905.2246587, \"Dimensions\": {\"Algorithm\": \"Linear Learner\", \"Host\": \"algo-1\", \"Operation\": \"training\", \"epoch\": 8, \"model\": 9}, \"Metrics\": {\"train_mse_objective\": {\"sum\": 0.87186474609375, \"count\": 1, \"min\": 0.87186474609375, \"max\": 0.87186474609375}}}\n",
      "#metrics {\"StartTime\": 1686777905.224683, \"EndTime\": 1686777905.224688, \"Dimensions\": {\"Algorithm\": \"Linear Learner\", \"Host\": \"algo-1\", \"Operation\": \"training\", \"epoch\": 8, \"model\": 10}, \"Metrics\": {\"train_mse_objective\": {\"sum\": 0.96947900390625, \"count\": 1, \"min\": 0.96947900390625, \"max\": 0.96947900390625}}}\n",
      "#metrics {\"StartTime\": 1686777905.2247107, \"EndTime\": 1686777905.2247157, \"Dimensions\": {\"Algorithm\": \"Linear Learner\", \"Host\": \"algo-1\", \"Operation\": \"training\", \"epoch\": 8, \"model\": 11}, \"Metrics\": {\"train_mse_objective\": {\"sum\": 0.8979135131835938, \"count\": 1, \"min\": 0.8979135131835938, \"max\": 0.8979135131835938}}}\n",
      "#metrics {\"StartTime\": 1686777905.2247362, \"EndTime\": 1686777905.2247415, \"Dimensions\": {\"Algorithm\": \"Linear Learner\", \"Host\": \"algo-1\", \"Operation\": \"training\", \"epoch\": 8, \"model\": 12}, \"Metrics\": {\"train_mse_objective\": {\"sum\": 0.7415409545898437, \"count\": 1, \"min\": 0.7415409545898437, \"max\": 0.7415409545898437}}}\n",
      "#metrics {\"StartTime\": 1686777905.2247615, \"EndTime\": 1686777905.224767, \"Dimensions\": {\"Algorithm\": \"Linear Learner\", \"Host\": \"algo-1\", \"Operation\": \"training\", \"epoch\": 8, \"model\": 13}, \"Metrics\": {\"train_mse_objective\": {\"sum\": 0.7811779174804687, \"count\": 1, \"min\": 0.7811779174804687, \"max\": 0.7811779174804687}}}\n",
      "#metrics {\"StartTime\": 1686777905.2247908, \"EndTime\": 1686777905.2247965, \"Dimensions\": {\"Algorithm\": \"Linear Learner\", \"Host\": \"algo-1\", \"Operation\": \"training\", \"epoch\": 8, \"model\": 14}, \"Metrics\": {\"train_mse_objective\": {\"sum\": 0.7442326049804687, \"count\": 1, \"min\": 0.7442326049804687, \"max\": 0.7442326049804687}}}\n",
      "#metrics {\"StartTime\": 1686777905.2248201, \"EndTime\": 1686777905.2248256, \"Dimensions\": {\"Algorithm\": \"Linear Learner\", \"Host\": \"algo-1\", \"Operation\": \"training\", \"epoch\": 8, \"model\": 15}, \"Metrics\": {\"train_mse_objective\": {\"sum\": 0.7263248901367187, \"count\": 1, \"min\": 0.7263248901367187, \"max\": 0.7263248901367187}}}\n",
      "#metrics {\"StartTime\": 1686777905.2248461, \"EndTime\": 1686777905.2248511, \"Dimensions\": {\"Algorithm\": \"Linear Learner\", \"Host\": \"algo-1\", \"Operation\": \"training\", \"epoch\": 8, \"model\": 16}, \"Metrics\": {\"train_mse_objective\": {\"sum\": 0.9253173828125, \"count\": 1, \"min\": 0.9253173828125, \"max\": 0.9253173828125}}}\n",
      "#metrics {\"StartTime\": 1686777905.224875, \"EndTime\": 1686777905.2248805, \"Dimensions\": {\"Algorithm\": \"Linear Learner\", \"Host\": \"algo-1\", \"Operation\": \"training\", \"epoch\": 8, \"model\": 17}, \"Metrics\": {\"train_mse_objective\": {\"sum\": 0.9488567504882812, \"count\": 1, \"min\": 0.9488567504882812, \"max\": 0.9488567504882812}}}\n",
      "#metrics {\"StartTime\": 1686777905.2249043, \"EndTime\": 1686777905.2249095, \"Dimensions\": {\"Algorithm\": \"Linear Learner\", \"Host\": \"algo-1\", \"Operation\": \"training\", \"epoch\": 8, \"model\": 18}, \"Metrics\": {\"train_mse_objective\": {\"sum\": 0.9623759155273437, \"count\": 1, \"min\": 0.9623759155273437, \"max\": 0.9623759155273437}}}\n",
      "#metrics {\"StartTime\": 1686777905.2249322, \"EndTime\": 1686777905.2249372, \"Dimensions\": {\"Algorithm\": \"Linear Learner\", \"Host\": \"algo-1\", \"Operation\": \"training\", \"epoch\": 8, \"model\": 19}, \"Metrics\": {\"train_mse_objective\": {\"sum\": 0.8814644775390625, \"count\": 1, \"min\": 0.8814644775390625, \"max\": 0.8814644775390625}}}\n",
      "#metrics {\"StartTime\": 1686777905.224981, \"EndTime\": 1686777905.2249866, \"Dimensions\": {\"Algorithm\": \"Linear Learner\", \"Host\": \"algo-1\", \"Operation\": \"training\", \"epoch\": 8, \"model\": 20}, \"Metrics\": {\"train_mse_objective\": {\"sum\": 0.7748320922851563, \"count\": 1, \"min\": 0.7748320922851563, \"max\": 0.7748320922851563}}}\n",
      "#metrics {\"StartTime\": 1686777905.2250066, \"EndTime\": 1686777905.2250118, \"Dimensions\": {\"Algorithm\": \"Linear Learner\", \"Host\": \"algo-1\", \"Operation\": \"training\", \"epoch\": 8, \"model\": 21}, \"Metrics\": {\"train_mse_objective\": {\"sum\": 0.7945308837890624, \"count\": 1, \"min\": 0.7945308837890624, \"max\": 0.7945308837890624}}}\n",
      "#metrics {\"StartTime\": 1686777905.2250316, \"EndTime\": 1686777905.2250369, \"Dimensions\": {\"Algorithm\": \"Linear Learner\", \"Host\": \"algo-1\", \"Operation\": \"training\", \"epoch\": 8, \"model\": 22}, \"Metrics\": {\"train_mse_objective\": {\"sum\": 0.8151787719726562, \"count\": 1, \"min\": 0.8151787719726562, \"max\": 0.8151787719726562}}}\n",
      "#metrics {\"StartTime\": 1686777905.225057, \"EndTime\": 1686777905.225062, \"Dimensions\": {\"Algorithm\": \"Linear Learner\", \"Host\": \"algo-1\", \"Operation\": \"training\", \"epoch\": 8, \"model\": 23}, \"Metrics\": {\"train_mse_objective\": {\"sum\": 0.756558837890625, \"count\": 1, \"min\": 0.756558837890625, \"max\": 0.756558837890625}}}\n",
      "#metrics {\"StartTime\": 1686777905.2250817, \"EndTime\": 1686777905.2250867, \"Dimensions\": {\"Algorithm\": \"Linear Learner\", \"Host\": \"algo-1\", \"Operation\": \"training\", \"epoch\": 8, \"model\": 24}, \"Metrics\": {\"train_mse_objective\": {\"sum\": 0.9754213256835937, \"count\": 1, \"min\": 0.9754213256835937, \"max\": 0.9754213256835937}}}\n",
      "#metrics {\"StartTime\": 1686777905.2251065, \"EndTime\": 1686777905.2251117, \"Dimensions\": {\"Algorithm\": \"Linear Learner\", \"Host\": \"algo-1\", \"Operation\": \"training\", \"epoch\": 8, \"model\": 25}, \"Metrics\": {\"train_mse_objective\": {\"sum\": 0.9881942138671875, \"count\": 1, \"min\": 0.9881942138671875, \"max\": 0.9881942138671875}}}\n",
      "#metrics {\"StartTime\": 1686777905.2251318, \"EndTime\": 1686777905.225137, \"Dimensions\": {\"Algorithm\": \"Linear Learner\", \"Host\": \"algo-1\", \"Operation\": \"training\", \"epoch\": 8, \"model\": 26}, \"Metrics\": {\"train_mse_objective\": {\"sum\": 0.9727488403320312, \"count\": 1, \"min\": 0.9727488403320312, \"max\": 0.9727488403320312}}}\n",
      "#metrics {\"StartTime\": 1686777905.2251568, \"EndTime\": 1686777905.225162, \"Dimensions\": {\"Algorithm\": \"Linear Learner\", \"Host\": \"algo-1\", \"Operation\": \"training\", \"epoch\": 8, \"model\": 27}, \"Metrics\": {\"train_mse_objective\": {\"sum\": 0.9879215087890625, \"count\": 1, \"min\": 0.9879215087890625, \"max\": 0.9879215087890625}}}\n",
      "#metrics {\"StartTime\": 1686777905.225182, \"EndTime\": 1686777905.2251868, \"Dimensions\": {\"Algorithm\": \"Linear Learner\", \"Host\": \"algo-1\", \"Operation\": \"training\", \"epoch\": 8, \"model\": 28}, \"Metrics\": {\"train_mse_objective\": {\"sum\": 1.0943367919921876, \"count\": 1, \"min\": 1.0943367919921876, \"max\": 1.0943367919921876}}}\n",
      "#metrics {\"StartTime\": 1686777905.2252069, \"EndTime\": 1686777905.2252119, \"Dimensions\": {\"Algorithm\": \"Linear Learner\", \"Host\": \"algo-1\", \"Operation\": \"training\", \"epoch\": 8, \"model\": 29}, \"Metrics\": {\"train_mse_objective\": {\"sum\": 1.0675760498046876, \"count\": 1, \"min\": 1.0675760498046876, \"max\": 1.0675760498046876}}}\n",
      "#metrics {\"StartTime\": 1686777905.2252316, \"EndTime\": 1686777905.2252367, \"Dimensions\": {\"Algorithm\": \"Linear Learner\", \"Host\": \"algo-1\", \"Operation\": \"training\", \"epoch\": 8, \"model\": 30}, \"Metrics\": {\"train_mse_objective\": {\"sum\": 1.1136256103515625, \"count\": 1, \"min\": 1.1136256103515625, \"max\": 1.1136256103515625}}}\n",
      "#metrics {\"StartTime\": 1686777905.2252584, \"EndTime\": 1686777905.2252634, \"Dimensions\": {\"Algorithm\": \"Linear Learner\", \"Host\": \"algo-1\", \"Operation\": \"training\", \"epoch\": 8, \"model\": 31}, \"Metrics\": {\"train_mse_objective\": {\"sum\": 1.159076171875, \"count\": 1, \"min\": 1.159076171875, \"max\": 1.159076171875}}}\n",
      "[06/14/2023 21:25:05 INFO 140335316649792] #quality_metric: host=algo-1, epoch=8, train mse_objective <loss>=0.9041302490234375\n",
      "[06/14/2023 21:25:05 INFO 140335316649792] #early_stopping_criteria_metric: host=algo-1, epoch=8, criteria=mse_objective, value=0.7109956665039062\n",
      "[06/14/2023 21:25:05 INFO 140335316649792] Saving model for epoch: 8\n",
      "[06/14/2023 21:25:05 INFO 140335316649792] Saved checkpoint to \"/tmp/tmp4_i3u79h/mx-mod-0000.params\"\n",
      "[06/14/2023 21:25:05 INFO 140335316649792] #progress_metric: host=algo-1, completed 60.0 % of epochs\n",
      "#metrics {\"StartTime\": 1686777905.2092366, \"EndTime\": 1686777905.233567, \"Dimensions\": {\"Algorithm\": \"Linear Learner\", \"Host\": \"algo-1\", \"Operation\": \"training\", \"epoch\": 8, \"Meta\": \"training_data_iter\"}, \"Metrics\": {\"Total Records Seen\": {\"sum\": 11710.0, \"count\": 1, \"min\": 11710, \"max\": 11710}, \"Total Batches Seen\": {\"sum\": 21.0, \"count\": 1, \"min\": 21, \"max\": 21}, \"Max Records Seen Between Resets\": {\"sum\": 1071.0, \"count\": 1, \"min\": 1071, \"max\": 1071}, \"Max Batches Seen Between Resets\": {\"sum\": 2.0, \"count\": 1, \"min\": 2, \"max\": 2}, \"Reset Count\": {\"sum\": 11.0, \"count\": 1, \"min\": 11, \"max\": 11}, \"Number of Records Since Last Reset\": {\"sum\": 1071.0, \"count\": 1, \"min\": 1071, \"max\": 1071}, \"Number of Batches Since Last Reset\": {\"sum\": 2.0, \"count\": 1, \"min\": 2, \"max\": 2}}}\n",
      "[06/14/2023 21:25:05 INFO 140335316649792] #throughput_metric: host=algo-1, train throughput=43842.4710521179 records/second\n",
      "[2023-06-14 21:25:05.252] [tensorio] [info] epoch_stats={\"data_pipeline\": \"/opt/ml/input/data/train\", \"epoch\": 22, \"duration\": 18, \"num_examples\": 2, \"num_bytes\": 68544}\n",
      "#metrics {\"StartTime\": 1686777905.253189, \"EndTime\": 1686777905.2532656, \"Dimensions\": {\"Algorithm\": \"Linear Learner\", \"Host\": \"algo-1\", \"Operation\": \"training\", \"epoch\": 9, \"model\": 0}, \"Metrics\": {\"train_mse_objective\": {\"sum\": 0.8914915161132813, \"count\": 1, \"min\": 0.8914915161132813, \"max\": 0.8914915161132813}}}\n",
      "#metrics {\"StartTime\": 1686777905.2535799, \"EndTime\": 1686777905.253604, \"Dimensions\": {\"Algorithm\": \"Linear Learner\", \"Host\": \"algo-1\", \"Operation\": \"training\", \"epoch\": 9, \"model\": 1}, \"Metrics\": {\"train_mse_objective\": {\"sum\": 0.8687643432617187, \"count\": 1, \"min\": 0.8687643432617187, \"max\": 0.8687643432617187}}}\n",
      "#metrics {\"StartTime\": 1686777905.2538066, \"EndTime\": 1686777905.2538269, \"Dimensions\": {\"Algorithm\": \"Linear Learner\", \"Host\": \"algo-1\", \"Operation\": \"training\", \"epoch\": 9, \"model\": 2}, \"Metrics\": {\"train_mse_objective\": {\"sum\": 0.8988980102539063, \"count\": 1, \"min\": 0.8988980102539063, \"max\": 0.8988980102539063}}}\n",
      "#metrics {\"StartTime\": 1686777905.2538915, \"EndTime\": 1686777905.2539039, \"Dimensions\": {\"Algorithm\": \"Linear Learner\", \"Host\": \"algo-1\", \"Operation\": \"training\", \"epoch\": 9, \"model\": 3}, \"Metrics\": {\"train_mse_objective\": {\"sum\": 0.8725224609375, \"count\": 1, \"min\": 0.8725224609375, \"max\": 0.8725224609375}}}\n",
      "#metrics {\"StartTime\": 1686777905.2539587, \"EndTime\": 1686777905.2539694, \"Dimensions\": {\"Algorithm\": \"Linear Learner\", \"Host\": \"algo-1\", \"Operation\": \"training\", \"epoch\": 9, \"model\": 4}, \"Metrics\": {\"train_mse_objective\": {\"sum\": 0.7096409301757812, \"count\": 1, \"min\": 0.7096409301757812, \"max\": 0.7096409301757812}}}\n",
      "#metrics {\"StartTime\": 1686777905.2540424, \"EndTime\": 1686777905.254055, \"Dimensions\": {\"Algorithm\": \"Linear Learner\", \"Host\": \"algo-1\", \"Operation\": \"training\", \"epoch\": 9, \"model\": 5}, \"Metrics\": {\"train_mse_objective\": {\"sum\": 0.7339646606445313, \"count\": 1, \"min\": 0.7339646606445313, \"max\": 0.7339646606445313}}}\n",
      "#metrics {\"StartTime\": 1686777905.2541077, \"EndTime\": 1686777905.2541533, \"Dimensions\": {\"Algorithm\": \"Linear Learner\", \"Host\": \"algo-1\", \"Operation\": \"training\", \"epoch\": 9, \"model\": 6}, \"Metrics\": {\"train_mse_objective\": {\"sum\": 0.8223572998046875, \"count\": 1, \"min\": 0.8223572998046875, \"max\": 0.8223572998046875}}}\n",
      "#metrics {\"StartTime\": 1686777905.254227, \"EndTime\": 1686777905.254239, \"Dimensions\": {\"Algorithm\": \"Linear Learner\", \"Host\": \"algo-1\", \"Operation\": \"training\", \"epoch\": 9, \"model\": 7}, \"Metrics\": {\"train_mse_objective\": {\"sum\": 0.7090670166015625, \"count\": 1, \"min\": 0.7090670166015625, \"max\": 0.7090670166015625}}}\n",
      "#metrics {\"StartTime\": 1686777905.25431, \"EndTime\": 1686777905.2543213, \"Dimensions\": {\"Algorithm\": \"Linear Learner\", \"Host\": \"algo-1\", \"Operation\": \"training\", \"epoch\": 9, \"model\": 8}, \"Metrics\": {\"train_mse_objective\": {\"sum\": 0.7876348876953125, \"count\": 1, \"min\": 0.7876348876953125, \"max\": 0.7876348876953125}}}\n",
      "#metrics {\"StartTime\": 1686777905.2543917, \"EndTime\": 1686777905.2544043, \"Dimensions\": {\"Algorithm\": \"Linear Learner\", \"Host\": \"algo-1\", \"Operation\": \"training\", \"epoch\": 9, \"model\": 9}, \"Metrics\": {\"train_mse_objective\": {\"sum\": 0.8591118774414063, \"count\": 1, \"min\": 0.8591118774414063, \"max\": 0.8591118774414063}}}\n",
      "#metrics {\"StartTime\": 1686777905.2544718, \"EndTime\": 1686777905.2544994, \"Dimensions\": {\"Algorithm\": \"Linear Learner\", \"Host\": \"algo-1\", \"Operation\": \"training\", \"epoch\": 9, \"model\": 10}, \"Metrics\": {\"train_mse_objective\": {\"sum\": 0.9549996337890625, \"count\": 1, \"min\": 0.9549996337890625, \"max\": 0.9549996337890625}}}\n",
      "#metrics {\"StartTime\": 1686777905.25456, \"EndTime\": 1686777905.2545717, \"Dimensions\": {\"Algorithm\": \"Linear Learner\", \"Host\": \"algo-1\", \"Operation\": \"training\", \"epoch\": 9, \"model\": 11}, \"Metrics\": {\"train_mse_objective\": {\"sum\": 0.8843358154296875, \"count\": 1, \"min\": 0.8843358154296875, \"max\": 0.8843358154296875}}}\n",
      "#metrics {\"StartTime\": 1686777905.2546444, \"EndTime\": 1686777905.254656, \"Dimensions\": {\"Algorithm\": \"Linear Learner\", \"Host\": \"algo-1\", \"Operation\": \"training\", \"epoch\": 9, \"model\": 12}, \"Metrics\": {\"train_mse_objective\": {\"sum\": 0.8310491943359375, \"count\": 1, \"min\": 0.8310491943359375, \"max\": 0.8310491943359375}}}\n",
      "#metrics {\"StartTime\": 1686777905.2547243, \"EndTime\": 1686777905.2547371, \"Dimensions\": {\"Algorithm\": \"Linear Learner\", \"Host\": \"algo-1\", \"Operation\": \"training\", \"epoch\": 9, \"model\": 13}, \"Metrics\": {\"train_mse_objective\": {\"sum\": 0.8300687866210937, \"count\": 1, \"min\": 0.8300687866210937, \"max\": 0.8300687866210937}}}\n",
      "#metrics {\"StartTime\": 1686777905.254802, \"EndTime\": 1686777905.2548144, \"Dimensions\": {\"Algorithm\": \"Linear Learner\", \"Host\": \"algo-1\", \"Operation\": \"training\", \"epoch\": 9, \"model\": 14}, \"Metrics\": {\"train_mse_objective\": {\"sum\": 0.7173473510742188, \"count\": 1, \"min\": 0.7173473510742188, \"max\": 0.7173473510742188}}}\n",
      "#metrics {\"StartTime\": 1686777905.2548878, \"EndTime\": 1686777905.2549002, \"Dimensions\": {\"Algorithm\": \"Linear Learner\", \"Host\": \"algo-1\", \"Operation\": \"training\", \"epoch\": 9, \"model\": 15}, \"Metrics\": {\"train_mse_objective\": {\"sum\": 0.836541015625, \"count\": 1, \"min\": 0.836541015625, \"max\": 0.836541015625}}}\n",
      "#metrics {\"StartTime\": 1686777905.2549746, \"EndTime\": 1686777905.2549865, \"Dimensions\": {\"Algorithm\": \"Linear Learner\", \"Host\": \"algo-1\", \"Operation\": \"training\", \"epoch\": 9, \"model\": 16}, \"Metrics\": {\"train_mse_objective\": {\"sum\": 0.9116759643554687, \"count\": 1, \"min\": 0.9116759643554687, \"max\": 0.9116759643554687}}}\n",
      "#metrics {\"StartTime\": 1686777905.2550578, \"EndTime\": 1686777905.2550702, \"Dimensions\": {\"Algorithm\": \"Linear Learner\", \"Host\": \"algo-1\", \"Operation\": \"training\", \"epoch\": 9, \"model\": 17}, \"Metrics\": {\"train_mse_objective\": {\"sum\": 0.9354309692382813, \"count\": 1, \"min\": 0.9354309692382813, \"max\": 0.9354309692382813}}}\n",
      "#metrics {\"StartTime\": 1686777905.2551367, \"EndTime\": 1686777905.2551494, \"Dimensions\": {\"Algorithm\": \"Linear Learner\", \"Host\": \"algo-1\", \"Operation\": \"training\", \"epoch\": 9, \"model\": 18}, \"Metrics\": {\"train_mse_objective\": {\"sum\": 0.9474083862304687, \"count\": 1, \"min\": 0.9474083862304687, \"max\": 0.9474083862304687}}}\n",
      "#metrics {\"StartTime\": 1686777905.2552335, \"EndTime\": 1686777905.2552617, \"Dimensions\": {\"Algorithm\": \"Linear Learner\", \"Host\": \"algo-1\", \"Operation\": \"training\", \"epoch\": 9, \"model\": 19}, \"Metrics\": {\"train_mse_objective\": {\"sum\": 0.86839794921875, \"count\": 1, \"min\": 0.86839794921875, \"max\": 0.86839794921875}}}\n",
      "#metrics {\"StartTime\": 1686777905.2553132, \"EndTime\": 1686777905.2553246, \"Dimensions\": {\"Algorithm\": \"Linear Learner\", \"Host\": \"algo-1\", \"Operation\": \"training\", \"epoch\": 9, \"model\": 20}, \"Metrics\": {\"train_mse_objective\": {\"sum\": 0.7741822509765625, \"count\": 1, \"min\": 0.7741822509765625, \"max\": 0.7741822509765625}}}\n",
      "#metrics {\"StartTime\": 1686777905.2553687, \"EndTime\": 1686777905.255379, \"Dimensions\": {\"Algorithm\": \"Linear Learner\", \"Host\": \"algo-1\", \"Operation\": \"training\", \"epoch\": 9, \"model\": 21}, \"Metrics\": {\"train_mse_objective\": {\"sum\": 0.8315996704101563, \"count\": 1, \"min\": 0.8315996704101563, \"max\": 0.8315996704101563}}}\n",
      "#metrics {\"StartTime\": 1686777905.2554116, \"EndTime\": 1686777905.2554197, \"Dimensions\": {\"Algorithm\": \"Linear Learner\", \"Host\": \"algo-1\", \"Operation\": \"training\", \"epoch\": 9, \"model\": 22}, \"Metrics\": {\"train_mse_objective\": {\"sum\": 0.8564396362304687, \"count\": 1, \"min\": 0.8564396362304687, \"max\": 0.8564396362304687}}}\n",
      "#metrics {\"StartTime\": 1686777905.2554958, \"EndTime\": 1686777905.2555356, \"Dimensions\": {\"Algorithm\": \"Linear Learner\", \"Host\": \"algo-1\", \"Operation\": \"training\", \"epoch\": 9, \"model\": 23}, \"Metrics\": {\"train_mse_objective\": {\"sum\": 0.7822568969726562, \"count\": 1, \"min\": 0.7822568969726562, \"max\": 0.7822568969726562}}}\n",
      "#metrics {\"StartTime\": 1686777905.2556098, \"EndTime\": 1686777905.2556224, \"Dimensions\": {\"Algorithm\": \"Linear Learner\", \"Host\": \"algo-1\", \"Operation\": \"training\", \"epoch\": 9, \"model\": 24}, \"Metrics\": {\"train_mse_objective\": {\"sum\": 0.9763377075195312, \"count\": 1, \"min\": 0.9763377075195312, \"max\": 0.9763377075195312}}}\n",
      "#metrics {\"StartTime\": 1686777905.255691, \"EndTime\": 1686777905.2557185, \"Dimensions\": {\"Algorithm\": \"Linear Learner\", \"Host\": \"algo-1\", \"Operation\": \"training\", \"epoch\": 9, \"model\": 25}, \"Metrics\": {\"train_mse_objective\": {\"sum\": 0.9916995239257812, \"count\": 1, \"min\": 0.9916995239257812, \"max\": 0.9916995239257812}}}\n",
      "#metrics {\"StartTime\": 1686777905.2557895, \"EndTime\": 1686777905.2558014, \"Dimensions\": {\"Algorithm\": \"Linear Learner\", \"Host\": \"algo-1\", \"Operation\": \"training\", \"epoch\": 9, \"model\": 26}, \"Metrics\": {\"train_mse_objective\": {\"sum\": 0.9771697998046875, \"count\": 1, \"min\": 0.9771697998046875, \"max\": 0.9771697998046875}}}\n",
      "#metrics {\"StartTime\": 1686777905.2558713, \"EndTime\": 1686777905.2558837, \"Dimensions\": {\"Algorithm\": \"Linear Learner\", \"Host\": \"algo-1\", \"Operation\": \"training\", \"epoch\": 9, \"model\": 27}, \"Metrics\": {\"train_mse_objective\": {\"sum\": 0.9853470458984375, \"count\": 1, \"min\": 0.9853470458984375, \"max\": 0.9853470458984375}}}\n",
      "#metrics {\"StartTime\": 1686777905.2559528, \"EndTime\": 1686777905.2559657, \"Dimensions\": {\"Algorithm\": \"Linear Learner\", \"Host\": \"algo-1\", \"Operation\": \"training\", \"epoch\": 9, \"model\": 28}, \"Metrics\": {\"train_mse_objective\": {\"sum\": 1.1163533935546874, \"count\": 1, \"min\": 1.1163533935546874, \"max\": 1.1163533935546874}}}\n",
      "#metrics {\"StartTime\": 1686777905.2560394, \"EndTime\": 1686777905.256052, \"Dimensions\": {\"Algorithm\": \"Linear Learner\", \"Host\": \"algo-1\", \"Operation\": \"training\", \"epoch\": 9, \"model\": 29}, \"Metrics\": {\"train_mse_objective\": {\"sum\": 1.059918212890625, \"count\": 1, \"min\": 1.059918212890625, \"max\": 1.059918212890625}}}\n",
      "#metrics {\"StartTime\": 1686777905.256126, \"EndTime\": 1686777905.2561376, \"Dimensions\": {\"Algorithm\": \"Linear Learner\", \"Host\": \"algo-1\", \"Operation\": \"training\", \"epoch\": 9, \"model\": 30}, \"Metrics\": {\"train_mse_objective\": {\"sum\": 1.151463134765625, \"count\": 1, \"min\": 1.151463134765625, \"max\": 1.151463134765625}}}\n",
      "#metrics {\"StartTime\": 1686777905.2562091, \"EndTime\": 1686777905.2562206, \"Dimensions\": {\"Algorithm\": \"Linear Learner\", \"Host\": \"algo-1\", \"Operation\": \"training\", \"epoch\": 9, \"model\": 31}, \"Metrics\": {\"train_mse_objective\": {\"sum\": 1.1741480712890624, \"count\": 1, \"min\": 1.1741480712890624, \"max\": 1.1741480712890624}}}\n",
      "[06/14/2023 21:25:05 INFO 140335316649792] #quality_metric: host=algo-1, epoch=9, train mse_objective <loss>=0.8914915161132813\n",
      "[06/14/2023 21:25:05 INFO 140335316649792] #early_stopping_criteria_metric: host=algo-1, epoch=9, criteria=mse_objective, value=0.7090670166015625\n",
      "[06/14/2023 21:25:05 INFO 140335316649792] Saving model for epoch: 9\n",
      "[06/14/2023 21:25:05 INFO 140335316649792] Saved checkpoint to \"/tmp/tmpp6g3qd6w/mx-mod-0000.params\"\n",
      "[06/14/2023 21:25:05 INFO 140335316649792] #progress_metric: host=algo-1, completed 66.66666666666667 % of epochs\n",
      "#metrics {\"StartTime\": 1686777905.2337508, \"EndTime\": 1686777905.2625654, \"Dimensions\": {\"Algorithm\": \"Linear Learner\", \"Host\": \"algo-1\", \"Operation\": \"training\", \"epoch\": 9, \"Meta\": \"training_data_iter\"}, \"Metrics\": {\"Total Records Seen\": {\"sum\": 12781.0, \"count\": 1, \"min\": 12781, \"max\": 12781}, \"Total Batches Seen\": {\"sum\": 23.0, \"count\": 1, \"min\": 23, \"max\": 23}, \"Max Records Seen Between Resets\": {\"sum\": 1071.0, \"count\": 1, \"min\": 1071, \"max\": 1071}, \"Max Batches Seen Between Resets\": {\"sum\": 2.0, \"count\": 1, \"min\": 2, \"max\": 2}, \"Reset Count\": {\"sum\": 12.0, \"count\": 1, \"min\": 12, \"max\": 12}, \"Number of Records Since Last Reset\": {\"sum\": 1071.0, \"count\": 1, \"min\": 1071, \"max\": 1071}, \"Number of Batches Since Last Reset\": {\"sum\": 2.0, \"count\": 1, \"min\": 2, \"max\": 2}}}\n",
      "[06/14/2023 21:25:05 INFO 140335316649792] #throughput_metric: host=algo-1, train throughput=37025.95207833634 records/second\n",
      "[2023-06-14 21:25:05.279] [tensorio] [info] epoch_stats={\"data_pipeline\": \"/opt/ml/input/data/train\", \"epoch\": 24, \"duration\": 16, \"num_examples\": 2, \"num_bytes\": 68544}\n",
      "#metrics {\"StartTime\": 1686777905.2794545, \"EndTime\": 1686777905.2795198, \"Dimensions\": {\"Algorithm\": \"Linear Learner\", \"Host\": \"algo-1\", \"Operation\": \"training\", \"epoch\": 10, \"model\": 0}, \"Metrics\": {\"train_mse_objective\": {\"sum\": 0.8791598510742188, \"count\": 1, \"min\": 0.8791598510742188, \"max\": 0.8791598510742188}}}\n",
      "#metrics {\"StartTime\": 1686777905.2795904, \"EndTime\": 1686777905.2796025, \"Dimensions\": {\"Algorithm\": \"Linear Learner\", \"Host\": \"algo-1\", \"Operation\": \"training\", \"epoch\": 10, \"model\": 1}, \"Metrics\": {\"train_mse_objective\": {\"sum\": 0.8561797485351562, \"count\": 1, \"min\": 0.8561797485351562, \"max\": 0.8561797485351562}}}\n",
      "#metrics {\"StartTime\": 1686777905.279633, \"EndTime\": 1686777905.2796404, \"Dimensions\": {\"Algorithm\": \"Linear Learner\", \"Host\": \"algo-1\", \"Operation\": \"training\", \"epoch\": 10, \"model\": 2}, \"Metrics\": {\"train_mse_objective\": {\"sum\": 0.88634228515625, \"count\": 1, \"min\": 0.88634228515625, \"max\": 0.88634228515625}}}\n",
      "#metrics {\"StartTime\": 1686777905.2796683, \"EndTime\": 1686777905.2796762, \"Dimensions\": {\"Algorithm\": \"Linear Learner\", \"Host\": \"algo-1\", \"Operation\": \"training\", \"epoch\": 10, \"model\": 3}, \"Metrics\": {\"train_mse_objective\": {\"sum\": 0.8599588623046875, \"count\": 1, \"min\": 0.8599588623046875, \"max\": 0.8599588623046875}}}\n",
      "#metrics {\"StartTime\": 1686777905.2797048, \"EndTime\": 1686777905.2797117, \"Dimensions\": {\"Algorithm\": \"Linear Learner\", \"Host\": \"algo-1\", \"Operation\": \"training\", \"epoch\": 10, \"model\": 4}, \"Metrics\": {\"train_mse_objective\": {\"sum\": 0.6561416015625, \"count\": 1, \"min\": 0.6561416015625, \"max\": 0.6561416015625}}}\n",
      "#metrics {\"StartTime\": 1686777905.2797394, \"EndTime\": 1686777905.2797468, \"Dimensions\": {\"Algorithm\": \"Linear Learner\", \"Host\": \"algo-1\", \"Operation\": \"training\", \"epoch\": 10, \"model\": 5}, \"Metrics\": {\"train_mse_objective\": {\"sum\": 0.66132080078125, \"count\": 1, \"min\": 0.66132080078125, \"max\": 0.66132080078125}}}\n",
      "#metrics {\"StartTime\": 1686777905.2797742, \"EndTime\": 1686777905.2797816, \"Dimensions\": {\"Algorithm\": \"Linear Learner\", \"Host\": \"algo-1\", \"Operation\": \"training\", \"epoch\": 10, \"model\": 6}, \"Metrics\": {\"train_mse_objective\": {\"sum\": 0.7268419799804687, \"count\": 1, \"min\": 0.7268419799804687, \"max\": 0.7268419799804687}}}\n",
      "#metrics {\"StartTime\": 1686777905.2798092, \"EndTime\": 1686777905.2798166, \"Dimensions\": {\"Algorithm\": \"Linear Learner\", \"Host\": \"algo-1\", \"Operation\": \"training\", \"epoch\": 10, \"model\": 7}, \"Metrics\": {\"train_mse_objective\": {\"sum\": 0.664253662109375, \"count\": 1, \"min\": 0.664253662109375, \"max\": 0.664253662109375}}}\n",
      "#metrics {\"StartTime\": 1686777905.2798464, \"EndTime\": 1686777905.2798543, \"Dimensions\": {\"Algorithm\": \"Linear Learner\", \"Host\": \"algo-1\", \"Operation\": \"training\", \"epoch\": 10, \"model\": 8}, \"Metrics\": {\"train_mse_objective\": {\"sum\": 0.77868798828125, \"count\": 1, \"min\": 0.77868798828125, \"max\": 0.77868798828125}}}\n",
      "#metrics {\"StartTime\": 1686777905.279883, \"EndTime\": 1686777905.2798913, \"Dimensions\": {\"Algorithm\": \"Linear Learner\", \"Host\": \"algo-1\", \"Operation\": \"training\", \"epoch\": 10, \"model\": 9}, \"Metrics\": {\"train_mse_objective\": {\"sum\": 0.8466903686523437, \"count\": 1, \"min\": 0.8466903686523437, \"max\": 0.8466903686523437}}}\n",
      "#metrics {\"StartTime\": 1686777905.2799218, \"EndTime\": 1686777905.2799299, \"Dimensions\": {\"Algorithm\": \"Linear Learner\", \"Host\": \"algo-1\", \"Operation\": \"training\", \"epoch\": 10, \"model\": 10}, \"Metrics\": {\"train_mse_objective\": {\"sum\": 0.9406214599609375, \"count\": 1, \"min\": 0.9406214599609375, \"max\": 0.9406214599609375}}}\n",
      "#metrics {\"StartTime\": 1686777905.279959, \"EndTime\": 1686777905.2799673, \"Dimensions\": {\"Algorithm\": \"Linear Learner\", \"Host\": \"algo-1\", \"Operation\": \"training\", \"epoch\": 10, \"model\": 11}, \"Metrics\": {\"train_mse_objective\": {\"sum\": 0.8709078369140625, \"count\": 1, \"min\": 0.8709078369140625, \"max\": 0.8709078369140625}}}\n",
      "#metrics {\"StartTime\": 1686777905.2799983, \"EndTime\": 1686777905.2800078, \"Dimensions\": {\"Algorithm\": \"Linear Learner\", \"Host\": \"algo-1\", \"Operation\": \"training\", \"epoch\": 10, \"model\": 12}, \"Metrics\": {\"train_mse_objective\": {\"sum\": 0.7868310546875, \"count\": 1, \"min\": 0.7868310546875, \"max\": 0.7868310546875}}}\n",
      "#metrics {\"StartTime\": 1686777905.280035, \"EndTime\": 1686777905.2800426, \"Dimensions\": {\"Algorithm\": \"Linear Learner\", \"Host\": \"algo-1\", \"Operation\": \"training\", \"epoch\": 10, \"model\": 13}, \"Metrics\": {\"train_mse_objective\": {\"sum\": 0.7488751220703125, \"count\": 1, \"min\": 0.7488751220703125, \"max\": 0.7488751220703125}}}\n",
      "#metrics {\"StartTime\": 1686777905.2800717, \"EndTime\": 1686777905.2800798, \"Dimensions\": {\"Algorithm\": \"Linear Learner\", \"Host\": \"algo-1\", \"Operation\": \"training\", \"epoch\": 10, \"model\": 14}, \"Metrics\": {\"train_mse_objective\": {\"sum\": 0.6501358032226563, \"count\": 1, \"min\": 0.6501358032226563, \"max\": 0.6501358032226563}}}\n",
      "#metrics {\"StartTime\": 1686777905.2801108, \"EndTime\": 1686777905.2801185, \"Dimensions\": {\"Algorithm\": \"Linear Learner\", \"Host\": \"algo-1\", \"Operation\": \"training\", \"epoch\": 10, \"model\": 15}, \"Metrics\": {\"train_mse_objective\": {\"sum\": 0.8065079345703124, \"count\": 1, \"min\": 0.8065079345703124, \"max\": 0.8065079345703124}}}\n",
      "#metrics {\"StartTime\": 1686777905.280148, \"EndTime\": 1686777905.2801561, \"Dimensions\": {\"Algorithm\": \"Linear Learner\", \"Host\": \"algo-1\", \"Operation\": \"training\", \"epoch\": 10, \"model\": 16}, \"Metrics\": {\"train_mse_objective\": {\"sum\": 0.8983902587890625, \"count\": 1, \"min\": 0.8983902587890625, \"max\": 0.8983902587890625}}}\n",
      "#metrics {\"StartTime\": 1686777905.2801871, \"EndTime\": 1686777905.2801955, \"Dimensions\": {\"Algorithm\": \"Linear Learner\", \"Host\": \"algo-1\", \"Operation\": \"training\", \"epoch\": 10, \"model\": 17}, \"Metrics\": {\"train_mse_objective\": {\"sum\": 0.92234423828125, \"count\": 1, \"min\": 0.92234423828125, \"max\": 0.92234423828125}}}\n",
      "#metrics {\"StartTime\": 1686777905.280224, \"EndTime\": 1686777905.2802312, \"Dimensions\": {\"Algorithm\": \"Linear Learner\", \"Host\": \"algo-1\", \"Operation\": \"training\", \"epoch\": 10, \"model\": 18}, \"Metrics\": {\"train_mse_objective\": {\"sum\": 0.9328131103515624, \"count\": 1, \"min\": 0.9328131103515624, \"max\": 0.9328131103515624}}}\n",
      "#metrics {\"StartTime\": 1686777905.2802584, \"EndTime\": 1686777905.2802663, \"Dimensions\": {\"Algorithm\": \"Linear Learner\", \"Host\": \"algo-1\", \"Operation\": \"training\", \"epoch\": 10, \"model\": 19}, \"Metrics\": {\"train_mse_objective\": {\"sum\": 0.8555933837890625, \"count\": 1, \"min\": 0.8555933837890625, \"max\": 0.8555933837890625}}}\n",
      "#metrics {\"StartTime\": 1686777905.2802966, \"EndTime\": 1686777905.2803047, \"Dimensions\": {\"Algorithm\": \"Linear Learner\", \"Host\": \"algo-1\", \"Operation\": \"training\", \"epoch\": 10, \"model\": 20}, \"Metrics\": {\"train_mse_objective\": {\"sum\": 0.7120524291992187, \"count\": 1, \"min\": 0.7120524291992187, \"max\": 0.7120524291992187}}}\n",
      "#metrics {\"StartTime\": 1686777905.2803338, \"EndTime\": 1686777905.2803419, \"Dimensions\": {\"Algorithm\": \"Linear Learner\", \"Host\": \"algo-1\", \"Operation\": \"training\", \"epoch\": 10, \"model\": 21}, \"Metrics\": {\"train_mse_objective\": {\"sum\": 0.7839982299804688, \"count\": 1, \"min\": 0.7839982299804688, \"max\": 0.7839982299804688}}}\n",
      "#metrics {\"StartTime\": 1686777905.2803724, \"EndTime\": 1686777905.2803807, \"Dimensions\": {\"Algorithm\": \"Linear Learner\", \"Host\": \"algo-1\", \"Operation\": \"training\", \"epoch\": 10, \"model\": 22}, \"Metrics\": {\"train_mse_objective\": {\"sum\": 0.789564453125, \"count\": 1, \"min\": 0.789564453125, \"max\": 0.789564453125}}}\n",
      "#metrics {\"StartTime\": 1686777905.280417, \"EndTime\": 1686777905.280425, \"Dimensions\": {\"Algorithm\": \"Linear Learner\", \"Host\": \"algo-1\", \"Operation\": \"training\", \"epoch\": 10, \"model\": 23}, \"Metrics\": {\"train_mse_objective\": {\"sum\": 0.741755615234375, \"count\": 1, \"min\": 0.741755615234375, \"max\": 0.741755615234375}}}\n",
      "#metrics {\"StartTime\": 1686777905.280455, \"EndTime\": 1686777905.2804635, \"Dimensions\": {\"Algorithm\": \"Linear Learner\", \"Host\": \"algo-1\", \"Operation\": \"training\", \"epoch\": 10, \"model\": 24}, \"Metrics\": {\"train_mse_objective\": {\"sum\": 0.9777828979492188, \"count\": 1, \"min\": 0.9777828979492188, \"max\": 0.9777828979492188}}}\n",
      "#metrics {\"StartTime\": 1686777905.2804923, \"EndTime\": 1686777905.2805007, \"Dimensions\": {\"Algorithm\": \"Linear Learner\", \"Host\": \"algo-1\", \"Operation\": \"training\", \"epoch\": 10, \"model\": 25}, \"Metrics\": {\"train_mse_objective\": {\"sum\": 0.9946696166992187, \"count\": 1, \"min\": 0.9946696166992187, \"max\": 0.9946696166992187}}}\n",
      "#metrics {\"StartTime\": 1686777905.2805293, \"EndTime\": 1686777905.2805374, \"Dimensions\": {\"Algorithm\": \"Linear Learner\", \"Host\": \"algo-1\", \"Operation\": \"training\", \"epoch\": 10, \"model\": 26}, \"Metrics\": {\"train_mse_objective\": {\"sum\": 0.9814978637695313, \"count\": 1, \"min\": 0.9814978637695313, \"max\": 0.9814978637695313}}}\n",
      "#metrics {\"StartTime\": 1686777905.2805657, \"EndTime\": 1686777905.2805736, \"Dimensions\": {\"Algorithm\": \"Linear Learner\", \"Host\": \"algo-1\", \"Operation\": \"training\", \"epoch\": 10, \"model\": 27}, \"Metrics\": {\"train_mse_objective\": {\"sum\": 0.9828726806640625, \"count\": 1, \"min\": 0.9828726806640625, \"max\": 0.9828726806640625}}}\n",
      "#metrics {\"StartTime\": 1686777905.2806044, \"EndTime\": 1686777905.2806125, \"Dimensions\": {\"Algorithm\": \"Linear Learner\", \"Host\": \"algo-1\", \"Operation\": \"training\", \"epoch\": 10, \"model\": 28}, \"Metrics\": {\"train_mse_objective\": {\"sum\": 1.0558179931640626, \"count\": 1, \"min\": 1.0558179931640626, \"max\": 1.0558179931640626}}}\n",
      "#metrics {\"StartTime\": 1686777905.2806416, \"EndTime\": 1686777905.2806492, \"Dimensions\": {\"Algorithm\": \"Linear Learner\", \"Host\": \"algo-1\", \"Operation\": \"training\", \"epoch\": 10, \"model\": 29}, \"Metrics\": {\"train_mse_objective\": {\"sum\": 0.9818250122070312, \"count\": 1, \"min\": 0.9818250122070312, \"max\": 0.9818250122070312}}}\n",
      "#metrics {\"StartTime\": 1686777905.2806804, \"EndTime\": 1686777905.28069, \"Dimensions\": {\"Algorithm\": \"Linear Learner\", \"Host\": \"algo-1\", \"Operation\": \"training\", \"epoch\": 10, \"model\": 30}, \"Metrics\": {\"train_mse_objective\": {\"sum\": 1.07366552734375, \"count\": 1, \"min\": 1.07366552734375, \"max\": 1.07366552734375}}}\n",
      "#metrics {\"StartTime\": 1686777905.2807212, \"EndTime\": 1686777905.2807283, \"Dimensions\": {\"Algorithm\": \"Linear Learner\", \"Host\": \"algo-1\", \"Operation\": \"training\", \"epoch\": 10, \"model\": 31}, \"Metrics\": {\"train_mse_objective\": {\"sum\": 1.0806964111328126, \"count\": 1, \"min\": 1.0806964111328126, \"max\": 1.0806964111328126}}}\n",
      "[06/14/2023 21:25:05 INFO 140335316649792] #quality_metric: host=algo-1, epoch=10, train mse_objective <loss>=0.8791598510742188\n",
      "[06/14/2023 21:25:05 INFO 140335316649792] #early_stopping_criteria_metric: host=algo-1, epoch=10, criteria=mse_objective, value=0.6501358032226563\n",
      "[06/14/2023 21:25:05 INFO 140335316649792] Epoch 10: Loss improved. Updating best model\n",
      "[06/14/2023 21:25:05 INFO 140335316649792] Saving model for epoch: 10\n",
      "[06/14/2023 21:25:05 INFO 140335316649792] Saved checkpoint to \"/tmp/tmpcs1hdwbg/mx-mod-0000.params\"\n",
      "[06/14/2023 21:25:05 INFO 140335316649792] #progress_metric: host=algo-1, completed 73.33333333333333 % of epochs\n",
      "#metrics {\"StartTime\": 1686777905.2628422, \"EndTime\": 1686777905.28782, \"Dimensions\": {\"Algorithm\": \"Linear Learner\", \"Host\": \"algo-1\", \"Operation\": \"training\", \"epoch\": 10, \"Meta\": \"training_data_iter\"}, \"Metrics\": {\"Total Records Seen\": {\"sum\": 13852.0, \"count\": 1, \"min\": 13852, \"max\": 13852}, \"Total Batches Seen\": {\"sum\": 25.0, \"count\": 1, \"min\": 25, \"max\": 25}, \"Max Records Seen Between Resets\": {\"sum\": 1071.0, \"count\": 1, \"min\": 1071, \"max\": 1071}, \"Max Batches Seen Between Resets\": {\"sum\": 2.0, \"count\": 1, \"min\": 2, \"max\": 2}, \"Reset Count\": {\"sum\": 13.0, \"count\": 1, \"min\": 13, \"max\": 13}, \"Number of Records Since Last Reset\": {\"sum\": 1071.0, \"count\": 1, \"min\": 1071, \"max\": 1071}, \"Number of Batches Since Last Reset\": {\"sum\": 2.0, \"count\": 1, \"min\": 2, \"max\": 2}}}\n",
      "[06/14/2023 21:25:05 INFO 140335316649792] #throughput_metric: host=algo-1, train throughput=42670.14565661363 records/second\n",
      "[2023-06-14 21:25:05.302] [tensorio] [info] epoch_stats={\"data_pipeline\": \"/opt/ml/input/data/train\", \"epoch\": 26, \"duration\": 14, \"num_examples\": 2, \"num_bytes\": 68544}\n",
      "#metrics {\"StartTime\": 1686777905.3026006, \"EndTime\": 1686777905.3026605, \"Dimensions\": {\"Algorithm\": \"Linear Learner\", \"Host\": \"algo-1\", \"Operation\": \"training\", \"epoch\": 11, \"model\": 0}, \"Metrics\": {\"train_mse_objective\": {\"sum\": 0.8674849243164062, \"count\": 1, \"min\": 0.8674849243164062, \"max\": 0.8674849243164062}}}\n",
      "#metrics {\"StartTime\": 1686777905.3027241, \"EndTime\": 1686777905.3027368, \"Dimensions\": {\"Algorithm\": \"Linear Learner\", \"Host\": \"algo-1\", \"Operation\": \"training\", \"epoch\": 11, \"model\": 1}, \"Metrics\": {\"train_mse_objective\": {\"sum\": 0.8438611450195312, \"count\": 1, \"min\": 0.8438611450195312, \"max\": 0.8438611450195312}}}\n",
      "#metrics {\"StartTime\": 1686777905.3027723, \"EndTime\": 1686777905.3027804, \"Dimensions\": {\"Algorithm\": \"Linear Learner\", \"Host\": \"algo-1\", \"Operation\": \"training\", \"epoch\": 11, \"model\": 2}, \"Metrics\": {\"train_mse_objective\": {\"sum\": 0.8744031372070312, \"count\": 1, \"min\": 0.8744031372070312, \"max\": 0.8744031372070312}}}\n",
      "#metrics {\"StartTime\": 1686777905.302808, \"EndTime\": 1686777905.302815, \"Dimensions\": {\"Algorithm\": \"Linear Learner\", \"Host\": \"algo-1\", \"Operation\": \"training\", \"epoch\": 11, \"model\": 3}, \"Metrics\": {\"train_mse_objective\": {\"sum\": 0.8479910888671875, \"count\": 1, \"min\": 0.8479910888671875, \"max\": 0.8479910888671875}}}\n",
      "#metrics {\"StartTime\": 1686777905.302844, \"EndTime\": 1686777905.3028526, \"Dimensions\": {\"Algorithm\": \"Linear Learner\", \"Host\": \"algo-1\", \"Operation\": \"training\", \"epoch\": 11, \"model\": 4}, \"Metrics\": {\"train_mse_objective\": {\"sum\": 0.6508237915039062, \"count\": 1, \"min\": 0.6508237915039062, \"max\": 0.6508237915039062}}}\n",
      "#metrics {\"StartTime\": 1686777905.3028839, \"EndTime\": 1686777905.3028913, \"Dimensions\": {\"Algorithm\": \"Linear Learner\", \"Host\": \"algo-1\", \"Operation\": \"training\", \"epoch\": 11, \"model\": 5}, \"Metrics\": {\"train_mse_objective\": {\"sum\": 0.6531045532226563, \"count\": 1, \"min\": 0.6531045532226563, \"max\": 0.6531045532226563}}}\n",
      "#metrics {\"StartTime\": 1686777905.3029184, \"EndTime\": 1686777905.3029253, \"Dimensions\": {\"Algorithm\": \"Linear Learner\", \"Host\": \"algo-1\", \"Operation\": \"training\", \"epoch\": 11, \"model\": 6}, \"Metrics\": {\"train_mse_objective\": {\"sum\": 0.6477562866210937, \"count\": 1, \"min\": 0.6477562866210937, \"max\": 0.6477562866210937}}}\n",
      "#metrics {\"StartTime\": 1686777905.3029523, \"EndTime\": 1686777905.30296, \"Dimensions\": {\"Algorithm\": \"Linear Learner\", \"Host\": \"algo-1\", \"Operation\": \"training\", \"epoch\": 11, \"model\": 7}, \"Metrics\": {\"train_mse_objective\": {\"sum\": 0.6726028442382812, \"count\": 1, \"min\": 0.6726028442382812, \"max\": 0.6726028442382812}}}\n",
      "#metrics {\"StartTime\": 1686777905.3029907, \"EndTime\": 1686777905.3029976, \"Dimensions\": {\"Algorithm\": \"Linear Learner\", \"Host\": \"algo-1\", \"Operation\": \"training\", \"epoch\": 11, \"model\": 8}, \"Metrics\": {\"train_mse_objective\": {\"sum\": 0.7701724853515625, \"count\": 1, \"min\": 0.7701724853515625, \"max\": 0.7701724853515625}}}\n",
      "#metrics {\"StartTime\": 1686777905.3030257, \"EndTime\": 1686777905.3030334, \"Dimensions\": {\"Algorithm\": \"Linear Learner\", \"Host\": \"algo-1\", \"Operation\": \"training\", \"epoch\": 11, \"model\": 9}, \"Metrics\": {\"train_mse_objective\": {\"sum\": 0.8348819580078125, \"count\": 1, \"min\": 0.8348819580078125, \"max\": 0.8348819580078125}}}\n",
      "#metrics {\"StartTime\": 1686777905.303064, \"EndTime\": 1686777905.3030722, \"Dimensions\": {\"Algorithm\": \"Linear Learner\", \"Host\": \"algo-1\", \"Operation\": \"training\", \"epoch\": 11, \"model\": 10}, \"Metrics\": {\"train_mse_objective\": {\"sum\": 0.926640625, \"count\": 1, \"min\": 0.926640625, \"max\": 0.926640625}}}\n",
      "#metrics {\"StartTime\": 1686777905.3031027, \"EndTime\": 1686777905.303111, \"Dimensions\": {\"Algorithm\": \"Linear Learner\", \"Host\": \"algo-1\", \"Operation\": \"training\", \"epoch\": 11, \"model\": 11}, \"Metrics\": {\"train_mse_objective\": {\"sum\": 0.8579482421875, \"count\": 1, \"min\": 0.8579482421875, \"max\": 0.8579482421875}}}\n",
      "#metrics {\"StartTime\": 1686777905.3031416, \"EndTime\": 1686777905.303149, \"Dimensions\": {\"Algorithm\": \"Linear Learner\", \"Host\": \"algo-1\", \"Operation\": \"training\", \"epoch\": 11, \"model\": 12}, \"Metrics\": {\"train_mse_objective\": {\"sum\": 0.6874268188476562, \"count\": 1, \"min\": 0.6874268188476562, \"max\": 0.6874268188476562}}}\n",
      "#metrics {\"StartTime\": 1686777905.303177, \"EndTime\": 1686777905.3031852, \"Dimensions\": {\"Algorithm\": \"Linear Learner\", \"Host\": \"algo-1\", \"Operation\": \"training\", \"epoch\": 11, \"model\": 13}, \"Metrics\": {\"train_mse_objective\": {\"sum\": 0.6541807861328125, \"count\": 1, \"min\": 0.6541807861328125, \"max\": 0.6541807861328125}}}\n",
      "#metrics {\"StartTime\": 1686777905.3032134, \"EndTime\": 1686777905.3032217, \"Dimensions\": {\"Algorithm\": \"Linear Learner\", \"Host\": \"algo-1\", \"Operation\": \"training\", \"epoch\": 11, \"model\": 14}, \"Metrics\": {\"train_mse_objective\": {\"sum\": 0.6472337036132813, \"count\": 1, \"min\": 0.6472337036132813, \"max\": 0.6472337036132813}}}\n",
      "#metrics {\"StartTime\": 1686777905.3032522, \"EndTime\": 1686777905.3032596, \"Dimensions\": {\"Algorithm\": \"Linear Learner\", \"Host\": \"algo-1\", \"Operation\": \"training\", \"epoch\": 11, \"model\": 15}, \"Metrics\": {\"train_mse_objective\": {\"sum\": 0.7001089477539062, \"count\": 1, \"min\": 0.7001089477539062, \"max\": 0.7001089477539062}}}\n",
      "#metrics {\"StartTime\": 1686777905.3032875, \"EndTime\": 1686777905.303295, \"Dimensions\": {\"Algorithm\": \"Linear Learner\", \"Host\": \"algo-1\", \"Operation\": \"training\", \"epoch\": 11, \"model\": 16}, \"Metrics\": {\"train_mse_objective\": {\"sum\": 0.885803955078125, \"count\": 1, \"min\": 0.885803955078125, \"max\": 0.885803955078125}}}\n",
      "#metrics {\"StartTime\": 1686777905.3033245, \"EndTime\": 1686777905.3033326, \"Dimensions\": {\"Algorithm\": \"Linear Learner\", \"Host\": \"algo-1\", \"Operation\": \"training\", \"epoch\": 11, \"model\": 17}, \"Metrics\": {\"train_mse_objective\": {\"sum\": 0.9098401489257812, \"count\": 1, \"min\": 0.9098401489257812, \"max\": 0.9098401489257812}}}\n",
      "#metrics {\"StartTime\": 1686777905.3033624, \"EndTime\": 1686777905.30337, \"Dimensions\": {\"Algorithm\": \"Linear Learner\", \"Host\": \"algo-1\", \"Operation\": \"training\", \"epoch\": 11, \"model\": 18}, \"Metrics\": {\"train_mse_objective\": {\"sum\": 0.9190045166015625, \"count\": 1, \"min\": 0.9190045166015625, \"max\": 0.9190045166015625}}}\n",
      "#metrics {\"StartTime\": 1686777905.3033984, \"EndTime\": 1686777905.3034065, \"Dimensions\": {\"Algorithm\": \"Linear Learner\", \"Host\": \"algo-1\", \"Operation\": \"training\", \"epoch\": 11, \"model\": 19}, \"Metrics\": {\"train_mse_objective\": {\"sum\": 0.8433924560546875, \"count\": 1, \"min\": 0.8433924560546875, \"max\": 0.8433924560546875}}}\n",
      "#metrics {\"StartTime\": 1686777905.3034368, \"EndTime\": 1686777905.3034446, \"Dimensions\": {\"Algorithm\": \"Linear Learner\", \"Host\": \"algo-1\", \"Operation\": \"training\", \"epoch\": 11, \"model\": 20}, \"Metrics\": {\"train_mse_objective\": {\"sum\": 0.7006604614257812, \"count\": 1, \"min\": 0.7006604614257812, \"max\": 0.7006604614257812}}}\n",
      "#metrics {\"StartTime\": 1686777905.3034732, \"EndTime\": 1686777905.303481, \"Dimensions\": {\"Algorithm\": \"Linear Learner\", \"Host\": \"algo-1\", \"Operation\": \"training\", \"epoch\": 11, \"model\": 21}, \"Metrics\": {\"train_mse_objective\": {\"sum\": 0.7552601928710938, \"count\": 1, \"min\": 0.7552601928710938, \"max\": 0.7552601928710938}}}\n",
      "#metrics {\"StartTime\": 1686777905.30351, \"EndTime\": 1686777905.303518, \"Dimensions\": {\"Algorithm\": \"Linear Learner\", \"Host\": \"algo-1\", \"Operation\": \"training\", \"epoch\": 11, \"model\": 22}, \"Metrics\": {\"train_mse_objective\": {\"sum\": 0.74734716796875, \"count\": 1, \"min\": 0.74734716796875, \"max\": 0.74734716796875}}}\n",
      "#metrics {\"StartTime\": 1686777905.3035476, \"EndTime\": 1686777905.3035557, \"Dimensions\": {\"Algorithm\": \"Linear Learner\", \"Host\": \"algo-1\", \"Operation\": \"training\", \"epoch\": 11, \"model\": 23}, \"Metrics\": {\"train_mse_objective\": {\"sum\": 0.7451403198242188, \"count\": 1, \"min\": 0.7451403198242188, \"max\": 0.7451403198242188}}}\n",
      "#metrics {\"StartTime\": 1686777905.303585, \"EndTime\": 1686777905.3035932, \"Dimensions\": {\"Algorithm\": \"Linear Learner\", \"Host\": \"algo-1\", \"Operation\": \"training\", \"epoch\": 11, \"model\": 24}, \"Metrics\": {\"train_mse_objective\": {\"sum\": 0.9796765747070313, \"count\": 1, \"min\": 0.9796765747070313, \"max\": 0.9796765747070313}}}\n",
      "#metrics {\"StartTime\": 1686777905.303624, \"EndTime\": 1686777905.303632, \"Dimensions\": {\"Algorithm\": \"Linear Learner\", \"Host\": \"algo-1\", \"Operation\": \"training\", \"epoch\": 11, \"model\": 25}, \"Metrics\": {\"train_mse_objective\": {\"sum\": 0.99738232421875, \"count\": 1, \"min\": 0.99738232421875, \"max\": 0.99738232421875}}}\n",
      "#metrics {\"StartTime\": 1686777905.3036606, \"EndTime\": 1686777905.3036685, \"Dimensions\": {\"Algorithm\": \"Linear Learner\", \"Host\": \"algo-1\", \"Operation\": \"training\", \"epoch\": 11, \"model\": 26}, \"Metrics\": {\"train_mse_objective\": {\"sum\": 0.985761474609375, \"count\": 1, \"min\": 0.985761474609375, \"max\": 0.985761474609375}}}\n",
      "#metrics {\"StartTime\": 1686777905.3036993, \"EndTime\": 1686777905.3037074, \"Dimensions\": {\"Algorithm\": \"Linear Learner\", \"Host\": \"algo-1\", \"Operation\": \"training\", \"epoch\": 11, \"model\": 27}, \"Metrics\": {\"train_mse_objective\": {\"sum\": 0.9807617797851562, \"count\": 1, \"min\": 0.9807617797851562, \"max\": 0.9807617797851562}}}\n",
      "#metrics {\"StartTime\": 1686777905.3037367, \"EndTime\": 1686777905.3037448, \"Dimensions\": {\"Algorithm\": \"Linear Learner\", \"Host\": \"algo-1\", \"Operation\": \"training\", \"epoch\": 11, \"model\": 28}, \"Metrics\": {\"train_mse_objective\": {\"sum\": 1.0324927978515626, \"count\": 1, \"min\": 1.0324927978515626, \"max\": 1.0324927978515626}}}\n",
      "#metrics {\"StartTime\": 1686777905.3037736, \"EndTime\": 1686777905.3037817, \"Dimensions\": {\"Algorithm\": \"Linear Learner\", \"Host\": \"algo-1\", \"Operation\": \"training\", \"epoch\": 11, \"model\": 29}, \"Metrics\": {\"train_mse_objective\": {\"sum\": 0.9663002319335937, \"count\": 1, \"min\": 0.9663002319335937, \"max\": 0.9663002319335937}}}\n",
      "#metrics {\"StartTime\": 1686777905.3038106, \"EndTime\": 1686777905.3038187, \"Dimensions\": {\"Algorithm\": \"Linear Learner\", \"Host\": \"algo-1\", \"Operation\": \"training\", \"epoch\": 11, \"model\": 30}, \"Metrics\": {\"train_mse_objective\": {\"sum\": 1.0195751953125, \"count\": 1, \"min\": 1.0195751953125, \"max\": 1.0195751953125}}}\n",
      "#metrics {\"StartTime\": 1686777905.3038492, \"EndTime\": 1686777905.3038568, \"Dimensions\": {\"Algorithm\": \"Linear Learner\", \"Host\": \"algo-1\", \"Operation\": \"training\", \"epoch\": 11, \"model\": 31}, \"Metrics\": {\"train_mse_objective\": {\"sum\": 1.01674462890625, \"count\": 1, \"min\": 1.01674462890625, \"max\": 1.01674462890625}}}\n",
      "[06/14/2023 21:25:05 INFO 140335316649792] #quality_metric: host=algo-1, epoch=11, train mse_objective <loss>=0.8674849243164062\n",
      "[06/14/2023 21:25:05 INFO 140335316649792] #early_stopping_criteria_metric: host=algo-1, epoch=11, criteria=mse_objective, value=0.6472337036132813\n",
      "[06/14/2023 21:25:05 INFO 140335316649792] Epoch 11: Loss improved. Updating best model\n",
      "[06/14/2023 21:25:05 INFO 140335316649792] Saving model for epoch: 11\n",
      "[06/14/2023 21:25:05 INFO 140335316649792] Saved checkpoint to \"/tmp/tmp0t75wtn6/mx-mod-0000.params\"\n",
      "[06/14/2023 21:25:05 INFO 140335316649792] #progress_metric: host=algo-1, completed 80.0 % of epochs\n",
      "#metrics {\"StartTime\": 1686777905.2880945, \"EndTime\": 1686777905.3102725, \"Dimensions\": {\"Algorithm\": \"Linear Learner\", \"Host\": \"algo-1\", \"Operation\": \"training\", \"epoch\": 11, \"Meta\": \"training_data_iter\"}, \"Metrics\": {\"Total Records Seen\": {\"sum\": 14923.0, \"count\": 1, \"min\": 14923, \"max\": 14923}, \"Total Batches Seen\": {\"sum\": 27.0, \"count\": 1, \"min\": 27, \"max\": 27}, \"Max Records Seen Between Resets\": {\"sum\": 1071.0, \"count\": 1, \"min\": 1071, \"max\": 1071}, \"Max Batches Seen Between Resets\": {\"sum\": 2.0, \"count\": 1, \"min\": 2, \"max\": 2}, \"Reset Count\": {\"sum\": 14.0, \"count\": 1, \"min\": 14, \"max\": 14}, \"Number of Records Since Last Reset\": {\"sum\": 1071.0, \"count\": 1, \"min\": 1071, \"max\": 1071}, \"Number of Batches Since Last Reset\": {\"sum\": 2.0, \"count\": 1, \"min\": 2, \"max\": 2}}}\n",
      "[06/14/2023 21:25:05 INFO 140335316649792] #throughput_metric: host=algo-1, train throughput=48029.46266358737 records/second\n",
      "[2023-06-14 21:25:05.323] [tensorio] [info] epoch_stats={\"data_pipeline\": \"/opt/ml/input/data/train\", \"epoch\": 28, \"duration\": 12, \"num_examples\": 2, \"num_bytes\": 68544}\n",
      "#metrics {\"StartTime\": 1686777905.323279, \"EndTime\": 1686777905.3233457, \"Dimensions\": {\"Algorithm\": \"Linear Learner\", \"Host\": \"algo-1\", \"Operation\": \"training\", \"epoch\": 12, \"model\": 0}, \"Metrics\": {\"train_mse_objective\": {\"sum\": 0.85637353515625, \"count\": 1, \"min\": 0.85637353515625, \"max\": 0.85637353515625}}}\n",
      "#metrics {\"StartTime\": 1686777905.3234131, \"EndTime\": 1686777905.3234274, \"Dimensions\": {\"Algorithm\": \"Linear Learner\", \"Host\": \"algo-1\", \"Operation\": \"training\", \"epoch\": 12, \"model\": 1}, \"Metrics\": {\"train_mse_objective\": {\"sum\": 0.8321697387695313, \"count\": 1, \"min\": 0.8321697387695313, \"max\": 0.8321697387695313}}}\n",
      "#metrics {\"StartTime\": 1686777905.3234649, \"EndTime\": 1686777905.323475, \"Dimensions\": {\"Algorithm\": \"Linear Learner\", \"Host\": \"algo-1\", \"Operation\": \"training\", \"epoch\": 12, \"model\": 2}, \"Metrics\": {\"train_mse_objective\": {\"sum\": 0.8630693969726563, \"count\": 1, \"min\": 0.8630693969726563, \"max\": 0.8630693969726563}}}\n",
      "#metrics {\"StartTime\": 1686777905.3235056, \"EndTime\": 1686777905.3235126, \"Dimensions\": {\"Algorithm\": \"Linear Learner\", \"Host\": \"algo-1\", \"Operation\": \"training\", \"epoch\": 12, \"model\": 3}, \"Metrics\": {\"train_mse_objective\": {\"sum\": 0.8366801147460937, \"count\": 1, \"min\": 0.8366801147460937, \"max\": 0.8366801147460937}}}\n",
      "#metrics {\"StartTime\": 1686777905.32354, \"EndTime\": 1686777905.3235478, \"Dimensions\": {\"Algorithm\": \"Linear Learner\", \"Host\": \"algo-1\", \"Operation\": \"training\", \"epoch\": 12, \"model\": 4}, \"Metrics\": {\"train_mse_objective\": {\"sum\": 0.6955277709960938, \"count\": 1, \"min\": 0.6955277709960938, \"max\": 0.6955277709960938}}}\n",
      "#metrics {\"StartTime\": 1686777905.3235781, \"EndTime\": 1686777905.3235865, \"Dimensions\": {\"Algorithm\": \"Linear Learner\", \"Host\": \"algo-1\", \"Operation\": \"training\", \"epoch\": 12, \"model\": 5}, \"Metrics\": {\"train_mse_objective\": {\"sum\": 0.6950498657226563, \"count\": 1, \"min\": 0.6950498657226563, \"max\": 0.6950498657226563}}}\n",
      "#metrics {\"StartTime\": 1686777905.323616, \"EndTime\": 1686777905.3236244, \"Dimensions\": {\"Algorithm\": \"Linear Learner\", \"Host\": \"algo-1\", \"Operation\": \"training\", \"epoch\": 12, \"model\": 6}, \"Metrics\": {\"train_mse_objective\": {\"sum\": 0.672427001953125, \"count\": 1, \"min\": 0.672427001953125, \"max\": 0.672427001953125}}}\n",
      "#metrics {\"StartTime\": 1686777905.3236556, \"EndTime\": 1686777905.3236637, \"Dimensions\": {\"Algorithm\": \"Linear Learner\", \"Host\": \"algo-1\", \"Operation\": \"training\", \"epoch\": 12, \"model\": 7}, \"Metrics\": {\"train_mse_objective\": {\"sum\": 0.7131567993164063, \"count\": 1, \"min\": 0.7131567993164063, \"max\": 0.7131567993164063}}}\n",
      "#metrics {\"StartTime\": 1686777905.3236918, \"EndTime\": 1686777905.3236992, \"Dimensions\": {\"Algorithm\": \"Linear Learner\", \"Host\": \"algo-1\", \"Operation\": \"training\", \"epoch\": 12, \"model\": 8}, \"Metrics\": {\"train_mse_objective\": {\"sum\": 0.7621722412109375, \"count\": 1, \"min\": 0.7621722412109375, \"max\": 0.7621722412109375}}}\n",
      "#metrics {\"StartTime\": 1686777905.3237312, \"EndTime\": 1686777905.3237398, \"Dimensions\": {\"Algorithm\": \"Linear Learner\", \"Host\": \"algo-1\", \"Operation\": \"training\", \"epoch\": 12, \"model\": 9}, \"Metrics\": {\"train_mse_objective\": {\"sum\": 0.8236617431640625, \"count\": 1, \"min\": 0.8236617431640625, \"max\": 0.8236617431640625}}}\n",
      "#metrics {\"StartTime\": 1686777905.323776, \"EndTime\": 1686777905.3237836, \"Dimensions\": {\"Algorithm\": \"Linear Learner\", \"Host\": \"algo-1\", \"Operation\": \"training\", \"epoch\": 12, \"model\": 10}, \"Metrics\": {\"train_mse_objective\": {\"sum\": 0.9132716674804687, \"count\": 1, \"min\": 0.9132716674804687, \"max\": 0.9132716674804687}}}\n",
      "#metrics {\"StartTime\": 1686777905.3238118, \"EndTime\": 1686777905.323819, \"Dimensions\": {\"Algorithm\": \"Linear Learner\", \"Host\": \"algo-1\", \"Operation\": \"training\", \"epoch\": 12, \"model\": 11}, \"Metrics\": {\"train_mse_objective\": {\"sum\": 0.8457061157226563, \"count\": 1, \"min\": 0.8457061157226563, \"max\": 0.8457061157226563}}}\n",
      "#metrics {\"StartTime\": 1686777905.3238463, \"EndTime\": 1686777905.3238533, \"Dimensions\": {\"Algorithm\": \"Linear Learner\", \"Host\": \"algo-1\", \"Operation\": \"training\", \"epoch\": 12, \"model\": 12}, \"Metrics\": {\"train_mse_objective\": {\"sum\": 0.6622344360351563, \"count\": 1, \"min\": 0.6622344360351563, \"max\": 0.6622344360351563}}}\n",
      "#metrics {\"StartTime\": 1686777905.3238828, \"EndTime\": 1686777905.323891, \"Dimensions\": {\"Algorithm\": \"Linear Learner\", \"Host\": \"algo-1\", \"Operation\": \"training\", \"epoch\": 12, \"model\": 13}, \"Metrics\": {\"train_mse_objective\": {\"sum\": 0.6622960205078126, \"count\": 1, \"min\": 0.6622960205078126, \"max\": 0.6622960205078126}}}\n",
      "#metrics {\"StartTime\": 1686777905.3239195, \"EndTime\": 1686777905.3239262, \"Dimensions\": {\"Algorithm\": \"Linear Learner\", \"Host\": \"algo-1\", \"Operation\": \"training\", \"epoch\": 12, \"model\": 14}, \"Metrics\": {\"train_mse_objective\": {\"sum\": 0.6948753051757812, \"count\": 1, \"min\": 0.6948753051757812, \"max\": 0.6948753051757812}}}\n",
      "#metrics {\"StartTime\": 1686777905.323952, \"EndTime\": 1686777905.3239594, \"Dimensions\": {\"Algorithm\": \"Linear Learner\", \"Host\": \"algo-1\", \"Operation\": \"training\", \"epoch\": 12, \"model\": 15}, \"Metrics\": {\"train_mse_objective\": {\"sum\": 0.6568095092773437, \"count\": 1, \"min\": 0.6568095092773437, \"max\": 0.6568095092773437}}}\n",
      "#metrics {\"StartTime\": 1686777905.3239884, \"EndTime\": 1686777905.3239954, \"Dimensions\": {\"Algorithm\": \"Linear Learner\", \"Host\": \"algo-1\", \"Operation\": \"training\", \"epoch\": 12, \"model\": 16}, \"Metrics\": {\"train_mse_objective\": {\"sum\": 0.8738639526367188, \"count\": 1, \"min\": 0.8738639526367188, \"max\": 0.8738639526367188}}}\n",
      "#metrics {\"StartTime\": 1686777905.3240254, \"EndTime\": 1686777905.324033, \"Dimensions\": {\"Algorithm\": \"Linear Learner\", \"Host\": \"algo-1\", \"Operation\": \"training\", \"epoch\": 12, \"model\": 17}, \"Metrics\": {\"train_mse_objective\": {\"sum\": 0.8979080810546874, \"count\": 1, \"min\": 0.8979080810546874, \"max\": 0.8979080810546874}}}\n",
      "#metrics {\"StartTime\": 1686777905.3240612, \"EndTime\": 1686777905.3240688, \"Dimensions\": {\"Algorithm\": \"Linear Learner\", \"Host\": \"algo-1\", \"Operation\": \"training\", \"epoch\": 12, \"model\": 18}, \"Metrics\": {\"train_mse_objective\": {\"sum\": 0.9058086547851563, \"count\": 1, \"min\": 0.9058086547851563, \"max\": 0.9058086547851563}}}\n",
      "#metrics {\"StartTime\": 1686777905.3241012, \"EndTime\": 1686777905.3241088, \"Dimensions\": {\"Algorithm\": \"Linear Learner\", \"Host\": \"algo-1\", \"Operation\": \"training\", \"epoch\": 12, \"model\": 19}, \"Metrics\": {\"train_mse_objective\": {\"sum\": 0.8319354248046875, \"count\": 1, \"min\": 0.8319354248046875, \"max\": 0.8319354248046875}}}\n",
      "#metrics {\"StartTime\": 1686777905.3241403, \"EndTime\": 1686777905.324148, \"Dimensions\": {\"Algorithm\": \"Linear Learner\", \"Host\": \"algo-1\", \"Operation\": \"training\", \"epoch\": 12, \"model\": 20}, \"Metrics\": {\"train_mse_objective\": {\"sum\": 0.7334386596679687, \"count\": 1, \"min\": 0.7334386596679687, \"max\": 0.7334386596679687}}}\n",
      "#metrics {\"StartTime\": 1686777905.3241773, \"EndTime\": 1686777905.324185, \"Dimensions\": {\"Algorithm\": \"Linear Learner\", \"Host\": \"algo-1\", \"Operation\": \"training\", \"epoch\": 12, \"model\": 21}, \"Metrics\": {\"train_mse_objective\": {\"sum\": 0.7564253540039062, \"count\": 1, \"min\": 0.7564253540039062, \"max\": 0.7564253540039062}}}\n",
      "#metrics {\"StartTime\": 1686777905.3242166, \"EndTime\": 1686777905.3242252, \"Dimensions\": {\"Algorithm\": \"Linear Learner\", \"Host\": \"algo-1\", \"Operation\": \"training\", \"epoch\": 12, \"model\": 22}, \"Metrics\": {\"train_mse_objective\": {\"sum\": 0.771276611328125, \"count\": 1, \"min\": 0.771276611328125, \"max\": 0.771276611328125}}}\n",
      "#metrics {\"StartTime\": 1686777905.3242552, \"EndTime\": 1686777905.3242633, \"Dimensions\": {\"Algorithm\": \"Linear Learner\", \"Host\": \"algo-1\", \"Operation\": \"training\", \"epoch\": 12, \"model\": 23}, \"Metrics\": {\"train_mse_objective\": {\"sum\": 0.7873569946289063, \"count\": 1, \"min\": 0.7873569946289063, \"max\": 0.7873569946289063}}}\n",
      "#metrics {\"StartTime\": 1686777905.3242912, \"EndTime\": 1686777905.3242998, \"Dimensions\": {\"Algorithm\": \"Linear Learner\", \"Host\": \"algo-1\", \"Operation\": \"training\", \"epoch\": 12, \"model\": 24}, \"Metrics\": {\"train_mse_objective\": {\"sum\": 0.981862548828125, \"count\": 1, \"min\": 0.981862548828125, \"max\": 0.981862548828125}}}\n",
      "#metrics {\"StartTime\": 1686777905.3243303, \"EndTime\": 1686777905.3243377, \"Dimensions\": {\"Algorithm\": \"Linear Learner\", \"Host\": \"algo-1\", \"Operation\": \"training\", \"epoch\": 12, \"model\": 25}, \"Metrics\": {\"train_mse_objective\": {\"sum\": 0.9998084106445313, \"count\": 1, \"min\": 0.9998084106445313, \"max\": 0.9998084106445313}}}\n",
      "#metrics {\"StartTime\": 1686777905.3243656, \"EndTime\": 1686777905.324373, \"Dimensions\": {\"Algorithm\": \"Linear Learner\", \"Host\": \"algo-1\", \"Operation\": \"training\", \"epoch\": 12, \"model\": 26}, \"Metrics\": {\"train_mse_objective\": {\"sum\": 0.9901381225585938, \"count\": 1, \"min\": 0.9901381225585938, \"max\": 0.9901381225585938}}}\n",
      "#metrics {\"StartTime\": 1686777905.32441, \"EndTime\": 1686777905.3244188, \"Dimensions\": {\"Algorithm\": \"Linear Learner\", \"Host\": \"algo-1\", \"Operation\": \"training\", \"epoch\": 12, \"model\": 27}, \"Metrics\": {\"train_mse_objective\": {\"sum\": 0.9793463745117188, \"count\": 1, \"min\": 0.9793463745117188, \"max\": 0.9793463745117188}}}\n",
      "#metrics {\"StartTime\": 1686777905.3244488, \"EndTime\": 1686777905.3244565, \"Dimensions\": {\"Algorithm\": \"Linear Learner\", \"Host\": \"algo-1\", \"Operation\": \"training\", \"epoch\": 12, \"model\": 28}, \"Metrics\": {\"train_mse_objective\": {\"sum\": 1.0514930419921875, \"count\": 1, \"min\": 1.0514930419921875, \"max\": 1.0514930419921875}}}\n",
      "#metrics {\"StartTime\": 1686777905.3244846, \"EndTime\": 1686777905.324492, \"Dimensions\": {\"Algorithm\": \"Linear Learner\", \"Host\": \"algo-1\", \"Operation\": \"training\", \"epoch\": 12, \"model\": 29}, \"Metrics\": {\"train_mse_objective\": {\"sum\": 1.032868896484375, \"count\": 1, \"min\": 1.032868896484375, \"max\": 1.032868896484375}}}\n",
      "#metrics {\"StartTime\": 1686777905.3245203, \"EndTime\": 1686777905.324529, \"Dimensions\": {\"Algorithm\": \"Linear Learner\", \"Host\": \"algo-1\", \"Operation\": \"training\", \"epoch\": 12, \"model\": 30}, \"Metrics\": {\"train_mse_objective\": {\"sum\": 1.0449483642578126, \"count\": 1, \"min\": 1.0449483642578126, \"max\": 1.0449483642578126}}}\n",
      "#metrics {\"StartTime\": 1686777905.3245592, \"EndTime\": 1686777905.3245668, \"Dimensions\": {\"Algorithm\": \"Linear Learner\", \"Host\": \"algo-1\", \"Operation\": \"training\", \"epoch\": 12, \"model\": 31}, \"Metrics\": {\"train_mse_objective\": {\"sum\": 1.0017442016601563, \"count\": 1, \"min\": 1.0017442016601563, \"max\": 1.0017442016601563}}}\n",
      "[06/14/2023 21:25:05 INFO 140335316649792] #quality_metric: host=algo-1, epoch=12, train mse_objective <loss>=0.85637353515625\n",
      "[06/14/2023 21:25:05 INFO 140335316649792] #early_stopping_criteria_metric: host=algo-1, epoch=12, criteria=mse_objective, value=0.6568095092773437\n",
      "[06/14/2023 21:25:05 INFO 140335316649792] Saving model for epoch: 12\n",
      "[06/14/2023 21:25:05 INFO 140335316649792] Saved checkpoint to \"/tmp/tmpm9ixp9vq/mx-mod-0000.params\"\n",
      "[06/14/2023 21:25:05 INFO 140335316649792] #progress_metric: host=algo-1, completed 86.66666666666667 % of epochs\n",
      "#metrics {\"StartTime\": 1686777905.310539, \"EndTime\": 1686777905.3305998, \"Dimensions\": {\"Algorithm\": \"Linear Learner\", \"Host\": \"algo-1\", \"Operation\": \"training\", \"epoch\": 12, \"Meta\": \"training_data_iter\"}, \"Metrics\": {\"Total Records Seen\": {\"sum\": 15994.0, \"count\": 1, \"min\": 15994, \"max\": 15994}, \"Total Batches Seen\": {\"sum\": 29.0, \"count\": 1, \"min\": 29, \"max\": 29}, \"Max Records Seen Between Resets\": {\"sum\": 1071.0, \"count\": 1, \"min\": 1071, \"max\": 1071}, \"Max Batches Seen Between Resets\": {\"sum\": 2.0, \"count\": 1, \"min\": 2, \"max\": 2}, \"Reset Count\": {\"sum\": 15.0, \"count\": 1, \"min\": 15, \"max\": 15}, \"Number of Records Since Last Reset\": {\"sum\": 1071.0, \"count\": 1, \"min\": 1071, \"max\": 1071}, \"Number of Batches Since Last Reset\": {\"sum\": 2.0, \"count\": 1, \"min\": 2, \"max\": 2}}}\n",
      "[06/14/2023 21:25:05 INFO 140335316649792] #throughput_metric: host=algo-1, train throughput=53024.145801364524 records/second\n",
      "[2023-06-14 21:25:05.343] [tensorio] [info] epoch_stats={\"data_pipeline\": \"/opt/ml/input/data/train\", \"epoch\": 30, \"duration\": 12, \"num_examples\": 2, \"num_bytes\": 68544}\n",
      "#metrics {\"StartTime\": 1686777905.343219, \"EndTime\": 1686777905.3432817, \"Dimensions\": {\"Algorithm\": \"Linear Learner\", \"Host\": \"algo-1\", \"Operation\": \"training\", \"epoch\": 13, \"model\": 0}, \"Metrics\": {\"train_mse_objective\": {\"sum\": 0.8456355590820313, \"count\": 1, \"min\": 0.8456355590820313, \"max\": 0.8456355590820313}}}\n",
      "#metrics {\"StartTime\": 1686777905.3433475, \"EndTime\": 1686777905.3433597, \"Dimensions\": {\"Algorithm\": \"Linear Learner\", \"Host\": \"algo-1\", \"Operation\": \"training\", \"epoch\": 13, \"model\": 1}, \"Metrics\": {\"train_mse_objective\": {\"sum\": 0.8211912841796875, \"count\": 1, \"min\": 0.8211912841796875, \"max\": 0.8211912841796875}}}\n",
      "#metrics {\"StartTime\": 1686777905.3433964, \"EndTime\": 1686777905.3434038, \"Dimensions\": {\"Algorithm\": \"Linear Learner\", \"Host\": \"algo-1\", \"Operation\": \"training\", \"epoch\": 13, \"model\": 2}, \"Metrics\": {\"train_mse_objective\": {\"sum\": 0.852114501953125, \"count\": 1, \"min\": 0.852114501953125, \"max\": 0.852114501953125}}}\n",
      "#metrics {\"StartTime\": 1686777905.343431, \"EndTime\": 1686777905.3434377, \"Dimensions\": {\"Algorithm\": \"Linear Learner\", \"Host\": \"algo-1\", \"Operation\": \"training\", \"epoch\": 13, \"model\": 3}, \"Metrics\": {\"train_mse_objective\": {\"sum\": 0.8257815551757812, \"count\": 1, \"min\": 0.8257815551757812, \"max\": 0.8257815551757812}}}\n",
      "#metrics {\"StartTime\": 1686777905.343466, \"EndTime\": 1686777905.3434741, \"Dimensions\": {\"Algorithm\": \"Linear Learner\", \"Host\": \"algo-1\", \"Operation\": \"training\", \"epoch\": 13, \"model\": 4}, \"Metrics\": {\"train_mse_objective\": {\"sum\": 0.7067615966796875, \"count\": 1, \"min\": 0.7067615966796875, \"max\": 0.7067615966796875}}}\n",
      "#metrics {\"StartTime\": 1686777905.343503, \"EndTime\": 1686777905.3435118, \"Dimensions\": {\"Algorithm\": \"Linear Learner\", \"Host\": \"algo-1\", \"Operation\": \"training\", \"epoch\": 13, \"model\": 5}, \"Metrics\": {\"train_mse_objective\": {\"sum\": 0.6984523315429687, \"count\": 1, \"min\": 0.6984523315429687, \"max\": 0.6984523315429687}}}\n",
      "#metrics {\"StartTime\": 1686777905.3435428, \"EndTime\": 1686777905.3435507, \"Dimensions\": {\"Algorithm\": \"Linear Learner\", \"Host\": \"algo-1\", \"Operation\": \"training\", \"epoch\": 13, \"model\": 6}, \"Metrics\": {\"train_mse_objective\": {\"sum\": 0.7371155395507812, \"count\": 1, \"min\": 0.7371155395507812, \"max\": 0.7371155395507812}}}\n",
      "#metrics {\"StartTime\": 1686777905.3435838, \"EndTime\": 1686777905.3435917, \"Dimensions\": {\"Algorithm\": \"Linear Learner\", \"Host\": \"algo-1\", \"Operation\": \"training\", \"epoch\": 13, \"model\": 7}, \"Metrics\": {\"train_mse_objective\": {\"sum\": 0.7008563232421875, \"count\": 1, \"min\": 0.7008563232421875, \"max\": 0.7008563232421875}}}\n",
      "#metrics {\"StartTime\": 1686777905.343625, \"EndTime\": 1686777905.3436337, \"Dimensions\": {\"Algorithm\": \"Linear Learner\", \"Host\": \"algo-1\", \"Operation\": \"training\", \"epoch\": 13, \"model\": 8}, \"Metrics\": {\"train_mse_objective\": {\"sum\": 0.7545886840820313, \"count\": 1, \"min\": 0.7545886840820313, \"max\": 0.7545886840820313}}}\n",
      "#metrics {\"StartTime\": 1686777905.3436644, \"EndTime\": 1686777905.3436728, \"Dimensions\": {\"Algorithm\": \"Linear Learner\", \"Host\": \"algo-1\", \"Operation\": \"training\", \"epoch\": 13, \"model\": 9}, \"Metrics\": {\"train_mse_objective\": {\"sum\": 0.8128051147460937, \"count\": 1, \"min\": 0.8128051147460937, \"max\": 0.8128051147460937}}}\n",
      "#metrics {\"StartTime\": 1686777905.3437002, \"EndTime\": 1686777905.3437083, \"Dimensions\": {\"Algorithm\": \"Linear Learner\", \"Host\": \"algo-1\", \"Operation\": \"training\", \"epoch\": 13, \"model\": 10}, \"Metrics\": {\"train_mse_objective\": {\"sum\": 0.900618896484375, \"count\": 1, \"min\": 0.900618896484375, \"max\": 0.900618896484375}}}\n",
      "#metrics {\"StartTime\": 1686777905.3437388, \"EndTime\": 1686777905.343748, \"Dimensions\": {\"Algorithm\": \"Linear Learner\", \"Host\": \"algo-1\", \"Operation\": \"training\", \"epoch\": 13, \"model\": 11}, \"Metrics\": {\"train_mse_objective\": {\"sum\": 0.8340492553710938, \"count\": 1, \"min\": 0.8340492553710938, \"max\": 0.8340492553710938}}}\n",
      "#metrics {\"StartTime\": 1686777905.3437767, \"EndTime\": 1686777905.3437853, \"Dimensions\": {\"Algorithm\": \"Linear Learner\", \"Host\": \"algo-1\", \"Operation\": \"training\", \"epoch\": 13, \"model\": 12}, \"Metrics\": {\"train_mse_objective\": {\"sum\": 0.7248660278320312, \"count\": 1, \"min\": 0.7248660278320312, \"max\": 0.7248660278320312}}}\n",
      "#metrics {\"StartTime\": 1686777905.3438168, \"EndTime\": 1686777905.3438249, \"Dimensions\": {\"Algorithm\": \"Linear Learner\", \"Host\": \"algo-1\", \"Operation\": \"training\", \"epoch\": 13, \"model\": 13}, \"Metrics\": {\"train_mse_objective\": {\"sum\": 0.7405442504882812, \"count\": 1, \"min\": 0.7405442504882812, \"max\": 0.7405442504882812}}}\n",
      "#metrics {\"StartTime\": 1686777905.3438559, \"EndTime\": 1686777905.343864, \"Dimensions\": {\"Algorithm\": \"Linear Learner\", \"Host\": \"algo-1\", \"Operation\": \"training\", \"epoch\": 13, \"model\": 14}, \"Metrics\": {\"train_mse_objective\": {\"sum\": 0.7050415649414062, \"count\": 1, \"min\": 0.7050415649414062, \"max\": 0.7050415649414062}}}\n",
      "#metrics {\"StartTime\": 1686777905.343895, \"EndTime\": 1686777905.343903, \"Dimensions\": {\"Algorithm\": \"Linear Learner\", \"Host\": \"algo-1\", \"Operation\": \"training\", \"epoch\": 13, \"model\": 15}, \"Metrics\": {\"train_mse_objective\": {\"sum\": 0.7087579345703126, \"count\": 1, \"min\": 0.7087579345703126, \"max\": 0.7087579345703126}}}\n",
      "#metrics {\"StartTime\": 1686777905.3439333, \"EndTime\": 1686777905.343941, \"Dimensions\": {\"Algorithm\": \"Linear Learner\", \"Host\": \"algo-1\", \"Operation\": \"training\", \"epoch\": 13, \"model\": 16}, \"Metrics\": {\"train_mse_objective\": {\"sum\": 0.8623970947265625, \"count\": 1, \"min\": 0.8623970947265625, \"max\": 0.8623970947265625}}}\n",
      "#metrics {\"StartTime\": 1686777905.343968, \"EndTime\": 1686777905.343976, \"Dimensions\": {\"Algorithm\": \"Linear Learner\", \"Host\": \"algo-1\", \"Operation\": \"training\", \"epoch\": 13, \"model\": 17}, \"Metrics\": {\"train_mse_objective\": {\"sum\": 0.886348876953125, \"count\": 1, \"min\": 0.886348876953125, \"max\": 0.886348876953125}}}\n",
      "#metrics {\"StartTime\": 1686777905.3440073, \"EndTime\": 1686777905.3440154, \"Dimensions\": {\"Algorithm\": \"Linear Learner\", \"Host\": \"algo-1\", \"Operation\": \"training\", \"epoch\": 13, \"model\": 18}, \"Metrics\": {\"train_mse_objective\": {\"sum\": 0.8930130615234375, \"count\": 1, \"min\": 0.8930130615234375, \"max\": 0.8930130615234375}}}\n",
      "#metrics {\"StartTime\": 1686777905.3440454, \"EndTime\": 1686777905.3440535, \"Dimensions\": {\"Algorithm\": \"Linear Learner\", \"Host\": \"algo-1\", \"Operation\": \"training\", \"epoch\": 13, \"model\": 19}, \"Metrics\": {\"train_mse_objective\": {\"sum\": 0.8210028686523437, \"count\": 1, \"min\": 0.8210028686523437, \"max\": 0.8210028686523437}}}\n",
      "#metrics {\"StartTime\": 1686777905.344076, \"EndTime\": 1686777905.3440833, \"Dimensions\": {\"Algorithm\": \"Linear Learner\", \"Host\": \"algo-1\", \"Operation\": \"training\", \"epoch\": 13, \"model\": 20}, \"Metrics\": {\"train_mse_objective\": {\"sum\": 0.7306174926757812, \"count\": 1, \"min\": 0.7306174926757812, \"max\": 0.7306174926757812}}}\n",
      "#metrics {\"StartTime\": 1686777905.3441138, \"EndTime\": 1686777905.3441222, \"Dimensions\": {\"Algorithm\": \"Linear Learner\", \"Host\": \"algo-1\", \"Operation\": \"training\", \"epoch\": 13, \"model\": 21}, \"Metrics\": {\"train_mse_objective\": {\"sum\": 0.7227771606445312, \"count\": 1, \"min\": 0.7227771606445312, \"max\": 0.7227771606445312}}}\n",
      "#metrics {\"StartTime\": 1686777905.3441553, \"EndTime\": 1686777905.344164, \"Dimensions\": {\"Algorithm\": \"Linear Learner\", \"Host\": \"algo-1\", \"Operation\": \"training\", \"epoch\": 13, \"model\": 22}, \"Metrics\": {\"train_mse_objective\": {\"sum\": 0.7784200439453125, \"count\": 1, \"min\": 0.7784200439453125, \"max\": 0.7784200439453125}}}\n",
      "#metrics {\"StartTime\": 1686777905.3441904, \"EndTime\": 1686777905.3441978, \"Dimensions\": {\"Algorithm\": \"Linear Learner\", \"Host\": \"algo-1\", \"Operation\": \"training\", \"epoch\": 13, \"model\": 23}, \"Metrics\": {\"train_mse_objective\": {\"sum\": 0.7812161865234375, \"count\": 1, \"min\": 0.7812161865234375, \"max\": 0.7812161865234375}}}\n",
      "#metrics {\"StartTime\": 1686777905.3442228, \"EndTime\": 1686777905.3442304, \"Dimensions\": {\"Algorithm\": \"Linear Learner\", \"Host\": \"algo-1\", \"Operation\": \"training\", \"epoch\": 13, \"model\": 24}, \"Metrics\": {\"train_mse_objective\": {\"sum\": 0.9839522094726563, \"count\": 1, \"min\": 0.9839522094726563, \"max\": 0.9839522094726563}}}\n",
      "#metrics {\"StartTime\": 1686777905.3442583, \"EndTime\": 1686777905.3442657, \"Dimensions\": {\"Algorithm\": \"Linear Learner\", \"Host\": \"algo-1\", \"Operation\": \"training\", \"epoch\": 13, \"model\": 25}, \"Metrics\": {\"train_mse_objective\": {\"sum\": 1.0017119750976562, \"count\": 1, \"min\": 1.0017119750976562, \"max\": 1.0017119750976562}}}\n",
      "#metrics {\"StartTime\": 1686777905.344295, \"EndTime\": 1686777905.344303, \"Dimensions\": {\"Algorithm\": \"Linear Learner\", \"Host\": \"algo-1\", \"Operation\": \"training\", \"epoch\": 13, \"model\": 26}, \"Metrics\": {\"train_mse_objective\": {\"sum\": 0.9944478149414062, \"count\": 1, \"min\": 0.9944478149414062, \"max\": 0.9944478149414062}}}\n",
      "#metrics {\"StartTime\": 1686777905.34433, \"EndTime\": 1686777905.3443387, \"Dimensions\": {\"Algorithm\": \"Linear Learner\", \"Host\": \"algo-1\", \"Operation\": \"training\", \"epoch\": 13, \"model\": 27}, \"Metrics\": {\"train_mse_objective\": {\"sum\": 0.9786015014648437, \"count\": 1, \"min\": 0.9786015014648437, \"max\": 0.9786015014648437}}}\n",
      "#metrics {\"StartTime\": 1686777905.3443668, \"EndTime\": 1686777905.3443754, \"Dimensions\": {\"Algorithm\": \"Linear Learner\", \"Host\": \"algo-1\", \"Operation\": \"training\", \"epoch\": 13, \"model\": 28}, \"Metrics\": {\"train_mse_objective\": {\"sum\": 1.0315396728515625, \"count\": 1, \"min\": 1.0315396728515625, \"max\": 1.0315396728515625}}}\n",
      "#metrics {\"StartTime\": 1686777905.3444057, \"EndTime\": 1686777905.344414, \"Dimensions\": {\"Algorithm\": \"Linear Learner\", \"Host\": \"algo-1\", \"Operation\": \"training\", \"epoch\": 13, \"model\": 29}, \"Metrics\": {\"train_mse_objective\": {\"sum\": 1.0745924072265625, \"count\": 1, \"min\": 1.0745924072265625, \"max\": 1.0745924072265625}}}\n",
      "#metrics {\"StartTime\": 1686777905.3444443, \"EndTime\": 1686777905.3444524, \"Dimensions\": {\"Algorithm\": \"Linear Learner\", \"Host\": \"algo-1\", \"Operation\": \"training\", \"epoch\": 13, \"model\": 30}, \"Metrics\": {\"train_mse_objective\": {\"sum\": 1.0667286376953125, \"count\": 1, \"min\": 1.0667286376953125, \"max\": 1.0667286376953125}}}\n",
      "#metrics {\"StartTime\": 1686777905.3444793, \"EndTime\": 1686777905.3444877, \"Dimensions\": {\"Algorithm\": \"Linear Learner\", \"Host\": \"algo-1\", \"Operation\": \"training\", \"epoch\": 13, \"model\": 31}, \"Metrics\": {\"train_mse_objective\": {\"sum\": 0.9674108276367187, \"count\": 1, \"min\": 0.9674108276367187, \"max\": 0.9674108276367187}}}\n",
      "[06/14/2023 21:25:05 INFO 140335316649792] #quality_metric: host=algo-1, epoch=13, train mse_objective <loss>=0.8456355590820313\n",
      "[06/14/2023 21:25:05 INFO 140335316649792] #early_stopping_criteria_metric: host=algo-1, epoch=13, criteria=mse_objective, value=0.6984523315429687\n",
      "[06/14/2023 21:25:05 INFO 140335316649792] Saving model for epoch: 13\n",
      "[06/14/2023 21:25:05 INFO 140335316649792] Saved checkpoint to \"/tmp/tmp_u5xelba/mx-mod-0000.params\"\n",
      "[06/14/2023 21:25:05 INFO 140335316649792] #progress_metric: host=algo-1, completed 93.33333333333333 % of epochs\n",
      "#metrics {\"StartTime\": 1686777905.3308518, \"EndTime\": 1686777905.3504386, \"Dimensions\": {\"Algorithm\": \"Linear Learner\", \"Host\": \"algo-1\", \"Operation\": \"training\", \"epoch\": 13, \"Meta\": \"training_data_iter\"}, \"Metrics\": {\"Total Records Seen\": {\"sum\": 17065.0, \"count\": 1, \"min\": 17065, \"max\": 17065}, \"Total Batches Seen\": {\"sum\": 31.0, \"count\": 1, \"min\": 31, \"max\": 31}, \"Max Records Seen Between Resets\": {\"sum\": 1071.0, \"count\": 1, \"min\": 1071, \"max\": 1071}, \"Max Batches Seen Between Resets\": {\"sum\": 2.0, \"count\": 1, \"min\": 2, \"max\": 2}, \"Reset Count\": {\"sum\": 16.0, \"count\": 1, \"min\": 16, \"max\": 16}, \"Number of Records Since Last Reset\": {\"sum\": 1071.0, \"count\": 1, \"min\": 1071, \"max\": 1071}, \"Number of Batches Since Last Reset\": {\"sum\": 2.0, \"count\": 1, \"min\": 2, \"max\": 2}}}\n",
      "[06/14/2023 21:25:05 INFO 140335316649792] #throughput_metric: host=algo-1, train throughput=54363.36948602825 records/second\n",
      "[2023-06-14 21:25:05.368] [tensorio] [info] epoch_stats={\"data_pipeline\": \"/opt/ml/input/data/train\", \"epoch\": 32, \"duration\": 17, \"num_examples\": 2, \"num_bytes\": 68544}\n",
      "#metrics {\"StartTime\": 1686777905.3683412, \"EndTime\": 1686777905.3684127, \"Dimensions\": {\"Algorithm\": \"Linear Learner\", \"Host\": \"algo-1\", \"Operation\": \"training\", \"epoch\": 14, \"model\": 0}, \"Metrics\": {\"train_mse_objective\": {\"sum\": 0.8352506713867187, \"count\": 1, \"min\": 0.8352506713867187, \"max\": 0.8352506713867187}}}\n",
      "#metrics {\"StartTime\": 1686777905.3684855, \"EndTime\": 1686777905.3684947, \"Dimensions\": {\"Algorithm\": \"Linear Learner\", \"Host\": \"algo-1\", \"Operation\": \"training\", \"epoch\": 14, \"model\": 1}, \"Metrics\": {\"train_mse_objective\": {\"sum\": 0.8106806640625, \"count\": 1, \"min\": 0.8106806640625, \"max\": 0.8106806640625}}}\n",
      "#metrics {\"StartTime\": 1686777905.3685858, \"EndTime\": 1686777905.3685932, \"Dimensions\": {\"Algorithm\": \"Linear Learner\", \"Host\": \"algo-1\", \"Operation\": \"training\", \"epoch\": 14, \"model\": 2}, \"Metrics\": {\"train_mse_objective\": {\"sum\": 0.84137158203125, \"count\": 1, \"min\": 0.84137158203125, \"max\": 0.84137158203125}}}\n",
      "#metrics {\"StartTime\": 1686777905.3686206, \"EndTime\": 1686777905.3686264, \"Dimensions\": {\"Algorithm\": \"Linear Learner\", \"Host\": \"algo-1\", \"Operation\": \"training\", \"epoch\": 14, \"model\": 3}, \"Metrics\": {\"train_mse_objective\": {\"sum\": 0.8152022094726562, \"count\": 1, \"min\": 0.8152022094726562, \"max\": 0.8152022094726562}}}\n",
      "#metrics {\"StartTime\": 1686777905.368652, \"EndTime\": 1686777905.3686576, \"Dimensions\": {\"Algorithm\": \"Linear Learner\", \"Host\": \"algo-1\", \"Operation\": \"training\", \"epoch\": 14, \"model\": 4}, \"Metrics\": {\"train_mse_objective\": {\"sum\": 0.6773630981445312, \"count\": 1, \"min\": 0.6773630981445312, \"max\": 0.6773630981445312}}}\n",
      "#metrics {\"StartTime\": 1686777905.3686786, \"EndTime\": 1686777905.3686967, \"Dimensions\": {\"Algorithm\": \"Linear Learner\", \"Host\": \"algo-1\", \"Operation\": \"training\", \"epoch\": 14, \"model\": 5}, \"Metrics\": {\"train_mse_objective\": {\"sum\": 0.6698917236328125, \"count\": 1, \"min\": 0.6698917236328125, \"max\": 0.6698917236328125}}}\n",
      "#metrics {\"StartTime\": 1686777905.3687284, \"EndTime\": 1686777905.3687341, \"Dimensions\": {\"Algorithm\": \"Linear Learner\", \"Host\": \"algo-1\", \"Operation\": \"training\", \"epoch\": 14, \"model\": 6}, \"Metrics\": {\"train_mse_objective\": {\"sum\": 0.7411163330078125, \"count\": 1, \"min\": 0.7411163330078125, \"max\": 0.7411163330078125}}}\n",
      "#metrics {\"StartTime\": 1686777905.3687577, \"EndTime\": 1686777905.3687634, \"Dimensions\": {\"Algorithm\": \"Linear Learner\", \"Host\": \"algo-1\", \"Operation\": \"training\", \"epoch\": 14, \"model\": 7}, \"Metrics\": {\"train_mse_objective\": {\"sum\": 0.652086181640625, \"count\": 1, \"min\": 0.652086181640625, \"max\": 0.652086181640625}}}\n",
      "#metrics {\"StartTime\": 1686777905.3687842, \"EndTime\": 1686777905.3687968, \"Dimensions\": {\"Algorithm\": \"Linear Learner\", \"Host\": \"algo-1\", \"Operation\": \"training\", \"epoch\": 14, \"model\": 8}, \"Metrics\": {\"train_mse_objective\": {\"sum\": 0.7472750244140625, \"count\": 1, \"min\": 0.7472750244140625, \"max\": 0.7472750244140625}}}\n",
      "#metrics {\"StartTime\": 1686777905.3688312, \"EndTime\": 1686777905.3688369, \"Dimensions\": {\"Algorithm\": \"Linear Learner\", \"Host\": \"algo-1\", \"Operation\": \"training\", \"epoch\": 14, \"model\": 9}, \"Metrics\": {\"train_mse_objective\": {\"sum\": 0.8023219604492188, \"count\": 1, \"min\": 0.8023219604492188, \"max\": 0.8023219604492188}}}\n",
      "#metrics {\"StartTime\": 1686777905.3689287, \"EndTime\": 1686777905.3689368, \"Dimensions\": {\"Algorithm\": \"Linear Learner\", \"Host\": \"algo-1\", \"Operation\": \"training\", \"epoch\": 14, \"model\": 10}, \"Metrics\": {\"train_mse_objective\": {\"sum\": 0.8884547119140624, \"count\": 1, \"min\": 0.8884547119140624, \"max\": 0.8884547119140624}}}\n",
      "#metrics {\"StartTime\": 1686777905.3690038, \"EndTime\": 1686777905.369011, \"Dimensions\": {\"Algorithm\": \"Linear Learner\", \"Host\": \"algo-1\", \"Operation\": \"training\", \"epoch\": 14, \"model\": 11}, \"Metrics\": {\"train_mse_objective\": {\"sum\": 0.8227200317382812, \"count\": 1, \"min\": 0.8227200317382812, \"max\": 0.8227200317382812}}}\n",
      "#metrics {\"StartTime\": 1686777905.3690536, \"EndTime\": 1686777905.3690596, \"Dimensions\": {\"Algorithm\": \"Linear Learner\", \"Host\": \"algo-1\", \"Operation\": \"training\", \"epoch\": 14, \"model\": 12}, \"Metrics\": {\"train_mse_objective\": {\"sum\": 0.7723599243164062, \"count\": 1, \"min\": 0.7723599243164062, \"max\": 0.7723599243164062}}}\n",
      "#metrics {\"StartTime\": 1686777905.3690832, \"EndTime\": 1686777905.3690886, \"Dimensions\": {\"Algorithm\": \"Linear Learner\", \"Host\": \"algo-1\", \"Operation\": \"training\", \"epoch\": 14, \"model\": 13}, \"Metrics\": {\"train_mse_objective\": {\"sum\": 0.7706716918945312, \"count\": 1, \"min\": 0.7706716918945312, \"max\": 0.7706716918945312}}}\n",
      "#metrics {\"StartTime\": 1686777905.3691406, \"EndTime\": 1686777905.3691468, \"Dimensions\": {\"Algorithm\": \"Linear Learner\", \"Host\": \"algo-1\", \"Operation\": \"training\", \"epoch\": 14, \"model\": 14}, \"Metrics\": {\"train_mse_objective\": {\"sum\": 0.679343505859375, \"count\": 1, \"min\": 0.679343505859375, \"max\": 0.679343505859375}}}\n",
      "#metrics {\"StartTime\": 1686777905.3691683, \"EndTime\": 1686777905.369174, \"Dimensions\": {\"Algorithm\": \"Linear Learner\", \"Host\": \"algo-1\", \"Operation\": \"training\", \"epoch\": 14, \"model\": 15}, \"Metrics\": {\"train_mse_objective\": {\"sum\": 0.7605070190429688, \"count\": 1, \"min\": 0.7605070190429688, \"max\": 0.7605070190429688}}}\n",
      "#metrics {\"StartTime\": 1686777905.3692124, \"EndTime\": 1686777905.369218, \"Dimensions\": {\"Algorithm\": \"Linear Learner\", \"Host\": \"algo-1\", \"Operation\": \"training\", \"epoch\": 14, \"model\": 16}, \"Metrics\": {\"train_mse_objective\": {\"sum\": 0.8513489379882813, \"count\": 1, \"min\": 0.8513489379882813, \"max\": 0.8513489379882813}}}\n",
      "#metrics {\"StartTime\": 1686777905.3692422, \"EndTime\": 1686777905.3692477, \"Dimensions\": {\"Algorithm\": \"Linear Learner\", \"Host\": \"algo-1\", \"Operation\": \"training\", \"epoch\": 14, \"model\": 17}, \"Metrics\": {\"train_mse_objective\": {\"sum\": 0.8751802368164062, \"count\": 1, \"min\": 0.8751802368164062, \"max\": 0.8751802368164062}}}\n",
      "#metrics {\"StartTime\": 1686777905.3692682, \"EndTime\": 1686777905.3692737, \"Dimensions\": {\"Algorithm\": \"Linear Learner\", \"Host\": \"algo-1\", \"Operation\": \"training\", \"epoch\": 14, \"model\": 18}, \"Metrics\": {\"train_mse_objective\": {\"sum\": 0.8806326904296875, \"count\": 1, \"min\": 0.8806326904296875, \"max\": 0.8806326904296875}}}\n",
      "#metrics {\"StartTime\": 1686777905.3692942, \"EndTime\": 1686777905.3692992, \"Dimensions\": {\"Algorithm\": \"Linear Learner\", \"Host\": \"algo-1\", \"Operation\": \"training\", \"epoch\": 14, \"model\": 19}, \"Metrics\": {\"train_mse_objective\": {\"sum\": 0.8104238891601563, \"count\": 1, \"min\": 0.8104238891601563, \"max\": 0.8104238891601563}}}\n",
      "#metrics {\"StartTime\": 1686777905.3693202, \"EndTime\": 1686777905.3693256, \"Dimensions\": {\"Algorithm\": \"Linear Learner\", \"Host\": \"algo-1\", \"Operation\": \"training\", \"epoch\": 14, \"model\": 20}, \"Metrics\": {\"train_mse_objective\": {\"sum\": 0.7004464721679687, \"count\": 1, \"min\": 0.7004464721679687, \"max\": 0.7004464721679687}}}\n",
      "#metrics {\"StartTime\": 1686777905.3693466, \"EndTime\": 1686777905.3693519, \"Dimensions\": {\"Algorithm\": \"Linear Learner\", \"Host\": \"algo-1\", \"Operation\": \"training\", \"epoch\": 14, \"model\": 21}, \"Metrics\": {\"train_mse_objective\": {\"sum\": 0.6703817749023437, \"count\": 1, \"min\": 0.6703817749023437, \"max\": 0.6703817749023437}}}\n",
      "#metrics {\"StartTime\": 1686777905.3693724, \"EndTime\": 1686777905.3693779, \"Dimensions\": {\"Algorithm\": \"Linear Learner\", \"Host\": \"algo-1\", \"Operation\": \"training\", \"epoch\": 14, \"model\": 22}, \"Metrics\": {\"train_mse_objective\": {\"sum\": 0.72801220703125, \"count\": 1, \"min\": 0.72801220703125, \"max\": 0.72801220703125}}}\n",
      "#metrics {\"StartTime\": 1686777905.3694003, \"EndTime\": 1686777905.3694055, \"Dimensions\": {\"Algorithm\": \"Linear Learner\", \"Host\": \"algo-1\", \"Operation\": \"training\", \"epoch\": 14, \"model\": 23}, \"Metrics\": {\"train_mse_objective\": {\"sum\": 0.7311100463867187, \"count\": 1, \"min\": 0.7311100463867187, \"max\": 0.7311100463867187}}}\n",
      "#metrics {\"StartTime\": 1686777905.3694293, \"EndTime\": 1686777905.3694344, \"Dimensions\": {\"Algorithm\": \"Linear Learner\", \"Host\": \"algo-1\", \"Operation\": \"training\", \"epoch\": 14, \"model\": 24}, \"Metrics\": {\"train_mse_objective\": {\"sum\": 0.9857627563476562, \"count\": 1, \"min\": 0.9857627563476562, \"max\": 0.9857627563476562}}}\n",
      "#metrics {\"StartTime\": 1686777905.369455, \"EndTime\": 1686777905.36946, \"Dimensions\": {\"Algorithm\": \"Linear Learner\", \"Host\": \"algo-1\", \"Operation\": \"training\", \"epoch\": 14, \"model\": 25}, \"Metrics\": {\"train_mse_objective\": {\"sum\": 1.0030929565429687, \"count\": 1, \"min\": 1.0030929565429687, \"max\": 1.0030929565429687}}}\n",
      "#metrics {\"StartTime\": 1686777905.3694804, \"EndTime\": 1686777905.3694856, \"Dimensions\": {\"Algorithm\": \"Linear Learner\", \"Host\": \"algo-1\", \"Operation\": \"training\", \"epoch\": 14, \"model\": 26}, \"Metrics\": {\"train_mse_objective\": {\"sum\": 0.9982810668945312, \"count\": 1, \"min\": 0.9982810668945312, \"max\": 0.9982810668945312}}}\n",
      "#metrics {\"StartTime\": 1686777905.36951, \"EndTime\": 1686777905.369515, \"Dimensions\": {\"Algorithm\": \"Linear Learner\", \"Host\": \"algo-1\", \"Operation\": \"training\", \"epoch\": 14, \"model\": 27}, \"Metrics\": {\"train_mse_objective\": {\"sum\": 0.9782197265625, \"count\": 1, \"min\": 0.9782197265625, \"max\": 0.9782197265625}}}\n",
      "#metrics {\"StartTime\": 1686777905.3695354, \"EndTime\": 1686777905.3695407, \"Dimensions\": {\"Algorithm\": \"Linear Learner\", \"Host\": \"algo-1\", \"Operation\": \"training\", \"epoch\": 14, \"model\": 28}, \"Metrics\": {\"train_mse_objective\": {\"sum\": 0.97561572265625, \"count\": 1, \"min\": 0.97561572265625, \"max\": 0.97561572265625}}}\n",
      "#metrics {\"StartTime\": 1686777905.3695645, \"EndTime\": 1686777905.3695698, \"Dimensions\": {\"Algorithm\": \"Linear Learner\", \"Host\": \"algo-1\", \"Operation\": \"training\", \"epoch\": 14, \"model\": 29}, \"Metrics\": {\"train_mse_objective\": {\"sum\": 1.048558837890625, \"count\": 1, \"min\": 1.048558837890625, \"max\": 1.048558837890625}}}\n",
      "#metrics {\"StartTime\": 1686777905.3695939, \"EndTime\": 1686777905.3695989, \"Dimensions\": {\"Algorithm\": \"Linear Learner\", \"Host\": \"algo-1\", \"Operation\": \"training\", \"epoch\": 14, \"model\": 30}, \"Metrics\": {\"train_mse_objective\": {\"sum\": 1.025395263671875, \"count\": 1, \"min\": 1.025395263671875, \"max\": 1.025395263671875}}}\n",
      "#metrics {\"StartTime\": 1686777905.36962, \"EndTime\": 1686777905.3696249, \"Dimensions\": {\"Algorithm\": \"Linear Learner\", \"Host\": \"algo-1\", \"Operation\": \"training\", \"epoch\": 14, \"model\": 31}, \"Metrics\": {\"train_mse_objective\": {\"sum\": 0.9265108032226562, \"count\": 1, \"min\": 0.9265108032226562, \"max\": 0.9265108032226562}}}\n",
      "[06/14/2023 21:25:05 INFO 140335316649792] #quality_metric: host=algo-1, epoch=14, train mse_objective <loss>=0.8352506713867187\n",
      "[06/14/2023 21:25:05 INFO 140335316649792] #early_stopping_criteria_metric: host=algo-1, epoch=14, criteria=mse_objective, value=0.652086181640625\n",
      "[06/14/2023 21:25:05 INFO 140335316649792] Saving model for epoch: 14\n",
      "[06/14/2023 21:25:05 INFO 140335316649792] Saved checkpoint to \"/tmp/tmpixw9l99g/mx-mod-0000.params\"\n",
      "[06/14/2023 21:25:05 INFO 140335316649792] #progress_metric: host=algo-1, completed 100.0 % of epochs\n",
      "#metrics {\"StartTime\": 1686777905.3506796, \"EndTime\": 1686777905.3759754, \"Dimensions\": {\"Algorithm\": \"Linear Learner\", \"Host\": \"algo-1\", \"Operation\": \"training\", \"epoch\": 14, \"Meta\": \"training_data_iter\"}, \"Metrics\": {\"Total Records Seen\": {\"sum\": 18136.0, \"count\": 1, \"min\": 18136, \"max\": 18136}, \"Total Batches Seen\": {\"sum\": 33.0, \"count\": 1, \"min\": 33, \"max\": 33}, \"Max Records Seen Between Resets\": {\"sum\": 1071.0, \"count\": 1, \"min\": 1071, \"max\": 1071}, \"Max Batches Seen Between Resets\": {\"sum\": 2.0, \"count\": 1, \"min\": 2, \"max\": 2}, \"Reset Count\": {\"sum\": 17.0, \"count\": 1, \"min\": 17, \"max\": 17}, \"Number of Records Since Last Reset\": {\"sum\": 1071.0, \"count\": 1, \"min\": 1071, \"max\": 1071}, \"Number of Batches Since Last Reset\": {\"sum\": 2.0, \"count\": 1, \"min\": 2, \"max\": 2}}}\n",
      "[06/14/2023 21:25:05 INFO 140335316649792] #throughput_metric: host=algo-1, train throughput=42161.524088413345 records/second\n",
      "[06/14/2023 21:25:05 WARNING 140335316649792] wait_for_all_workers will not sync workers since the kv store is not running distributed\n",
      "[06/14/2023 21:25:05 WARNING 140335316649792] wait_for_all_workers will not sync workers since the kv store is not running distributed\n",
      "[2023-06-14 21:25:05.377] [tensorio] [info] epoch_stats={\"data_pipeline\": \"/opt/ml/input/data/train\", \"epoch\": 34, \"duration\": 1, \"num_examples\": 1, \"num_bytes\": 64000}\n",
      "[2023-06-14 21:25:05.383] [tensorio] [info] epoch_stats={\"data_pipeline\": \"/opt/ml/input/data/train\", \"epoch\": 36, \"duration\": 3, \"num_examples\": 2, \"num_bytes\": 68544}\n",
      "[06/14/2023 21:25:05 INFO 140335316649792] #train_score (algo-1) : ('mse_objective', 1.4728637165229082e-05)\n",
      "[06/14/2023 21:25:05 INFO 140335316649792] #train_score (algo-1) : ('mse', 1.4728637165229082e-05)\n",
      "[06/14/2023 21:25:05 INFO 140335316649792] #train_score (algo-1) : ('absolute_loss', 0.002878888286684964)\n",
      "[06/14/2023 21:25:05 INFO 140335316649792] #train_score (algo-1) : ('rmse', 0.003837790661986279)\n",
      "[06/14/2023 21:25:05 INFO 140335316649792] #train_score (algo-1) : ('r2', 0.2434803334779041)\n",
      "[06/14/2023 21:25:05 INFO 140335316649792] #train_score (algo-1) : ('mae', 0.0028788883294031914)\n",
      "[06/14/2023 21:25:05 INFO 140335316649792] #quality_metric: host=algo-1, train mse_objective <loss>=1.4728637165229082e-05\n",
      "[06/14/2023 21:25:05 INFO 140335316649792] #quality_metric: host=algo-1, train mse <loss>=1.4728637165229082e-05\n",
      "[06/14/2023 21:25:05 INFO 140335316649792] #quality_metric: host=algo-1, train absolute_loss <loss>=0.002878888286684964\n",
      "[06/14/2023 21:25:05 INFO 140335316649792] #quality_metric: host=algo-1, train rmse <loss>=0.003837790661986279\n",
      "[06/14/2023 21:25:05 INFO 140335316649792] #quality_metric: host=algo-1, train r2 <loss>=0.2434803334779041\n",
      "[06/14/2023 21:25:05 INFO 140335316649792] #quality_metric: host=algo-1, train mae <loss>=0.0028788883294031914\n",
      "[06/14/2023 21:25:05 INFO 140335316649792] Best model found for hyperparameters: {\"optimizer\": \"adam\", \"learning_rate\": 0.1, \"wd\": 0.01, \"l1\": 0.0, \"lr_scheduler_step\": 10, \"lr_scheduler_factor\": 0.99, \"lr_scheduler_minimum_lr\": 0.0001}\n",
      "[06/14/2023 21:25:05 INFO 140335316649792] Saved checkpoint to \"/tmp/tmpifnfubb3/mx-mod-0000.params\"\n",
      "[2023-06-14 21:25:05.386] [tensorio] [info] epoch_stats={\"data_pipeline\": \"/opt/ml/input/data/test\", \"epoch\": 0, \"duration\": 507, \"num_examples\": 1, \"num_bytes\": 10432}\n",
      "[2023-06-14 21:25:05.388] [tensorio] [info] epoch_stats={\"data_pipeline\": \"/opt/ml/input/data/test\", \"epoch\": 1, \"duration\": 1, \"num_examples\": 1, \"num_bytes\": 10432}\n",
      "#metrics {\"StartTime\": 1686777905.3867576, \"EndTime\": 1686777905.389193, \"Dimensions\": {\"Algorithm\": \"Linear Learner\", \"Host\": \"algo-1\", \"Operation\": \"training\", \"Meta\": \"test_data_iter\"}, \"Metrics\": {\"Total Records Seen\": {\"sum\": 163.0, \"count\": 1, \"min\": 163, \"max\": 163}, \"Total Batches Seen\": {\"sum\": 1.0, \"count\": 1, \"min\": 1, \"max\": 1}, \"Max Records Seen Between Resets\": {\"sum\": 163.0, \"count\": 1, \"min\": 163, \"max\": 163}, \"Max Batches Seen Between Resets\": {\"sum\": 1.0, \"count\": 1, \"min\": 1, \"max\": 1}, \"Reset Count\": {\"sum\": 1.0, \"count\": 1, \"min\": 1, \"max\": 1}, \"Number of Records Since Last Reset\": {\"sum\": 163.0, \"count\": 1, \"min\": 163, \"max\": 163}, \"Number of Batches Since Last Reset\": {\"sum\": 1.0, \"count\": 1, \"min\": 1, \"max\": 1}}}\n",
      "[06/14/2023 21:25:05 INFO 140335316649792] #test_score (algo-1) : ('mse_objective', 1.9909436900191513e-05)\n",
      "[06/14/2023 21:25:05 INFO 140335316649792] #test_score (algo-1) : ('mse', 1.9909436900191513e-05)\n",
      "[06/14/2023 21:25:05 INFO 140335316649792] #test_score (algo-1) : ('absolute_loss', 0.003674984343944152)\n",
      "[06/14/2023 21:25:05 INFO 140335316649792] #test_score (algo-1) : ('rmse', 0.004461999204414039)\n",
      "[06/14/2023 21:25:05 INFO 140335316649792] #test_score (algo-1) : ('r2', -0.6487253126590025)\n",
      "[06/14/2023 21:25:05 INFO 140335316649792] #test_score (algo-1) : ('mae', 0.0036749843103765435)\n",
      "[06/14/2023 21:25:05 INFO 140335316649792] #quality_metric: host=algo-1, test mse_objective <loss>=1.9909436900191513e-05\n",
      "[06/14/2023 21:25:05 INFO 140335316649792] #quality_metric: host=algo-1, test mse <loss>=1.9909436900191513e-05\n",
      "[06/14/2023 21:25:05 INFO 140335316649792] #quality_metric: host=algo-1, test absolute_loss <loss>=0.003674984343944152\n",
      "[06/14/2023 21:25:05 INFO 140335316649792] #quality_metric: host=algo-1, test rmse <loss>=0.004461999204414039\n",
      "[06/14/2023 21:25:05 INFO 140335316649792] #quality_metric: host=algo-1, test r2 <loss>=-0.6487253126590025\n",
      "[06/14/2023 21:25:05 INFO 140335316649792] #quality_metric: host=algo-1, test mae <loss>=0.0036749843103765435\n",
      "#metrics {\"StartTime\": 1686777904.8775961, \"EndTime\": 1686777905.392653, \"Dimensions\": {\"Algorithm\": \"Linear Learner\", \"Host\": \"algo-1\", \"Operation\": \"training\"}, \"Metrics\": {\"initialize.time\": {\"sum\": 110.17894744873047, \"count\": 1, \"min\": 110.17894744873047, \"max\": 110.17894744873047}, \"epochs\": {\"sum\": 15.0, \"count\": 1, \"min\": 15, \"max\": 15}, \"check_early_stopping.time\": {\"sum\": 6.413936614990234, \"count\": 15, \"min\": 0.17333030700683594, \"max\": 1.0426044464111328}, \"update.time\": {\"sum\": 346.9099998474121, \"count\": 15, \"min\": 17.523527145385742, \"max\": 51.12123489379883}, \"finalize.time\": {\"sum\": 8.285999298095703, \"count\": 1, \"min\": 8.285999298095703, \"max\": 8.285999298095703}, \"setuptime\": {\"sum\": 1.9354820251464844, \"count\": 1, \"min\": 1.9354820251464844, \"max\": 1.9354820251464844}, \"totaltime\": {\"sum\": 608.9651584625244, \"count\": 1, \"min\": 608.9651584625244, \"max\": 608.9651584625244}}}\n",
      "\n",
      "2023-06-14 21:25:20 Completed - Training job completed\n",
      "Training seconds: 107\n",
      "Billable seconds: 53\n",
      "Managed Spot Training savings: 50.5%\n"
     ]
    }
   ],
   "source": [
    "import boto3\n",
    "from sagemaker import get_execution_role, LinearLearner\n",
    "\n",
    "# Setting the bucket name\n",
    "bucket = 'fcc-spark-example'\n",
    "data_location = f's3://{bucket}/aq-linearlearner/data/train'\n",
    "output_location = f's3://{bucket}/aq-linearlearner/output'\n",
    "\n",
    "\n",
    "# This is used to run the LinearLearner training job\n",
    "role = get_execution_role()\n",
    "\n",
    "llearner = LinearLearner(role=role,\n",
    "                predictor_type='regressor',\n",
    "                normalize_data=True,\n",
    "                normalize_label=True,\n",
    "                instance_count=1,\n",
    "                use_spot_instances = True,\n",
    "                max_run= 1800,\n",
    "                max_wait = 3600,\n",
    "                instance_type='ml.c5.xlarge',\n",
    "                output_path=output_location,\n",
    "                data_location=data_location)\n",
    "\n",
    "# Starting the training \n",
    "llearner.fit([\n",
    "    llearner.record_set(x_train.values.astype('float32'), y_train.values[:, 0].astype('float32'), channel='train'),\n",
    "    llearner.record_set(x_test.values.astype('float32'), y_test.values[:, 0].astype('float32'), channel='test')\n",
    "])"
   ]
  },
  {
   "cell_type": "markdown",
   "id": "8a7a9012-717b-4e02-abe9-1dd18f81a95c",
   "metadata": {},
   "source": [
    "## Deploying the model (`endpoint`)"
   ]
  },
  {
   "cell_type": "code",
   "execution_count": 16,
   "id": "68f22bf9-885e-451f-8585-81bef9646223",
   "metadata": {
    "tags": []
   },
   "outputs": [
    {
     "name": "stdout",
     "output_type": "stream",
     "text": [
      "--------------------!\n"
     ]
    }
   ],
   "source": [
    "llearner_predictor = llearner.deploy(initial_instance_count=1,\n",
    "                                 instance_type='ml.t2.medium')"
   ]
  },
  {
   "cell_type": "code",
   "execution_count": 17,
   "id": "9088f3a7-a367-4c48-8777-9fc69d3177e2",
   "metadata": {
    "tags": []
   },
   "outputs": [
    {
     "name": "stdout",
     "output_type": "stream",
     "text": [
      "RMSE: 0.0045\n",
      "Variance score: -0.6487\n",
      "Explained variance score: 0.4130\n",
      "Forecast bias: 0.0036\n",
      "sMAPE: 1.4582\n"
     ]
    }
   ],
   "source": [
    "result = llearner_predictor.predict(x_test.values.astype('float32'))\n",
    "y_sm_pred = [r.label[\"score\"].float32_tensor.values[0] for r in result]\n",
    "y_sm_test = y_test.values[:, 0].astype('float32')\n",
    "print_metrics(y_sm_test, y_sm_pred)"
   ]
  },
  {
   "cell_type": "code",
   "execution_count": 18,
   "id": "0e69e2c3-f5f2-45b5-8726-ed482034e469",
   "metadata": {
    "tags": []
   },
   "outputs": [
    {
     "data": {
      "image/png": "[encoded data removed]"
     },
     "metadata": {
      "image/png": {
       "height": 480,
       "width": 640
      }
     },
     "output_type": "display_data"
    }
   ],
   "source": [
    "import matplotlib.pyplot as plt\n",
    "\n",
    "y_sm_pred_df = pd.DataFrame(y_sm_pred, columns=y_train.columns).set_index(y_test.index).sort_index()\n",
    "y_sm_test_df = pd.DataFrame(y_sm_test, columns=y_train.columns).set_index(y_test.index).sort_index()\n",
    "\n",
    "plt.plot(y_sm_test_df, label='actual')\n",
    "plt.plot(y_sm_pred_df, label='forecast')\n",
    "plt.legend()\n",
    "plt.show()\n",
    "\n",
    "%matplot plt"
   ]
  },
  {
   "cell_type": "code",
   "execution_count": 19,
   "id": "379bbe1e-7474-4fa1-b1dd-7ce7eef1aaa8",
   "metadata": {
    "tags": []
   },
   "outputs": [
    {
     "name": "stdout",
     "output_type": "stream",
     "text": [
      "linear-learner-2023-06-14-21-25-59-536\n"
     ]
    }
   ],
   "source": [
    "endpoint_name = llearner_predictor.endpoint_name\n",
    "print(endpoint_name)"
   ]
  },
  {
   "cell_type": "markdown",
   "id": "8de97f75-3b4c-4b37-895c-5aefffc24bb8",
   "metadata": {},
   "source": [
    "## (Optional) Reuse an existing estimator"
   ]
  },
  {
   "cell_type": "code",
   "execution_count": 20,
   "id": "eb3e7ef5-adf8-4dbf-a6e4-cbdffa7adfb9",
   "metadata": {
    "tags": []
   },
   "outputs": [
    {
     "name": "stdout",
     "output_type": "stream",
     "text": [
      "RMSE: 0.0045\n",
      "Variance score: -0.6487\n",
      "Explained variance score: 0.4130\n",
      "Forecast bias: 0.0036\n",
      "sMAPE: 1.4582\n"
     ]
    }
   ],
   "source": [
    "from sagemaker import LinearLearnerPredictor\n",
    "\n",
    "llearner_predictor = LinearLearnerPredictor(endpoint_name)\n",
    "result = llearner_predictor.predict(x_test.values.astype('float32'))\n",
    "y_sm_pred = [r.label[\"score\"].float32_tensor.values[0] for r in result]\n",
    "y_sm_test = y_test.values[:, 0].astype('float32')\n",
    "\n",
    "print_metrics(y_sm_test, y_sm_pred)"
   ]
  },
  {
   "cell_type": "markdown",
   "id": "404748ee-5530-4e5a-9b12-0452976ec6a1",
   "metadata": {
    "tags": []
   },
   "source": [
    "# Clean up"
   ]
  },
  {
   "cell_type": "code",
   "execution_count": null,
   "id": "d77c110c-e93c-40ed-b528-df45b142139f",
   "metadata": {},
   "outputs": [],
   "source": [
    "## Delete the endpoint \n",
    "\n",
    "## llearner_predictor.delete_endpoint()"
   ]
  },
  {
   "cell_type": "code",
   "execution_count": null,
   "id": "788d349d-c26a-4e08-9e75-1ac944d5079b",
   "metadata": {},
   "outputs": [],
   "source": []
  }
 ],
 "metadata": {
  "availableInstances": [
   {
    "_defaultOrder": 0,
    "_isFastLaunch": true,
    "category": "General purpose",
    "gpuNum": 0,
    "hideHardwareSpecs": false,
    "memoryGiB": 4,
    "name": "ml.t3.medium",
    "vcpuNum": 2
   },
   {
    "_defaultOrder": 1,
    "_isFastLaunch": false,
    "category": "General purpose",
    "gpuNum": 0,
    "hideHardwareSpecs": false,
    "memoryGiB": 8,
    "name": "ml.t3.large",
    "vcpuNum": 2
   },
   {
    "_defaultOrder": 2,
    "_isFastLaunch": false,
    "category": "General purpose",
    "gpuNum": 0,
    "hideHardwareSpecs": false,
    "memoryGiB": 16,
    "name": "ml.t3.xlarge",
    "vcpuNum": 4
   },
   {
    "_defaultOrder": 3,
    "_isFastLaunch": false,
    "category": "General purpose",
    "gpuNum": 0,
    "hideHardwareSpecs": false,
    "memoryGiB": 32,
    "name": "ml.t3.2xlarge",
    "vcpuNum": 8
   },
   {
    "_defaultOrder": 4,
    "_isFastLaunch": true,
    "category": "General purpose",
    "gpuNum": 0,
    "hideHardwareSpecs": false,
    "memoryGiB": 8,
    "name": "ml.m5.large",
    "vcpuNum": 2
   },
   {
    "_defaultOrder": 5,
    "_isFastLaunch": false,
    "category": "General purpose",
    "gpuNum": 0,
    "hideHardwareSpecs": false,
    "memoryGiB": 16,
    "name": "ml.m5.xlarge",
    "vcpuNum": 4
   },
   {
    "_defaultOrder": 6,
    "_isFastLaunch": false,
    "category": "General purpose",
    "gpuNum": 0,
    "hideHardwareSpecs": false,
    "memoryGiB": 32,
    "name": "ml.m5.2xlarge",
    "vcpuNum": 8
   },
   {
    "_defaultOrder": 7,
    "_isFastLaunch": false,
    "category": "General purpose",
    "gpuNum": 0,
    "hideHardwareSpecs": false,
    "memoryGiB": 64,
    "name": "ml.m5.4xlarge",
    "vcpuNum": 16
   },
   {
    "_defaultOrder": 8,
    "_isFastLaunch": false,
    "category": "General purpose",
    "gpuNum": 0,
    "hideHardwareSpecs": false,
    "memoryGiB": 128,
    "name": "ml.m5.8xlarge",
    "vcpuNum": 32
   },
   {
    "_defaultOrder": 9,
    "_isFastLaunch": false,
    "category": "General purpose",
    "gpuNum": 0,
    "hideHardwareSpecs": false,
    "memoryGiB": 192,
    "name": "ml.m5.12xlarge",
    "vcpuNum": 48
   },
   {
    "_defaultOrder": 10,
    "_isFastLaunch": false,
    "category": "General purpose",
    "gpuNum": 0,
    "hideHardwareSpecs": false,
    "memoryGiB": 256,
    "name": "ml.m5.16xlarge",
    "vcpuNum": 64
   },
   {
    "_defaultOrder": 11,
    "_isFastLaunch": false,
    "category": "General purpose",
    "gpuNum": 0,
    "hideHardwareSpecs": false,
    "memoryGiB": 384,
    "name": "ml.m5.24xlarge",
    "vcpuNum": 96
   },
   {
    "_defaultOrder": 12,
    "_isFastLaunch": false,
    "category": "General purpose",
    "gpuNum": 0,
    "hideHardwareSpecs": false,
    "memoryGiB": 8,
    "name": "ml.m5d.large",
    "vcpuNum": 2
   },
   {
    "_defaultOrder": 13,
    "_isFastLaunch": false,
    "category": "General purpose",
    "gpuNum": 0,
    "hideHardwareSpecs": false,
    "memoryGiB": 16,
    "name": "ml.m5d.xlarge",
    "vcpuNum": 4
   },
   {
    "_defaultOrder": 14,
    "_isFastLaunch": false,
    "category": "General purpose",
    "gpuNum": 0,
    "hideHardwareSpecs": false,
    "memoryGiB": 32,
    "name": "ml.m5d.2xlarge",
    "vcpuNum": 8
   },
   {
    "_defaultOrder": 15,
    "_isFastLaunch": false,
    "category": "General purpose",
    "gpuNum": 0,
    "hideHardwareSpecs": false,
    "memoryGiB": 64,
    "name": "ml.m5d.4xlarge",
    "vcpuNum": 16
   },
   {
    "_defaultOrder": 16,
    "_isFastLaunch": false,
    "category": "General purpose",
    "gpuNum": 0,
    "hideHardwareSpecs": false,
    "memoryGiB": 128,
    "name": "ml.m5d.8xlarge",
    "vcpuNum": 32
   },
   {
    "_defaultOrder": 17,
    "_isFastLaunch": false,
    "category": "General purpose",
    "gpuNum": 0,
    "hideHardwareSpecs": false,
    "memoryGiB": 192,
    "name": "ml.m5d.12xlarge",
    "vcpuNum": 48
   },
   {
    "_defaultOrder": 18,
    "_isFastLaunch": false,
    "category": "General purpose",
    "gpuNum": 0,
    "hideHardwareSpecs": false,
    "memoryGiB": 256,
    "name": "ml.m5d.16xlarge",
    "vcpuNum": 64
   },
   {
    "_defaultOrder": 19,
    "_isFastLaunch": false,
    "category": "General purpose",
    "gpuNum": 0,
    "hideHardwareSpecs": false,
    "memoryGiB": 384,
    "name": "ml.m5d.24xlarge",
    "vcpuNum": 96
   },
   {
    "_defaultOrder": 20,
    "_isFastLaunch": false,
    "category": "General purpose",
    "gpuNum": 0,
    "hideHardwareSpecs": true,
    "memoryGiB": 0,
    "name": "ml.geospatial.interactive",
    "supportedImageNames": [
     "sagemaker-geospatial-v1-0"
    ],
    "vcpuNum": 0
   },
   {
    "_defaultOrder": 21,
    "_isFastLaunch": true,
    "category": "Compute optimized",
    "gpuNum": 0,
    "hideHardwareSpecs": false,
    "memoryGiB": 4,
    "name": "ml.c5.large",
    "vcpuNum": 2
   },
   {
    "_defaultOrder": 22,
    "_isFastLaunch": false,
    "category": "Compute optimized",
    "gpuNum": 0,
    "hideHardwareSpecs": false,
    "memoryGiB": 8,
    "name": "ml.c5.xlarge",
    "vcpuNum": 4
   },
   {
    "_defaultOrder": 23,
    "_isFastLaunch": false,
    "category": "Compute optimized",
    "gpuNum": 0,
    "hideHardwareSpecs": false,
    "memoryGiB": 16,
    "name": "ml.c5.2xlarge",
    "vcpuNum": 8
   },
   {
    "_defaultOrder": 24,
    "_isFastLaunch": false,
    "category": "Compute optimized",
    "gpuNum": 0,
    "hideHardwareSpecs": false,
    "memoryGiB": 32,
    "name": "ml.c5.4xlarge",
    "vcpuNum": 16
   },
   {
    "_defaultOrder": 25,
    "_isFastLaunch": false,
    "category": "Compute optimized",
    "gpuNum": 0,
    "hideHardwareSpecs": false,
    "memoryGiB": 72,
    "name": "ml.c5.9xlarge",
    "vcpuNum": 36
   },
   {
    "_defaultOrder": 26,
    "_isFastLaunch": false,
    "category": "Compute optimized",
    "gpuNum": 0,
    "hideHardwareSpecs": false,
    "memoryGiB": 96,
    "name": "ml.c5.12xlarge",
    "vcpuNum": 48
   },
   {
    "_defaultOrder": 27,
    "_isFastLaunch": false,
    "category": "Compute optimized",
    "gpuNum": 0,
    "hideHardwareSpecs": false,
    "memoryGiB": 144,
    "name": "ml.c5.18xlarge",
    "vcpuNum": 72
   },
   {
    "_defaultOrder": 28,
    "_isFastLaunch": false,
    "category": "Compute optimized",
    "gpuNum": 0,
    "hideHardwareSpecs": false,
    "memoryGiB": 192,
    "name": "ml.c5.24xlarge",
    "vcpuNum": 96
   },
   {
    "_defaultOrder": 29,
    "_isFastLaunch": true,
    "category": "Accelerated computing",
    "gpuNum": 1,
    "hideHardwareSpecs": false,
    "memoryGiB": 16,
    "name": "ml.g4dn.xlarge",
    "vcpuNum": 4
   },
   {
    "_defaultOrder": 30,
    "_isFastLaunch": false,
    "category": "Accelerated computing",
    "gpuNum": 1,
    "hideHardwareSpecs": false,
    "memoryGiB": 32,
    "name": "ml.g4dn.2xlarge",
    "vcpuNum": 8
   },
   {
    "_defaultOrder": 31,
    "_isFastLaunch": false,
    "category": "Accelerated computing",
    "gpuNum": 1,
    "hideHardwareSpecs": false,
    "memoryGiB": 64,
    "name": "ml.g4dn.4xlarge",
    "vcpuNum": 16
   },
   {
    "_defaultOrder": 32,
    "_isFastLaunch": false,
    "category": "Accelerated computing",
    "gpuNum": 1,
    "hideHardwareSpecs": false,
    "memoryGiB": 128,
    "name": "ml.g4dn.8xlarge",
    "vcpuNum": 32
   },
   {
    "_defaultOrder": 33,
    "_isFastLaunch": false,
    "category": "Accelerated computing",
    "gpuNum": 4,
    "hideHardwareSpecs": false,
    "memoryGiB": 192,
    "name": "ml.g4dn.12xlarge",
    "vcpuNum": 48
   },
   {
    "_defaultOrder": 34,
    "_isFastLaunch": false,
    "category": "Accelerated computing",
    "gpuNum": 1,
    "hideHardwareSpecs": false,
    "memoryGiB": 256,
    "name": "ml.g4dn.16xlarge",
    "vcpuNum": 64
   },
   {
    "_defaultOrder": 35,
    "_isFastLaunch": false,
    "category": "Accelerated computing",
    "gpuNum": 1,
    "hideHardwareSpecs": false,
    "memoryGiB": 61,
    "name": "ml.p3.2xlarge",
    "vcpuNum": 8
   },
   {
    "_defaultOrder": 36,
    "_isFastLaunch": false,
    "category": "Accelerated computing",
    "gpuNum": 4,
    "hideHardwareSpecs": false,
    "memoryGiB": 244,
    "name": "ml.p3.8xlarge",
    "vcpuNum": 32
   },
   {
    "_defaultOrder": 37,
    "_isFastLaunch": false,
    "category": "Accelerated computing",
    "gpuNum": 8,
    "hideHardwareSpecs": false,
    "memoryGiB": 488,
    "name": "ml.p3.16xlarge",
    "vcpuNum": 64
   },
   {
    "_defaultOrder": 38,
    "_isFastLaunch": false,
    "category": "Accelerated computing",
    "gpuNum": 8,
    "hideHardwareSpecs": false,
    "memoryGiB": 768,
    "name": "ml.p3dn.24xlarge",
    "vcpuNum": 96
   },
   {
    "_defaultOrder": 39,
    "_isFastLaunch": false,
    "category": "Memory Optimized",
    "gpuNum": 0,
    "hideHardwareSpecs": false,
    "memoryGiB": 16,
    "name": "ml.r5.large",
    "vcpuNum": 2
   },
   {
    "_defaultOrder": 40,
    "_isFastLaunch": false,
    "category": "Memory Optimized",
    "gpuNum": 0,
    "hideHardwareSpecs": false,
    "memoryGiB": 32,
    "name": "ml.r5.xlarge",
    "vcpuNum": 4
   },
   {
    "_defaultOrder": 41,
    "_isFastLaunch": false,
    "category": "Memory Optimized",
    "gpuNum": 0,
    "hideHardwareSpecs": false,
    "memoryGiB": 64,
    "name": "ml.r5.2xlarge",
    "vcpuNum": 8
   },
   {
    "_defaultOrder": 42,
    "_isFastLaunch": false,
    "category": "Memory Optimized",
    "gpuNum": 0,
    "hideHardwareSpecs": false,
    "memoryGiB": 128,
    "name": "ml.r5.4xlarge",
    "vcpuNum": 16
   },
   {
    "_defaultOrder": 43,
    "_isFastLaunch": false,
    "category": "Memory Optimized",
    "gpuNum": 0,
    "hideHardwareSpecs": false,
    "memoryGiB": 256,
    "name": "ml.r5.8xlarge",
    "vcpuNum": 32
   },
   {
    "_defaultOrder": 44,
    "_isFastLaunch": false,
    "category": "Memory Optimized",
    "gpuNum": 0,
    "hideHardwareSpecs": false,
    "memoryGiB": 384,
    "name": "ml.r5.12xlarge",
    "vcpuNum": 48
   },
   {
    "_defaultOrder": 45,
    "_isFastLaunch": false,
    "category": "Memory Optimized",
    "gpuNum": 0,
    "hideHardwareSpecs": false,
    "memoryGiB": 512,
    "name": "ml.r5.16xlarge",
    "vcpuNum": 64
   },
   {
    "_defaultOrder": 46,
    "_isFastLaunch": false,
    "category": "Memory Optimized",
    "gpuNum": 0,
    "hideHardwareSpecs": false,
    "memoryGiB": 768,
    "name": "ml.r5.24xlarge",
    "vcpuNum": 96
   },
   {
    "_defaultOrder": 47,
    "_isFastLaunch": false,
    "category": "Accelerated computing",
    "gpuNum": 1,
    "hideHardwareSpecs": false,
    "memoryGiB": 16,
    "name": "ml.g5.xlarge",
    "vcpuNum": 4
   },
   {
    "_defaultOrder": 48,
    "_isFastLaunch": false,
    "category": "Accelerated computing",
    "gpuNum": 1,
    "hideHardwareSpecs": false,
    "memoryGiB": 32,
    "name": "ml.g5.2xlarge",
    "vcpuNum": 8
   },
   {
    "_defaultOrder": 49,
    "_isFastLaunch": false,
    "category": "Accelerated computing",
    "gpuNum": 1,
    "hideHardwareSpecs": false,
    "memoryGiB": 64,
    "name": "ml.g5.4xlarge",
    "vcpuNum": 16
   },
   {
    "_defaultOrder": 50,
    "_isFastLaunch": false,
    "category": "Accelerated computing",
    "gpuNum": 1,
    "hideHardwareSpecs": false,
    "memoryGiB": 128,
    "name": "ml.g5.8xlarge",
    "vcpuNum": 32
   },
   {
    "_defaultOrder": 51,
    "_isFastLaunch": false,
    "category": "Accelerated computing",
    "gpuNum": 1,
    "hideHardwareSpecs": false,
    "memoryGiB": 256,
    "name": "ml.g5.16xlarge",
    "vcpuNum": 64
   },
   {
    "_defaultOrder": 52,
    "_isFastLaunch": false,
    "category": "Accelerated computing",
    "gpuNum": 4,
    "hideHardwareSpecs": false,
    "memoryGiB": 192,
    "name": "ml.g5.12xlarge",
    "vcpuNum": 48
   },
   {
    "_defaultOrder": 53,
    "_isFastLaunch": false,
    "category": "Accelerated computing",
    "gpuNum": 4,
    "hideHardwareSpecs": false,
    "memoryGiB": 384,
    "name": "ml.g5.24xlarge",
    "vcpuNum": 96
   },
   {
    "_defaultOrder": 54,
    "_isFastLaunch": false,
    "category": "Accelerated computing",
    "gpuNum": 8,
    "hideHardwareSpecs": false,
    "memoryGiB": 768,
    "name": "ml.g5.48xlarge",
    "vcpuNum": 192
   },
   {
    "_defaultOrder": 55,
    "_isFastLaunch": false,
    "category": "Accelerated computing",
    "gpuNum": 8,
    "hideHardwareSpecs": false,
    "memoryGiB": 1152,
    "name": "ml.p4d.24xlarge",
    "vcpuNum": 96
   },
   {
    "_defaultOrder": 56,
    "_isFastLaunch": false,
    "category": "Accelerated computing",
    "gpuNum": 8,
    "hideHardwareSpecs": false,
    "memoryGiB": 1152,
    "name": "ml.p4de.24xlarge",
    "vcpuNum": 96
   }
  ],
  "instance_type": "ml.m5.4xlarge",
  "kernelspec": {
   "display_name": "Glue Python [PySpark and Ray] (SparkAnalytics 2.0)",
   "language": "python",
   "name": "conda-env-sm_glue_is-glue_pyspark__SAGEMAKER_INTERNAL__arn:aws:sagemaker:us-east-2:429704687514:image/sagemaker-sparkanalytics-310-v1"
  },
  "language_info": {
   "codemirror_mode": {
    "name": "python",
    "version": 3
   },
   "file_extension": ".py",
   "mimetype": "text/x-python",
   "name": "Python_Glue_Session",
   "pygments_lexer": "python3"
  }
 },
 "nbformat": 4,
 "nbformat_minor": 5
}
