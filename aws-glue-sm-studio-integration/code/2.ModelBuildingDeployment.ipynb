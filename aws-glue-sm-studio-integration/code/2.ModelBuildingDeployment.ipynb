{
 "cells": [
  {
   "cell_type": "markdown",
   "id": "e196b80d-a45b-4fb6-b7a1-f2c3ae9e636b",
   "metadata": {
    "tags": []
   },
   "source": [
    "# Model Building, Training and Deployment"
   ]
  },
  {
   "cell_type": "code",
   "execution_count": 12,
   "id": "184a2340-d928-4e9c-965a-483efaac5d9e",
   "metadata": {
    "tags": []
   },
   "outputs": [],
   "source": [
    "import pandas as pd\n",
    "import numpy as np\n",
    "import sagemaker_datawrangler\n",
    "import matplotlib.pyplot as plt"
   ]
  },
  {
   "cell_type": "markdown",
   "id": "794b74d8-d1cc-470f-8d11-8ddacbb5993e",
   "metadata": {
    "tags": []
   },
   "source": [
    "## Load the processed data "
   ]
  },
  {
   "cell_type": "code",
   "execution_count": 13,
   "id": "1af48e9c-ed17-407d-ba14-15ddfa7b5418",
   "metadata": {
    "tags": []
   },
   "outputs": [],
   "source": [
    "# Download Parquet from S3 locally, or use awswrangler to read pandas df directly from S3\n",
    "processed_dataset = \"s3://fcc-spark-example/subset-boston-data.parquet/\""
   ]
  },
  {
   "cell_type": "code",
   "execution_count": 14,
   "id": "14824a2e-f361-4ae7-9d70-cd747f730075",
   "metadata": {
    "tags": []
   },
   "outputs": [],
   "source": [
    "comp_pd_df = pd.read_parquet(processed_dataset)"
   ]
  },
  {
   "cell_type": "code",
   "execution_count": 15,
   "id": "e2e772fd-30aa-4761-ba42-0b617161286b",
   "metadata": {
    "tags": []
   },
   "outputs": [
    {
     "data": {
      "application/vnd.jupyter.widget-view+json": {
       "model_id": "32298b9b8e884a5ab8a953c43576d626"
      },
      "text/plain": [
       "       no2_avg        date  temp_max  temp_min  wind_avg  pressure_sea_level  \\\n",
       "0     0.015557  2020-01-07     41.35     30.60      4.30             1015.00   \n",
       "1     0.011425  2020-01-08     44.25     33.35      4.65             1009.45   \n",
       "2     0.005458  2020-01-09     40.40     22.10      7.45             1029.80   \n",
       "3     0.016883  2020-01-10     51.00     24.90      5.30             1034.60   \n",
       "4     0.006466  2020-01-11     67.85     49.25      7.25             1023.60   \n",
       "...        ...         ...       ...       ...       ...                 ...   \n",
       "1230  0.004851  2023-06-08     65.55     55.85      6.10             1004.35   \n",
       "1231  0.008181  2023-06-09     63.75     54.25      4.80             1006.30   \n",
       "1232  0.007668  2023-06-10     65.20     53.70      4.20             1006.90   \n",
       "1233  0.004565  2023-06-11     74.85     56.70      6.30             1011.25   \n",
       "1234  0.005963  2023-06-12     80.10     66.00      8.00             1011.80   \n",
       "\n",
       "      pressure_station  \n",
       "0               507.25  \n",
       "1               504.45  \n",
       "2               514.60  \n",
       "3               517.05  \n",
       "4               511.60  \n",
       "...                ...  \n",
       "1230            501.70  \n",
       "1231            502.65  \n",
       "1232            502.90  \n",
       "1233            505.10  \n",
       "1234             10.90  \n",
       "\n",
       "[1235 rows x 7 columns]"
      ]
     },
     "metadata": {},
     "output_type": "display_data"
    }
   ],
   "source": [
    "comp_pd_df"
   ]
  },
  {
   "cell_type": "markdown",
   "id": "3dac2ada-5925-4388-a885-cd6b11c00cc4",
   "metadata": {
    "tags": []
   },
   "source": [
    "## Spliting the data for training and testing "
   ]
  },
  {
   "cell_type": "code",
   "execution_count": 17,
   "id": "6daba743-0dd9-4195-a3e8-3994b5eb9e5b",
   "metadata": {
    "tags": []
   },
   "outputs": [
    {
     "name": "stdout",
     "output_type": "stream",
     "text": [
      "(1071, 5) (1071, 1)\n",
      "(163, 5) (163, 1)\n",
      "            temp_max  temp_min  wind_avg  pressure_sea_level  pressure_station\n",
      "2020-01-08     44.25     33.35      4.65             1009.45            504.45\n",
      "2020-01-09     40.40     22.10      7.45             1029.80            514.60\n",
      "2020-01-10     51.00     24.90      5.30             1034.60            517.05\n",
      "2020-01-11     67.85     49.25      7.25             1023.60            511.60\n",
      "2020-01-12     71.95     51.25      9.85             1012.05            505.60\n"
     ]
    }
   ],
   "source": [
    "import pandas as pd\n",
    "import numpy as np\n",
    "import matplotlib.pyplot as plt\n",
    "\n",
    "import warnings\n",
    "warnings.simplefilter(action='ignore', category=FutureWarning)\n",
    "\n",
    "comp_pd_df = comp_pd_df.set_index('date')\n",
    "comp_pd_df.index.name = None\n",
    "\n",
    "# Drop the 1st row \n",
    "aq_df = comp_pd_df.iloc[1:].copy()\n",
    "aq_df.index = pd.to_datetime(aq_df.index)\n",
    "\n",
    "# Dropping the NaN \n",
    "aq_df = aq_df.dropna()\n",
    "\n",
    "# Use the data from years 2020 up to 2022 as training, and the year 2023 as our candidate year for testing and validating our model.\n",
    "aq_train_df = aq_df[aq_df.index.year < 2023]\n",
    "aq_test_df = aq_df[aq_df.index.year == 2023]\n",
    "\n",
    "# Input Feature \n",
    "x_train = aq_train_df.drop('no2_avg',axis=1)\n",
    "x_test = aq_test_df.drop('no2_avg',axis=1)\n",
    "\n",
    "# Class Labels \n",
    "y_train = aq_train_df[[\"no2_avg\"]]\n",
    "y_test = aq_test_df[[\"no2_avg\"]]\n",
    "\n",
    "print(x_train.shape, y_train.shape)\n",
    "print(x_test.shape, y_test.shape)\n",
    "print(x_train.head())"
   ]
  },
  {
   "cell_type": "markdown",
   "id": "edbf09e8-c660-4659-8a98-91f62d091c10",
   "metadata": {
    "tags": []
   },
   "source": [
    "## Few helper functions"
   ]
  },
  {
   "cell_type": "code",
   "execution_count": 18,
   "id": "82af81d2-78dd-465a-8f5a-258c7084de2e",
   "metadata": {
    "tags": []
   },
   "outputs": [],
   "source": [
    "from math import sqrt\n",
    "from sklearn.metrics import mean_squared_error, r2_score, explained_variance_score\n",
    "\n",
    "# sMAPE is used in KDD Air Quality challenge: https://biendata.com/competition/kdd_2018/evaluation/ \n",
    "def smape(actual, predicted):\n",
    "    dividend= np.abs(np.array(actual) - np.array(predicted))\n",
    "    denominator = np.array(actual) + np.array(predicted)\n",
    "    \n",
    "    return 2 * np.mean(np.divide(dividend, denominator, out=np.zeros_like(dividend), where=denominator!=0, casting='unsafe'))\n",
    "\n",
    "def print_metrics(y_test, y_pred):\n",
    "    print(\"RMSE: %.4f\" % sqrt(mean_squared_error(y_test, y_pred)))\n",
    "    print('Variance score: %.4f' % r2_score(y_test, y_pred))\n",
    "    print('Explained variance score: %.4f' % explained_variance_score(y_test, y_pred))\n",
    "    forecast_err = np.array(y_test) - np.array(y_pred)\n",
    "    print('Forecast bias: %.4f' % (np.sum(forecast_err) * 1.0/len(y_pred) ))\n",
    "    print('sMAPE: %.4f' % smape(y_test, y_pred))"
   ]
  },
  {
   "cell_type": "markdown",
   "id": "e17ab3fa-cf8b-4206-ba09-61eecb7d72d2",
   "metadata": {
    "tags": []
   },
   "source": [
    "## Training the model \n",
    "\n",
    "In the section below, we create a new training job using the Linear Learner algorithm. Once that job completes, we deploy an endpoint and run some validation tests against it. \n",
    "\n",
    "**NOTE**: You only need to create this training job and deploy it once. You can use the same endpoint, even in future runs of this notebook, without re-training or re-deploying. "
   ]
  },
  {
   "cell_type": "code",
   "execution_count": 19,
   "id": "1dd74da4-2cc7-4fc9-85f5-77aa1e6ff2ec",
   "metadata": {
    "collapsed": true,
    "jupyter": {
     "outputs_hidden": true
    },
    "tags": []
   },
   "outputs": [
    {
     "name": "stdout",
     "output_type": "stream",
     "text": [
      "2023-06-14 20:45:23 Starting - Starting the training job...\n",
      "2023-06-14 20:45:37 Starting - Preparing the instances for training...\n",
      "2023-06-14 20:46:31 Downloading - Downloading input data...\n",
      "2023-06-14 20:46:57 Training - Downloading the training image......\n",
      "2023-06-14 20:47:52 Training - Training image download completed. Training in progress..\u001b[34mDocker entrypoint called with argument(s): train\u001b[0m\n",
      "\u001b[34mRunning default environment configuration script\u001b[0m\n",
      "\u001b[34m[06/14/2023 20:47:59 INFO 140522871928640] Reading default configuration from /opt/amazon/lib/python3.7/site-packages/algorithm/resources/default-input.json: {'mini_batch_size': '1000', 'epochs': '15', 'feature_dim': 'auto', 'use_bias': 'true', 'binary_classifier_model_selection_criteria': 'accuracy', 'f_beta': '1.0', 'target_recall': '0.8', 'target_precision': '0.8', 'num_models': 'auto', 'num_calibration_samples': '10000000', 'init_method': 'uniform', 'init_scale': '0.07', 'init_sigma': '0.01', 'init_bias': '0.0', 'optimizer': 'auto', 'loss': 'auto', 'margin': '1.0', 'quantile': '0.5', 'loss_insensitivity': '0.01', 'huber_delta': '1.0', 'num_classes': '1', 'accuracy_top_k': '3', 'wd': 'auto', 'l1': 'auto', 'momentum': 'auto', 'learning_rate': 'auto', 'beta_1': 'auto', 'beta_2': 'auto', 'bias_lr_mult': 'auto', 'bias_wd_mult': 'auto', 'use_lr_scheduler': 'true', 'lr_scheduler_step': 'auto', 'lr_scheduler_factor': 'auto', 'lr_scheduler_minimum_lr': 'auto', 'positive_example_weight_mult': '1.0', 'balance_multiclass_weights': 'false', 'normalize_data': 'true', 'normalize_label': 'auto', 'unbias_data': 'auto', 'unbias_label': 'auto', 'num_point_for_scaler': '10000', '_kvstore': 'auto', '_num_gpus': 'auto', '_num_kv_servers': 'auto', '_log_level': 'info', '_tuning_objective_metric': '', 'early_stopping_patience': '3', 'early_stopping_tolerance': '0.001', '_enable_profiler': 'false'}\u001b[0m\n",
      "\u001b[34m[06/14/2023 20:47:59 INFO 140522871928640] Merging with provided configuration from /opt/ml/input/config/hyperparameters.json: {'feature_dim': '5', 'mini_batch_size': '1000', 'normalize_data': 'True', 'normalize_label': 'True', 'predictor_type': 'regressor'}\u001b[0m\n",
      "\u001b[34m[06/14/2023 20:47:59 INFO 140522871928640] Final configuration: {'mini_batch_size': '1000', 'epochs': '15', 'feature_dim': '5', 'use_bias': 'true', 'binary_classifier_model_selection_criteria': 'accuracy', 'f_beta': '1.0', 'target_recall': '0.8', 'target_precision': '0.8', 'num_models': 'auto', 'num_calibration_samples': '10000000', 'init_method': 'uniform', 'init_scale': '0.07', 'init_sigma': '0.01', 'init_bias': '0.0', 'optimizer': 'auto', 'loss': 'auto', 'margin': '1.0', 'quantile': '0.5', 'loss_insensitivity': '0.01', 'huber_delta': '1.0', 'num_classes': '1', 'accuracy_top_k': '3', 'wd': 'auto', 'l1': 'auto', 'momentum': 'auto', 'learning_rate': 'auto', 'beta_1': 'auto', 'beta_2': 'auto', 'bias_lr_mult': 'auto', 'bias_wd_mult': 'auto', 'use_lr_scheduler': 'true', 'lr_scheduler_step': 'auto', 'lr_scheduler_factor': 'auto', 'lr_scheduler_minimum_lr': 'auto', 'positive_example_weight_mult': '1.0', 'balance_multiclass_weights': 'false', 'normalize_data': 'True', 'normalize_label': 'True', 'unbias_data': 'auto', 'unbias_label': 'auto', 'num_point_for_scaler': '10000', '_kvstore': 'auto', '_num_gpus': 'auto', '_num_kv_servers': 'auto', '_log_level': 'info', '_tuning_objective_metric': '', 'early_stopping_patience': '3', 'early_stopping_tolerance': '0.001', '_enable_profiler': 'false', 'predictor_type': 'regressor'}\u001b[0m\n",
      "\u001b[34m[06/14/2023 20:48:02 WARNING 140522871928640] Loggers have already been setup.\u001b[0m\n",
      "\u001b[34m[06/14/2023 20:48:02 INFO 140522871928640] Final configuration: {'mini_batch_size': '1000', 'epochs': '15', 'feature_dim': '5', 'use_bias': 'true', 'binary_classifier_model_selection_criteria': 'accuracy', 'f_beta': '1.0', 'target_recall': '0.8', 'target_precision': '0.8', 'num_models': 'auto', 'num_calibration_samples': '10000000', 'init_method': 'uniform', 'init_scale': '0.07', 'init_sigma': '0.01', 'init_bias': '0.0', 'optimizer': 'auto', 'loss': 'auto', 'margin': '1.0', 'quantile': '0.5', 'loss_insensitivity': '0.01', 'huber_delta': '1.0', 'num_classes': '1', 'accuracy_top_k': '3', 'wd': 'auto', 'l1': 'auto', 'momentum': 'auto', 'learning_rate': 'auto', 'beta_1': 'auto', 'beta_2': 'auto', 'bias_lr_mult': 'auto', 'bias_wd_mult': 'auto', 'use_lr_scheduler': 'true', 'lr_scheduler_step': 'auto', 'lr_scheduler_factor': 'auto', 'lr_scheduler_minimum_lr': 'auto', 'positive_example_weight_mult': '1.0', 'balance_multiclass_weights': 'false', 'normalize_data': 'True', 'normalize_label': 'True', 'unbias_data': 'auto', 'unbias_label': 'auto', 'num_point_for_scaler': '10000', '_kvstore': 'auto', '_num_gpus': 'auto', '_num_kv_servers': 'auto', '_log_level': 'info', '_tuning_objective_metric': '', 'early_stopping_patience': '3', 'early_stopping_tolerance': '0.001', '_enable_profiler': 'false', 'predictor_type': 'regressor'}\u001b[0m\n",
      "\u001b[34m[06/14/2023 20:48:02 WARNING 140522871928640] Loggers have already been setup.\u001b[0m\n",
      "\u001b[34mProcess 7 is a worker.\u001b[0m\n",
      "\u001b[34m[06/14/2023 20:48:02 INFO 140522871928640] Using default worker.\u001b[0m\n",
      "\u001b[34m[06/14/2023 20:48:02 INFO 140522871928640] Checkpoint loading and saving are disabled.\u001b[0m\n",
      "\u001b[34m[2023-06-14 20:48:02.140] [tensorio] [warning] TensorIO is already initialized; ignoring the initialization routine.\u001b[0m\n",
      "\u001b[34m[2023-06-14 20:48:02.152] [tensorio] [info] epoch_stats={\"data_pipeline\": \"/opt/ml/input/data/train\", \"epoch\": 0, \"duration\": 14, \"num_examples\": 1, \"num_bytes\": 64000}\u001b[0m\n",
      "\u001b[34m[06/14/2023 20:48:02 INFO 140522871928640] Create Store: local\u001b[0m\n",
      "\u001b[34m[2023-06-14 20:48:02.165] [tensorio] [info] epoch_stats={\"data_pipeline\": \"/opt/ml/input/data/train\", \"epoch\": 1, \"duration\": 12, \"num_examples\": 2, \"num_bytes\": 68544}\u001b[0m\n",
      "\u001b[34m[06/14/2023 20:48:02 INFO 140522871928640] Scaler algorithm parameters\n",
      " <algorithm.scaler.ScalerAlgorithmStable object at 0x7fcd7787f910>\u001b[0m\n",
      "\u001b[34m[06/14/2023 20:48:02 INFO 140522871928640] Scaling model computed with parameters:\n",
      " {'stdev_label': \u001b[0m\n",
      "\u001b[34m[0.00439276]\u001b[0m\n",
      "\u001b[34m<NDArray 1 @cpu(0)>, 'stdev_weight': \u001b[0m\n",
      "\u001b[34m[ 17.315563  16.48217    2.943069   7.619689 107.631516]\u001b[0m\n",
      "\u001b[34m<NDArray 5 @cpu(0)>, 'mean_label': \u001b[0m\n",
      "\u001b[34m[0.00712981]\u001b[0m\n",
      "\u001b[34m<NDArray 1 @cpu(0)>, 'mean_weight': \u001b[0m\n",
      "\u001b[34m[  63.2551    47.22725    5.8719  1015.7822   503.70264]\u001b[0m\n",
      "\u001b[34m<NDArray 5 @cpu(0)>}\u001b[0m\n",
      "\u001b[34m[06/14/2023 20:48:02 INFO 140522871928640] nvidia-smi: took 0.032 seconds to run.\u001b[0m\n",
      "\u001b[34m[06/14/2023 20:48:02 INFO 140522871928640] nvidia-smi identified 0 GPUs.\u001b[0m\n",
      "\u001b[34m[06/14/2023 20:48:02 INFO 140522871928640] Number of GPUs being used: 0\u001b[0m\n",
      "\u001b[34m#metrics {\"StartTime\": 1686775682.2714105, \"EndTime\": 1686775682.2714422, \"Dimensions\": {\"Algorithm\": \"Linear Learner\", \"Host\": \"algo-1\", \"Operation\": \"training\", \"Meta\": \"init_train_data_iter\"}, \"Metrics\": {\"Total Records Seen\": {\"sum\": 2071.0, \"count\": 1, \"min\": 2071, \"max\": 2071}, \"Total Batches Seen\": {\"sum\": 3.0, \"count\": 1, \"min\": 3, \"max\": 3}, \"Max Records Seen Between Resets\": {\"sum\": 1071.0, \"count\": 1, \"min\": 1071, \"max\": 1071}, \"Max Batches Seen Between Resets\": {\"sum\": 2.0, \"count\": 1, \"min\": 2, \"max\": 2}, \"Reset Count\": {\"sum\": 2.0, \"count\": 1, \"min\": 2, \"max\": 2}, \"Number of Records Since Last Reset\": {\"sum\": 0.0, \"count\": 1, \"min\": 0, \"max\": 0}, \"Number of Batches Since Last Reset\": {\"sum\": 0.0, \"count\": 1, \"min\": 0, \"max\": 0}}}\u001b[0m\n",
      "\u001b[34m[2023-06-14 20:48:02.316] [tensorio] [info] epoch_stats={\"data_pipeline\": \"/opt/ml/input/data/train\", \"epoch\": 4, \"duration\": 44, \"num_examples\": 2, \"num_bytes\": 68544}\u001b[0m\n",
      "\u001b[34m#metrics {\"StartTime\": 1686775682.316056, \"EndTime\": 1686775682.3161302, \"Dimensions\": {\"Algorithm\": \"Linear Learner\", \"Host\": \"algo-1\", \"Operation\": \"training\", \"epoch\": 0, \"model\": 0}, \"Metrics\": {\"train_mse_objective\": {\"sum\": 1.0221836547851562, \"count\": 1, \"min\": 1.0221836547851562, \"max\": 1.0221836547851562}}}\u001b[0m\n",
      "\u001b[34m#metrics {\"StartTime\": 1686775682.3162742, \"EndTime\": 1686775682.3162887, \"Dimensions\": {\"Algorithm\": \"Linear Learner\", \"Host\": \"algo-1\", \"Operation\": \"training\", \"epoch\": 0, \"model\": 1}, \"Metrics\": {\"train_mse_objective\": {\"sum\": 1.0017330932617188, \"count\": 1, \"min\": 1.0017330932617188, \"max\": 1.0017330932617188}}}\u001b[0m\n",
      "\u001b[34m#metrics {\"StartTime\": 1686775682.3163774, \"EndTime\": 1686775682.3163877, \"Dimensions\": {\"Algorithm\": \"Linear Learner\", \"Host\": \"algo-1\", \"Operation\": \"training\", \"epoch\": 0, \"model\": 2}, \"Metrics\": {\"train_mse_objective\": {\"sum\": 1.0297357177734374, \"count\": 1, \"min\": 1.0297357177734374, \"max\": 1.0297357177734374}}}\u001b[0m\n",
      "\u001b[34m#metrics {\"StartTime\": 1686775682.316453, \"EndTime\": 1686775682.3164623, \"Dimensions\": {\"Algorithm\": \"Linear Learner\", \"Host\": \"algo-1\", \"Operation\": \"training\", \"epoch\": 0, \"model\": 3}, \"Metrics\": {\"train_mse_objective\": {\"sum\": 1.0046986694335938, \"count\": 1, \"min\": 1.0046986694335938, \"max\": 1.0046986694335938}}}\u001b[0m\n",
      "\u001b[34m#metrics {\"StartTime\": 1686775682.3165479, \"EndTime\": 1686775682.3165593, \"Dimensions\": {\"Algorithm\": \"Linear Learner\", \"Host\": \"algo-1\", \"Operation\": \"training\", \"epoch\": 0, \"model\": 4}, \"Metrics\": {\"train_mse_objective\": {\"sum\": 1.0761766357421876, \"count\": 1, \"min\": 1.0761766357421876, \"max\": 1.0761766357421876}}}\u001b[0m\n",
      "\u001b[34m#metrics {\"StartTime\": 1686775682.3166254, \"EndTime\": 1686775682.3166342, \"Dimensions\": {\"Algorithm\": \"Linear Learner\", \"Host\": \"algo-1\", \"Operation\": \"training\", \"epoch\": 0, \"model\": 5}, \"Metrics\": {\"train_mse_objective\": {\"sum\": 1.1338963623046876, \"count\": 1, \"min\": 1.1338963623046876, \"max\": 1.1338963623046876}}}\u001b[0m\n",
      "\u001b[34m#metrics {\"StartTime\": 1686775682.3167067, \"EndTime\": 1686775682.316716, \"Dimensions\": {\"Algorithm\": \"Linear Learner\", \"Host\": \"algo-1\", \"Operation\": \"training\", \"epoch\": 0, \"model\": 6}, \"Metrics\": {\"train_mse_objective\": {\"sum\": 1.1349073486328125, \"count\": 1, \"min\": 1.1349073486328125, \"max\": 1.1349073486328125}}}\u001b[0m\n",
      "\u001b[34m#metrics {\"StartTime\": 1686775682.3167863, \"EndTime\": 1686775682.3167956, \"Dimensions\": {\"Algorithm\": \"Linear Learner\", \"Host\": \"algo-1\", \"Operation\": \"training\", \"epoch\": 0, \"model\": 7}, \"Metrics\": {\"train_mse_objective\": {\"sum\": 0.9341780395507813, \"count\": 1, \"min\": 0.9341780395507813, \"max\": 0.9341780395507813}}}\u001b[0m\n",
      "\u001b[34m#metrics {\"StartTime\": 1686775682.3168614, \"EndTime\": 1686775682.3168705, \"Dimensions\": {\"Algorithm\": \"Linear Learner\", \"Host\": \"algo-1\", \"Operation\": \"training\", \"epoch\": 0, \"model\": 8}, \"Metrics\": {\"train_mse_objective\": {\"sum\": 0.8852998657226563, \"count\": 1, \"min\": 0.8852998657226563, \"max\": 0.8852998657226563}}}\u001b[0m\n",
      "\u001b[34m#metrics {\"StartTime\": 1686775682.3169262, \"EndTime\": 1686775682.3169348, \"Dimensions\": {\"Algorithm\": \"Linear Learner\", \"Host\": \"algo-1\", \"Operation\": \"training\", \"epoch\": 0, \"model\": 9}, \"Metrics\": {\"train_mse_objective\": {\"sum\": 0.99037548828125, \"count\": 1, \"min\": 0.99037548828125, \"max\": 0.99037548828125}}}\u001b[0m\n",
      "\u001b[34m#metrics {\"StartTime\": 1686775682.3169937, \"EndTime\": 1686775682.3170028, \"Dimensions\": {\"Algorithm\": \"Linear Learner\", \"Host\": \"algo-1\", \"Operation\": \"training\", \"epoch\": 0, \"model\": 10}, \"Metrics\": {\"train_mse_objective\": {\"sum\": 1.10408984375, \"count\": 1, \"min\": 1.10408984375, \"max\": 1.10408984375}}}\u001b[0m\n",
      "\u001b[34m#metrics {\"StartTime\": 1686775682.317061, \"EndTime\": 1686775682.3170688, \"Dimensions\": {\"Algorithm\": \"Linear Learner\", \"Host\": \"algo-1\", \"Operation\": \"training\", \"epoch\": 0, \"model\": 11}, \"Metrics\": {\"train_mse_objective\": {\"sum\": 1.0241927490234375, \"count\": 1, \"min\": 1.0241927490234375, \"max\": 1.0241927490234375}}}\u001b[0m\n",
      "\u001b[34m#metrics {\"StartTime\": 1686775682.3171246, \"EndTime\": 1686775682.317133, \"Dimensions\": {\"Algorithm\": \"Linear Learner\", \"Host\": \"algo-1\", \"Operation\": \"training\", \"epoch\": 0, \"model\": 12}, \"Metrics\": {\"train_mse_objective\": {\"sum\": 0.988746337890625, \"count\": 1, \"min\": 0.988746337890625, \"max\": 0.988746337890625}}}\u001b[0m\n",
      "\u001b[34m#metrics {\"StartTime\": 1686775682.3171918, \"EndTime\": 1686775682.317201, \"Dimensions\": {\"Algorithm\": \"Linear Learner\", \"Host\": \"algo-1\", \"Operation\": \"training\", \"epoch\": 0, \"model\": 13}, \"Metrics\": {\"train_mse_objective\": {\"sum\": 1.0907547607421875, \"count\": 1, \"min\": 1.0907547607421875, \"max\": 1.0907547607421875}}}\u001b[0m\n",
      "\u001b[34m#metrics {\"StartTime\": 1686775682.31727, \"EndTime\": 1686775682.3172784, \"Dimensions\": {\"Algorithm\": \"Linear Learner\", \"Host\": \"algo-1\", \"Operation\": \"training\", \"epoch\": 0, \"model\": 14}, \"Metrics\": {\"train_mse_objective\": {\"sum\": 1.116240234375, \"count\": 1, \"min\": 1.116240234375, \"max\": 1.116240234375}}}\u001b[0m\n",
      "\u001b[34m#metrics {\"StartTime\": 1686775682.3173451, \"EndTime\": 1686775682.3173537, \"Dimensions\": {\"Algorithm\": \"Linear Learner\", \"Host\": \"algo-1\", \"Operation\": \"training\", \"epoch\": 0, \"model\": 15}, \"Metrics\": {\"train_mse_objective\": {\"sum\": 0.9400440063476563, \"count\": 1, \"min\": 0.9400440063476563, \"max\": 0.9400440063476563}}}\u001b[0m\n",
      "\u001b[34m#metrics {\"StartTime\": 1686775682.3174162, \"EndTime\": 1686775682.3174245, \"Dimensions\": {\"Algorithm\": \"Linear Learner\", \"Host\": \"algo-1\", \"Operation\": \"training\", \"epoch\": 0, \"model\": 16}, \"Metrics\": {\"train_mse_objective\": {\"sum\": 1.053123291015625, \"count\": 1, \"min\": 1.053123291015625, \"max\": 1.053123291015625}}}\u001b[0m\n",
      "\u001b[34m#metrics {\"StartTime\": 1686775682.3174818, \"EndTime\": 1686775682.3174906, \"Dimensions\": {\"Algorithm\": \"Linear Learner\", \"Host\": \"algo-1\", \"Operation\": \"training\", \"epoch\": 0, \"model\": 17}, \"Metrics\": {\"train_mse_objective\": {\"sum\": 1.0738616943359376, \"count\": 1, \"min\": 1.0738616943359376, \"max\": 1.0738616943359376}}}\u001b[0m\n",
      "\u001b[34m#metrics {\"StartTime\": 1686775682.3175478, \"EndTime\": 1686775682.3175557, \"Dimensions\": {\"Algorithm\": \"Linear Learner\", \"Host\": \"algo-1\", \"Operation\": \"training\", \"epoch\": 0, \"model\": 18}, \"Metrics\": {\"train_mse_objective\": {\"sum\": 1.0993443603515625, \"count\": 1, \"min\": 1.0993443603515625, \"max\": 1.0993443603515625}}}\u001b[0m\n",
      "\u001b[34m#metrics {\"StartTime\": 1686775682.3176155, \"EndTime\": 1686775682.3176243, \"Dimensions\": {\"Algorithm\": \"Linear Learner\", \"Host\": \"algo-1\", \"Operation\": \"training\", \"epoch\": 0, \"model\": 19}, \"Metrics\": {\"train_mse_objective\": {\"sum\": 1.0041935424804687, \"count\": 1, \"min\": 1.0041935424804687, \"max\": 1.0041935424804687}}}\u001b[0m\n",
      "\u001b[34m#metrics {\"StartTime\": 1686775682.317681, \"EndTime\": 1686775682.3176897, \"Dimensions\": {\"Algorithm\": \"Linear Learner\", \"Host\": \"algo-1\", \"Operation\": \"training\", \"epoch\": 0, \"model\": 20}, \"Metrics\": {\"train_mse_objective\": {\"sum\": 0.950710205078125, \"count\": 1, \"min\": 0.950710205078125, \"max\": 0.950710205078125}}}\u001b[0m\n",
      "\u001b[34m#metrics {\"StartTime\": 1686775682.3177526, \"EndTime\": 1686775682.3177612, \"Dimensions\": {\"Algorithm\": \"Linear Learner\", \"Host\": \"algo-1\", \"Operation\": \"training\", \"epoch\": 0, \"model\": 21}, \"Metrics\": {\"train_mse_objective\": {\"sum\": 0.9690624389648438, \"count\": 1, \"min\": 0.9690624389648438, \"max\": 0.9690624389648438}}}\u001b[0m\n",
      "\u001b[34m#metrics {\"StartTime\": 1686775682.3178227, \"EndTime\": 1686775682.3178318, \"Dimensions\": {\"Algorithm\": \"Linear Learner\", \"Host\": \"algo-1\", \"Operation\": \"training\", \"epoch\": 0, \"model\": 22}, \"Metrics\": {\"train_mse_objective\": {\"sum\": 1.0071924438476563, \"count\": 1, \"min\": 1.0071924438476563, \"max\": 1.0071924438476563}}}\u001b[0m\n",
      "\u001b[34m#metrics {\"StartTime\": 1686775682.3179, \"EndTime\": 1686775682.317909, \"Dimensions\": {\"Algorithm\": \"Linear Learner\", \"Host\": \"algo-1\", \"Operation\": \"training\", \"epoch\": 0, \"model\": 23}, \"Metrics\": {\"train_mse_objective\": {\"sum\": 1.0788599853515626, \"count\": 1, \"min\": 1.0788599853515626, \"max\": 1.0788599853515626}}}\u001b[0m\n",
      "\u001b[34m#metrics {\"StartTime\": 1686775682.31796, \"EndTime\": 1686775682.3179805, \"Dimensions\": {\"Algorithm\": \"Linear Learner\", \"Host\": \"algo-1\", \"Operation\": \"training\", \"epoch\": 0, \"model\": 24}, \"Metrics\": {\"train_mse_objective\": {\"sum\": 0.96945556640625, \"count\": 1, \"min\": 0.96945556640625, \"max\": 0.96945556640625}}}\u001b[0m\n",
      "\u001b[34m#metrics {\"StartTime\": 1686775682.3180397, \"EndTime\": 1686775682.3180482, \"Dimensions\": {\"Algorithm\": \"Linear Learner\", \"Host\": \"algo-1\", \"Operation\": \"training\", \"epoch\": 0, \"model\": 25}, \"Metrics\": {\"train_mse_objective\": {\"sum\": 0.9536106567382813, \"count\": 1, \"min\": 0.9536106567382813, \"max\": 0.9536106567382813}}}\u001b[0m\n",
      "\u001b[34m#metrics {\"StartTime\": 1686775682.3181205, \"EndTime\": 1686775682.3181293, \"Dimensions\": {\"Algorithm\": \"Linear Learner\", \"Host\": \"algo-1\", \"Operation\": \"training\", \"epoch\": 0, \"model\": 26}, \"Metrics\": {\"train_mse_objective\": {\"sum\": 0.9526959838867187, \"count\": 1, \"min\": 0.9526959838867187, \"max\": 0.9526959838867187}}}\u001b[0m\n",
      "\u001b[34m#metrics {\"StartTime\": 1686775682.3181765, \"EndTime\": 1686775682.3181982, \"Dimensions\": {\"Algorithm\": \"Linear Learner\", \"Host\": \"algo-1\", \"Operation\": \"training\", \"epoch\": 0, \"model\": 27}, \"Metrics\": {\"train_mse_objective\": {\"sum\": 1.0268790283203124, \"count\": 1, \"min\": 1.0268790283203124, \"max\": 1.0268790283203124}}}\u001b[0m\n",
      "\u001b[34m#metrics {\"StartTime\": 1686775682.3182552, \"EndTime\": 1686775682.3182647, \"Dimensions\": {\"Algorithm\": \"Linear Learner\", \"Host\": \"algo-1\", \"Operation\": \"training\", \"epoch\": 0, \"model\": 28}, \"Metrics\": {\"train_mse_objective\": {\"sum\": 0.9510079345703125, \"count\": 1, \"min\": 0.9510079345703125, \"max\": 0.9510079345703125}}}\u001b[0m\n",
      "\u001b[34m#metrics {\"StartTime\": 1686775682.3183362, \"EndTime\": 1686775682.3183455, \"Dimensions\": {\"Algorithm\": \"Linear Learner\", \"Host\": \"algo-1\", \"Operation\": \"training\", \"epoch\": 0, \"model\": 29}, \"Metrics\": {\"train_mse_objective\": {\"sum\": 1.0504654541015626, \"count\": 1, \"min\": 1.0504654541015626, \"max\": 1.0504654541015626}}}\u001b[0m\n",
      "\u001b[34m#metrics {\"StartTime\": 1686775682.3184278, \"EndTime\": 1686775682.3184373, \"Dimensions\": {\"Algorithm\": \"Linear Learner\", \"Host\": \"algo-1\", \"Operation\": \"training\", \"epoch\": 0, \"model\": 30}, \"Metrics\": {\"train_mse_objective\": {\"sum\": 1.0048775024414063, \"count\": 1, \"min\": 1.0048775024414063, \"max\": 1.0048775024414063}}}\u001b[0m\n",
      "\u001b[34m#metrics {\"StartTime\": 1686775682.318485, \"EndTime\": 1686775682.318507, \"Dimensions\": {\"Algorithm\": \"Linear Learner\", \"Host\": \"algo-1\", \"Operation\": \"training\", \"epoch\": 0, \"model\": 31}, \"Metrics\": {\"train_mse_objective\": {\"sum\": 0.8941253051757813, \"count\": 1, \"min\": 0.8941253051757813, \"max\": 0.8941253051757813}}}\u001b[0m\n",
      "\u001b[34m[06/14/2023 20:48:02 INFO 140522871928640] #quality_metric: host=algo-1, epoch=0, train mse_objective <loss>=1.0221836547851562\u001b[0m\n",
      "\u001b[34m[06/14/2023 20:48:02 INFO 140522871928640] #early_stopping_criteria_metric: host=algo-1, epoch=0, criteria=mse_objective, value=0.8852998657226563\u001b[0m\n",
      "\u001b[34m[06/14/2023 20:48:02 INFO 140522871928640] Epoch 0: Loss improved. Updating best model\u001b[0m\n",
      "\u001b[34m[06/14/2023 20:48:02 INFO 140522871928640] Saving model for epoch: 0\u001b[0m\n",
      "\u001b[34m[06/14/2023 20:48:02 INFO 140522871928640] Saved checkpoint to \"/tmp/tmpbebpabte/mx-mod-0000.params\"\u001b[0m\n",
      "\u001b[34m[06/14/2023 20:48:02 INFO 140522871928640] #progress_metric: host=algo-1, completed 6.666666666666667 % of epochs\u001b[0m\n",
      "\u001b[34m#metrics {\"StartTime\": 1686775682.2717326, \"EndTime\": 1686775682.3279157, \"Dimensions\": {\"Algorithm\": \"Linear Learner\", \"Host\": \"algo-1\", \"Operation\": \"training\", \"epoch\": 0, \"Meta\": \"training_data_iter\"}, \"Metrics\": {\"Total Records Seen\": {\"sum\": 3142.0, \"count\": 1, \"min\": 3142, \"max\": 3142}, \"Total Batches Seen\": {\"sum\": 5.0, \"count\": 1, \"min\": 5, \"max\": 5}, \"Max Records Seen Between Resets\": {\"sum\": 1071.0, \"count\": 1, \"min\": 1071, \"max\": 1071}, \"Max Batches Seen Between Resets\": {\"sum\": 2.0, \"count\": 1, \"min\": 2, \"max\": 2}, \"Reset Count\": {\"sum\": 3.0, \"count\": 1, \"min\": 3, \"max\": 3}, \"Number of Records Since Last Reset\": {\"sum\": 1071.0, \"count\": 1, \"min\": 1071, \"max\": 1071}, \"Number of Batches Since Last Reset\": {\"sum\": 2.0, \"count\": 1, \"min\": 2, \"max\": 2}}}\u001b[0m\n",
      "\u001b[34m[06/14/2023 20:48:02 INFO 140522871928640] #throughput_metric: host=algo-1, train throughput=19025.8553779039 records/second\u001b[0m\n",
      "\u001b[34m[2023-06-14 20:48:02.345] [tensorio] [info] epoch_stats={\"data_pipeline\": \"/opt/ml/input/data/train\", \"epoch\": 6, \"duration\": 17, \"num_examples\": 2, \"num_bytes\": 68544}\u001b[0m\n",
      "\u001b[34m#metrics {\"StartTime\": 1686775682.3458052, \"EndTime\": 1686775682.3458724, \"Dimensions\": {\"Algorithm\": \"Linear Learner\", \"Host\": \"algo-1\", \"Operation\": \"training\", \"epoch\": 1, \"model\": 0}, \"Metrics\": {\"train_mse_objective\": {\"sum\": 1.0060579223632813, \"count\": 1, \"min\": 1.0060579223632813, \"max\": 1.0060579223632813}}}\u001b[0m\n",
      "\u001b[34m#metrics {\"StartTime\": 1686775682.345953, \"EndTime\": 1686775682.345963, \"Dimensions\": {\"Algorithm\": \"Linear Learner\", \"Host\": \"algo-1\", \"Operation\": \"training\", \"epoch\": 1, \"model\": 1}, \"Metrics\": {\"train_mse_objective\": {\"sum\": 0.98519482421875, \"count\": 1, \"min\": 0.98519482421875, \"max\": 0.98519482421875}}}\u001b[0m\n",
      "\u001b[34m#metrics {\"StartTime\": 1686775682.3459902, \"EndTime\": 1686775682.3459969, \"Dimensions\": {\"Algorithm\": \"Linear Learner\", \"Host\": \"algo-1\", \"Operation\": \"training\", \"epoch\": 1, \"model\": 2}, \"Metrics\": {\"train_mse_objective\": {\"sum\": 1.0133925170898437, \"count\": 1, \"min\": 1.0133925170898437, \"max\": 1.0133925170898437}}}\u001b[0m\n",
      "\u001b[34m#metrics {\"StartTime\": 1686775682.3460212, \"EndTime\": 1686775682.346027, \"Dimensions\": {\"Algorithm\": \"Linear Learner\", \"Host\": \"algo-1\", \"Operation\": \"training\", \"epoch\": 1, \"model\": 3}, \"Metrics\": {\"train_mse_objective\": {\"sum\": 0.9884693603515625, \"count\": 1, \"min\": 0.9884693603515625, \"max\": 0.9884693603515625}}}\u001b[0m\n",
      "\u001b[34m#metrics {\"StartTime\": 1686775682.346053, \"EndTime\": 1686775682.3460586, \"Dimensions\": {\"Algorithm\": \"Linear Learner\", \"Host\": \"algo-1\", \"Operation\": \"training\", \"epoch\": 1, \"model\": 4}, \"Metrics\": {\"train_mse_objective\": {\"sum\": 1.0058280029296875, \"count\": 1, \"min\": 1.0058280029296875, \"max\": 1.0058280029296875}}}\u001b[0m\n",
      "\u001b[34m#metrics {\"StartTime\": 1686775682.3460822, \"EndTime\": 1686775682.346088, \"Dimensions\": {\"Algorithm\": \"Linear Learner\", \"Host\": \"algo-1\", \"Operation\": \"training\", \"epoch\": 1, \"model\": 5}, \"Metrics\": {\"train_mse_objective\": {\"sum\": 0.969673095703125, \"count\": 1, \"min\": 0.969673095703125, \"max\": 0.969673095703125}}}\u001b[0m\n",
      "\u001b[34m#metrics {\"StartTime\": 1686775682.3461099, \"EndTime\": 1686775682.3461156, \"Dimensions\": {\"Algorithm\": \"Linear Learner\", \"Host\": \"algo-1\", \"Operation\": \"training\", \"epoch\": 1, \"model\": 6}, \"Metrics\": {\"train_mse_objective\": {\"sum\": 0.8264019165039063, \"count\": 1, \"min\": 0.8264019165039063, \"max\": 0.8264019165039063}}}\u001b[0m\n",
      "\u001b[34m#metrics {\"StartTime\": 1686775682.346138, \"EndTime\": 1686775682.3461437, \"Dimensions\": {\"Algorithm\": \"Linear Learner\", \"Host\": \"algo-1\", \"Operation\": \"training\", \"epoch\": 1, \"model\": 7}, \"Metrics\": {\"train_mse_objective\": {\"sum\": 0.7751351318359375, \"count\": 1, \"min\": 0.7751351318359375, \"max\": 0.7751351318359375}}}\u001b[0m\n",
      "\u001b[34m#metrics {\"StartTime\": 1686775682.346168, \"EndTime\": 1686775682.3461738, \"Dimensions\": {\"Algorithm\": \"Linear Learner\", \"Host\": \"algo-1\", \"Operation\": \"training\", \"epoch\": 1, \"model\": 8}, \"Metrics\": {\"train_mse_objective\": {\"sum\": 0.8731875610351563, \"count\": 1, \"min\": 0.8731875610351563, \"max\": 0.8731875610351563}}}\u001b[0m\n",
      "\u001b[34m#metrics {\"StartTime\": 1686775682.346196, \"EndTime\": 1686775682.346202, \"Dimensions\": {\"Algorithm\": \"Linear Learner\", \"Host\": \"algo-1\", \"Operation\": \"training\", \"epoch\": 1, \"model\": 9}, \"Metrics\": {\"train_mse_objective\": {\"sum\": 0.9743440551757813, \"count\": 1, \"min\": 0.9743440551757813, \"max\": 0.9743440551757813}}}\u001b[0m\n",
      "\u001b[34m#metrics {\"StartTime\": 1686775682.346226, \"EndTime\": 1686775682.3462317, \"Dimensions\": {\"Algorithm\": \"Linear Learner\", \"Host\": \"algo-1\", \"Operation\": \"training\", \"epoch\": 1, \"model\": 10}, \"Metrics\": {\"train_mse_objective\": {\"sum\": 1.085728271484375, \"count\": 1, \"min\": 1.085728271484375, \"max\": 1.085728271484375}}}\u001b[0m\n",
      "\u001b[34m#metrics {\"StartTime\": 1686775682.3462539, \"EndTime\": 1686775682.3462594, \"Dimensions\": {\"Algorithm\": \"Linear Learner\", \"Host\": \"algo-1\", \"Operation\": \"training\", \"epoch\": 1, \"model\": 11}, \"Metrics\": {\"train_mse_objective\": {\"sum\": 1.0069853515625, \"count\": 1, \"min\": 1.0069853515625, \"max\": 1.0069853515625}}}\u001b[0m\n",
      "\u001b[34m#metrics {\"StartTime\": 1686775682.346285, \"EndTime\": 1686775682.3462925, \"Dimensions\": {\"Algorithm\": \"Linear Learner\", \"Host\": \"algo-1\", \"Operation\": \"training\", \"epoch\": 1, \"model\": 12}, \"Metrics\": {\"train_mse_objective\": {\"sum\": 0.782430419921875, \"count\": 1, \"min\": 0.782430419921875, \"max\": 0.782430419921875}}}\u001b[0m\n",
      "\u001b[34m#metrics {\"StartTime\": 1686775682.3463185, \"EndTime\": 1686775682.3463247, \"Dimensions\": {\"Algorithm\": \"Linear Learner\", \"Host\": \"algo-1\", \"Operation\": \"training\", \"epoch\": 1, \"model\": 13}, \"Metrics\": {\"train_mse_objective\": {\"sum\": 0.81624267578125, \"count\": 1, \"min\": 0.81624267578125, \"max\": 0.81624267578125}}}\u001b[0m\n",
      "\u001b[34m#metrics {\"StartTime\": 1686775682.3463473, \"EndTime\": 1686775682.3463528, \"Dimensions\": {\"Algorithm\": \"Linear Learner\", \"Host\": \"algo-1\", \"Operation\": \"training\", \"epoch\": 1, \"model\": 14}, \"Metrics\": {\"train_mse_objective\": {\"sum\": 0.9954657592773437, \"count\": 1, \"min\": 0.9954657592773437, \"max\": 0.9954657592773437}}}\u001b[0m\n",
      "\u001b[34m#metrics {\"StartTime\": 1686775682.3463864, \"EndTime\": 1686775682.3463929, \"Dimensions\": {\"Algorithm\": \"Linear Learner\", \"Host\": \"algo-1\", \"Operation\": \"training\", \"epoch\": 1, \"model\": 15}, \"Metrics\": {\"train_mse_objective\": {\"sum\": 0.7475651245117187, \"count\": 1, \"min\": 0.7475651245117187, \"max\": 0.7475651245117187}}}\u001b[0m\n",
      "\u001b[34m#metrics {\"StartTime\": 1686775682.3464184, \"EndTime\": 1686775682.3464239, \"Dimensions\": {\"Algorithm\": \"Linear Learner\", \"Host\": \"algo-1\", \"Operation\": \"training\", \"epoch\": 1, \"model\": 16}, \"Metrics\": {\"train_mse_objective\": {\"sum\": 1.0357633056640625, \"count\": 1, \"min\": 1.0357633056640625, \"max\": 1.0357633056640625}}}\u001b[0m\n",
      "\u001b[34m#metrics {\"StartTime\": 1686775682.346446, \"EndTime\": 1686775682.3464518, \"Dimensions\": {\"Algorithm\": \"Linear Learner\", \"Host\": \"algo-1\", \"Operation\": \"training\", \"epoch\": 1, \"model\": 17}, \"Metrics\": {\"train_mse_objective\": {\"sum\": 1.0567183837890626, \"count\": 1, \"min\": 1.0567183837890626, \"max\": 1.0567183837890626}}}\u001b[0m\n",
      "\u001b[34m#metrics {\"StartTime\": 1686775682.3464756, \"EndTime\": 1686775682.346481, \"Dimensions\": {\"Algorithm\": \"Linear Learner\", \"Host\": \"algo-1\", \"Operation\": \"training\", \"epoch\": 1, \"model\": 18}, \"Metrics\": {\"train_mse_objective\": {\"sum\": 1.080930908203125, \"count\": 1, \"min\": 1.080930908203125, \"max\": 1.080930908203125}}}\u001b[0m\n",
      "\u001b[34m#metrics {\"StartTime\": 1686775682.3465035, \"EndTime\": 1686775682.3465087, \"Dimensions\": {\"Algorithm\": \"Linear Learner\", \"Host\": \"algo-1\", \"Operation\": \"training\", \"epoch\": 1, \"model\": 19}, \"Metrics\": {\"train_mse_objective\": {\"sum\": 0.9872103881835937, \"count\": 1, \"min\": 0.9872103881835937, \"max\": 0.9872103881835937}}}\u001b[0m\n",
      "\u001b[34m#metrics {\"StartTime\": 1686775682.3465312, \"EndTime\": 1686775682.3465364, \"Dimensions\": {\"Algorithm\": \"Linear Learner\", \"Host\": \"algo-1\", \"Operation\": \"training\", \"epoch\": 1, \"model\": 20}, \"Metrics\": {\"train_mse_objective\": {\"sum\": 0.7808880004882812, \"count\": 1, \"min\": 0.7808880004882812, \"max\": 0.7808880004882812}}}\u001b[0m\n",
      "\u001b[34m#metrics {\"StartTime\": 1686775682.3465607, \"EndTime\": 1686775682.3465664, \"Dimensions\": {\"Algorithm\": \"Linear Learner\", \"Host\": \"algo-1\", \"Operation\": \"training\", \"epoch\": 1, \"model\": 21}, \"Metrics\": {\"train_mse_objective\": {\"sum\": 0.9198898315429688, \"count\": 1, \"min\": 0.9198898315429688, \"max\": 0.9198898315429688}}}\u001b[0m\n",
      "\u001b[34m#metrics {\"StartTime\": 1686775682.3465884, \"EndTime\": 1686775682.346594, \"Dimensions\": {\"Algorithm\": \"Linear Learner\", \"Host\": \"algo-1\", \"Operation\": \"training\", \"epoch\": 1, \"model\": 22}, \"Metrics\": {\"train_mse_objective\": {\"sum\": 0.8636676635742188, \"count\": 1, \"min\": 0.8636676635742188, \"max\": 0.8636676635742188}}}\u001b[0m\n",
      "\u001b[34m#metrics {\"StartTime\": 1686775682.3466177, \"EndTime\": 1686775682.3466232, \"Dimensions\": {\"Algorithm\": \"Linear Learner\", \"Host\": \"algo-1\", \"Operation\": \"training\", \"epoch\": 1, \"model\": 23}, \"Metrics\": {\"train_mse_objective\": {\"sum\": 0.8313744506835937, \"count\": 1, \"min\": 0.8313744506835937, \"max\": 0.8313744506835937}}}\u001b[0m\n",
      "\u001b[34m#metrics {\"StartTime\": 1686775682.3466449, \"EndTime\": 1686775682.3466504, \"Dimensions\": {\"Algorithm\": \"Linear Learner\", \"Host\": \"algo-1\", \"Operation\": \"training\", \"epoch\": 1, \"model\": 24}, \"Metrics\": {\"train_mse_objective\": {\"sum\": 0.974389892578125, \"count\": 1, \"min\": 0.974389892578125, \"max\": 0.974389892578125}}}\u001b[0m\n",
      "\u001b[34m#metrics {\"StartTime\": 1686775682.3466744, \"EndTime\": 1686775682.3466802, \"Dimensions\": {\"Algorithm\": \"Linear Learner\", \"Host\": \"algo-1\", \"Operation\": \"training\", \"epoch\": 1, \"model\": 25}, \"Metrics\": {\"train_mse_objective\": {\"sum\": 0.9576153564453125, \"count\": 1, \"min\": 0.9576153564453125, \"max\": 0.9576153564453125}}}\u001b[0m\n",
      "\u001b[34m#metrics {\"StartTime\": 1686775682.3467484, \"EndTime\": 1686775682.3467567, \"Dimensions\": {\"Algorithm\": \"Linear Learner\", \"Host\": \"algo-1\", \"Operation\": \"training\", \"epoch\": 1, \"model\": 26}, \"Metrics\": {\"train_mse_objective\": {\"sum\": 0.9544798583984375, \"count\": 1, \"min\": 0.9544798583984375, \"max\": 0.9544798583984375}}}\u001b[0m\n",
      "\u001b[34m#metrics {\"StartTime\": 1686775682.346781, \"EndTime\": 1686775682.3467867, \"Dimensions\": {\"Algorithm\": \"Linear Learner\", \"Host\": \"algo-1\", \"Operation\": \"training\", \"epoch\": 1, \"model\": 27}, \"Metrics\": {\"train_mse_objective\": {\"sum\": 1.0208455810546875, \"count\": 1, \"min\": 1.0208455810546875, \"max\": 1.0208455810546875}}}\u001b[0m\n",
      "\u001b[34m#metrics {\"StartTime\": 1686775682.3468108, \"EndTime\": 1686775682.3468168, \"Dimensions\": {\"Algorithm\": \"Linear Learner\", \"Host\": \"algo-1\", \"Operation\": \"training\", \"epoch\": 1, \"model\": 28}, \"Metrics\": {\"train_mse_objective\": {\"sum\": 1.090686279296875, \"count\": 1, \"min\": 1.090686279296875, \"max\": 1.090686279296875}}}\u001b[0m\n",
      "\u001b[34m#metrics {\"StartTime\": 1686775682.3468385, \"EndTime\": 1686775682.3468442, \"Dimensions\": {\"Algorithm\": \"Linear Learner\", \"Host\": \"algo-1\", \"Operation\": \"training\", \"epoch\": 1, \"model\": 29}, \"Metrics\": {\"train_mse_objective\": {\"sum\": 1.034921875, \"count\": 1, \"min\": 1.034921875, \"max\": 1.034921875}}}\u001b[0m\n",
      "\u001b[34m#metrics {\"StartTime\": 1686775682.3468647, \"EndTime\": 1686775682.3468702, \"Dimensions\": {\"Algorithm\": \"Linear Learner\", \"Host\": \"algo-1\", \"Operation\": \"training\", \"epoch\": 1, \"model\": 30}, \"Metrics\": {\"train_mse_objective\": {\"sum\": 1.1853551025390625, \"count\": 1, \"min\": 1.1853551025390625, \"max\": 1.1853551025390625}}}\u001b[0m\n",
      "\u001b[34m#metrics {\"StartTime\": 1686775682.346892, \"EndTime\": 1686775682.3468974, \"Dimensions\": {\"Algorithm\": \"Linear Learner\", \"Host\": \"algo-1\", \"Operation\": \"training\", \"epoch\": 1, \"model\": 31}, \"Metrics\": {\"train_mse_objective\": {\"sum\": 1.2336414794921875, \"count\": 1, \"min\": 1.2336414794921875, \"max\": 1.2336414794921875}}}\u001b[0m\n",
      "\u001b[34m[06/14/2023 20:48:02 INFO 140522871928640] #quality_metric: host=algo-1, epoch=1, train mse_objective <loss>=1.0060579223632813\u001b[0m\n",
      "\u001b[34m[06/14/2023 20:48:02 INFO 140522871928640] #early_stopping_criteria_metric: host=algo-1, epoch=1, criteria=mse_objective, value=0.7475651245117187\u001b[0m\n",
      "\u001b[34m[06/14/2023 20:48:02 INFO 140522871928640] Epoch 1: Loss improved. Updating best model\u001b[0m\n",
      "\u001b[34m[06/14/2023 20:48:02 INFO 140522871928640] Saving model for epoch: 1\u001b[0m\n",
      "\u001b[34m[06/14/2023 20:48:02 INFO 140522871928640] Saved checkpoint to \"/tmp/tmp07mly4jc/mx-mod-0000.params\"\u001b[0m\n",
      "\u001b[34m[06/14/2023 20:48:02 INFO 140522871928640] #progress_metric: host=algo-1, completed 13.333333333333334 % of epochs\u001b[0m\n",
      "\u001b[34m#metrics {\"StartTime\": 1686775682.32813, \"EndTime\": 1686775682.3631196, \"Dimensions\": {\"Algorithm\": \"Linear Learner\", \"Host\": \"algo-1\", \"Operation\": \"training\", \"epoch\": 1, \"Meta\": \"training_data_iter\"}, \"Metrics\": {\"Total Records Seen\": {\"sum\": 4213.0, \"count\": 1, \"min\": 4213, \"max\": 4213}, \"Total Batches Seen\": {\"sum\": 7.0, \"count\": 1, \"min\": 7, \"max\": 7}, \"Max Records Seen Between Resets\": {\"sum\": 1071.0, \"count\": 1, \"min\": 1071, \"max\": 1071}, \"Max Batches Seen Between Resets\": {\"sum\": 2.0, \"count\": 1, \"min\": 2, \"max\": 2}, \"Reset Count\": {\"sum\": 4.0, \"count\": 1, \"min\": 4, \"max\": 4}, \"Number of Records Since Last Reset\": {\"sum\": 1071.0, \"count\": 1, \"min\": 1071, \"max\": 1071}, \"Number of Batches Since Last Reset\": {\"sum\": 2.0, \"count\": 1, \"min\": 2, \"max\": 2}}}\u001b[0m\n",
      "\u001b[34m[06/14/2023 20:48:02 INFO 140522871928640] #throughput_metric: host=algo-1, train throughput=30281.231607188598 records/second\u001b[0m\n",
      "\u001b[34m[2023-06-14 20:48:02.388] [tensorio] [info] epoch_stats={\"data_pipeline\": \"/opt/ml/input/data/train\", \"epoch\": 8, \"duration\": 19, \"num_examples\": 2, \"num_bytes\": 68544}\u001b[0m\n",
      "\u001b[34m#metrics {\"StartTime\": 1686775682.3883982, \"EndTime\": 1686775682.3884788, \"Dimensions\": {\"Algorithm\": \"Linear Learner\", \"Host\": \"algo-1\", \"Operation\": \"training\", \"epoch\": 2, \"model\": 0}, \"Metrics\": {\"train_mse_objective\": {\"sum\": 0.9905108642578125, \"count\": 1, \"min\": 0.9905108642578125, \"max\": 0.9905108642578125}}}\u001b[0m\n",
      "\u001b[34m#metrics {\"StartTime\": 1686775682.388896, \"EndTime\": 1686775682.3889365, \"Dimensions\": {\"Algorithm\": \"Linear Learner\", \"Host\": \"algo-1\", \"Operation\": \"training\", \"epoch\": 2, \"model\": 1}, \"Metrics\": {\"train_mse_objective\": {\"sum\": 0.9697520751953125, \"count\": 1, \"min\": 0.9697520751953125, \"max\": 0.9697520751953125}}}\u001b[0m\n",
      "\u001b[34m#metrics {\"StartTime\": 1686775682.3891943, \"EndTime\": 1686775682.3892155, \"Dimensions\": {\"Algorithm\": \"Linear Learner\", \"Host\": \"algo-1\", \"Operation\": \"training\", \"epoch\": 2, \"model\": 2}, \"Metrics\": {\"train_mse_objective\": {\"sum\": 0.9988036499023437, \"count\": 1, \"min\": 0.9988036499023437, \"max\": 0.9988036499023437}}}\u001b[0m\n",
      "\u001b[34m#metrics {\"StartTime\": 1686775682.3894608, \"EndTime\": 1686775682.3894765, \"Dimensions\": {\"Algorithm\": \"Linear Learner\", \"Host\": \"algo-1\", \"Operation\": \"training\", \"epoch\": 2, \"model\": 3}, \"Metrics\": {\"train_mse_objective\": {\"sum\": 0.9725399169921874, \"count\": 1, \"min\": 0.9725399169921874, \"max\": 0.9725399169921874}}}\u001b[0m\n",
      "\u001b[34m#metrics {\"StartTime\": 1686775682.3897462, \"EndTime\": 1686775682.3897643, \"Dimensions\": {\"Algorithm\": \"Linear Learner\", \"Host\": \"algo-1\", \"Operation\": \"training\", \"epoch\": 2, \"model\": 4}, \"Metrics\": {\"train_mse_objective\": {\"sum\": 0.7680731811523438, \"count\": 1, \"min\": 0.7680731811523438, \"max\": 0.7680731811523438}}}\u001b[0m\n",
      "\u001b[34m#metrics {\"StartTime\": 1686775682.390016, \"EndTime\": 1686775682.3900344, \"Dimensions\": {\"Algorithm\": \"Linear Learner\", \"Host\": \"algo-1\", \"Operation\": \"training\", \"epoch\": 2, \"model\": 5}, \"Metrics\": {\"train_mse_objective\": {\"sum\": 0.806511474609375, \"count\": 1, \"min\": 0.806511474609375, \"max\": 0.806511474609375}}}\u001b[0m\n",
      "\u001b[34m#metrics {\"StartTime\": 1686775682.3902814, \"EndTime\": 1686775682.3903003, \"Dimensions\": {\"Algorithm\": \"Linear Learner\", \"Host\": \"algo-1\", \"Operation\": \"training\", \"epoch\": 2, \"model\": 6}, \"Metrics\": {\"train_mse_objective\": {\"sum\": 1.174260986328125, \"count\": 1, \"min\": 1.174260986328125, \"max\": 1.174260986328125}}}\u001b[0m\n",
      "\u001b[34m#metrics {\"StartTime\": 1686775682.3905706, \"EndTime\": 1686775682.390594, \"Dimensions\": {\"Algorithm\": \"Linear Learner\", \"Host\": \"algo-1\", \"Operation\": \"training\", \"epoch\": 2, \"model\": 7}, \"Metrics\": {\"train_mse_objective\": {\"sum\": 0.9782020874023437, \"count\": 1, \"min\": 0.9782020874023437, \"max\": 0.9782020874023437}}}\u001b[0m\n",
      "\u001b[34m#metrics {\"StartTime\": 1686775682.3906584, \"EndTime\": 1686775682.3907397, \"Dimensions\": {\"Algorithm\": \"Linear Learner\", \"Host\": \"algo-1\", \"Operation\": \"training\", \"epoch\": 2, \"model\": 8}, \"Metrics\": {\"train_mse_objective\": {\"sum\": 0.8612511596679687, \"count\": 1, \"min\": 0.8612511596679687, \"max\": 0.8612511596679687}}}\u001b[0m\n",
      "\u001b[34m#metrics {\"StartTime\": 1686775682.3908057, \"EndTime\": 1686775682.3908222, \"Dimensions\": {\"Algorithm\": \"Linear Learner\", \"Host\": \"algo-1\", \"Operation\": \"training\", \"epoch\": 2, \"model\": 9}, \"Metrics\": {\"train_mse_objective\": {\"sum\": 0.9583413696289063, \"count\": 1, \"min\": 0.9583413696289063, \"max\": 0.9583413696289063}}}\u001b[0m\n",
      "\u001b[34m#metrics {\"StartTime\": 1686775682.390889, \"EndTime\": 1686775682.3909223, \"Dimensions\": {\"Algorithm\": \"Linear Learner\", \"Host\": \"algo-1\", \"Operation\": \"training\", \"epoch\": 2, \"model\": 10}, \"Metrics\": {\"train_mse_objective\": {\"sum\": 1.068509765625, \"count\": 1, \"min\": 1.068509765625, \"max\": 1.068509765625}}}\u001b[0m\n",
      "\u001b[34m#metrics {\"StartTime\": 1686775682.3909645, \"EndTime\": 1686775682.390974, \"Dimensions\": {\"Algorithm\": \"Linear Learner\", \"Host\": \"algo-1\", \"Operation\": \"training\", \"epoch\": 2, \"model\": 11}, \"Metrics\": {\"train_mse_objective\": {\"sum\": 0.9904548950195312, \"count\": 1, \"min\": 0.9904548950195312, \"max\": 0.9904548950195312}}}\u001b[0m\n",
      "\u001b[34m#metrics {\"StartTime\": 1686775682.3910522, \"EndTime\": 1686775682.3910644, \"Dimensions\": {\"Algorithm\": \"Linear Learner\", \"Host\": \"algo-1\", \"Operation\": \"training\", \"epoch\": 2, \"model\": 12}, \"Metrics\": {\"train_mse_objective\": {\"sum\": 0.9665740356445313, \"count\": 1, \"min\": 0.9665740356445313, \"max\": 0.9665740356445313}}}\u001b[0m\n",
      "\u001b[34m#metrics {\"StartTime\": 1686775682.391123, \"EndTime\": 1686775682.391133, \"Dimensions\": {\"Algorithm\": \"Linear Learner\", \"Host\": \"algo-1\", \"Operation\": \"training\", \"epoch\": 2, \"model\": 13}, \"Metrics\": {\"train_mse_objective\": {\"sum\": 1.094591796875, \"count\": 1, \"min\": 1.094591796875, \"max\": 1.094591796875}}}\u001b[0m\n",
      "\u001b[34m#metrics {\"StartTime\": 1686775682.391165, \"EndTime\": 1686775682.391173, \"Dimensions\": {\"Algorithm\": \"Linear Learner\", \"Host\": \"algo-1\", \"Operation\": \"training\", \"epoch\": 2, \"model\": 14}, \"Metrics\": {\"train_mse_objective\": {\"sum\": 0.79725927734375, \"count\": 1, \"min\": 0.79725927734375, \"max\": 0.79725927734375}}}\u001b[0m\n",
      "\u001b[34m#metrics {\"StartTime\": 1686775682.3912022, \"EndTime\": 1686775682.3912113, \"Dimensions\": {\"Algorithm\": \"Linear Learner\", \"Host\": \"algo-1\", \"Operation\": \"training\", \"epoch\": 2, \"model\": 15}, \"Metrics\": {\"train_mse_objective\": {\"sum\": 0.9526909790039062, \"count\": 1, \"min\": 0.9526909790039062, \"max\": 0.9526909790039062}}}\u001b[0m\n",
      "\u001b[34m#metrics {\"StartTime\": 1686775682.391237, \"EndTime\": 1686775682.3912451, \"Dimensions\": {\"Algorithm\": \"Linear Learner\", \"Host\": \"algo-1\", \"Operation\": \"training\", \"epoch\": 2, \"model\": 16}, \"Metrics\": {\"train_mse_objective\": {\"sum\": 1.0188262939453125, \"count\": 1, \"min\": 1.0188262939453125, \"max\": 1.0188262939453125}}}\u001b[0m\n",
      "\u001b[34m#metrics {\"StartTime\": 1686775682.391274, \"EndTime\": 1686775682.391282, \"Dimensions\": {\"Algorithm\": \"Linear Learner\", \"Host\": \"algo-1\", \"Operation\": \"training\", \"epoch\": 2, \"model\": 17}, \"Metrics\": {\"train_mse_objective\": {\"sum\": 1.040380859375, \"count\": 1, \"min\": 1.040380859375, \"max\": 1.040380859375}}}\u001b[0m\n",
      "\u001b[34m#metrics {\"StartTime\": 1686775682.3913114, \"EndTime\": 1686775682.39132, \"Dimensions\": {\"Algorithm\": \"Linear Learner\", \"Host\": \"algo-1\", \"Operation\": \"training\", \"epoch\": 2, \"model\": 18}, \"Metrics\": {\"train_mse_objective\": {\"sum\": 1.06257666015625, \"count\": 1, \"min\": 1.06257666015625, \"max\": 1.06257666015625}}}\u001b[0m\n",
      "\u001b[34m#metrics {\"StartTime\": 1686775682.3913507, \"EndTime\": 1686775682.3913593, \"Dimensions\": {\"Algorithm\": \"Linear Learner\", \"Host\": \"algo-1\", \"Operation\": \"training\", \"epoch\": 2, \"model\": 19}, \"Metrics\": {\"train_mse_objective\": {\"sum\": 0.9720366821289063, \"count\": 1, \"min\": 0.9720366821289063, \"max\": 0.9720366821289063}}}\u001b[0m\n",
      "\u001b[34m#metrics {\"StartTime\": 1686775682.391383, \"EndTime\": 1686775682.3914008, \"Dimensions\": {\"Algorithm\": \"Linear Learner\", \"Host\": \"algo-1\", \"Operation\": \"training\", \"epoch\": 2, \"model\": 20}, \"Metrics\": {\"train_mse_objective\": {\"sum\": 0.9800789794921875, \"count\": 1, \"min\": 0.9800789794921875, \"max\": 0.9800789794921875}}}\u001b[0m\n",
      "\u001b[34m#metrics {\"StartTime\": 1686775682.391428, \"EndTime\": 1686775682.3914363, \"Dimensions\": {\"Algorithm\": \"Linear Learner\", \"Host\": \"algo-1\", \"Operation\": \"training\", \"epoch\": 2, \"model\": 21}, \"Metrics\": {\"train_mse_objective\": {\"sum\": 0.7420567626953125, \"count\": 1, \"min\": 0.7420567626953125, \"max\": 0.7420567626953125}}}\u001b[0m\n",
      "\u001b[34m#metrics {\"StartTime\": 1686775682.3914676, \"EndTime\": 1686775682.3914752, \"Dimensions\": {\"Algorithm\": \"Linear Learner\", \"Host\": \"algo-1\", \"Operation\": \"training\", \"epoch\": 2, \"model\": 22}, \"Metrics\": {\"train_mse_objective\": {\"sum\": 0.8369196166992188, \"count\": 1, \"min\": 0.8369196166992188, \"max\": 0.8369196166992188}}}\u001b[0m\n",
      "\u001b[34m#metrics {\"StartTime\": 1686775682.3915083, \"EndTime\": 1686775682.3915164, \"Dimensions\": {\"Algorithm\": \"Linear Learner\", \"Host\": \"algo-1\", \"Operation\": \"training\", \"epoch\": 2, \"model\": 23}, \"Metrics\": {\"train_mse_objective\": {\"sum\": 1.0585985107421876, \"count\": 1, \"min\": 1.0585985107421876, \"max\": 1.0585985107421876}}}\u001b[0m\n",
      "\u001b[34m#metrics {\"StartTime\": 1686775682.3915396, \"EndTime\": 1686775682.391557, \"Dimensions\": {\"Algorithm\": \"Linear Learner\", \"Host\": \"algo-1\", \"Operation\": \"training\", \"epoch\": 2, \"model\": 24}, \"Metrics\": {\"train_mse_objective\": {\"sum\": 0.97812890625, \"count\": 1, \"min\": 0.97812890625, \"max\": 0.97812890625}}}\u001b[0m\n",
      "\u001b[34m#metrics {\"StartTime\": 1686775682.3916197, \"EndTime\": 1686775682.391629, \"Dimensions\": {\"Algorithm\": \"Linear Learner\", \"Host\": \"algo-1\", \"Operation\": \"training\", \"epoch\": 2, \"model\": 25}, \"Metrics\": {\"train_mse_objective\": {\"sum\": 0.9628043212890625, \"count\": 1, \"min\": 0.9628043212890625, \"max\": 0.9628043212890625}}}\u001b[0m\n",
      "\u001b[34m#metrics {\"StartTime\": 1686775682.3916867, \"EndTime\": 1686775682.3916955, \"Dimensions\": {\"Algorithm\": \"Linear Learner\", \"Host\": \"algo-1\", \"Operation\": \"training\", \"epoch\": 2, \"model\": 26}, \"Metrics\": {\"train_mse_objective\": {\"sum\": 0.95672900390625, \"count\": 1, \"min\": 0.95672900390625, \"max\": 0.95672900390625}}}\u001b[0m\n",
      "\u001b[34m#metrics {\"StartTime\": 1686775682.3917522, \"EndTime\": 1686775682.391762, \"Dimensions\": {\"Algorithm\": \"Linear Learner\", \"Host\": \"algo-1\", \"Operation\": \"training\", \"epoch\": 2, \"model\": 27}, \"Metrics\": {\"train_mse_objective\": {\"sum\": 1.0154259643554688, \"count\": 1, \"min\": 1.0154259643554688, \"max\": 1.0154259643554688}}}\u001b[0m\n",
      "\u001b[34m#metrics {\"StartTime\": 1686775682.3918242, \"EndTime\": 1686775682.391835, \"Dimensions\": {\"Algorithm\": \"Linear Learner\", \"Host\": \"algo-1\", \"Operation\": \"training\", \"epoch\": 2, \"model\": 28}, \"Metrics\": {\"train_mse_objective\": {\"sum\": 1.4585963134765625, \"count\": 1, \"min\": 1.4585963134765625, \"max\": 1.4585963134765625}}}\u001b[0m\n",
      "\u001b[34m#metrics {\"StartTime\": 1686775682.3918927, \"EndTime\": 1686775682.3919027, \"Dimensions\": {\"Algorithm\": \"Linear Learner\", \"Host\": \"algo-1\", \"Operation\": \"training\", \"epoch\": 2, \"model\": 29}, \"Metrics\": {\"train_mse_objective\": {\"sum\": 1.1031575927734374, \"count\": 1, \"min\": 1.1031575927734374, \"max\": 1.1031575927734374}}}\u001b[0m\n",
      "\u001b[34m#metrics {\"StartTime\": 1686775682.3919566, \"EndTime\": 1686775682.3919659, \"Dimensions\": {\"Algorithm\": \"Linear Learner\", \"Host\": \"algo-1\", \"Operation\": \"training\", \"epoch\": 2, \"model\": 30}, \"Metrics\": {\"train_mse_objective\": {\"sum\": 1.1859615478515626, \"count\": 1, \"min\": 1.1859615478515626, \"max\": 1.1859615478515626}}}\u001b[0m\n",
      "\u001b[34m#metrics {\"StartTime\": 1686775682.3920279, \"EndTime\": 1686775682.3920383, \"Dimensions\": {\"Algorithm\": \"Linear Learner\", \"Host\": \"algo-1\", \"Operation\": \"training\", \"epoch\": 2, \"model\": 31}, \"Metrics\": {\"train_mse_objective\": {\"sum\": 1.4575228271484375, \"count\": 1, \"min\": 1.4575228271484375, \"max\": 1.4575228271484375}}}\u001b[0m\n",
      "\u001b[34m[06/14/2023 20:48:02 INFO 140522871928640] #quality_metric: host=algo-1, epoch=2, train mse_objective <loss>=0.9905108642578125\u001b[0m\n",
      "\u001b[34m[06/14/2023 20:48:02 INFO 140522871928640] #early_stopping_criteria_metric: host=algo-1, epoch=2, criteria=mse_objective, value=0.7420567626953125\u001b[0m\n",
      "\u001b[34m[06/14/2023 20:48:02 INFO 140522871928640] Epoch 2: Loss improved. Updating best model\u001b[0m\n",
      "\u001b[34m[06/14/2023 20:48:02 INFO 140522871928640] Saving model for epoch: 2\u001b[0m\n",
      "\u001b[34m[06/14/2023 20:48:02 INFO 140522871928640] Saved checkpoint to \"/tmp/tmp6osgzt6b/mx-mod-0000.params\"\u001b[0m\n",
      "\u001b[34m[06/14/2023 20:48:02 INFO 140522871928640] #progress_metric: host=algo-1, completed 20.0 % of epochs\u001b[0m\n",
      "\u001b[34m#metrics {\"StartTime\": 1686775682.3639219, \"EndTime\": 1686775682.4016776, \"Dimensions\": {\"Algorithm\": \"Linear Learner\", \"Host\": \"algo-1\", \"Operation\": \"training\", \"epoch\": 2, \"Meta\": \"training_data_iter\"}, \"Metrics\": {\"Total Records Seen\": {\"sum\": 5284.0, \"count\": 1, \"min\": 5284, \"max\": 5284}, \"Total Batches Seen\": {\"sum\": 9.0, \"count\": 1, \"min\": 9, \"max\": 9}, \"Max Records Seen Between Resets\": {\"sum\": 1071.0, \"count\": 1, \"min\": 1071, \"max\": 1071}, \"Max Batches Seen Between Resets\": {\"sum\": 2.0, \"count\": 1, \"min\": 2, \"max\": 2}, \"Reset Count\": {\"sum\": 5.0, \"count\": 1, \"min\": 5, \"max\": 5}, \"Number of Records Since Last Reset\": {\"sum\": 1071.0, \"count\": 1, \"min\": 1071, \"max\": 1071}, \"Number of Batches Since Last Reset\": {\"sum\": 2.0, \"count\": 1, \"min\": 2, \"max\": 2}}}\u001b[0m\n",
      "\u001b[34m[06/14/2023 20:48:02 INFO 140522871928640] #throughput_metric: host=algo-1, train throughput=28230.00524116261 records/second\u001b[0m\n",
      "\u001b[34m[2023-06-14 20:48:02.421] [tensorio] [info] epoch_stats={\"data_pipeline\": \"/opt/ml/input/data/train\", \"epoch\": 10, \"duration\": 19, \"num_examples\": 2, \"num_bytes\": 68544}\u001b[0m\n",
      "\u001b[34m#metrics {\"StartTime\": 1686775682.421685, \"EndTime\": 1686775682.4217732, \"Dimensions\": {\"Algorithm\": \"Linear Learner\", \"Host\": \"algo-1\", \"Operation\": \"training\", \"epoch\": 3, \"model\": 0}, \"Metrics\": {\"train_mse_objective\": {\"sum\": 0.97465673828125, \"count\": 1, \"min\": 0.97465673828125, \"max\": 0.97465673828125}}}\u001b[0m\n",
      "\u001b[34m#metrics {\"StartTime\": 1686775682.4222374, \"EndTime\": 1686775682.4222612, \"Dimensions\": {\"Algorithm\": \"Linear Learner\", \"Host\": \"algo-1\", \"Operation\": \"training\", \"epoch\": 3, \"model\": 1}, \"Metrics\": {\"train_mse_objective\": {\"sum\": 0.9532570190429688, \"count\": 1, \"min\": 0.9532570190429688, \"max\": 0.9532570190429688}}}\u001b[0m\n",
      "\u001b[34m#metrics {\"StartTime\": 1686775682.4223423, \"EndTime\": 1686775682.4223533, \"Dimensions\": {\"Algorithm\": \"Linear Learner\", \"Host\": \"algo-1\", \"Operation\": \"training\", \"epoch\": 3, \"model\": 2}, \"Metrics\": {\"train_mse_objective\": {\"sum\": 0.9820577392578125, \"count\": 1, \"min\": 0.9820577392578125, \"max\": 0.9820577392578125}}}\u001b[0m\n",
      "\u001b[34m#metrics {\"StartTime\": 1686775682.422422, \"EndTime\": 1686775682.4224315, \"Dimensions\": {\"Algorithm\": \"Linear Learner\", \"Host\": \"algo-1\", \"Operation\": \"training\", \"epoch\": 3, \"model\": 3}, \"Metrics\": {\"train_mse_objective\": {\"sum\": 0.9566934204101563, \"count\": 1, \"min\": 0.9566934204101563, \"max\": 0.9566934204101563}}}\u001b[0m\n",
      "\u001b[34m#metrics {\"StartTime\": 1686775682.4224877, \"EndTime\": 1686775682.4224963, \"Dimensions\": {\"Algorithm\": \"Linear Learner\", \"Host\": \"algo-1\", \"Operation\": \"training\", \"epoch\": 3, \"model\": 4}, \"Metrics\": {\"train_mse_objective\": {\"sum\": 0.8342539672851562, \"count\": 1, \"min\": 0.8342539672851562, \"max\": 0.8342539672851562}}}\u001b[0m\n",
      "\u001b[34m#metrics {\"StartTime\": 1686775682.422566, \"EndTime\": 1686775682.4225757, \"Dimensions\": {\"Algorithm\": \"Linear Learner\", \"Host\": \"algo-1\", \"Operation\": \"training\", \"epoch\": 3, \"model\": 5}, \"Metrics\": {\"train_mse_objective\": {\"sum\": 0.7825014038085938, \"count\": 1, \"min\": 0.7825014038085938, \"max\": 0.7825014038085938}}}\u001b[0m\n",
      "\u001b[34m#metrics {\"StartTime\": 1686775682.4226305, \"EndTime\": 1686775682.4226394, \"Dimensions\": {\"Algorithm\": \"Linear Learner\", \"Host\": \"algo-1\", \"Operation\": \"training\", \"epoch\": 3, \"model\": 6}, \"Metrics\": {\"train_mse_objective\": {\"sum\": 0.6740382080078124, \"count\": 1, \"min\": 0.6740382080078124, \"max\": 0.6740382080078124}}}\u001b[0m\n",
      "\u001b[34m#metrics {\"StartTime\": 1686775682.4226978, \"EndTime\": 1686775682.422706, \"Dimensions\": {\"Algorithm\": \"Linear Learner\", \"Host\": \"algo-1\", \"Operation\": \"training\", \"epoch\": 3, \"model\": 7}, \"Metrics\": {\"train_mse_objective\": {\"sum\": 0.6891548461914062, \"count\": 1, \"min\": 0.6891548461914062, \"max\": 0.6891548461914062}}}\u001b[0m\n",
      "\u001b[34m#metrics {\"StartTime\": 1686775682.4227595, \"EndTime\": 1686775682.4227676, \"Dimensions\": {\"Algorithm\": \"Linear Learner\", \"Host\": \"algo-1\", \"Operation\": \"training\", \"epoch\": 3, \"model\": 8}, \"Metrics\": {\"train_mse_objective\": {\"sum\": 0.849551025390625, \"count\": 1, \"min\": 0.849551025390625, \"max\": 0.849551025390625}}}\u001b[0m\n",
      "\u001b[34m#metrics {\"StartTime\": 1686775682.4228284, \"EndTime\": 1686775682.4228382, \"Dimensions\": {\"Algorithm\": \"Linear Learner\", \"Host\": \"algo-1\", \"Operation\": \"training\", \"epoch\": 3, \"model\": 9}, \"Metrics\": {\"train_mse_objective\": {\"sum\": 0.9427980346679687, \"count\": 1, \"min\": 0.9427980346679687, \"max\": 0.9427980346679687}}}\u001b[0m\n",
      "\u001b[34m#metrics {\"StartTime\": 1686775682.4228997, \"EndTime\": 1686775682.4229093, \"Dimensions\": {\"Algorithm\": \"Linear Learner\", \"Host\": \"algo-1\", \"Operation\": \"training\", \"epoch\": 3, \"model\": 10}, \"Metrics\": {\"train_mse_objective\": {\"sum\": 1.0501669921875, \"count\": 1, \"min\": 1.0501669921875, \"max\": 1.0501669921875}}}\u001b[0m\n",
      "\u001b[34m#metrics {\"StartTime\": 1686775682.4229712, \"EndTime\": 1686775682.4229796, \"Dimensions\": {\"Algorithm\": \"Linear Learner\", \"Host\": \"algo-1\", \"Operation\": \"training\", \"epoch\": 3, \"model\": 11}, \"Metrics\": {\"train_mse_objective\": {\"sum\": 0.9734786987304688, \"count\": 1, \"min\": 0.9734786987304688, \"max\": 0.9734786987304688}}}\u001b[0m\n",
      "\u001b[34m#metrics {\"StartTime\": 1686775682.423036, \"EndTime\": 1686775682.4230447, \"Dimensions\": {\"Algorithm\": \"Linear Learner\", \"Host\": \"algo-1\", \"Operation\": \"training\", \"epoch\": 3, \"model\": 12}, \"Metrics\": {\"train_mse_objective\": {\"sum\": 0.6833078002929688, \"count\": 1, \"min\": 0.6833078002929688, \"max\": 0.6833078002929688}}}\u001b[0m\n",
      "\u001b[34m#metrics {\"StartTime\": 1686775682.4231038, \"EndTime\": 1686775682.4231124, \"Dimensions\": {\"Algorithm\": \"Linear Learner\", \"Host\": \"algo-1\", \"Operation\": \"training\", \"epoch\": 3, \"model\": 13}, \"Metrics\": {\"train_mse_objective\": {\"sum\": 0.6699842529296876, \"count\": 1, \"min\": 0.6699842529296876, \"max\": 0.6699842529296876}}}\u001b[0m\n",
      "\u001b[34m#metrics {\"StartTime\": 1686775682.423168, \"EndTime\": 1686775682.4231765, \"Dimensions\": {\"Algorithm\": \"Linear Learner\", \"Host\": \"algo-1\", \"Operation\": \"training\", \"epoch\": 3, \"model\": 14}, \"Metrics\": {\"train_mse_objective\": {\"sum\": 0.8017175903320313, \"count\": 1, \"min\": 0.8017175903320313, \"max\": 0.8017175903320313}}}\u001b[0m\n",
      "\u001b[34m#metrics {\"StartTime\": 1686775682.4232342, \"EndTime\": 1686775682.423243, \"Dimensions\": {\"Algorithm\": \"Linear Learner\", \"Host\": \"algo-1\", \"Operation\": \"training\", \"epoch\": 3, \"model\": 15}, \"Metrics\": {\"train_mse_objective\": {\"sum\": 0.6935071411132813, \"count\": 1, \"min\": 0.6935071411132813, \"max\": 0.6935071411132813}}}\u001b[0m\n",
      "\u001b[34m#metrics {\"StartTime\": 1686775682.4232986, \"EndTime\": 1686775682.4233072, \"Dimensions\": {\"Algorithm\": \"Linear Learner\", \"Host\": \"algo-1\", \"Operation\": \"training\", \"epoch\": 3, \"model\": 16}, \"Metrics\": {\"train_mse_objective\": {\"sum\": 1.0018282470703126, \"count\": 1, \"min\": 1.0018282470703126, \"max\": 1.0018282470703126}}}\u001b[0m\n",
      "\u001b[34m#metrics {\"StartTime\": 1686775682.4233673, \"EndTime\": 1686775682.4233756, \"Dimensions\": {\"Algorithm\": \"Linear Learner\", \"Host\": \"algo-1\", \"Operation\": \"training\", \"epoch\": 3, \"model\": 17}, \"Metrics\": {\"train_mse_objective\": {\"sum\": 1.0234480590820312, \"count\": 1, \"min\": 1.0234480590820312, \"max\": 1.0234480590820312}}}\u001b[0m\n",
      "\u001b[34m#metrics {\"StartTime\": 1686775682.4234314, \"EndTime\": 1686775682.42344, \"Dimensions\": {\"Algorithm\": \"Linear Learner\", \"Host\": \"algo-1\", \"Operation\": \"training\", \"epoch\": 3, \"model\": 18}, \"Metrics\": {\"train_mse_objective\": {\"sum\": 1.044658447265625, \"count\": 1, \"min\": 1.044658447265625, \"max\": 1.044658447265625}}}\u001b[0m\n",
      "\u001b[34m#metrics {\"StartTime\": 1686775682.4234993, \"EndTime\": 1686775682.4235077, \"Dimensions\": {\"Algorithm\": \"Linear Learner\", \"Host\": \"algo-1\", \"Operation\": \"training\", \"epoch\": 3, \"model\": 19}, \"Metrics\": {\"train_mse_objective\": {\"sum\": 0.9546270751953125, \"count\": 1, \"min\": 0.9546270751953125, \"max\": 0.9546270751953125}}}\u001b[0m\n",
      "\u001b[34m#metrics {\"StartTime\": 1686775682.4235637, \"EndTime\": 1686775682.4235723, \"Dimensions\": {\"Algorithm\": \"Linear Learner\", \"Host\": \"algo-1\", \"Operation\": \"training\", \"epoch\": 3, \"model\": 20}, \"Metrics\": {\"train_mse_objective\": {\"sum\": 0.6646554565429688, \"count\": 1, \"min\": 0.6646554565429688, \"max\": 0.6646554565429688}}}\u001b[0m\n",
      "\u001b[34m#metrics {\"StartTime\": 1686775682.4236288, \"EndTime\": 1686775682.4236364, \"Dimensions\": {\"Algorithm\": \"Linear Learner\", \"Host\": \"algo-1\", \"Operation\": \"training\", \"epoch\": 3, \"model\": 21}, \"Metrics\": {\"train_mse_objective\": {\"sum\": 0.8035869750976562, \"count\": 1, \"min\": 0.8035869750976562, \"max\": 0.8035869750976562}}}\u001b[0m\n",
      "\u001b[34m#metrics {\"StartTime\": 1686775682.4236891, \"EndTime\": 1686775682.4236972, \"Dimensions\": {\"Algorithm\": \"Linear Learner\", \"Host\": \"algo-1\", \"Operation\": \"training\", \"epoch\": 3, \"model\": 22}, \"Metrics\": {\"train_mse_objective\": {\"sum\": 0.7147860107421875, \"count\": 1, \"min\": 0.7147860107421875, \"max\": 0.7147860107421875}}}\u001b[0m\n",
      "\u001b[34m#metrics {\"StartTime\": 1686775682.4237533, \"EndTime\": 1686775682.423761, \"Dimensions\": {\"Algorithm\": \"Linear Learner\", \"Host\": \"algo-1\", \"Operation\": \"training\", \"epoch\": 3, \"model\": 23}, \"Metrics\": {\"train_mse_objective\": {\"sum\": 0.664224609375, \"count\": 1, \"min\": 0.664224609375, \"max\": 0.664224609375}}}\u001b[0m\n",
      "\u001b[34m#metrics {\"StartTime\": 1686775682.4238093, \"EndTime\": 1686775682.4238164, \"Dimensions\": {\"Algorithm\": \"Linear Learner\", \"Host\": \"algo-1\", \"Operation\": \"training\", \"epoch\": 3, \"model\": 24}, \"Metrics\": {\"train_mse_objective\": {\"sum\": 0.9791414184570313, \"count\": 1, \"min\": 0.9791414184570313, \"max\": 0.9791414184570313}}}\u001b[0m\n",
      "\u001b[34m#metrics {\"StartTime\": 1686775682.4238763, \"EndTime\": 1686775682.4238849, \"Dimensions\": {\"Algorithm\": \"Linear Learner\", \"Host\": \"algo-1\", \"Operation\": \"training\", \"epoch\": 3, \"model\": 25}, \"Metrics\": {\"train_mse_objective\": {\"sum\": 0.9662950439453125, \"count\": 1, \"min\": 0.9662950439453125, \"max\": 0.9662950439453125}}}\u001b[0m\n",
      "\u001b[34m#metrics {\"StartTime\": 1686775682.4239514, \"EndTime\": 1686775682.423963, \"Dimensions\": {\"Algorithm\": \"Linear Learner\", \"Host\": \"algo-1\", \"Operation\": \"training\", \"epoch\": 3, \"model\": 26}, \"Metrics\": {\"train_mse_objective\": {\"sum\": 0.9581043090820313, \"count\": 1, \"min\": 0.9581043090820313, \"max\": 0.9581043090820313}}}\u001b[0m\n",
      "\u001b[34m#metrics {\"StartTime\": 1686775682.4240289, \"EndTime\": 1686775682.424041, \"Dimensions\": {\"Algorithm\": \"Linear Learner\", \"Host\": \"algo-1\", \"Operation\": \"training\", \"epoch\": 3, \"model\": 27}, \"Metrics\": {\"train_mse_objective\": {\"sum\": 1.009204345703125, \"count\": 1, \"min\": 1.009204345703125, \"max\": 1.009204345703125}}}\u001b[0m\n",
      "\u001b[34m#metrics {\"StartTime\": 1686775682.4241147, \"EndTime\": 1686775682.424126, \"Dimensions\": {\"Algorithm\": \"Linear Learner\", \"Host\": \"algo-1\", \"Operation\": \"training\", \"epoch\": 3, \"model\": 28}, \"Metrics\": {\"train_mse_objective\": {\"sum\": 1.005037841796875, \"count\": 1, \"min\": 1.005037841796875, \"max\": 1.005037841796875}}}\u001b[0m\n",
      "\u001b[34m#metrics {\"StartTime\": 1686775682.4241915, \"EndTime\": 1686775682.4242015, \"Dimensions\": {\"Algorithm\": \"Linear Learner\", \"Host\": \"algo-1\", \"Operation\": \"training\", \"epoch\": 3, \"model\": 29}, \"Metrics\": {\"train_mse_objective\": {\"sum\": 1.0733372802734376, \"count\": 1, \"min\": 1.0733372802734376, \"max\": 1.0733372802734376}}}\u001b[0m\n",
      "\u001b[34m#metrics {\"StartTime\": 1686775682.4242685, \"EndTime\": 1686775682.4242785, \"Dimensions\": {\"Algorithm\": \"Linear Learner\", \"Host\": \"algo-1\", \"Operation\": \"training\", \"epoch\": 3, \"model\": 30}, \"Metrics\": {\"train_mse_objective\": {\"sum\": 1.0258807373046874, \"count\": 1, \"min\": 1.0258807373046874, \"max\": 1.0258807373046874}}}\u001b[0m\n",
      "\u001b[34m#metrics {\"StartTime\": 1686775682.424346, \"EndTime\": 1686775682.4243553, \"Dimensions\": {\"Algorithm\": \"Linear Learner\", \"Host\": \"algo-1\", \"Operation\": \"training\", \"epoch\": 3, \"model\": 31}, \"Metrics\": {\"train_mse_objective\": {\"sum\": 0.9605823364257813, \"count\": 1, \"min\": 0.9605823364257813, \"max\": 0.9605823364257813}}}\u001b[0m\n",
      "\u001b[34m[06/14/2023 20:48:02 INFO 140522871928640] #quality_metric: host=algo-1, epoch=3, train mse_objective <loss>=0.97465673828125\u001b[0m\n",
      "\u001b[34m[06/14/2023 20:48:02 INFO 140522871928640] #early_stopping_criteria_metric: host=algo-1, epoch=3, criteria=mse_objective, value=0.664224609375\u001b[0m\n",
      "\u001b[34m[06/14/2023 20:48:02 INFO 140522871928640] Epoch 3: Loss improved. Updating best model\u001b[0m\n",
      "\u001b[34m[06/14/2023 20:48:02 INFO 140522871928640] Saving model for epoch: 3\u001b[0m\n",
      "\u001b[34m[06/14/2023 20:48:02 INFO 140522871928640] Saved checkpoint to \"/tmp/tmpvyffkmcm/mx-mod-0000.params\"\u001b[0m\n",
      "\u001b[34m[06/14/2023 20:48:02 INFO 140522871928640] #progress_metric: host=algo-1, completed 26.666666666666668 % of epochs\u001b[0m\n",
      "\u001b[34m#metrics {\"StartTime\": 1686775682.4020026, \"EndTime\": 1686775682.4337852, \"Dimensions\": {\"Algorithm\": \"Linear Learner\", \"Host\": \"algo-1\", \"Operation\": \"training\", \"epoch\": 3, \"Meta\": \"training_data_iter\"}, \"Metrics\": {\"Total Records Seen\": {\"sum\": 6355.0, \"count\": 1, \"min\": 6355, \"max\": 6355}, \"Total Batches Seen\": {\"sum\": 11.0, \"count\": 1, \"min\": 11, \"max\": 11}, \"Max Records Seen Between Resets\": {\"sum\": 1071.0, \"count\": 1, \"min\": 1071, \"max\": 1071}, \"Max Batches Seen Between Resets\": {\"sum\": 2.0, \"count\": 1, \"min\": 2, \"max\": 2}, \"Reset Count\": {\"sum\": 6.0, \"count\": 1, \"min\": 6, \"max\": 6}, \"Number of Records Since Last Reset\": {\"sum\": 1071.0, \"count\": 1, \"min\": 1071, \"max\": 1071}, \"Number of Batches Since Last Reset\": {\"sum\": 2.0, \"count\": 1, \"min\": 2, \"max\": 2}}}\u001b[0m\n",
      "\u001b[34m[06/14/2023 20:48:02 INFO 140522871928640] #throughput_metric: host=algo-1, train throughput=33588.302557200535 records/second\u001b[0m\n",
      "\u001b[34m[2023-06-14 20:48:02.454] [tensorio] [info] epoch_stats={\"data_pipeline\": \"/opt/ml/input/data/train\", \"epoch\": 12, \"duration\": 20, \"num_examples\": 2, \"num_bytes\": 68544}\u001b[0m\n",
      "\u001b[34m#metrics {\"StartTime\": 1686775682.4549224, \"EndTime\": 1686775682.4549913, \"Dimensions\": {\"Algorithm\": \"Linear Learner\", \"Host\": \"algo-1\", \"Operation\": \"training\", \"epoch\": 4, \"model\": 0}, \"Metrics\": {\"train_mse_objective\": {\"sum\": 0.9596456909179687, \"count\": 1, \"min\": 0.9596456909179687, \"max\": 0.9596456909179687}}}\u001b[0m\n",
      "\u001b[34m#metrics {\"StartTime\": 1686775682.4550838, \"EndTime\": 1686775682.4551659, \"Dimensions\": {\"Algorithm\": \"Linear Learner\", \"Host\": \"algo-1\", \"Operation\": \"training\", \"epoch\": 4, \"model\": 1}, \"Metrics\": {\"train_mse_objective\": {\"sum\": 0.9382451171875, \"count\": 1, \"min\": 0.9382451171875, \"max\": 0.9382451171875}}}\u001b[0m\n",
      "\u001b[34m#metrics {\"StartTime\": 1686775682.4552019, \"EndTime\": 1686775682.4552093, \"Dimensions\": {\"Algorithm\": \"Linear Learner\", \"Host\": \"algo-1\", \"Operation\": \"training\", \"epoch\": 4, \"model\": 2}, \"Metrics\": {\"train_mse_objective\": {\"sum\": 0.9676168212890625, \"count\": 1, \"min\": 0.9676168212890625, \"max\": 0.9676168212890625}}}\u001b[0m\n",
      "\u001b[34m#metrics {\"StartTime\": 1686775682.455237, \"EndTime\": 1686775682.455243, \"Dimensions\": {\"Algorithm\": \"Linear Learner\", \"Host\": \"algo-1\", \"Operation\": \"training\", \"epoch\": 4, \"model\": 3}, \"Metrics\": {\"train_mse_objective\": {\"sum\": 0.9413513793945313, \"count\": 1, \"min\": 0.9413513793945313, \"max\": 0.9413513793945313}}}\u001b[0m\n",
      "\u001b[34m#metrics {\"StartTime\": 1686775682.455269, \"EndTime\": 1686775682.455275, \"Dimensions\": {\"Algorithm\": \"Linear Learner\", \"Host\": \"algo-1\", \"Operation\": \"training\", \"epoch\": 4, \"model\": 4}, \"Metrics\": {\"train_mse_objective\": {\"sum\": 0.71777001953125, \"count\": 1, \"min\": 0.71777001953125, \"max\": 0.71777001953125}}}\u001b[0m\n",
      "\u001b[34m#metrics {\"StartTime\": 1686775682.4552991, \"EndTime\": 1686775682.4553049, \"Dimensions\": {\"Algorithm\": \"Linear Learner\", \"Host\": \"algo-1\", \"Operation\": \"training\", \"epoch\": 4, \"model\": 5}, \"Metrics\": {\"train_mse_objective\": {\"sum\": 0.7016685180664063, \"count\": 1, \"min\": 0.7016685180664063, \"max\": 0.7016685180664063}}}\u001b[0m\n",
      "\u001b[34m#metrics {\"StartTime\": 1686775682.4553304, \"EndTime\": 1686775682.4553359, \"Dimensions\": {\"Algorithm\": \"Linear Learner\", \"Host\": \"algo-1\", \"Operation\": \"training\", \"epoch\": 4, \"model\": 6}, \"Metrics\": {\"train_mse_objective\": {\"sum\": 0.915455078125, \"count\": 1, \"min\": 0.915455078125, \"max\": 0.915455078125}}}\u001b[0m\n",
      "\u001b[34m#metrics {\"StartTime\": 1686775682.455358, \"EndTime\": 1686775682.4553635, \"Dimensions\": {\"Algorithm\": \"Linear Learner\", \"Host\": \"algo-1\", \"Operation\": \"training\", \"epoch\": 4, \"model\": 7}, \"Metrics\": {\"train_mse_objective\": {\"sum\": 0.8132057495117188, \"count\": 1, \"min\": 0.8132057495117188, \"max\": 0.8132057495117188}}}\u001b[0m\n",
      "\u001b[34m#metrics {\"StartTime\": 1686775682.455387, \"EndTime\": 1686775682.4553928, \"Dimensions\": {\"Algorithm\": \"Linear Learner\", \"Host\": \"algo-1\", \"Operation\": \"training\", \"epoch\": 4, \"model\": 8}, \"Metrics\": {\"train_mse_objective\": {\"sum\": 0.838154541015625, \"count\": 1, \"min\": 0.838154541015625, \"max\": 0.838154541015625}}}\u001b[0m\n",
      "\u001b[34m#metrics {\"StartTime\": 1686775682.4554148, \"EndTime\": 1686775682.4554203, \"Dimensions\": {\"Algorithm\": \"Linear Learner\", \"Host\": \"algo-1\", \"Operation\": \"training\", \"epoch\": 4, \"model\": 9}, \"Metrics\": {\"train_mse_objective\": {\"sum\": 0.9274485473632812, \"count\": 1, \"min\": 0.9274485473632812, \"max\": 0.9274485473632812}}}\u001b[0m\n",
      "\u001b[34m#metrics {\"StartTime\": 1686775682.455446, \"EndTime\": 1686775682.4554517, \"Dimensions\": {\"Algorithm\": \"Linear Learner\", \"Host\": \"algo-1\", \"Operation\": \"training\", \"epoch\": 4, \"model\": 10}, \"Metrics\": {\"train_mse_objective\": {\"sum\": 1.0333668212890625, \"count\": 1, \"min\": 1.0333668212890625, \"max\": 1.0333668212890625}}}\u001b[0m\n",
      "\u001b[34m#metrics {\"StartTime\": 1686775682.4554775, \"EndTime\": 1686775682.4554834, \"Dimensions\": {\"Algorithm\": \"Linear Learner\", \"Host\": \"algo-1\", \"Operation\": \"training\", \"epoch\": 4, \"model\": 11}, \"Metrics\": {\"train_mse_objective\": {\"sum\": 0.9574677124023437, \"count\": 1, \"min\": 0.9574677124023437, \"max\": 0.9574677124023437}}}\u001b[0m\n",
      "\u001b[34m#metrics {\"StartTime\": 1686775682.4555054, \"EndTime\": 1686775682.455511, \"Dimensions\": {\"Algorithm\": \"Linear Learner\", \"Host\": \"algo-1\", \"Operation\": \"training\", \"epoch\": 4, \"model\": 12}, \"Metrics\": {\"train_mse_objective\": {\"sum\": 0.80714208984375, \"count\": 1, \"min\": 0.80714208984375, \"max\": 0.80714208984375}}}\u001b[0m\n",
      "\u001b[34m#metrics {\"StartTime\": 1686775682.4555323, \"EndTime\": 1686775682.4555376, \"Dimensions\": {\"Algorithm\": \"Linear Learner\", \"Host\": \"algo-1\", \"Operation\": \"training\", \"epoch\": 4, \"model\": 13}, \"Metrics\": {\"train_mse_objective\": {\"sum\": 0.8702337646484375, \"count\": 1, \"min\": 0.8702337646484375, \"max\": 0.8702337646484375}}}\u001b[0m\n",
      "\u001b[34m#metrics {\"StartTime\": 1686775682.455563, \"EndTime\": 1686775682.4555688, \"Dimensions\": {\"Algorithm\": \"Linear Learner\", \"Host\": \"algo-1\", \"Operation\": \"training\", \"epoch\": 4, \"model\": 14}, \"Metrics\": {\"train_mse_objective\": {\"sum\": 0.6973540649414063, \"count\": 1, \"min\": 0.6973540649414063, \"max\": 0.6973540649414063}}}\u001b[0m\n",
      "\u001b[34m#metrics {\"StartTime\": 1686775682.4555907, \"EndTime\": 1686775682.455596, \"Dimensions\": {\"Algorithm\": \"Linear Learner\", \"Host\": \"algo-1\", \"Operation\": \"training\", \"epoch\": 4, \"model\": 15}, \"Metrics\": {\"train_mse_objective\": {\"sum\": 0.8135216064453125, \"count\": 1, \"min\": 0.8135216064453125, \"max\": 0.8135216064453125}}}\u001b[0m\n",
      "\u001b[34m#metrics {\"StartTime\": 1686775682.4556217, \"EndTime\": 1686775682.4556274, \"Dimensions\": {\"Algorithm\": \"Linear Learner\", \"Host\": \"algo-1\", \"Operation\": \"training\", \"epoch\": 4, \"model\": 16}, \"Metrics\": {\"train_mse_objective\": {\"sum\": 0.9854932250976562, \"count\": 1, \"min\": 0.9854932250976562, \"max\": 0.9854932250976562}}}\u001b[0m\n",
      "\u001b[34m#metrics {\"StartTime\": 1686775682.4556532, \"EndTime\": 1686775682.4556587, \"Dimensions\": {\"Algorithm\": \"Linear Learner\", \"Host\": \"algo-1\", \"Operation\": \"training\", \"epoch\": 4, \"model\": 17}, \"Metrics\": {\"train_mse_objective\": {\"sum\": 1.0076508178710937, \"count\": 1, \"min\": 1.0076508178710937, \"max\": 1.0076508178710937}}}\u001b[0m\n",
      "\u001b[34m#metrics {\"StartTime\": 1686775682.4556806, \"EndTime\": 1686775682.455686, \"Dimensions\": {\"Algorithm\": \"Linear Learner\", \"Host\": \"algo-1\", \"Operation\": \"training\", \"epoch\": 4, \"model\": 18}, \"Metrics\": {\"train_mse_objective\": {\"sum\": 1.02697509765625, \"count\": 1, \"min\": 1.02697509765625, \"max\": 1.02697509765625}}}\u001b[0m\n",
      "\u001b[34m#metrics {\"StartTime\": 1686775682.4557066, \"EndTime\": 1686775682.4557123, \"Dimensions\": {\"Algorithm\": \"Linear Learner\", \"Host\": \"algo-1\", \"Operation\": \"training\", \"epoch\": 4, \"model\": 19}, \"Metrics\": {\"train_mse_objective\": {\"sum\": 0.9396033325195312, \"count\": 1, \"min\": 0.9396033325195312, \"max\": 0.9396033325195312}}}\u001b[0m\n",
      "\u001b[34m#metrics {\"StartTime\": 1686775682.4557335, \"EndTime\": 1686775682.4557388, \"Dimensions\": {\"Algorithm\": \"Linear Learner\", \"Host\": \"algo-1\", \"Operation\": \"training\", \"epoch\": 4, \"model\": 20}, \"Metrics\": {\"train_mse_objective\": {\"sum\": 0.7545194091796875, \"count\": 1, \"min\": 0.7545194091796875, \"max\": 0.7545194091796875}}}\u001b[0m\n",
      "\u001b[34m#metrics {\"StartTime\": 1686775682.4557624, \"EndTime\": 1686775682.4557679, \"Dimensions\": {\"Algorithm\": \"Linear Learner\", \"Host\": \"algo-1\", \"Operation\": \"training\", \"epoch\": 4, \"model\": 21}, \"Metrics\": {\"train_mse_objective\": {\"sum\": 0.6577925415039062, \"count\": 1, \"min\": 0.6577925415039062, \"max\": 0.6577925415039062}}}\u001b[0m\n",
      "\u001b[34m#metrics {\"StartTime\": 1686775682.4557931, \"EndTime\": 1686775682.4557989, \"Dimensions\": {\"Algorithm\": \"Linear Learner\", \"Host\": \"algo-1\", \"Operation\": \"training\", \"epoch\": 4, \"model\": 22}, \"Metrics\": {\"train_mse_objective\": {\"sum\": 0.6481115112304687, \"count\": 1, \"min\": 0.6481115112304687, \"max\": 0.6481115112304687}}}\u001b[0m\n",
      "\u001b[34m#metrics {\"StartTime\": 1686775682.4558203, \"EndTime\": 1686775682.4558256, \"Dimensions\": {\"Algorithm\": \"Linear Learner\", \"Host\": \"algo-1\", \"Operation\": \"training\", \"epoch\": 4, \"model\": 23}, \"Metrics\": {\"train_mse_objective\": {\"sum\": 0.8002721557617187, \"count\": 1, \"min\": 0.8002721557617187, \"max\": 0.8002721557617187}}}\u001b[0m\n",
      "\u001b[34m#metrics {\"StartTime\": 1686775682.4558465, \"EndTime\": 1686775682.455852, \"Dimensions\": {\"Algorithm\": \"Linear Learner\", \"Host\": \"algo-1\", \"Operation\": \"training\", \"epoch\": 4, \"model\": 24}, \"Metrics\": {\"train_mse_objective\": {\"sum\": 0.978783203125, \"count\": 1, \"min\": 0.978783203125, \"max\": 0.978783203125}}}\u001b[0m\n",
      "\u001b[34m#metrics {\"StartTime\": 1686775682.455877, \"EndTime\": 1686775682.4558825, \"Dimensions\": {\"Algorithm\": \"Linear Learner\", \"Host\": \"algo-1\", \"Operation\": \"training\", \"epoch\": 4, \"model\": 25}, \"Metrics\": {\"train_mse_objective\": {\"sum\": 0.97126953125, \"count\": 1, \"min\": 0.97126953125, \"max\": 0.97126953125}}}\u001b[0m\n",
      "\u001b[34m#metrics {\"StartTime\": 1686775682.4559035, \"EndTime\": 1686775682.4559088, \"Dimensions\": {\"Algorithm\": \"Linear Learner\", \"Host\": \"algo-1\", \"Operation\": \"training\", \"epoch\": 4, \"model\": 26}, \"Metrics\": {\"train_mse_objective\": {\"sum\": 0.9603385009765625, \"count\": 1, \"min\": 0.9603385009765625, \"max\": 0.9603385009765625}}}\u001b[0m\n",
      "\u001b[34m#metrics {\"StartTime\": 1686775682.4559305, \"EndTime\": 1686775682.4559355, \"Dimensions\": {\"Algorithm\": \"Linear Learner\", \"Host\": \"algo-1\", \"Operation\": \"training\", \"epoch\": 4, \"model\": 27}, \"Metrics\": {\"train_mse_objective\": {\"sum\": 1.0040426635742188, \"count\": 1, \"min\": 1.0040426635742188, \"max\": 1.0040426635742188}}}\u001b[0m\n",
      "\u001b[34m#metrics {\"StartTime\": 1686775682.455957, \"EndTime\": 1686775682.4559622, \"Dimensions\": {\"Algorithm\": \"Linear Learner\", \"Host\": \"algo-1\", \"Operation\": \"training\", \"epoch\": 4, \"model\": 28}, \"Metrics\": {\"train_mse_objective\": {\"sum\": 1.137970947265625, \"count\": 1, \"min\": 1.137970947265625, \"max\": 1.137970947265625}}}\u001b[0m\n",
      "\u001b[34m#metrics {\"StartTime\": 1686775682.4559832, \"EndTime\": 1686775682.4559884, \"Dimensions\": {\"Algorithm\": \"Linear Learner\", \"Host\": \"algo-1\", \"Operation\": \"training\", \"epoch\": 4, \"model\": 29}, \"Metrics\": {\"train_mse_objective\": {\"sum\": 1.0475438232421874, \"count\": 1, \"min\": 1.0475438232421874, \"max\": 1.0475438232421874}}}\u001b[0m\n",
      "\u001b[34m#metrics {\"StartTime\": 1686775682.4560132, \"EndTime\": 1686775682.456019, \"Dimensions\": {\"Algorithm\": \"Linear Learner\", \"Host\": \"algo-1\", \"Operation\": \"training\", \"epoch\": 4, \"model\": 30}, \"Metrics\": {\"train_mse_objective\": {\"sum\": 0.9947923583984375, \"count\": 1, \"min\": 0.9947923583984375, \"max\": 0.9947923583984375}}}\u001b[0m\n",
      "\u001b[34m#metrics {\"StartTime\": 1686775682.4560401, \"EndTime\": 1686775682.4560459, \"Dimensions\": {\"Algorithm\": \"Linear Learner\", \"Host\": \"algo-1\", \"Operation\": \"training\", \"epoch\": 4, \"model\": 31}, \"Metrics\": {\"train_mse_objective\": {\"sum\": 1.026781982421875, \"count\": 1, \"min\": 1.026781982421875, \"max\": 1.026781982421875}}}\u001b[0m\n",
      "\u001b[34m[06/14/2023 20:48:02 INFO 140522871928640] #quality_metric: host=algo-1, epoch=4, train mse_objective <loss>=0.9596456909179687\u001b[0m\n",
      "\u001b[34m[06/14/2023 20:48:02 INFO 140522871928640] #early_stopping_criteria_metric: host=algo-1, epoch=4, criteria=mse_objective, value=0.6481115112304687\u001b[0m\n",
      "\u001b[34m[06/14/2023 20:48:02 INFO 140522871928640] Epoch 4: Loss improved. Updating best model\u001b[0m\n",
      "\u001b[34m[06/14/2023 20:48:02 INFO 140522871928640] Saving model for epoch: 4\u001b[0m\n",
      "\u001b[34m[06/14/2023 20:48:02 INFO 140522871928640] Saved checkpoint to \"/tmp/tmpo1m4e8l0/mx-mod-0000.params\"\u001b[0m\n",
      "\u001b[34m[06/14/2023 20:48:02 INFO 140522871928640] #progress_metric: host=algo-1, completed 33.333333333333336 % of epochs\u001b[0m\n",
      "\u001b[34m#metrics {\"StartTime\": 1686775682.4339921, \"EndTime\": 1686775682.4641032, \"Dimensions\": {\"Algorithm\": \"Linear Learner\", \"Host\": \"algo-1\", \"Operation\": \"training\", \"epoch\": 4, \"Meta\": \"training_data_iter\"}, \"Metrics\": {\"Total Records Seen\": {\"sum\": 7426.0, \"count\": 1, \"min\": 7426, \"max\": 7426}, \"Total Batches Seen\": {\"sum\": 13.0, \"count\": 1, \"min\": 13, \"max\": 13}, \"Max Records Seen Between Resets\": {\"sum\": 1071.0, \"count\": 1, \"min\": 1071, \"max\": 1071}, \"Max Batches Seen Between Resets\": {\"sum\": 2.0, \"count\": 1, \"min\": 2, \"max\": 2}, \"Reset Count\": {\"sum\": 7.0, \"count\": 1, \"min\": 7, \"max\": 7}, \"Number of Records Since Last Reset\": {\"sum\": 1071.0, \"count\": 1, \"min\": 1071, \"max\": 1071}, \"Number of Batches Since Last Reset\": {\"sum\": 2.0, \"count\": 1, \"min\": 2, \"max\": 2}}}\u001b[0m\n",
      "\u001b[34m[06/14/2023 20:48:02 INFO 140522871928640] #throughput_metric: host=algo-1, train throughput=35409.339155933216 records/second\u001b[0m\n",
      "\u001b[34m[2023-06-14 20:48:02.491] [tensorio] [info] epoch_stats={\"data_pipeline\": \"/opt/ml/input/data/train\", \"epoch\": 14, \"duration\": 27, \"num_examples\": 2, \"num_bytes\": 68544}\u001b[0m\n",
      "\u001b[34m#metrics {\"StartTime\": 1686775682.4919455, \"EndTime\": 1686775682.4920099, \"Dimensions\": {\"Algorithm\": \"Linear Learner\", \"Host\": \"algo-1\", \"Operation\": \"training\", \"epoch\": 5, \"model\": 0}, \"Metrics\": {\"train_mse_objective\": {\"sum\": 0.9453318481445312, \"count\": 1, \"min\": 0.9453318481445312, \"max\": 0.9453318481445312}}}\u001b[0m\n",
      "\u001b[34m#metrics {\"StartTime\": 1686775682.4921064, \"EndTime\": 1686775682.4921165, \"Dimensions\": {\"Algorithm\": \"Linear Learner\", \"Host\": \"algo-1\", \"Operation\": \"training\", \"epoch\": 5, \"model\": 1}, \"Metrics\": {\"train_mse_objective\": {\"sum\": 0.9235821533203125, \"count\": 1, \"min\": 0.9235821533203125, \"max\": 0.9235821533203125}}}\u001b[0m\n",
      "\u001b[34m#metrics {\"StartTime\": 1686775682.4921634, \"EndTime\": 1686775682.4921706, \"Dimensions\": {\"Algorithm\": \"Linear Learner\", \"Host\": \"algo-1\", \"Operation\": \"training\", \"epoch\": 5, \"model\": 2}, \"Metrics\": {\"train_mse_objective\": {\"sum\": 0.953370849609375, \"count\": 1, \"min\": 0.953370849609375, \"max\": 0.953370849609375}}}\u001b[0m\n",
      "\u001b[34m#metrics {\"StartTime\": 1686775682.4922144, \"EndTime\": 1686775682.4922214, \"Dimensions\": {\"Algorithm\": \"Linear Learner\", \"Host\": \"algo-1\", \"Operation\": \"training\", \"epoch\": 5, \"model\": 3}, \"Metrics\": {\"train_mse_objective\": {\"sum\": 0.9268721923828125, \"count\": 1, \"min\": 0.9268721923828125, \"max\": 0.9268721923828125}}}\u001b[0m\n",
      "\u001b[34m#metrics {\"StartTime\": 1686775682.4922643, \"EndTime\": 1686775682.492271, \"Dimensions\": {\"Algorithm\": \"Linear Learner\", \"Host\": \"algo-1\", \"Operation\": \"training\", \"epoch\": 5, \"model\": 4}, \"Metrics\": {\"train_mse_objective\": {\"sum\": 0.773339111328125, \"count\": 1, \"min\": 0.773339111328125, \"max\": 0.773339111328125}}}\u001b[0m\n",
      "\u001b[34m#metrics {\"StartTime\": 1686775682.4923208, \"EndTime\": 1686775682.4923284, \"Dimensions\": {\"Algorithm\": \"Linear Learner\", \"Host\": \"algo-1\", \"Operation\": \"training\", \"epoch\": 5, \"model\": 5}, \"Metrics\": {\"train_mse_objective\": {\"sum\": 0.80880908203125, \"count\": 1, \"min\": 0.80880908203125, \"max\": 0.80880908203125}}}\u001b[0m\n",
      "\u001b[34m#metrics {\"StartTime\": 1686775682.4923725, \"EndTime\": 1686775682.492379, \"Dimensions\": {\"Algorithm\": \"Linear Learner\", \"Host\": \"algo-1\", \"Operation\": \"training\", \"epoch\": 5, \"model\": 6}, \"Metrics\": {\"train_mse_objective\": {\"sum\": 1.048414306640625, \"count\": 1, \"min\": 1.048414306640625, \"max\": 1.048414306640625}}}\u001b[0m\n",
      "\u001b[34m#metrics {\"StartTime\": 1686775682.4924202, \"EndTime\": 1686775682.4924266, \"Dimensions\": {\"Algorithm\": \"Linear Learner\", \"Host\": \"algo-1\", \"Operation\": \"training\", \"epoch\": 5, \"model\": 7}, \"Metrics\": {\"train_mse_objective\": {\"sum\": 0.8782147216796875, \"count\": 1, \"min\": 0.8782147216796875, \"max\": 0.8782147216796875}}}\u001b[0m\n",
      "\u001b[34m#metrics {\"StartTime\": 1686775682.4924755, \"EndTime\": 1686775682.492483, \"Dimensions\": {\"Algorithm\": \"Linear Learner\", \"Host\": \"algo-1\", \"Operation\": \"training\", \"epoch\": 5, \"model\": 8}, \"Metrics\": {\"train_mse_objective\": {\"sum\": 0.8275795288085938, \"count\": 1, \"min\": 0.8275795288085938, \"max\": 0.8275795288085938}}}\u001b[0m\n",
      "\u001b[34m#metrics {\"StartTime\": 1686775682.4925585, \"EndTime\": 1686775682.4925673, \"Dimensions\": {\"Algorithm\": \"Linear Learner\", \"Host\": \"algo-1\", \"Operation\": \"training\", \"epoch\": 5, \"model\": 9}, \"Metrics\": {\"train_mse_objective\": {\"sum\": 0.913042236328125, \"count\": 1, \"min\": 0.913042236328125, \"max\": 0.913042236328125}}}\u001b[0m\n",
      "\u001b[34m#metrics {\"StartTime\": 1686775682.4926105, \"EndTime\": 1686775682.4926171, \"Dimensions\": {\"Algorithm\": \"Linear Learner\", \"Host\": \"algo-1\", \"Operation\": \"training\", \"epoch\": 5, \"model\": 10}, \"Metrics\": {\"train_mse_objective\": {\"sum\": 1.016889892578125, \"count\": 1, \"min\": 1.016889892578125, \"max\": 1.016889892578125}}}\u001b[0m\n",
      "\u001b[34m#metrics {\"StartTime\": 1686775682.4926608, \"EndTime\": 1686775682.4926672, \"Dimensions\": {\"Algorithm\": \"Linear Learner\", \"Host\": \"algo-1\", \"Operation\": \"training\", \"epoch\": 5, \"model\": 11}, \"Metrics\": {\"train_mse_objective\": {\"sum\": 0.9420863037109375, \"count\": 1, \"min\": 0.9420863037109375, \"max\": 0.9420863037109375}}}\u001b[0m\n",
      "\u001b[34m#metrics {\"StartTime\": 1686775682.4927084, \"EndTime\": 1686775682.4927146, \"Dimensions\": {\"Algorithm\": \"Linear Learner\", \"Host\": \"algo-1\", \"Operation\": \"training\", \"epoch\": 5, \"model\": 12}, \"Metrics\": {\"train_mse_objective\": {\"sum\": 0.8867086791992187, \"count\": 1, \"min\": 0.8867086791992187, \"max\": 0.8867086791992187}}}\u001b[0m\n",
      "\u001b[34m#metrics {\"StartTime\": 1686775682.4927588, \"EndTime\": 1686775682.4927654, \"Dimensions\": {\"Algorithm\": \"Linear Learner\", \"Host\": \"algo-1\", \"Operation\": \"training\", \"epoch\": 5, \"model\": 13}, \"Metrics\": {\"train_mse_objective\": {\"sum\": 0.9733970336914063, \"count\": 1, \"min\": 0.9733970336914063, \"max\": 0.9733970336914063}}}\u001b[0m\n",
      "\u001b[34m#metrics {\"StartTime\": 1686775682.4928064, \"EndTime\": 1686775682.4928126, \"Dimensions\": {\"Algorithm\": \"Linear Learner\", \"Host\": \"algo-1\", \"Operation\": \"training\", \"epoch\": 5, \"model\": 14}, \"Metrics\": {\"train_mse_objective\": {\"sum\": 0.7901372680664063, \"count\": 1, \"min\": 0.7901372680664063, \"max\": 0.7901372680664063}}}\u001b[0m\n",
      "\u001b[34m#metrics {\"StartTime\": 1686775682.4928527, \"EndTime\": 1686775682.492859, \"Dimensions\": {\"Algorithm\": \"Linear Learner\", \"Host\": \"algo-1\", \"Operation\": \"training\", \"epoch\": 5, \"model\": 15}, \"Metrics\": {\"train_mse_objective\": {\"sum\": 0.8763417358398438, \"count\": 1, \"min\": 0.8763417358398438, \"max\": 0.8763417358398438}}}\u001b[0m\n",
      "\u001b[34m#metrics {\"StartTime\": 1686775682.4929016, \"EndTime\": 1686775682.492908, \"Dimensions\": {\"Algorithm\": \"Linear Learner\", \"Host\": \"algo-1\", \"Operation\": \"training\", \"epoch\": 5, \"model\": 16}, \"Metrics\": {\"train_mse_objective\": {\"sum\": 0.9699887084960938, \"count\": 1, \"min\": 0.9699887084960938, \"max\": 0.9699887084960938}}}\u001b[0m\n",
      "\u001b[34m#metrics {\"StartTime\": 1686775682.4929485, \"EndTime\": 1686775682.492955, \"Dimensions\": {\"Algorithm\": \"Linear Learner\", \"Host\": \"algo-1\", \"Operation\": \"training\", \"epoch\": 5, \"model\": 17}, \"Metrics\": {\"train_mse_objective\": {\"sum\": 0.992428466796875, \"count\": 1, \"min\": 0.992428466796875, \"max\": 0.992428466796875}}}\u001b[0m\n",
      "\u001b[34m#metrics {\"StartTime\": 1686775682.4930024, \"EndTime\": 1686775682.4930098, \"Dimensions\": {\"Algorithm\": \"Linear Learner\", \"Host\": \"algo-1\", \"Operation\": \"training\", \"epoch\": 5, \"model\": 18}, \"Metrics\": {\"train_mse_objective\": {\"sum\": 1.01025, \"count\": 1, \"min\": 1.01025, \"max\": 1.01025}}}\u001b[0m\n",
      "\u001b[34m#metrics {\"StartTime\": 1686775682.4930508, \"EndTime\": 1686775682.493057, \"Dimensions\": {\"Algorithm\": \"Linear Learner\", \"Host\": \"algo-1\", \"Operation\": \"training\", \"epoch\": 5, \"model\": 19}, \"Metrics\": {\"train_mse_objective\": {\"sum\": 0.9248118286132813, \"count\": 1, \"min\": 0.9248118286132813, \"max\": 0.9248118286132813}}}\u001b[0m\n",
      "\u001b[34m#metrics {\"StartTime\": 1686775682.493105, \"EndTime\": 1686775682.4931114, \"Dimensions\": {\"Algorithm\": \"Linear Learner\", \"Host\": \"algo-1\", \"Operation\": \"training\", \"epoch\": 5, \"model\": 20}, \"Metrics\": {\"train_mse_objective\": {\"sum\": 0.8261681518554688, \"count\": 1, \"min\": 0.8261681518554688, \"max\": 0.8261681518554688}}}\u001b[0m\n",
      "\u001b[34m#metrics {\"StartTime\": 1686775682.493152, \"EndTime\": 1686775682.493158, \"Dimensions\": {\"Algorithm\": \"Linear Learner\", \"Host\": \"algo-1\", \"Operation\": \"training\", \"epoch\": 5, \"model\": 21}, \"Metrics\": {\"train_mse_objective\": {\"sum\": 0.6961256103515625, \"count\": 1, \"min\": 0.6961256103515625, \"max\": 0.6961256103515625}}}\u001b[0m\n",
      "\u001b[34m#metrics {\"StartTime\": 1686775682.493205, \"EndTime\": 1686775682.4932125, \"Dimensions\": {\"Algorithm\": \"Linear Learner\", \"Host\": \"algo-1\", \"Operation\": \"training\", \"epoch\": 5, \"model\": 22}, \"Metrics\": {\"train_mse_objective\": {\"sum\": 0.7402147827148438, \"count\": 1, \"min\": 0.7402147827148438, \"max\": 0.7402147827148438}}}\u001b[0m\n",
      "\u001b[34m#metrics {\"StartTime\": 1686775682.4932532, \"EndTime\": 1686775682.4932592, \"Dimensions\": {\"Algorithm\": \"Linear Learner\", \"Host\": \"algo-1\", \"Operation\": \"training\", \"epoch\": 5, \"model\": 23}, \"Metrics\": {\"train_mse_objective\": {\"sum\": 0.8579925537109375, \"count\": 1, \"min\": 0.8579925537109375, \"max\": 0.8579925537109375}}}\u001b[0m\n",
      "\u001b[34m#metrics {\"StartTime\": 1686775682.4933102, \"EndTime\": 1686775682.4933178, \"Dimensions\": {\"Algorithm\": \"Linear Learner\", \"Host\": \"algo-1\", \"Operation\": \"training\", \"epoch\": 5, \"model\": 24}, \"Metrics\": {\"train_mse_objective\": {\"sum\": 0.9779578857421874, \"count\": 1, \"min\": 0.9779578857421874, \"max\": 0.9779578857421874}}}\u001b[0m\n",
      "\u001b[34m#metrics {\"StartTime\": 1686775682.4933589, \"EndTime\": 1686775682.4933648, \"Dimensions\": {\"Algorithm\": \"Linear Learner\", \"Host\": \"algo-1\", \"Operation\": \"training\", \"epoch\": 5, \"model\": 25}, \"Metrics\": {\"train_mse_objective\": {\"sum\": 0.9760250244140625, \"count\": 1, \"min\": 0.9760250244140625, \"max\": 0.9760250244140625}}}\u001b[0m\n",
      "\u001b[34m#metrics {\"StartTime\": 1686775682.493414, \"EndTime\": 1686775682.493421, \"Dimensions\": {\"Algorithm\": \"Linear Learner\", \"Host\": \"algo-1\", \"Operation\": \"training\", \"epoch\": 5, \"model\": 26}, \"Metrics\": {\"train_mse_objective\": {\"sum\": 0.9629715576171874, \"count\": 1, \"min\": 0.9629715576171874, \"max\": 0.9629715576171874}}}\u001b[0m\n",
      "\u001b[34m#metrics {\"StartTime\": 1686775682.4934669, \"EndTime\": 1686775682.4934733, \"Dimensions\": {\"Algorithm\": \"Linear Learner\", \"Host\": \"algo-1\", \"Operation\": \"training\", \"epoch\": 5, \"model\": 27}, \"Metrics\": {\"train_mse_objective\": {\"sum\": 0.9994073486328126, \"count\": 1, \"min\": 0.9994073486328126, \"max\": 0.9994073486328126}}}\u001b[0m\n",
      "\u001b[34m#metrics {\"StartTime\": 1686775682.4935138, \"EndTime\": 1686775682.4935198, \"Dimensions\": {\"Algorithm\": \"Linear Learner\", \"Host\": \"algo-1\", \"Operation\": \"training\", \"epoch\": 5, \"model\": 28}, \"Metrics\": {\"train_mse_objective\": {\"sum\": 1.1921080322265625, \"count\": 1, \"min\": 1.1921080322265625, \"max\": 1.1921080322265625}}}\u001b[0m\n",
      "\u001b[34m#metrics {\"StartTime\": 1686775682.493563, \"EndTime\": 1686775682.4935694, \"Dimensions\": {\"Algorithm\": \"Linear Learner\", \"Host\": \"algo-1\", \"Operation\": \"training\", \"epoch\": 5, \"model\": 29}, \"Metrics\": {\"train_mse_objective\": {\"sum\": 1.1444920654296875, \"count\": 1, \"min\": 1.1444920654296875, \"max\": 1.1444920654296875}}}\u001b[0m\n",
      "\u001b[34m#metrics {\"StartTime\": 1686775682.4936187, \"EndTime\": 1686775682.4936264, \"Dimensions\": {\"Algorithm\": \"Linear Learner\", \"Host\": \"algo-1\", \"Operation\": \"training\", \"epoch\": 5, \"model\": 30}, \"Metrics\": {\"train_mse_objective\": {\"sum\": 1.08440185546875, \"count\": 1, \"min\": 1.08440185546875, \"max\": 1.08440185546875}}}\u001b[0m\n",
      "\u001b[34m#metrics {\"StartTime\": 1686775682.493668, \"EndTime\": 1686775682.4936745, \"Dimensions\": {\"Algorithm\": \"Linear Learner\", \"Host\": \"algo-1\", \"Operation\": \"training\", \"epoch\": 5, \"model\": 31}, \"Metrics\": {\"train_mse_objective\": {\"sum\": 1.09065771484375, \"count\": 1, \"min\": 1.09065771484375, \"max\": 1.09065771484375}}}\u001b[0m\n",
      "\u001b[34m[06/14/2023 20:48:02 INFO 140522871928640] #quality_metric: host=algo-1, epoch=5, train mse_objective <loss>=0.9453318481445312\u001b[0m\n",
      "\u001b[34m[06/14/2023 20:48:02 INFO 140522871928640] #early_stopping_criteria_metric: host=algo-1, epoch=5, criteria=mse_objective, value=0.6961256103515625\u001b[0m\n",
      "\u001b[34m[06/14/2023 20:48:02 INFO 140522871928640] Saving model for epoch: 5\u001b[0m\n",
      "\u001b[34m[06/14/2023 20:48:02 INFO 140522871928640] Saved checkpoint to \"/tmp/tmp7934rs_j/mx-mod-0000.params\"\u001b[0m\n",
      "\u001b[34m[06/14/2023 20:48:02 INFO 140522871928640] #progress_metric: host=algo-1, completed 40.0 % of epochs\u001b[0m\n",
      "\u001b[34m#metrics {\"StartTime\": 1686775682.464354, \"EndTime\": 1686775682.5012136, \"Dimensions\": {\"Algorithm\": \"Linear Learner\", \"Host\": \"algo-1\", \"Operation\": \"training\", \"epoch\": 5, \"Meta\": \"training_data_iter\"}, \"Metrics\": {\"Total Records Seen\": {\"sum\": 8497.0, \"count\": 1, \"min\": 8497, \"max\": 8497}, \"Total Batches Seen\": {\"sum\": 15.0, \"count\": 1, \"min\": 15, \"max\": 15}, \"Max Records Seen Between Resets\": {\"sum\": 1071.0, \"count\": 1, \"min\": 1071, \"max\": 1071}, \"Max Batches Seen Between Resets\": {\"sum\": 2.0, \"count\": 1, \"min\": 2, \"max\": 2}, \"Reset Count\": {\"sum\": 8.0, \"count\": 1, \"min\": 8, \"max\": 8}, \"Number of Records Since Last Reset\": {\"sum\": 1071.0, \"count\": 1, \"min\": 1071, \"max\": 1071}, \"Number of Batches Since Last Reset\": {\"sum\": 2.0, \"count\": 1, \"min\": 2, \"max\": 2}}}\u001b[0m\n",
      "\u001b[34m[06/14/2023 20:48:02 INFO 140522871928640] #throughput_metric: host=algo-1, train throughput=28950.469397093417 records/second\u001b[0m\n",
      "\u001b[34m[2023-06-14 20:48:02.520] [tensorio] [info] epoch_stats={\"data_pipeline\": \"/opt/ml/input/data/train\", \"epoch\": 16, \"duration\": 19, \"num_examples\": 2, \"num_bytes\": 68544}\u001b[0m\n",
      "\u001b[34m#metrics {\"StartTime\": 1686775682.5209537, \"EndTime\": 1686775682.5210161, \"Dimensions\": {\"Algorithm\": \"Linear Learner\", \"Host\": \"algo-1\", \"Operation\": \"training\", \"epoch\": 6, \"model\": 0}, \"Metrics\": {\"train_mse_objective\": {\"sum\": 0.9310816040039063, \"count\": 1, \"min\": 0.9310816040039063, \"max\": 0.9310816040039063}}}\u001b[0m\n",
      "\u001b[34m#metrics {\"StartTime\": 1686775682.5210886, \"EndTime\": 1686775682.5210981, \"Dimensions\": {\"Algorithm\": \"Linear Learner\", \"Host\": \"algo-1\", \"Operation\": \"training\", \"epoch\": 6, \"model\": 1}, \"Metrics\": {\"train_mse_objective\": {\"sum\": 0.908891357421875, \"count\": 1, \"min\": 0.908891357421875, \"max\": 0.908891357421875}}}\u001b[0m\n",
      "\u001b[34m#metrics {\"StartTime\": 1686775682.5211248, \"EndTime\": 1686775682.5211313, \"Dimensions\": {\"Algorithm\": \"Linear Learner\", \"Host\": \"algo-1\", \"Operation\": \"training\", \"epoch\": 6, \"model\": 2}, \"Metrics\": {\"train_mse_objective\": {\"sum\": 0.938753173828125, \"count\": 1, \"min\": 0.938753173828125, \"max\": 0.938753173828125}}}\u001b[0m\n",
      "\u001b[34m#metrics {\"StartTime\": 1686775682.5211549, \"EndTime\": 1686775682.5211608, \"Dimensions\": {\"Algorithm\": \"Linear Learner\", \"Host\": \"algo-1\", \"Operation\": \"training\", \"epoch\": 6, \"model\": 3}, \"Metrics\": {\"train_mse_objective\": {\"sum\": 0.9125347290039062, \"count\": 1, \"min\": 0.9125347290039062, \"max\": 0.9125347290039062}}}\u001b[0m\n",
      "\u001b[34m#metrics {\"StartTime\": 1686775682.5211837, \"EndTime\": 1686775682.5211895, \"Dimensions\": {\"Algorithm\": \"Linear Learner\", \"Host\": \"algo-1\", \"Operation\": \"training\", \"epoch\": 6, \"model\": 4}, \"Metrics\": {\"train_mse_objective\": {\"sum\": 0.8437225952148437, \"count\": 1, \"min\": 0.8437225952148437, \"max\": 0.8437225952148437}}}\u001b[0m\n",
      "\u001b[34m#metrics {\"StartTime\": 1686775682.5212116, \"EndTime\": 1686775682.521217, \"Dimensions\": {\"Algorithm\": \"Linear Learner\", \"Host\": \"algo-1\", \"Operation\": \"training\", \"epoch\": 6, \"model\": 5}, \"Metrics\": {\"train_mse_objective\": {\"sum\": 0.8259671020507813, \"count\": 1, \"min\": 0.8259671020507813, \"max\": 0.8259671020507813}}}\u001b[0m\n",
      "\u001b[34m#metrics {\"StartTime\": 1686775682.5212417, \"EndTime\": 1686775682.5212471, \"Dimensions\": {\"Algorithm\": \"Linear Learner\", \"Host\": \"algo-1\", \"Operation\": \"training\", \"epoch\": 6, \"model\": 6}, \"Metrics\": {\"train_mse_objective\": {\"sum\": 0.8553734741210938, \"count\": 1, \"min\": 0.8553734741210938, \"max\": 0.8553734741210938}}}\u001b[0m\n",
      "\u001b[34m#metrics {\"StartTime\": 1686775682.5212693, \"EndTime\": 1686775682.5212746, \"Dimensions\": {\"Algorithm\": \"Linear Learner\", \"Host\": \"algo-1\", \"Operation\": \"training\", \"epoch\": 6, \"model\": 7}, \"Metrics\": {\"train_mse_objective\": {\"sum\": 0.7271370849609375, \"count\": 1, \"min\": 0.7271370849609375, \"max\": 0.7271370849609375}}}\u001b[0m\n",
      "\u001b[34m#metrics {\"StartTime\": 1686775682.5212965, \"EndTime\": 1686775682.5213022, \"Dimensions\": {\"Algorithm\": \"Linear Learner\", \"Host\": \"algo-1\", \"Operation\": \"training\", \"epoch\": 6, \"model\": 8}, \"Metrics\": {\"train_mse_objective\": {\"sum\": 0.81710888671875, \"count\": 1, \"min\": 0.81710888671875, \"max\": 0.81710888671875}}}\u001b[0m\n",
      "\u001b[34m#metrics {\"StartTime\": 1686775682.5213294, \"EndTime\": 1686775682.5213356, \"Dimensions\": {\"Algorithm\": \"Linear Learner\", \"Host\": \"algo-1\", \"Operation\": \"training\", \"epoch\": 6, \"model\": 9}, \"Metrics\": {\"train_mse_objective\": {\"sum\": 0.8989347534179688, \"count\": 1, \"min\": 0.8989347534179688, \"max\": 0.8989347534179688}}}\u001b[0m\n",
      "\u001b[34m#metrics {\"StartTime\": 1686775682.5213604, \"EndTime\": 1686775682.5213661, \"Dimensions\": {\"Algorithm\": \"Linear Learner\", \"Host\": \"algo-1\", \"Operation\": \"training\", \"epoch\": 6, \"model\": 10}, \"Metrics\": {\"train_mse_objective\": {\"sum\": 1.0003717041015625, \"count\": 1, \"min\": 1.0003717041015625, \"max\": 1.0003717041015625}}}\u001b[0m\n",
      "\u001b[34m#metrics {\"StartTime\": 1686775682.5213885, \"EndTime\": 1686775682.5213943, \"Dimensions\": {\"Algorithm\": \"Linear Learner\", \"Host\": \"algo-1\", \"Operation\": \"training\", \"epoch\": 6, \"model\": 11}, \"Metrics\": {\"train_mse_objective\": {\"sum\": 0.9267559204101562, \"count\": 1, \"min\": 0.9267559204101562, \"max\": 0.9267559204101562}}}\u001b[0m\n",
      "\u001b[34m#metrics {\"StartTime\": 1686775682.521416, \"EndTime\": 1686775682.5214217, \"Dimensions\": {\"Algorithm\": \"Linear Learner\", \"Host\": \"algo-1\", \"Operation\": \"training\", \"epoch\": 6, \"model\": 12}, \"Metrics\": {\"train_mse_objective\": {\"sum\": 0.7510884399414063, \"count\": 1, \"min\": 0.7510884399414063, \"max\": 0.7510884399414063}}}\u001b[0m\n",
      "\u001b[34m#metrics {\"StartTime\": 1686775682.5214434, \"EndTime\": 1686775682.5214489, \"Dimensions\": {\"Algorithm\": \"Linear Learner\", \"Host\": \"algo-1\", \"Operation\": \"training\", \"epoch\": 6, \"model\": 13}, \"Metrics\": {\"train_mse_objective\": {\"sum\": 0.8058598022460938, \"count\": 1, \"min\": 0.8058598022460938, \"max\": 0.8058598022460938}}}\u001b[0m\n",
      "\u001b[34m#metrics {\"StartTime\": 1686775682.5214736, \"EndTime\": 1686775682.5214794, \"Dimensions\": {\"Algorithm\": \"Linear Learner\", \"Host\": \"algo-1\", \"Operation\": \"training\", \"epoch\": 6, \"model\": 14}, \"Metrics\": {\"train_mse_objective\": {\"sum\": 0.8390768432617187, \"count\": 1, \"min\": 0.8390768432617187, \"max\": 0.8390768432617187}}}\u001b[0m\n",
      "\u001b[34m#metrics {\"StartTime\": 1686775682.5215015, \"EndTime\": 1686775682.5215068, \"Dimensions\": {\"Algorithm\": \"Linear Learner\", \"Host\": \"algo-1\", \"Operation\": \"training\", \"epoch\": 6, \"model\": 15}, \"Metrics\": {\"train_mse_objective\": {\"sum\": 0.7280487670898438, \"count\": 1, \"min\": 0.7280487670898438, \"max\": 0.7280487670898438}}}\u001b[0m\n",
      "\u001b[34m#metrics {\"StartTime\": 1686775682.5215285, \"EndTime\": 1686775682.5215342, \"Dimensions\": {\"Algorithm\": \"Linear Learner\", \"Host\": \"algo-1\", \"Operation\": \"training\", \"epoch\": 6, \"model\": 16}, \"Metrics\": {\"train_mse_objective\": {\"sum\": 0.9546195068359375, \"count\": 1, \"min\": 0.9546195068359375, \"max\": 0.9546195068359375}}}\u001b[0m\n",
      "\u001b[34m#metrics {\"StartTime\": 1686775682.521556, \"EndTime\": 1686775682.5215616, \"Dimensions\": {\"Algorithm\": \"Linear Learner\", \"Host\": \"algo-1\", \"Operation\": \"training\", \"epoch\": 6, \"model\": 17}, \"Metrics\": {\"train_mse_objective\": {\"sum\": 0.9772722778320313, \"count\": 1, \"min\": 0.9772722778320313, \"max\": 0.9772722778320313}}}\u001b[0m\n",
      "\u001b[34m#metrics {\"StartTime\": 1686775682.5215852, \"EndTime\": 1686775682.5215905, \"Dimensions\": {\"Algorithm\": \"Linear Learner\", \"Host\": \"algo-1\", \"Operation\": \"training\", \"epoch\": 6, \"model\": 18}, \"Metrics\": {\"train_mse_objective\": {\"sum\": 0.99382861328125, \"count\": 1, \"min\": 0.99382861328125, \"max\": 0.99382861328125}}}\u001b[0m\n",
      "\u001b[34m#metrics {\"StartTime\": 1686775682.5216124, \"EndTime\": 1686775682.5216177, \"Dimensions\": {\"Algorithm\": \"Linear Learner\", \"Host\": \"algo-1\", \"Operation\": \"training\", \"epoch\": 6, \"model\": 19}, \"Metrics\": {\"train_mse_objective\": {\"sum\": 0.9096521606445312, \"count\": 1, \"min\": 0.9096521606445312, \"max\": 0.9096521606445312}}}\u001b[0m\n",
      "\u001b[34m#metrics {\"StartTime\": 1686775682.5216396, \"EndTime\": 1686775682.521645, \"Dimensions\": {\"Algorithm\": \"Linear Learner\", \"Host\": \"algo-1\", \"Operation\": \"training\", \"epoch\": 6, \"model\": 20}, \"Metrics\": {\"train_mse_objective\": {\"sum\": 0.7180503540039063, \"count\": 1, \"min\": 0.7180503540039063, \"max\": 0.7180503540039063}}}\u001b[0m\n",
      "\u001b[34m#metrics {\"StartTime\": 1686775682.521669, \"EndTime\": 1686775682.5216744, \"Dimensions\": {\"Algorithm\": \"Linear Learner\", \"Host\": \"algo-1\", \"Operation\": \"training\", \"epoch\": 6, \"model\": 21}, \"Metrics\": {\"train_mse_objective\": {\"sum\": 0.773458984375, \"count\": 1, \"min\": 0.773458984375, \"max\": 0.773458984375}}}\u001b[0m\n",
      "\u001b[34m#metrics {\"StartTime\": 1686775682.521696, \"EndTime\": 1686775682.5217016, \"Dimensions\": {\"Algorithm\": \"Linear Learner\", \"Host\": \"algo-1\", \"Operation\": \"training\", \"epoch\": 6, \"model\": 22}, \"Metrics\": {\"train_mse_objective\": {\"sum\": 0.7085059814453125, \"count\": 1, \"min\": 0.7085059814453125, \"max\": 0.7085059814453125}}}\u001b[0m\n",
      "\u001b[34m#metrics {\"StartTime\": 1686775682.521723, \"EndTime\": 1686775682.5217288, \"Dimensions\": {\"Algorithm\": \"Linear Learner\", \"Host\": \"algo-1\", \"Operation\": \"training\", \"epoch\": 6, \"model\": 23}, \"Metrics\": {\"train_mse_objective\": {\"sum\": 0.69880712890625, \"count\": 1, \"min\": 0.69880712890625, \"max\": 0.69880712890625}}}\u001b[0m\n",
      "\u001b[34m#metrics {\"StartTime\": 1686775682.521752, \"EndTime\": 1686775682.5217576, \"Dimensions\": {\"Algorithm\": \"Linear Learner\", \"Host\": \"algo-1\", \"Operation\": \"training\", \"epoch\": 6, \"model\": 24}, \"Metrics\": {\"train_mse_objective\": {\"sum\": 0.9765272216796875, \"count\": 1, \"min\": 0.9765272216796875, \"max\": 0.9765272216796875}}}\u001b[0m\n",
      "\u001b[34m#metrics {\"StartTime\": 1686775682.5217795, \"EndTime\": 1686775682.521785, \"Dimensions\": {\"Algorithm\": \"Linear Learner\", \"Host\": \"algo-1\", \"Operation\": \"training\", \"epoch\": 6, \"model\": 25}, \"Metrics\": {\"train_mse_objective\": {\"sum\": 0.9800650634765625, \"count\": 1, \"min\": 0.9800650634765625, \"max\": 0.9800650634765625}}}\u001b[0m\n",
      "\u001b[34m#metrics {\"StartTime\": 1686775682.5218065, \"EndTime\": 1686775682.521812, \"Dimensions\": {\"Algorithm\": \"Linear Learner\", \"Host\": \"algo-1\", \"Operation\": \"training\", \"epoch\": 6, \"model\": 26}, \"Metrics\": {\"train_mse_objective\": {\"sum\": 0.965568603515625, \"count\": 1, \"min\": 0.965568603515625, \"max\": 0.965568603515625}}}\u001b[0m\n",
      "\u001b[34m#metrics {\"StartTime\": 1686775682.5218358, \"EndTime\": 1686775682.5218415, \"Dimensions\": {\"Algorithm\": \"Linear Learner\", \"Host\": \"algo-1\", \"Operation\": \"training\", \"epoch\": 6, \"model\": 27}, \"Metrics\": {\"train_mse_objective\": {\"sum\": 0.99485888671875, \"count\": 1, \"min\": 0.99485888671875, \"max\": 0.99485888671875}}}\u001b[0m\n",
      "\u001b[34m#metrics {\"StartTime\": 1686775682.5218627, \"EndTime\": 1686775682.521868, \"Dimensions\": {\"Algorithm\": \"Linear Learner\", \"Host\": \"algo-1\", \"Operation\": \"training\", \"epoch\": 6, \"model\": 28}, \"Metrics\": {\"train_mse_objective\": {\"sum\": 1.024142822265625, \"count\": 1, \"min\": 1.024142822265625, \"max\": 1.024142822265625}}}\u001b[0m\n",
      "\u001b[34m#metrics {\"StartTime\": 1686775682.5218894, \"EndTime\": 1686775682.5218952, \"Dimensions\": {\"Algorithm\": \"Linear Learner\", \"Host\": \"algo-1\", \"Operation\": \"training\", \"epoch\": 6, \"model\": 29}, \"Metrics\": {\"train_mse_objective\": {\"sum\": 1.0862781982421874, \"count\": 1, \"min\": 1.0862781982421874, \"max\": 1.0862781982421874}}}\u001b[0m\n",
      "\u001b[34m#metrics {\"StartTime\": 1686775682.5219188, \"EndTime\": 1686775682.5219243, \"Dimensions\": {\"Algorithm\": \"Linear Learner\", \"Host\": \"algo-1\", \"Operation\": \"training\", \"epoch\": 6, \"model\": 30}, \"Metrics\": {\"train_mse_objective\": {\"sum\": 1.024538818359375, \"count\": 1, \"min\": 1.024538818359375, \"max\": 1.024538818359375}}}\u001b[0m\n",
      "\u001b[34m#metrics {\"StartTime\": 1686775682.5219464, \"EndTime\": 1686775682.5219517, \"Dimensions\": {\"Algorithm\": \"Linear Learner\", \"Host\": \"algo-1\", \"Operation\": \"training\", \"epoch\": 6, \"model\": 31}, \"Metrics\": {\"train_mse_objective\": {\"sum\": 0.9883281860351563, \"count\": 1, \"min\": 0.9883281860351563, \"max\": 0.9883281860351563}}}\u001b[0m\n",
      "\u001b[34m[06/14/2023 20:48:02 INFO 140522871928640] #quality_metric: host=algo-1, epoch=6, train mse_objective <loss>=0.9310816040039063\u001b[0m\n",
      "\u001b[34m[06/14/2023 20:48:02 INFO 140522871928640] #early_stopping_criteria_metric: host=algo-1, epoch=6, criteria=mse_objective, value=0.69880712890625\u001b[0m\n",
      "\u001b[34m[06/14/2023 20:48:02 INFO 140522871928640] Saving model for epoch: 6\u001b[0m\n",
      "\u001b[34m[06/14/2023 20:48:02 INFO 140522871928640] Saved checkpoint to \"/tmp/tmp92elofyn/mx-mod-0000.params\"\u001b[0m\n",
      "\u001b[34m[06/14/2023 20:48:02 INFO 140522871928640] #progress_metric: host=algo-1, completed 46.666666666666664 % of epochs\u001b[0m\n",
      "\u001b[34m#metrics {\"StartTime\": 1686775682.5014715, \"EndTime\": 1686775682.5333478, \"Dimensions\": {\"Algorithm\": \"Linear Learner\", \"Host\": \"algo-1\", \"Operation\": \"training\", \"epoch\": 6, \"Meta\": \"training_data_iter\"}, \"Metrics\": {\"Total Records Seen\": {\"sum\": 9568.0, \"count\": 1, \"min\": 9568, \"max\": 9568}, \"Total Batches Seen\": {\"sum\": 17.0, \"count\": 1, \"min\": 17, \"max\": 17}, \"Max Records Seen Between Resets\": {\"sum\": 1071.0, \"count\": 1, \"min\": 1071, \"max\": 1071}, \"Max Batches Seen Between Resets\": {\"sum\": 2.0, \"count\": 1, \"min\": 2, \"max\": 2}, \"Reset Count\": {\"sum\": 9.0, \"count\": 1, \"min\": 9, \"max\": 9}, \"Number of Records Since Last Reset\": {\"sum\": 1071.0, \"count\": 1, \"min\": 1071, \"max\": 1071}, \"Number of Batches Since Last Reset\": {\"sum\": 2.0, \"count\": 1, \"min\": 2, \"max\": 2}}}\u001b[0m\n",
      "\u001b[34m[06/14/2023 20:48:02 INFO 140522871928640] #throughput_metric: host=algo-1, train throughput=33489.391911134306 records/second\u001b[0m\n",
      "\u001b[34m[2023-06-14 20:48:02.550] [tensorio] [info] epoch_stats={\"data_pipeline\": \"/opt/ml/input/data/train\", \"epoch\": 18, \"duration\": 17, \"num_examples\": 2, \"num_bytes\": 68544}\u001b[0m\n",
      "\u001b[34m#metrics {\"StartTime\": 1686775682.5506957, \"EndTime\": 1686775682.5507567, \"Dimensions\": {\"Algorithm\": \"Linear Learner\", \"Host\": \"algo-1\", \"Operation\": \"training\", \"epoch\": 7, \"model\": 0}, \"Metrics\": {\"train_mse_objective\": {\"sum\": 0.9173878784179688, \"count\": 1, \"min\": 0.9173878784179688, \"max\": 0.9173878784179688}}}\u001b[0m\n",
      "\u001b[34m#metrics {\"StartTime\": 1686775682.5508235, \"EndTime\": 1686775682.550833, \"Dimensions\": {\"Algorithm\": \"Linear Learner\", \"Host\": \"algo-1\", \"Operation\": \"training\", \"epoch\": 7, \"model\": 1}, \"Metrics\": {\"train_mse_objective\": {\"sum\": 0.8949188232421875, \"count\": 1, \"min\": 0.8949188232421875, \"max\": 0.8949188232421875}}}\u001b[0m\n",
      "\u001b[34m#metrics {\"StartTime\": 1686775682.5508597, \"EndTime\": 1686775682.5508664, \"Dimensions\": {\"Algorithm\": \"Linear Learner\", \"Host\": \"algo-1\", \"Operation\": \"training\", \"epoch\": 7, \"model\": 2}, \"Metrics\": {\"train_mse_objective\": {\"sum\": 0.9247484130859375, \"count\": 1, \"min\": 0.9247484130859375, \"max\": 0.9247484130859375}}}\u001b[0m\n",
      "\u001b[34m#metrics {\"StartTime\": 1686775682.5508902, \"EndTime\": 1686775682.5508962, \"Dimensions\": {\"Algorithm\": \"Linear Learner\", \"Host\": \"algo-1\", \"Operation\": \"training\", \"epoch\": 7, \"model\": 3}, \"Metrics\": {\"train_mse_objective\": {\"sum\": 0.8986099243164063, \"count\": 1, \"min\": 0.8986099243164063, \"max\": 0.8986099243164063}}}\u001b[0m\n",
      "\u001b[34m#metrics {\"StartTime\": 1686775682.5509188, \"EndTime\": 1686775682.5509245, \"Dimensions\": {\"Algorithm\": \"Linear Learner\", \"Host\": \"algo-1\", \"Operation\": \"training\", \"epoch\": 7, \"model\": 4}, \"Metrics\": {\"train_mse_objective\": {\"sum\": 0.7554178466796875, \"count\": 1, \"min\": 0.7554178466796875, \"max\": 0.7554178466796875}}}\u001b[0m\n",
      "\u001b[34m#metrics {\"StartTime\": 1686775682.5509465, \"EndTime\": 1686775682.5509522, \"Dimensions\": {\"Algorithm\": \"Linear Learner\", \"Host\": \"algo-1\", \"Operation\": \"training\", \"epoch\": 7, \"model\": 5}, \"Metrics\": {\"train_mse_objective\": {\"sum\": 0.7331316528320313, \"count\": 1, \"min\": 0.7331316528320313, \"max\": 0.7331316528320313}}}\u001b[0m\n",
      "\u001b[34m#metrics {\"StartTime\": 1686775682.5509741, \"EndTime\": 1686775682.5509799, \"Dimensions\": {\"Algorithm\": \"Linear Learner\", \"Host\": \"algo-1\", \"Operation\": \"training\", \"epoch\": 7, \"model\": 6}, \"Metrics\": {\"train_mse_objective\": {\"sum\": 0.72089208984375, \"count\": 1, \"min\": 0.72089208984375, \"max\": 0.72089208984375}}}\u001b[0m\n",
      "\u001b[34m#metrics {\"StartTime\": 1686775682.5513892, \"EndTime\": 1686775682.5513978, \"Dimensions\": {\"Algorithm\": \"Linear Learner\", \"Host\": \"algo-1\", \"Operation\": \"training\", \"epoch\": 7, \"model\": 7}, \"Metrics\": {\"train_mse_objective\": {\"sum\": 0.66833544921875, \"count\": 1, \"min\": 0.66833544921875, \"max\": 0.66833544921875}}}\u001b[0m\n",
      "\u001b[34m#metrics {\"StartTime\": 1686775682.5514224, \"EndTime\": 1686775682.5514283, \"Dimensions\": {\"Algorithm\": \"Linear Learner\", \"Host\": \"algo-1\", \"Operation\": \"training\", \"epoch\": 7, \"model\": 8}, \"Metrics\": {\"train_mse_objective\": {\"sum\": 0.8068857421875, \"count\": 1, \"min\": 0.8068857421875, \"max\": 0.8068857421875}}}\u001b[0m\n",
      "\u001b[34m#metrics {\"StartTime\": 1686775682.551455, \"EndTime\": 1686775682.551461, \"Dimensions\": {\"Algorithm\": \"Linear Learner\", \"Host\": \"algo-1\", \"Operation\": \"training\", \"epoch\": 7, \"model\": 9}, \"Metrics\": {\"train_mse_objective\": {\"sum\": 0.885083984375, \"count\": 1, \"min\": 0.885083984375, \"max\": 0.885083984375}}}\u001b[0m\n",
      "\u001b[34m#metrics {\"StartTime\": 1686775682.551487, \"EndTime\": 1686775682.551493, \"Dimensions\": {\"Algorithm\": \"Linear Learner\", \"Host\": \"algo-1\", \"Operation\": \"training\", \"epoch\": 7, \"model\": 10}, \"Metrics\": {\"train_mse_objective\": {\"sum\": 0.9845794677734375, \"count\": 1, \"min\": 0.9845794677734375, \"max\": 0.9845794677734375}}}\u001b[0m\n",
      "\u001b[34m#metrics {\"StartTime\": 1686775682.551519, \"EndTime\": 1686775682.5515249, \"Dimensions\": {\"Algorithm\": \"Linear Learner\", \"Host\": \"algo-1\", \"Operation\": \"training\", \"epoch\": 7, \"model\": 11}, \"Metrics\": {\"train_mse_objective\": {\"sum\": 0.9120283203125, \"count\": 1, \"min\": 0.9120283203125, \"max\": 0.9120283203125}}}\u001b[0m\n",
      "\u001b[34m#metrics {\"StartTime\": 1686775682.551583, \"EndTime\": 1686775682.5515907, \"Dimensions\": {\"Algorithm\": \"Linear Learner\", \"Host\": \"algo-1\", \"Operation\": \"training\", \"epoch\": 7, \"model\": 12}, \"Metrics\": {\"train_mse_objective\": {\"sum\": 0.69344580078125, \"count\": 1, \"min\": 0.69344580078125, \"max\": 0.69344580078125}}}\u001b[0m\n",
      "\u001b[34m#metrics {\"StartTime\": 1686775682.5516388, \"EndTime\": 1686775682.5516455, \"Dimensions\": {\"Algorithm\": \"Linear Learner\", \"Host\": \"algo-1\", \"Operation\": \"training\", \"epoch\": 7, \"model\": 13}, \"Metrics\": {\"train_mse_objective\": {\"sum\": 0.7163124389648438, \"count\": 1, \"min\": 0.7163124389648438, \"max\": 0.7163124389648438}}}\u001b[0m\n",
      "\u001b[34m#metrics {\"StartTime\": 1686775682.5516737, \"EndTime\": 1686775682.5516798, \"Dimensions\": {\"Algorithm\": \"Linear Learner\", \"Host\": \"algo-1\", \"Operation\": \"training\", \"epoch\": 7, \"model\": 14}, \"Metrics\": {\"train_mse_objective\": {\"sum\": 0.7453234252929688, \"count\": 1, \"min\": 0.7453234252929688, \"max\": 0.7453234252929688}}}\u001b[0m\n",
      "\u001b[34m#metrics {\"StartTime\": 1686775682.551726, \"EndTime\": 1686775682.5517325, \"Dimensions\": {\"Algorithm\": \"Linear Learner\", \"Host\": \"algo-1\", \"Operation\": \"training\", \"epoch\": 7, \"model\": 15}, \"Metrics\": {\"train_mse_objective\": {\"sum\": 0.6712059936523438, \"count\": 1, \"min\": 0.6712059936523438, \"max\": 0.6712059936523438}}}\u001b[0m\n",
      "\u001b[34m#metrics {\"StartTime\": 1686775682.5518036, \"EndTime\": 1686775682.551812, \"Dimensions\": {\"Algorithm\": \"Linear Learner\", \"Host\": \"algo-1\", \"Operation\": \"training\", \"epoch\": 7, \"model\": 16}, \"Metrics\": {\"train_mse_objective\": {\"sum\": 0.9397659912109375, \"count\": 1, \"min\": 0.9397659912109375, \"max\": 0.9397659912109375}}}\u001b[0m\n",
      "\u001b[34m#metrics {\"StartTime\": 1686775682.5518413, \"EndTime\": 1686775682.5518472, \"Dimensions\": {\"Algorithm\": \"Linear Learner\", \"Host\": \"algo-1\", \"Operation\": \"training\", \"epoch\": 7, \"model\": 17}, \"Metrics\": {\"train_mse_objective\": {\"sum\": 0.9627922973632812, \"count\": 1, \"min\": 0.9627922973632812, \"max\": 0.9627922973632812}}}\u001b[0m\n",
      "\u001b[34m#metrics {\"StartTime\": 1686775682.5518696, \"EndTime\": 1686775682.5518754, \"Dimensions\": {\"Algorithm\": \"Linear Learner\", \"Host\": \"algo-1\", \"Operation\": \"training\", \"epoch\": 7, \"model\": 18}, \"Metrics\": {\"train_mse_objective\": {\"sum\": 0.9777031860351563, \"count\": 1, \"min\": 0.9777031860351563, \"max\": 0.9777031860351563}}}\u001b[0m\n",
      "\u001b[34m#metrics {\"StartTime\": 1686775682.5518968, \"EndTime\": 1686775682.5519025, \"Dimensions\": {\"Algorithm\": \"Linear Learner\", \"Host\": \"algo-1\", \"Operation\": \"training\", \"epoch\": 7, \"model\": 19}, \"Metrics\": {\"train_mse_objective\": {\"sum\": 0.8951318359375, \"count\": 1, \"min\": 0.8951318359375, \"max\": 0.8951318359375}}}\u001b[0m\n",
      "\u001b[34m#metrics {\"StartTime\": 1686775682.5519235, \"EndTime\": 1686775682.551929, \"Dimensions\": {\"Algorithm\": \"Linear Learner\", \"Host\": \"algo-1\", \"Operation\": \"training\", \"epoch\": 7, \"model\": 20}, \"Metrics\": {\"train_mse_objective\": {\"sum\": 0.70733740234375, \"count\": 1, \"min\": 0.70733740234375, \"max\": 0.70733740234375}}}\u001b[0m\n",
      "\u001b[34m#metrics {\"StartTime\": 1686775682.55198, \"EndTime\": 1686775682.551988, \"Dimensions\": {\"Algorithm\": \"Linear Learner\", \"Host\": \"algo-1\", \"Operation\": \"training\", \"epoch\": 7, \"model\": 21}, \"Metrics\": {\"train_mse_objective\": {\"sum\": 0.7406787719726563, \"count\": 1, \"min\": 0.7406787719726563, \"max\": 0.7406787719726563}}}\u001b[0m\n",
      "\u001b[34m#metrics {\"StartTime\": 1686775682.5520642, \"EndTime\": 1686775682.5520725, \"Dimensions\": {\"Algorithm\": \"Linear Learner\", \"Host\": \"algo-1\", \"Operation\": \"training\", \"epoch\": 7, \"model\": 22}, \"Metrics\": {\"train_mse_objective\": {\"sum\": 0.6805542602539062, \"count\": 1, \"min\": 0.6805542602539062, \"max\": 0.6805542602539062}}}\u001b[0m\n",
      "\u001b[34m#metrics {\"StartTime\": 1686775682.5521307, \"EndTime\": 1686775682.5521386, \"Dimensions\": {\"Algorithm\": \"Linear Learner\", \"Host\": \"algo-1\", \"Operation\": \"training\", \"epoch\": 7, \"model\": 23}, \"Metrics\": {\"train_mse_objective\": {\"sum\": 0.6582151489257813, \"count\": 1, \"min\": 0.6582151489257813, \"max\": 0.6582151489257813}}}\u001b[0m\n",
      "\u001b[34m#metrics {\"StartTime\": 1686775682.5522203, \"EndTime\": 1686775682.5522285, \"Dimensions\": {\"Algorithm\": \"Linear Learner\", \"Host\": \"algo-1\", \"Operation\": \"training\", \"epoch\": 7, \"model\": 24}, \"Metrics\": {\"train_mse_objective\": {\"sum\": 0.975478515625, \"count\": 1, \"min\": 0.975478515625, \"max\": 0.975478515625}}}\u001b[0m\n",
      "\u001b[34m#metrics {\"StartTime\": 1686775682.5522792, \"EndTime\": 1686775682.5522873, \"Dimensions\": {\"Algorithm\": \"Linear Learner\", \"Host\": \"algo-1\", \"Operation\": \"training\", \"epoch\": 7, \"model\": 25}, \"Metrics\": {\"train_mse_objective\": {\"sum\": 0.9841199951171875, \"count\": 1, \"min\": 0.9841199951171875, \"max\": 0.9841199951171875}}}\u001b[0m\n",
      "\u001b[34m#metrics {\"StartTime\": 1686775682.5523314, \"EndTime\": 1686775682.552338, \"Dimensions\": {\"Algorithm\": \"Linear Learner\", \"Host\": \"algo-1\", \"Operation\": \"training\", \"epoch\": 7, \"model\": 26}, \"Metrics\": {\"train_mse_objective\": {\"sum\": 0.9688003540039063, \"count\": 1, \"min\": 0.9688003540039063, \"max\": 0.9688003540039063}}}\u001b[0m\n",
      "\u001b[34m#metrics {\"StartTime\": 1686775682.5523784, \"EndTime\": 1686775682.552385, \"Dimensions\": {\"Algorithm\": \"Linear Learner\", \"Host\": \"algo-1\", \"Operation\": \"training\", \"epoch\": 7, \"model\": 27}, \"Metrics\": {\"train_mse_objective\": {\"sum\": 0.9910264282226563, \"count\": 1, \"min\": 0.9910264282226563, \"max\": 0.9910264282226563}}}\u001b[0m\n",
      "\u001b[34m#metrics {\"StartTime\": 1686775682.5524313, \"EndTime\": 1686775682.552438, \"Dimensions\": {\"Algorithm\": \"Linear Learner\", \"Host\": \"algo-1\", \"Operation\": \"training\", \"epoch\": 7, \"model\": 28}, \"Metrics\": {\"train_mse_objective\": {\"sum\": 0.9787421264648437, \"count\": 1, \"min\": 0.9787421264648437, \"max\": 0.9787421264648437}}}\u001b[0m\n",
      "\u001b[34m#metrics {\"StartTime\": 1686775682.5524805, \"EndTime\": 1686775682.552487, \"Dimensions\": {\"Algorithm\": \"Linear Learner\", \"Host\": \"algo-1\", \"Operation\": \"training\", \"epoch\": 7, \"model\": 29}, \"Metrics\": {\"train_mse_objective\": {\"sum\": 0.9961201171875, \"count\": 1, \"min\": 0.9961201171875, \"max\": 0.9961201171875}}}\u001b[0m\n",
      "\u001b[34m#metrics {\"StartTime\": 1686775682.5525734, \"EndTime\": 1686775682.552583, \"Dimensions\": {\"Algorithm\": \"Linear Learner\", \"Host\": \"algo-1\", \"Operation\": \"training\", \"epoch\": 7, \"model\": 30}, \"Metrics\": {\"train_mse_objective\": {\"sum\": 0.9882993774414063, \"count\": 1, \"min\": 0.9882993774414063, \"max\": 0.9882993774414063}}}\u001b[0m\n",
      "\u001b[34m#metrics {\"StartTime\": 1686775682.5526323, \"EndTime\": 1686775682.5526392, \"Dimensions\": {\"Algorithm\": \"Linear Learner\", \"Host\": \"algo-1\", \"Operation\": \"training\", \"epoch\": 7, \"model\": 31}, \"Metrics\": {\"train_mse_objective\": {\"sum\": 1.020347900390625, \"count\": 1, \"min\": 1.020347900390625, \"max\": 1.020347900390625}}}\u001b[0m\n",
      "\u001b[34m[06/14/2023 20:48:02 INFO 140522871928640] #quality_metric: host=algo-1, epoch=7, train mse_objective <loss>=0.9173878784179688\u001b[0m\n",
      "\u001b[34m[06/14/2023 20:48:02 INFO 140522871928640] #early_stopping_criteria_metric: host=algo-1, epoch=7, criteria=mse_objective, value=0.6582151489257813\u001b[0m\n",
      "\u001b[34m[06/14/2023 20:48:02 INFO 140522871928640] Saving model for epoch: 7\u001b[0m\n",
      "\u001b[34m[06/14/2023 20:48:02 INFO 140522871928640] Saved checkpoint to \"/tmp/tmpihmdbvf6/mx-mod-0000.params\"\u001b[0m\n",
      "\u001b[34m[06/14/2023 20:48:02 INFO 140522871928640] #progress_metric: host=algo-1, completed 53.333333333333336 % of epochs\u001b[0m\n",
      "\u001b[34m#metrics {\"StartTime\": 1686775682.5335622, \"EndTime\": 1686775682.5605636, \"Dimensions\": {\"Algorithm\": \"Linear Learner\", \"Host\": \"algo-1\", \"Operation\": \"training\", \"epoch\": 7, \"Meta\": \"training_data_iter\"}, \"Metrics\": {\"Total Records Seen\": {\"sum\": 10639.0, \"count\": 1, \"min\": 10639, \"max\": 10639}, \"Total Batches Seen\": {\"sum\": 19.0, \"count\": 1, \"min\": 19, \"max\": 19}, \"Max Records Seen Between Resets\": {\"sum\": 1071.0, \"count\": 1, \"min\": 1071, \"max\": 1071}, \"Max Batches Seen Between Resets\": {\"sum\": 2.0, \"count\": 1, \"min\": 2, \"max\": 2}, \"Reset Count\": {\"sum\": 10.0, \"count\": 1, \"min\": 10, \"max\": 10}, \"Number of Records Since Last Reset\": {\"sum\": 1071.0, \"count\": 1, \"min\": 1071, \"max\": 1071}, \"Number of Batches Since Last Reset\": {\"sum\": 2.0, \"count\": 1, \"min\": 2, \"max\": 2}}}\u001b[0m\n",
      "\u001b[34m[06/14/2023 20:48:02 INFO 140522871928640] #throughput_metric: host=algo-1, train throughput=39433.43853365638 records/second\u001b[0m\n",
      "\u001b[34m[2023-06-14 20:48:02.582] [tensorio] [info] epoch_stats={\"data_pipeline\": \"/opt/ml/input/data/train\", \"epoch\": 20, \"duration\": 22, \"num_examples\": 2, \"num_bytes\": 68544}\u001b[0m\n",
      "\u001b[34m#metrics {\"StartTime\": 1686775682.5830843, \"EndTime\": 1686775682.5831492, \"Dimensions\": {\"Algorithm\": \"Linear Learner\", \"Host\": \"algo-1\", \"Operation\": \"training\", \"epoch\": 8, \"model\": 0}, \"Metrics\": {\"train_mse_objective\": {\"sum\": 0.9044035034179687, \"count\": 1, \"min\": 0.9044035034179687, \"max\": 0.9044035034179687}}}\u001b[0m\n",
      "\u001b[34m#metrics {\"StartTime\": 1686775682.5832443, \"EndTime\": 1686775682.5832562, \"Dimensions\": {\"Algorithm\": \"Linear Learner\", \"Host\": \"algo-1\", \"Operation\": \"training\", \"epoch\": 8, \"model\": 1}, \"Metrics\": {\"train_mse_objective\": {\"sum\": 0.8817208862304687, \"count\": 1, \"min\": 0.8817208862304687, \"max\": 0.8817208862304687}}}\u001b[0m\n",
      "\u001b[34m#metrics {\"StartTime\": 1686775682.5833156, \"EndTime\": 1686775682.5833242, \"Dimensions\": {\"Algorithm\": \"Linear Learner\", \"Host\": \"algo-1\", \"Operation\": \"training\", \"epoch\": 8, \"model\": 2}, \"Metrics\": {\"train_mse_objective\": {\"sum\": 0.9117559204101563, \"count\": 1, \"min\": 0.9117559204101563, \"max\": 0.9117559204101563}}}\u001b[0m\n",
      "\u001b[34m#metrics {\"StartTime\": 1686775682.5833788, \"EndTime\": 1686775682.583387, \"Dimensions\": {\"Algorithm\": \"Linear Learner\", \"Host\": \"algo-1\", \"Operation\": \"training\", \"epoch\": 8, \"model\": 3}, \"Metrics\": {\"train_mse_objective\": {\"sum\": 0.8854029541015624, \"count\": 1, \"min\": 0.8854029541015624, \"max\": 0.8854029541015624}}}\u001b[0m\n",
      "\u001b[34m#metrics {\"StartTime\": 1686775682.5834327, \"EndTime\": 1686775682.5834394, \"Dimensions\": {\"Algorithm\": \"Linear Learner\", \"Host\": \"algo-1\", \"Operation\": \"training\", \"epoch\": 8, \"model\": 4}, \"Metrics\": {\"train_mse_objective\": {\"sum\": 0.6714547119140625, \"count\": 1, \"min\": 0.6714547119140625, \"max\": 0.6714547119140625}}}\u001b[0m\n",
      "\u001b[34m#metrics {\"StartTime\": 1686775682.5834804, \"EndTime\": 1686775682.583487, \"Dimensions\": {\"Algorithm\": \"Linear Learner\", \"Host\": \"algo-1\", \"Operation\": \"training\", \"epoch\": 8, \"model\": 5}, \"Metrics\": {\"train_mse_objective\": {\"sum\": 0.7077650146484376, \"count\": 1, \"min\": 0.7077650146484376, \"max\": 0.7077650146484376}}}\u001b[0m\n",
      "\u001b[34m#metrics {\"StartTime\": 1686775682.5835354, \"EndTime\": 1686775682.5835414, \"Dimensions\": {\"Algorithm\": \"Linear Learner\", \"Host\": \"algo-1\", \"Operation\": \"training\", \"epoch\": 8, \"model\": 6}, \"Metrics\": {\"train_mse_objective\": {\"sum\": 0.7880945434570312, \"count\": 1, \"min\": 0.7880945434570312, \"max\": 0.7880945434570312}}}\u001b[0m\n",
      "\u001b[34m#metrics {\"StartTime\": 1686775682.5835843, \"EndTime\": 1686775682.5835905, \"Dimensions\": {\"Algorithm\": \"Linear Learner\", \"Host\": \"algo-1\", \"Operation\": \"training\", \"epoch\": 8, \"model\": 7}, \"Metrics\": {\"train_mse_objective\": {\"sum\": 0.736984130859375, \"count\": 1, \"min\": 0.736984130859375, \"max\": 0.736984130859375}}}\u001b[0m\n",
      "\u001b[34m#metrics {\"StartTime\": 1686775682.583634, \"EndTime\": 1686775682.58364, \"Dimensions\": {\"Algorithm\": \"Linear Learner\", \"Host\": \"algo-1\", \"Operation\": \"training\", \"epoch\": 8, \"model\": 8}, \"Metrics\": {\"train_mse_objective\": {\"sum\": 0.797281494140625, \"count\": 1, \"min\": 0.797281494140625, \"max\": 0.797281494140625}}}\u001b[0m\n",
      "\u001b[34m#metrics {\"StartTime\": 1686775682.5836835, \"EndTime\": 1686775682.5836897, \"Dimensions\": {\"Algorithm\": \"Linear Learner\", \"Host\": \"algo-1\", \"Operation\": \"training\", \"epoch\": 8, \"model\": 9}, \"Metrics\": {\"train_mse_objective\": {\"sum\": 0.8719013061523437, \"count\": 1, \"min\": 0.8719013061523437, \"max\": 0.8719013061523437}}}\u001b[0m\n",
      "\u001b[34m#metrics {\"StartTime\": 1686775682.5837393, \"EndTime\": 1686775682.5837471, \"Dimensions\": {\"Algorithm\": \"Linear Learner\", \"Host\": \"algo-1\", \"Operation\": \"training\", \"epoch\": 8, \"model\": 10}, \"Metrics\": {\"train_mse_objective\": {\"sum\": 0.9695798950195312, \"count\": 1, \"min\": 0.9695798950195312, \"max\": 0.9695798950195312}}}\u001b[0m\n",
      "\u001b[34m#metrics {\"StartTime\": 1686775682.583794, \"EndTime\": 1686775682.5838008, \"Dimensions\": {\"Algorithm\": \"Linear Learner\", \"Host\": \"algo-1\", \"Operation\": \"training\", \"epoch\": 8, \"model\": 11}, \"Metrics\": {\"train_mse_objective\": {\"sum\": 0.8980146484375, \"count\": 1, \"min\": 0.8980146484375, \"max\": 0.8980146484375}}}\u001b[0m\n",
      "\u001b[34m#metrics {\"StartTime\": 1686775682.5838435, \"EndTime\": 1686775682.58385, \"Dimensions\": {\"Algorithm\": \"Linear Learner\", \"Host\": \"algo-1\", \"Operation\": \"training\", \"epoch\": 8, \"model\": 12}, \"Metrics\": {\"train_mse_objective\": {\"sum\": 0.7479046630859375, \"count\": 1, \"min\": 0.7479046630859375, \"max\": 0.7479046630859375}}}\u001b[0m\n",
      "\u001b[34m#metrics {\"StartTime\": 1686775682.5838995, \"EndTime\": 1686775682.583907, \"Dimensions\": {\"Algorithm\": \"Linear Learner\", \"Host\": \"algo-1\", \"Operation\": \"training\", \"epoch\": 8, \"model\": 13}, \"Metrics\": {\"train_mse_objective\": {\"sum\": 0.7872295532226562, \"count\": 1, \"min\": 0.7872295532226562, \"max\": 0.7872295532226562}}}\u001b[0m\n",
      "\u001b[34m#metrics {\"StartTime\": 1686775682.5839503, \"EndTime\": 1686775682.5839567, \"Dimensions\": {\"Algorithm\": \"Linear Learner\", \"Host\": \"algo-1\", \"Operation\": \"training\", \"epoch\": 8, \"model\": 14}, \"Metrics\": {\"train_mse_objective\": {\"sum\": 0.69029345703125, \"count\": 1, \"min\": 0.69029345703125, \"max\": 0.69029345703125}}}\u001b[0m\n",
      "\u001b[34m#metrics {\"StartTime\": 1686775682.5840077, \"EndTime\": 1686775682.5840154, \"Dimensions\": {\"Algorithm\": \"Linear Learner\", \"Host\": \"algo-1\", \"Operation\": \"training\", \"epoch\": 8, \"model\": 15}, \"Metrics\": {\"train_mse_objective\": {\"sum\": 0.7365391235351563, \"count\": 1, \"min\": 0.7365391235351563, \"max\": 0.7365391235351563}}}\u001b[0m\n",
      "\u001b[34m#metrics {\"StartTime\": 1686775682.5840616, \"EndTime\": 1686775682.584068, \"Dimensions\": {\"Algorithm\": \"Linear Learner\", \"Host\": \"algo-1\", \"Operation\": \"training\", \"epoch\": 8, \"model\": 16}, \"Metrics\": {\"train_mse_objective\": {\"sum\": 0.9256754760742187, \"count\": 1, \"min\": 0.9256754760742187, \"max\": 0.9256754760742187}}}\u001b[0m\n",
      "\u001b[34m#metrics {\"StartTime\": 1686775682.5841098, \"EndTime\": 1686775682.584116, \"Dimensions\": {\"Algorithm\": \"Linear Learner\", \"Host\": \"algo-1\", \"Operation\": \"training\", \"epoch\": 8, \"model\": 17}, \"Metrics\": {\"train_mse_objective\": {\"sum\": 0.9490548095703125, \"count\": 1, \"min\": 0.9490548095703125, \"max\": 0.9490548095703125}}}\u001b[0m\n",
      "\u001b[34m#metrics {\"StartTime\": 1686775682.5841677, \"EndTime\": 1686775682.5841753, \"Dimensions\": {\"Algorithm\": \"Linear Learner\", \"Host\": \"algo-1\", \"Operation\": \"training\", \"epoch\": 8, \"model\": 18}, \"Metrics\": {\"train_mse_objective\": {\"sum\": 0.9622835083007812, \"count\": 1, \"min\": 0.9622835083007812, \"max\": 0.9622835083007812}}}\u001b[0m\n",
      "\u001b[34m#metrics {\"StartTime\": 1686775682.5842187, \"EndTime\": 1686775682.5842247, \"Dimensions\": {\"Algorithm\": \"Linear Learner\", \"Host\": \"algo-1\", \"Operation\": \"training\", \"epoch\": 8, \"model\": 19}, \"Metrics\": {\"train_mse_objective\": {\"sum\": 0.881699951171875, \"count\": 1, \"min\": 0.881699951171875, \"max\": 0.881699951171875}}}\u001b[0m\n",
      "\u001b[34m#metrics {\"StartTime\": 1686775682.584268, \"EndTime\": 1686775682.5842743, \"Dimensions\": {\"Algorithm\": \"Linear Learner\", \"Host\": \"algo-1\", \"Operation\": \"training\", \"epoch\": 8, \"model\": 20}, \"Metrics\": {\"train_mse_objective\": {\"sum\": 0.8024757080078125, \"count\": 1, \"min\": 0.8024757080078125, \"max\": 0.8024757080078125}}}\u001b[0m\n",
      "\u001b[34m#metrics {\"StartTime\": 1686775682.5843172, \"EndTime\": 1686775682.5843236, \"Dimensions\": {\"Algorithm\": \"Linear Learner\", \"Host\": \"algo-1\", \"Operation\": \"training\", \"epoch\": 8, \"model\": 21}, \"Metrics\": {\"train_mse_objective\": {\"sum\": 0.7414646606445312, \"count\": 1, \"min\": 0.7414646606445312, \"max\": 0.7414646606445312}}}\u001b[0m\n",
      "\u001b[34m#metrics {\"StartTime\": 1686775682.5843656, \"EndTime\": 1686775682.5843718, \"Dimensions\": {\"Algorithm\": \"Linear Learner\", \"Host\": \"algo-1\", \"Operation\": \"training\", \"epoch\": 8, \"model\": 22}, \"Metrics\": {\"train_mse_objective\": {\"sum\": 0.7593012084960937, \"count\": 1, \"min\": 0.7593012084960937, \"max\": 0.7593012084960937}}}\u001b[0m\n",
      "\u001b[34m#metrics {\"StartTime\": 1686775682.5844176, \"EndTime\": 1686775682.584424, \"Dimensions\": {\"Algorithm\": \"Linear Learner\", \"Host\": \"algo-1\", \"Operation\": \"training\", \"epoch\": 8, \"model\": 23}, \"Metrics\": {\"train_mse_objective\": {\"sum\": 0.77842919921875, \"count\": 1, \"min\": 0.77842919921875, \"max\": 0.77842919921875}}}\u001b[0m\n",
      "\u001b[34m#metrics {\"StartTime\": 1686775682.584464, \"EndTime\": 1686775682.5844703, \"Dimensions\": {\"Algorithm\": \"Linear Learner\", \"Host\": \"algo-1\", \"Operation\": \"training\", \"epoch\": 8, \"model\": 24}, \"Metrics\": {\"train_mse_objective\": {\"sum\": 0.975521728515625, \"count\": 1, \"min\": 0.975521728515625, \"max\": 0.975521728515625}}}\u001b[0m\n",
      "\u001b[34m#metrics {\"StartTime\": 1686775682.58455, \"EndTime\": 1686775682.5845592, \"Dimensions\": {\"Algorithm\": \"Linear Learner\", \"Host\": \"algo-1\", \"Operation\": \"training\", \"epoch\": 8, \"model\": 25}, \"Metrics\": {\"train_mse_objective\": {\"sum\": 0.9882509155273438, \"count\": 1, \"min\": 0.9882509155273438, \"max\": 0.9882509155273438}}}\u001b[0m\n",
      "\u001b[34m#metrics {\"StartTime\": 1686775682.584605, \"EndTime\": 1686775682.5846114, \"Dimensions\": {\"Algorithm\": \"Linear Learner\", \"Host\": \"algo-1\", \"Operation\": \"training\", \"epoch\": 8, \"model\": 26}, \"Metrics\": {\"train_mse_objective\": {\"sum\": 0.9727536010742187, \"count\": 1, \"min\": 0.9727536010742187, \"max\": 0.9727536010742187}}}\u001b[0m\n",
      "\u001b[34m#metrics {\"StartTime\": 1686775682.5846615, \"EndTime\": 1686775682.5846689, \"Dimensions\": {\"Algorithm\": \"Linear Learner\", \"Host\": \"algo-1\", \"Operation\": \"training\", \"epoch\": 8, \"model\": 27}, \"Metrics\": {\"train_mse_objective\": {\"sum\": 0.987942138671875, \"count\": 1, \"min\": 0.987942138671875, \"max\": 0.987942138671875}}}\u001b[0m\n",
      "\u001b[34m#metrics {\"StartTime\": 1686775682.5847163, \"EndTime\": 1686775682.5847228, \"Dimensions\": {\"Algorithm\": \"Linear Learner\", \"Host\": \"algo-1\", \"Operation\": \"training\", \"epoch\": 8, \"model\": 28}, \"Metrics\": {\"train_mse_objective\": {\"sum\": 1.114265869140625, \"count\": 1, \"min\": 1.114265869140625, \"max\": 1.114265869140625}}}\u001b[0m\n",
      "\u001b[34m#metrics {\"StartTime\": 1686775682.584766, \"EndTime\": 1686775682.584772, \"Dimensions\": {\"Algorithm\": \"Linear Learner\", \"Host\": \"algo-1\", \"Operation\": \"training\", \"epoch\": 8, \"model\": 29}, \"Metrics\": {\"train_mse_objective\": {\"sum\": 1.0097518310546876, \"count\": 1, \"min\": 1.0097518310546876, \"max\": 1.0097518310546876}}}\u001b[0m\n",
      "\u001b[34m#metrics {\"StartTime\": 1686775682.584822, \"EndTime\": 1686775682.5848298, \"Dimensions\": {\"Algorithm\": \"Linear Learner\", \"Host\": \"algo-1\", \"Operation\": \"training\", \"epoch\": 8, \"model\": 30}, \"Metrics\": {\"train_mse_objective\": {\"sum\": 1.06188427734375, \"count\": 1, \"min\": 1.06188427734375, \"max\": 1.06188427734375}}}\u001b[0m\n",
      "\u001b[34m#metrics {\"StartTime\": 1686775682.5848756, \"EndTime\": 1686775682.584882, \"Dimensions\": {\"Algorithm\": \"Linear Learner\", \"Host\": \"algo-1\", \"Operation\": \"training\", \"epoch\": 8, \"model\": 31}, \"Metrics\": {\"train_mse_objective\": {\"sum\": 1.184638671875, \"count\": 1, \"min\": 1.184638671875, \"max\": 1.184638671875}}}\u001b[0m\n",
      "\u001b[34m[06/14/2023 20:48:02 INFO 140522871928640] #quality_metric: host=algo-1, epoch=8, train mse_objective <loss>=0.9044035034179687\u001b[0m\n",
      "\u001b[34m[06/14/2023 20:48:02 INFO 140522871928640] #early_stopping_criteria_metric: host=algo-1, epoch=8, criteria=mse_objective, value=0.6714547119140625\u001b[0m\n",
      "\u001b[34m[06/14/2023 20:48:02 INFO 140522871928640] Saving model for epoch: 8\u001b[0m\n",
      "\u001b[34m[06/14/2023 20:48:02 INFO 140522871928640] Saved checkpoint to \"/tmp/tmpqnqq79z6/mx-mod-0000.params\"\u001b[0m\n",
      "\u001b[34m[06/14/2023 20:48:02 INFO 140522871928640] Early stop condition met. Stopping training.\u001b[0m\n",
      "\u001b[34m[06/14/2023 20:48:02 INFO 140522871928640] #progress_metric: host=algo-1, completed 100 % epochs\u001b[0m\n",
      "\u001b[34m#metrics {\"StartTime\": 1686775682.5608544, \"EndTime\": 1686775682.5920916, \"Dimensions\": {\"Algorithm\": \"Linear Learner\", \"Host\": \"algo-1\", \"Operation\": \"training\", \"epoch\": 8, \"Meta\": \"training_data_iter\"}, \"Metrics\": {\"Total Records Seen\": {\"sum\": 11710.0, \"count\": 1, \"min\": 11710, \"max\": 11710}, \"Total Batches Seen\": {\"sum\": 21.0, \"count\": 1, \"min\": 21, \"max\": 21}, \"Max Records Seen Between Resets\": {\"sum\": 1071.0, \"count\": 1, \"min\": 1071, \"max\": 1071}, \"Max Batches Seen Between Resets\": {\"sum\": 2.0, \"count\": 1, \"min\": 2, \"max\": 2}, \"Reset Count\": {\"sum\": 11.0, \"count\": 1, \"min\": 11, \"max\": 11}, \"Number of Records Since Last Reset\": {\"sum\": 1071.0, \"count\": 1, \"min\": 1071, \"max\": 1071}, \"Number of Batches Since Last Reset\": {\"sum\": 2.0, \"count\": 1, \"min\": 2, \"max\": 2}}}\u001b[0m\n",
      "\u001b[34m[06/14/2023 20:48:02 INFO 140522871928640] #throughput_metric: host=algo-1, train throughput=34124.12324521422 records/second\u001b[0m\n",
      "\u001b[34m[06/14/2023 20:48:02 WARNING 140522871928640] wait_for_all_workers will not sync workers since the kv store is not running distributed\u001b[0m\n",
      "\u001b[34m[06/14/2023 20:48:02 WARNING 140522871928640] wait_for_all_workers will not sync workers since the kv store is not running distributed\u001b[0m\n",
      "\u001b[34m[2023-06-14 20:48:02.595] [tensorio] [info] epoch_stats={\"data_pipeline\": \"/opt/ml/input/data/train\", \"epoch\": 22, \"duration\": 2, \"num_examples\": 1, \"num_bytes\": 64000}\u001b[0m\n",
      "\u001b[34m[2023-06-14 20:48:02.601] [tensorio] [info] epoch_stats={\"data_pipeline\": \"/opt/ml/input/data/train\", \"epoch\": 24, \"duration\": 4, \"num_examples\": 2, \"num_bytes\": 68544}\u001b[0m\n",
      "\u001b[34m[06/14/2023 20:48:02 INFO 140522871928640] #train_score (algo-1) : ('mse_objective', 1.402099597912167e-05)\u001b[0m\n",
      "\u001b[34m[06/14/2023 20:48:02 INFO 140522871928640] #train_score (algo-1) : ('mse', 1.402099597912167e-05)\u001b[0m\n",
      "\u001b[34m[06/14/2023 20:48:02 INFO 140522871928640] #train_score (algo-1) : ('absolute_loss', 0.0029783833817162322)\u001b[0m\n",
      "\u001b[34m[06/14/2023 20:48:02 INFO 140522871928640] #train_score (algo-1) : ('rmse', 0.0037444620413514236)\u001b[0m\n",
      "\u001b[34m[06/14/2023 20:48:02 INFO 140522871928640] #train_score (algo-1) : ('r2', 0.27792141957110017)\u001b[0m\n",
      "\u001b[34m[06/14/2023 20:48:02 INFO 140522871928640] #train_score (algo-1) : ('mae', 0.002978383368998592)\u001b[0m\n",
      "\u001b[34m[06/14/2023 20:48:02 INFO 140522871928640] #quality_metric: host=algo-1, train mse_objective <loss>=1.402099597912167e-05\u001b[0m\n",
      "\u001b[34m[06/14/2023 20:48:02 INFO 140522871928640] #quality_metric: host=algo-1, train mse <loss>=1.402099597912167e-05\u001b[0m\n",
      "\u001b[34m[06/14/2023 20:48:02 INFO 140522871928640] #quality_metric: host=algo-1, train absolute_loss <loss>=0.0029783833817162322\u001b[0m\n",
      "\u001b[34m[06/14/2023 20:48:02 INFO 140522871928640] #quality_metric: host=algo-1, train rmse <loss>=0.0037444620413514236\u001b[0m\n",
      "\u001b[34m[06/14/2023 20:48:02 INFO 140522871928640] #quality_metric: host=algo-1, train r2 <loss>=0.27792141957110017\u001b[0m\n",
      "\u001b[34m[06/14/2023 20:48:02 INFO 140522871928640] #quality_metric: host=algo-1, train mae <loss>=0.002978383368998592\u001b[0m\n",
      "\u001b[34m[06/14/2023 20:48:02 INFO 140522871928640] Best model found for hyperparameters: {\"optimizer\": \"adam\", \"learning_rate\": 0.1, \"wd\": 1, \"l1\": 0.0, \"lr_scheduler_step\": 10, \"lr_scheduler_factor\": 0.99, \"lr_scheduler_minimum_lr\": 0.0001}\u001b[0m\n",
      "\u001b[34m[06/14/2023 20:48:02 INFO 140522871928640] Saved checkpoint to \"/tmp/tmp5yfliyfo/mx-mod-0000.params\"\u001b[0m\n",
      "\u001b[34m[2023-06-14 20:48:02.606] [tensorio] [info] epoch_stats={\"data_pipeline\": \"/opt/ml/input/data/test\", \"epoch\": 0, \"duration\": 465, \"num_examples\": 1, \"num_bytes\": 10432}\u001b[0m\n",
      "\u001b[34m[2023-06-14 20:48:02.608] [tensorio] [info] epoch_stats={\"data_pipeline\": \"/opt/ml/input/data/test\", \"epoch\": 1, \"duration\": 1, \"num_examples\": 1, \"num_bytes\": 10432}\u001b[0m\n",
      "\u001b[34m#metrics {\"StartTime\": 1686775682.606149, \"EndTime\": 1686775682.6092098, \"Dimensions\": {\"Algorithm\": \"Linear Learner\", \"Host\": \"algo-1\", \"Operation\": \"training\", \"Meta\": \"test_data_iter\"}, \"Metrics\": {\"Total Records Seen\": {\"sum\": 163.0, \"count\": 1, \"min\": 163, \"max\": 163}, \"Total Batches Seen\": {\"sum\": 1.0, \"count\": 1, \"min\": 1, \"max\": 1}, \"Max Records Seen Between Resets\": {\"sum\": 163.0, \"count\": 1, \"min\": 163, \"max\": 163}, \"Max Batches Seen Between Resets\": {\"sum\": 1.0, \"count\": 1, \"min\": 1, \"max\": 1}, \"Reset Count\": {\"sum\": 1.0, \"count\": 1, \"min\": 1, \"max\": 1}, \"Number of Records Since Last Reset\": {\"sum\": 163.0, \"count\": 1, \"min\": 163, \"max\": 163}, \"Number of Batches Since Last Reset\": {\"sum\": 1.0, \"count\": 1, \"min\": 1, \"max\": 1}}}\u001b[0m\n",
      "\u001b[34m[06/14/2023 20:48:02 INFO 140522871928640] #test_score (algo-1) : ('mse_objective', 7.457159848118121e-06)\u001b[0m\n",
      "\u001b[34m[06/14/2023 20:48:02 INFO 140522871928640] #test_score (algo-1) : ('mse', 7.457159848118121e-06)\u001b[0m\n",
      "\u001b[34m[06/14/2023 20:48:02 INFO 140522871928640] #test_score (algo-1) : ('absolute_loss', 0.0021702433290657092)\u001b[0m\n",
      "\u001b[34m[06/14/2023 20:48:02 INFO 140522871928640] #test_score (algo-1) : ('rmse', 0.00273078008051145)\u001b[0m\n",
      "\u001b[34m[06/14/2023 20:48:02 INFO 140522871928640] #test_score (algo-1) : ('r2', 0.3824632561538417)\u001b[0m\n",
      "\u001b[34m[06/14/2023 20:48:02 INFO 140522871928640] #test_score (algo-1) : ('mae', 0.00217024328407083)\u001b[0m\n",
      "\u001b[34m[06/14/2023 20:48:02 INFO 140522871928640] #quality_metric: host=algo-1, test mse_objective <loss>=7.457159848118121e-06\u001b[0m\n",
      "\u001b[34m[06/14/2023 20:48:02 INFO 140522871928640] #quality_metric: host=algo-1, test mse <loss>=7.457159848118121e-06\u001b[0m\n",
      "\u001b[34m[06/14/2023 20:48:02 INFO 140522871928640] #quality_metric: host=algo-1, test absolute_loss <loss>=0.0021702433290657092\u001b[0m\n",
      "\u001b[34m[06/14/2023 20:48:02 INFO 140522871928640] #quality_metric: host=algo-1, test rmse <loss>=0.00273078008051145\u001b[0m\n",
      "\u001b[34m[06/14/2023 20:48:02 INFO 140522871928640] #quality_metric: host=algo-1, test r2 <loss>=0.3824632561538417\u001b[0m\n",
      "\u001b[34m[06/14/2023 20:48:02 INFO 140522871928640] #quality_metric: host=algo-1, test mae <loss>=0.00217024328407083\u001b[0m\n",
      "\u001b[34m#metrics {\"StartTime\": 1686775682.1381984, \"EndTime\": 1686775682.6149552, \"Dimensions\": {\"Algorithm\": \"Linear Learner\", \"Host\": \"algo-1\", \"Operation\": \"training\"}, \"Metrics\": {\"initialize.time\": {\"sum\": 130.52105903625488, \"count\": 1, \"min\": 130.52105903625488, \"max\": 130.52105903625488}, \"epochs\": {\"sum\": 15.0, \"count\": 1, \"min\": 15, \"max\": 15}, \"check_early_stopping.time\": {\"sum\": 6.097078323364258, \"count\": 9, \"min\": 0.19359588623046875, \"max\": 1.2798309326171875}, \"update.time\": {\"sum\": 282.00221061706543, \"count\": 9, \"min\": 24.399518966674805, \"max\": 53.28536033630371}, \"finalize.time\": {\"sum\": 11.105537414550781, \"count\": 1, \"min\": 11.105537414550781, \"max\": 11.105537414550781}, \"setuptime\": {\"sum\": 1.966238021850586, \"count\": 1, \"min\": 1.966238021850586, \"max\": 1.966238021850586}, \"totaltime\": {\"sum\": 585.95871925354, \"count\": 1, \"min\": 585.95871925354, \"max\": 585.95871925354}}}\u001b[0m\n",
      "\n",
      "2023-06-14 20:48:18 Uploading - Uploading generated training model\n",
      "2023-06-14 20:48:18 Completed - Training job completed\n",
      "Training seconds: 107\n",
      "Billable seconds: 48\n",
      "Managed Spot Training savings: 55.1%\n"
     ]
    }
   ],
   "source": [
    "import boto3\n",
    "from sagemaker import get_execution_role, LinearLearner\n",
    "\n",
    "# Setting the bucket name\n",
    "bucket = 'fcc-spark-example'\n",
    "data_location = f's3://{bucket}/aq-linearlearner/data/train'\n",
    "output_location = f's3://{bucket}/aq-linearlearner/output'\n",
    "\n",
    "\n",
    "# This is used to run the LinearLearner training job\n",
    "role = get_execution_role()\n",
    "\n",
    "llearner = LinearLearner(role=role,\n",
    "                predictor_type='regressor',\n",
    "                normalize_data=True,\n",
    "                normalize_label=True,\n",
    "                instance_count=1,\n",
    "                use_spot_instances = True,\n",
    "                max_run= 1800,\n",
    "                max_wait = 3600,\n",
    "                instance_type='ml.c5.xlarge',\n",
    "                output_path=output_location,\n",
    "                data_location=data_location)\n",
    "\n",
    "# Starting the training \n",
    "llearner.fit([\n",
    "    llearner.record_set(x_train.values.astype('float32'), y_train.values[:, 0].astype('float32'), channel='train'),\n",
    "    llearner.record_set(x_test.values.astype('float32'), y_test.values[:, 0].astype('float32'), channel='test')\n",
    "])"
   ]
  },
  {
   "cell_type": "markdown",
   "id": "ddb5ad19-3e05-494a-9fb5-1d686cf22fc1",
   "metadata": {
    "tags": []
   },
   "source": [
    "## Deploying the model (`endpoint`)"
   ]
  },
  {
   "cell_type": "code",
   "execution_count": 20,
   "id": "b8a6689e-161d-40a0-8c97-e8449de78ecd",
   "metadata": {
    "tags": []
   },
   "outputs": [
    {
     "name": "stdout",
     "output_type": "stream",
     "text": [
      "----------------------!"
     ]
    }
   ],
   "source": [
    "llearner_predictor = llearner.deploy(initial_instance_count=1,\n",
    "                                 instance_type='ml.t2.medium')"
   ]
  },
  {
   "cell_type": "code",
   "execution_count": 21,
   "id": "400296c8-74dc-40e7-81a4-64adab383bd6",
   "metadata": {
    "tags": []
   },
   "outputs": [
    {
     "name": "stdout",
     "output_type": "stream",
     "text": [
      "RMSE: 0.0027\n",
      "Variance score: 0.3825\n",
      "Explained variance score: 0.3828\n",
      "Forecast bias: 0.0001\n",
      "sMAPE: 0.2961\n"
     ]
    }
   ],
   "source": [
    "result = llearner_predictor.predict(x_test.values.astype('float32'))\n",
    "y_sm_pred = [r.label[\"score\"].float32_tensor.values[0] for r in result]\n",
    "y_sm_test = y_test.values[:, 0].astype('float32')\n",
    "print_metrics(y_sm_test, y_sm_pred)"
   ]
  },
  {
   "cell_type": "code",
   "execution_count": 25,
   "id": "f402ba65-0b82-4283-8421-98f7ed9475fb",
   "metadata": {
    "tags": []
   },
   "outputs": [
    {
     "data": {
      "image/png": "[encoded data removed]",
      "text/plain": [
       "<Figure size 640x480 with 1 Axes>"
      ]
     },
     "metadata": {},
     "output_type": "display_data"
    }
   ],
   "source": [
    "y_sm_pred_df = pd.DataFrame(y_sm_pred, columns=y_train.columns).set_index(y_test.index).sort_index()\n",
    "y_sm_test_df = pd.DataFrame(y_sm_test, columns=y_train.columns).set_index(y_test.index).sort_index()\n",
    "\n",
    "plt.plot(y_sm_test_df, label='actual')\n",
    "plt.plot(y_sm_pred_df, label='forecast')\n",
    "plt.legend()\n",
    "plt.show()"
   ]
  },
  {
   "cell_type": "code",
   "execution_count": 23,
   "id": "da676de4-813a-4926-b784-07fa573cc39f",
   "metadata": {
    "tags": []
   },
   "outputs": [
    {
     "name": "stdout",
     "output_type": "stream",
     "text": [
      "linear-learner-2023-06-14-20-50-14-157\n"
     ]
    }
   ],
   "source": [
    "endpoint_name = llearner_predictor.endpoint_name\n",
    "print(endpoint_name)"
   ]
  },
  {
   "cell_type": "markdown",
   "id": "fe139412-7797-416a-8e28-a9be4c3fb7bf",
   "metadata": {},
   "source": [
    "# Clean up"
   ]
  },
  {
   "cell_type": "code",
   "execution_count": null,
   "id": "12a14236-90a6-45ac-a36f-9b354b509940",
   "metadata": {},
   "outputs": [],
   "source": [
    "## Delete the endpoint \n",
    "\n",
    "## llearner_predictor.delete_endpoint()"
   ]
  }
 ],
 "metadata": {
  "availableInstances": [
   {
    "_defaultOrder": 0,
    "_isFastLaunch": true,
    "category": "General purpose",
    "gpuNum": 0,
    "hideHardwareSpecs": false,
    "memoryGiB": 4,
    "name": "ml.t3.medium",
    "vcpuNum": 2
   },
   {
    "_defaultOrder": 1,
    "_isFastLaunch": false,
    "category": "General purpose",
    "gpuNum": 0,
    "hideHardwareSpecs": false,
    "memoryGiB": 8,
    "name": "ml.t3.large",
    "vcpuNum": 2
   },
   {
    "_defaultOrder": 2,
    "_isFastLaunch": false,
    "category": "General purpose",
    "gpuNum": 0,
    "hideHardwareSpecs": false,
    "memoryGiB": 16,
    "name": "ml.t3.xlarge",
    "vcpuNum": 4
   },
   {
    "_defaultOrder": 3,
    "_isFastLaunch": false,
    "category": "General purpose",
    "gpuNum": 0,
    "hideHardwareSpecs": false,
    "memoryGiB": 32,
    "name": "ml.t3.2xlarge",
    "vcpuNum": 8
   },
   {
    "_defaultOrder": 4,
    "_isFastLaunch": true,
    "category": "General purpose",
    "gpuNum": 0,
    "hideHardwareSpecs": false,
    "memoryGiB": 8,
    "name": "ml.m5.large",
    "vcpuNum": 2
   },
   {
    "_defaultOrder": 5,
    "_isFastLaunch": false,
    "category": "General purpose",
    "gpuNum": 0,
    "hideHardwareSpecs": false,
    "memoryGiB": 16,
    "name": "ml.m5.xlarge",
    "vcpuNum": 4
   },
   {
    "_defaultOrder": 6,
    "_isFastLaunch": false,
    "category": "General purpose",
    "gpuNum": 0,
    "hideHardwareSpecs": false,
    "memoryGiB": 32,
    "name": "ml.m5.2xlarge",
    "vcpuNum": 8
   },
   {
    "_defaultOrder": 7,
    "_isFastLaunch": false,
    "category": "General purpose",
    "gpuNum": 0,
    "hideHardwareSpecs": false,
    "memoryGiB": 64,
    "name": "ml.m5.4xlarge",
    "vcpuNum": 16
   },
   {
    "_defaultOrder": 8,
    "_isFastLaunch": false,
    "category": "General purpose",
    "gpuNum": 0,
    "hideHardwareSpecs": false,
    "memoryGiB": 128,
    "name": "ml.m5.8xlarge",
    "vcpuNum": 32
   },
   {
    "_defaultOrder": 9,
    "_isFastLaunch": false,
    "category": "General purpose",
    "gpuNum": 0,
    "hideHardwareSpecs": false,
    "memoryGiB": 192,
    "name": "ml.m5.12xlarge",
    "vcpuNum": 48
   },
   {
    "_defaultOrder": 10,
    "_isFastLaunch": false,
    "category": "General purpose",
    "gpuNum": 0,
    "hideHardwareSpecs": false,
    "memoryGiB": 256,
    "name": "ml.m5.16xlarge",
    "vcpuNum": 64
   },
   {
    "_defaultOrder": 11,
    "_isFastLaunch": false,
    "category": "General purpose",
    "gpuNum": 0,
    "hideHardwareSpecs": false,
    "memoryGiB": 384,
    "name": "ml.m5.24xlarge",
    "vcpuNum": 96
   },
   {
    "_defaultOrder": 12,
    "_isFastLaunch": false,
    "category": "General purpose",
    "gpuNum": 0,
    "hideHardwareSpecs": false,
    "memoryGiB": 8,
    "name": "ml.m5d.large",
    "vcpuNum": 2
   },
   {
    "_defaultOrder": 13,
    "_isFastLaunch": false,
    "category": "General purpose",
    "gpuNum": 0,
    "hideHardwareSpecs": false,
    "memoryGiB": 16,
    "name": "ml.m5d.xlarge",
    "vcpuNum": 4
   },
   {
    "_defaultOrder": 14,
    "_isFastLaunch": false,
    "category": "General purpose",
    "gpuNum": 0,
    "hideHardwareSpecs": false,
    "memoryGiB": 32,
    "name": "ml.m5d.2xlarge",
    "vcpuNum": 8
   },
   {
    "_defaultOrder": 15,
    "_isFastLaunch": false,
    "category": "General purpose",
    "gpuNum": 0,
    "hideHardwareSpecs": false,
    "memoryGiB": 64,
    "name": "ml.m5d.4xlarge",
    "vcpuNum": 16
   },
   {
    "_defaultOrder": 16,
    "_isFastLaunch": false,
    "category": "General purpose",
    "gpuNum": 0,
    "hideHardwareSpecs": false,
    "memoryGiB": 128,
    "name": "ml.m5d.8xlarge",
    "vcpuNum": 32
   },
   {
    "_defaultOrder": 17,
    "_isFastLaunch": false,
    "category": "General purpose",
    "gpuNum": 0,
    "hideHardwareSpecs": false,
    "memoryGiB": 192,
    "name": "ml.m5d.12xlarge",
    "vcpuNum": 48
   },
   {
    "_defaultOrder": 18,
    "_isFastLaunch": false,
    "category": "General purpose",
    "gpuNum": 0,
    "hideHardwareSpecs": false,
    "memoryGiB": 256,
    "name": "ml.m5d.16xlarge",
    "vcpuNum": 64
   },
   {
    "_defaultOrder": 19,
    "_isFastLaunch": false,
    "category": "General purpose",
    "gpuNum": 0,
    "hideHardwareSpecs": false,
    "memoryGiB": 384,
    "name": "ml.m5d.24xlarge",
    "vcpuNum": 96
   },
   {
    "_defaultOrder": 20,
    "_isFastLaunch": false,
    "category": "General purpose",
    "gpuNum": 0,
    "hideHardwareSpecs": true,
    "memoryGiB": 0,
    "name": "ml.geospatial.interactive",
    "supportedImageNames": [
     "sagemaker-geospatial-v1-0"
    ],
    "vcpuNum": 0
   },
   {
    "_defaultOrder": 21,
    "_isFastLaunch": true,
    "category": "Compute optimized",
    "gpuNum": 0,
    "hideHardwareSpecs": false,
    "memoryGiB": 4,
    "name": "ml.c5.large",
    "vcpuNum": 2
   },
   {
    "_defaultOrder": 22,
    "_isFastLaunch": false,
    "category": "Compute optimized",
    "gpuNum": 0,
    "hideHardwareSpecs": false,
    "memoryGiB": 8,
    "name": "ml.c5.xlarge",
    "vcpuNum": 4
   },
   {
    "_defaultOrder": 23,
    "_isFastLaunch": false,
    "category": "Compute optimized",
    "gpuNum": 0,
    "hideHardwareSpecs": false,
    "memoryGiB": 16,
    "name": "ml.c5.2xlarge",
    "vcpuNum": 8
   },
   {
    "_defaultOrder": 24,
    "_isFastLaunch": false,
    "category": "Compute optimized",
    "gpuNum": 0,
    "hideHardwareSpecs": false,
    "memoryGiB": 32,
    "name": "ml.c5.4xlarge",
    "vcpuNum": 16
   },
   {
    "_defaultOrder": 25,
    "_isFastLaunch": false,
    "category": "Compute optimized",
    "gpuNum": 0,
    "hideHardwareSpecs": false,
    "memoryGiB": 72,
    "name": "ml.c5.9xlarge",
    "vcpuNum": 36
   },
   {
    "_defaultOrder": 26,
    "_isFastLaunch": false,
    "category": "Compute optimized",
    "gpuNum": 0,
    "hideHardwareSpecs": false,
    "memoryGiB": 96,
    "name": "ml.c5.12xlarge",
    "vcpuNum": 48
   },
   {
    "_defaultOrder": 27,
    "_isFastLaunch": false,
    "category": "Compute optimized",
    "gpuNum": 0,
    "hideHardwareSpecs": false,
    "memoryGiB": 144,
    "name": "ml.c5.18xlarge",
    "vcpuNum": 72
   },
   {
    "_defaultOrder": 28,
    "_isFastLaunch": false,
    "category": "Compute optimized",
    "gpuNum": 0,
    "hideHardwareSpecs": false,
    "memoryGiB": 192,
    "name": "ml.c5.24xlarge",
    "vcpuNum": 96
   },
   {
    "_defaultOrder": 29,
    "_isFastLaunch": true,
    "category": "Accelerated computing",
    "gpuNum": 1,
    "hideHardwareSpecs": false,
    "memoryGiB": 16,
    "name": "ml.g4dn.xlarge",
    "vcpuNum": 4
   },
   {
    "_defaultOrder": 30,
    "_isFastLaunch": false,
    "category": "Accelerated computing",
    "gpuNum": 1,
    "hideHardwareSpecs": false,
    "memoryGiB": 32,
    "name": "ml.g4dn.2xlarge",
    "vcpuNum": 8
   },
   {
    "_defaultOrder": 31,
    "_isFastLaunch": false,
    "category": "Accelerated computing",
    "gpuNum": 1,
    "hideHardwareSpecs": false,
    "memoryGiB": 64,
    "name": "ml.g4dn.4xlarge",
    "vcpuNum": 16
   },
   {
    "_defaultOrder": 32,
    "_isFastLaunch": false,
    "category": "Accelerated computing",
    "gpuNum": 1,
    "hideHardwareSpecs": false,
    "memoryGiB": 128,
    "name": "ml.g4dn.8xlarge",
    "vcpuNum": 32
   },
   {
    "_defaultOrder": 33,
    "_isFastLaunch": false,
    "category": "Accelerated computing",
    "gpuNum": 4,
    "hideHardwareSpecs": false,
    "memoryGiB": 192,
    "name": "ml.g4dn.12xlarge",
    "vcpuNum": 48
   },
   {
    "_defaultOrder": 34,
    "_isFastLaunch": false,
    "category": "Accelerated computing",
    "gpuNum": 1,
    "hideHardwareSpecs": false,
    "memoryGiB": 256,
    "name": "ml.g4dn.16xlarge",
    "vcpuNum": 64
   },
   {
    "_defaultOrder": 35,
    "_isFastLaunch": false,
    "category": "Accelerated computing",
    "gpuNum": 1,
    "hideHardwareSpecs": false,
    "memoryGiB": 61,
    "name": "ml.p3.2xlarge",
    "vcpuNum": 8
   },
   {
    "_defaultOrder": 36,
    "_isFastLaunch": false,
    "category": "Accelerated computing",
    "gpuNum": 4,
    "hideHardwareSpecs": false,
    "memoryGiB": 244,
    "name": "ml.p3.8xlarge",
    "vcpuNum": 32
   },
   {
    "_defaultOrder": 37,
    "_isFastLaunch": false,
    "category": "Accelerated computing",
    "gpuNum": 8,
    "hideHardwareSpecs": false,
    "memoryGiB": 488,
    "name": "ml.p3.16xlarge",
    "vcpuNum": 64
   },
   {
    "_defaultOrder": 38,
    "_isFastLaunch": false,
    "category": "Accelerated computing",
    "gpuNum": 8,
    "hideHardwareSpecs": false,
    "memoryGiB": 768,
    "name": "ml.p3dn.24xlarge",
    "vcpuNum": 96
   },
   {
    "_defaultOrder": 39,
    "_isFastLaunch": false,
    "category": "Memory Optimized",
    "gpuNum": 0,
    "hideHardwareSpecs": false,
    "memoryGiB": 16,
    "name": "ml.r5.large",
    "vcpuNum": 2
   },
   {
    "_defaultOrder": 40,
    "_isFastLaunch": false,
    "category": "Memory Optimized",
    "gpuNum": 0,
    "hideHardwareSpecs": false,
    "memoryGiB": 32,
    "name": "ml.r5.xlarge",
    "vcpuNum": 4
   },
   {
    "_defaultOrder": 41,
    "_isFastLaunch": false,
    "category": "Memory Optimized",
    "gpuNum": 0,
    "hideHardwareSpecs": false,
    "memoryGiB": 64,
    "name": "ml.r5.2xlarge",
    "vcpuNum": 8
   },
   {
    "_defaultOrder": 42,
    "_isFastLaunch": false,
    "category": "Memory Optimized",
    "gpuNum": 0,
    "hideHardwareSpecs": false,
    "memoryGiB": 128,
    "name": "ml.r5.4xlarge",
    "vcpuNum": 16
   },
   {
    "_defaultOrder": 43,
    "_isFastLaunch": false,
    "category": "Memory Optimized",
    "gpuNum": 0,
    "hideHardwareSpecs": false,
    "memoryGiB": 256,
    "name": "ml.r5.8xlarge",
    "vcpuNum": 32
   },
   {
    "_defaultOrder": 44,
    "_isFastLaunch": false,
    "category": "Memory Optimized",
    "gpuNum": 0,
    "hideHardwareSpecs": false,
    "memoryGiB": 384,
    "name": "ml.r5.12xlarge",
    "vcpuNum": 48
   },
   {
    "_defaultOrder": 45,
    "_isFastLaunch": false,
    "category": "Memory Optimized",
    "gpuNum": 0,
    "hideHardwareSpecs": false,
    "memoryGiB": 512,
    "name": "ml.r5.16xlarge",
    "vcpuNum": 64
   },
   {
    "_defaultOrder": 46,
    "_isFastLaunch": false,
    "category": "Memory Optimized",
    "gpuNum": 0,
    "hideHardwareSpecs": false,
    "memoryGiB": 768,
    "name": "ml.r5.24xlarge",
    "vcpuNum": 96
   },
   {
    "_defaultOrder": 47,
    "_isFastLaunch": false,
    "category": "Accelerated computing",
    "gpuNum": 1,
    "hideHardwareSpecs": false,
    "memoryGiB": 16,
    "name": "ml.g5.xlarge",
    "vcpuNum": 4
   },
   {
    "_defaultOrder": 48,
    "_isFastLaunch": false,
    "category": "Accelerated computing",
    "gpuNum": 1,
    "hideHardwareSpecs": false,
    "memoryGiB": 32,
    "name": "ml.g5.2xlarge",
    "vcpuNum": 8
   },
   {
    "_defaultOrder": 49,
    "_isFastLaunch": false,
    "category": "Accelerated computing",
    "gpuNum": 1,
    "hideHardwareSpecs": false,
    "memoryGiB": 64,
    "name": "ml.g5.4xlarge",
    "vcpuNum": 16
   },
   {
    "_defaultOrder": 50,
    "_isFastLaunch": false,
    "category": "Accelerated computing",
    "gpuNum": 1,
    "hideHardwareSpecs": false,
    "memoryGiB": 128,
    "name": "ml.g5.8xlarge",
    "vcpuNum": 32
   },
   {
    "_defaultOrder": 51,
    "_isFastLaunch": false,
    "category": "Accelerated computing",
    "gpuNum": 1,
    "hideHardwareSpecs": false,
    "memoryGiB": 256,
    "name": "ml.g5.16xlarge",
    "vcpuNum": 64
   },
   {
    "_defaultOrder": 52,
    "_isFastLaunch": false,
    "category": "Accelerated computing",
    "gpuNum": 4,
    "hideHardwareSpecs": false,
    "memoryGiB": 192,
    "name": "ml.g5.12xlarge",
    "vcpuNum": 48
   },
   {
    "_defaultOrder": 53,
    "_isFastLaunch": false,
    "category": "Accelerated computing",
    "gpuNum": 4,
    "hideHardwareSpecs": false,
    "memoryGiB": 384,
    "name": "ml.g5.24xlarge",
    "vcpuNum": 96
   },
   {
    "_defaultOrder": 54,
    "_isFastLaunch": false,
    "category": "Accelerated computing",
    "gpuNum": 8,
    "hideHardwareSpecs": false,
    "memoryGiB": 768,
    "name": "ml.g5.48xlarge",
    "vcpuNum": 192
   },
   {
    "_defaultOrder": 55,
    "_isFastLaunch": false,
    "category": "Accelerated computing",
    "gpuNum": 8,
    "hideHardwareSpecs": false,
    "memoryGiB": 1152,
    "name": "ml.p4d.24xlarge",
    "vcpuNum": 96
   },
   {
    "_defaultOrder": 56,
    "_isFastLaunch": false,
    "category": "Accelerated computing",
    "gpuNum": 8,
    "hideHardwareSpecs": false,
    "memoryGiB": 1152,
    "name": "ml.p4de.24xlarge",
    "vcpuNum": 96
   }
  ],
  "instance_type": "ml.t3.large",
  "kernelspec": {
   "display_name": "Python 3 (Data Science 3.0)",
   "language": "python",
   "name": "python3__SAGEMAKER_INTERNAL__arn:aws:sagemaker:us-east-2:429704687514:image/sagemaker-data-science-310-v1"
  },
  "language_info": {
   "codemirror_mode": {
    "name": "ipython",
    "version": 3
   },
   "file_extension": ".py",
   "mimetype": "text/x-python",
   "name": "python",
   "nbconvert_exporter": "python",
   "pygments_lexer": "ipython3",
   "version": "3.10.6"
  }
 },
 "nbformat": 4,
 "nbformat_minor": 5
}
